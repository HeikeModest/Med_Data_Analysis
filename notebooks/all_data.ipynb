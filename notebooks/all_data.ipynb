{
 "cells": [
  {
   "cell_type": "code",
   "execution_count": 1,
   "id": "2895349b",
   "metadata": {},
   "outputs": [],
   "source": [
    "import pandas as pd\n",
    "gene_df = pd.read_csv(\"../raw_data/FIRE3_final_df.txt\",sep=' ')"
   ]
  },
  {
   "cell_type": "code",
   "execution_count": 2,
   "id": "bb0aada8",
   "metadata": {
    "scrolled": true
   },
   "outputs": [
    {
     "data": {
      "text/html": [
       "<div>\n",
       "<style scoped>\n",
       "    .dataframe tbody tr th:only-of-type {\n",
       "        vertical-align: middle;\n",
       "    }\n",
       "\n",
       "    .dataframe tbody tr th {\n",
       "        vertical-align: top;\n",
       "    }\n",
       "\n",
       "    .dataframe thead th {\n",
       "        text-align: right;\n",
       "    }\n",
       "</style>\n",
       "<table border=\"1\" class=\"dataframe\">\n",
       "  <thead>\n",
       "    <tr style=\"text-align: right;\">\n",
       "      <th></th>\n",
       "      <th>gsymbol</th>\n",
       "      <th>1</th>\n",
       "      <th>4</th>\n",
       "      <th>5</th>\n",
       "      <th>9</th>\n",
       "      <th>10</th>\n",
       "      <th>11</th>\n",
       "      <th>12</th>\n",
       "      <th>15</th>\n",
       "      <th>16</th>\n",
       "      <th>...</th>\n",
       "      <th>838</th>\n",
       "      <th>840</th>\n",
       "      <th>842</th>\n",
       "      <th>843</th>\n",
       "      <th>889</th>\n",
       "      <th>892</th>\n",
       "      <th>896</th>\n",
       "      <th>897</th>\n",
       "      <th>899</th>\n",
       "      <th>900</th>\n",
       "    </tr>\n",
       "  </thead>\n",
       "  <tbody>\n",
       "    <tr>\n",
       "      <th>1</th>\n",
       "      <td>A1BG-AS1</td>\n",
       "      <td>6.073786</td>\n",
       "      <td>4.856430</td>\n",
       "      <td>4.258748</td>\n",
       "      <td>4.850635</td>\n",
       "      <td>4.670916</td>\n",
       "      <td>6.680079</td>\n",
       "      <td>7.299947</td>\n",
       "      <td>6.021905</td>\n",
       "      <td>5.962186</td>\n",
       "      <td>...</td>\n",
       "      <td>5.249598</td>\n",
       "      <td>6.113905</td>\n",
       "      <td>6.336825</td>\n",
       "      <td>5.804863</td>\n",
       "      <td>5.206533</td>\n",
       "      <td>5.251891</td>\n",
       "      <td>6.382205</td>\n",
       "      <td>4.889634</td>\n",
       "      <td>6.272591</td>\n",
       "      <td>5.233233</td>\n",
       "    </tr>\n",
       "    <tr>\n",
       "      <th>2</th>\n",
       "      <td>A1BG</td>\n",
       "      <td>4.780956</td>\n",
       "      <td>4.530789</td>\n",
       "      <td>4.630758</td>\n",
       "      <td>4.775249</td>\n",
       "      <td>4.767542</td>\n",
       "      <td>4.823468</td>\n",
       "      <td>4.705230</td>\n",
       "      <td>5.004281</td>\n",
       "      <td>4.827542</td>\n",
       "      <td>...</td>\n",
       "      <td>4.908360</td>\n",
       "      <td>4.684136</td>\n",
       "      <td>4.757578</td>\n",
       "      <td>4.688623</td>\n",
       "      <td>4.678426</td>\n",
       "      <td>4.520686</td>\n",
       "      <td>4.681386</td>\n",
       "      <td>5.266437</td>\n",
       "      <td>4.840969</td>\n",
       "      <td>4.518457</td>\n",
       "    </tr>\n",
       "    <tr>\n",
       "      <th>3</th>\n",
       "      <td>A1CF</td>\n",
       "      <td>5.478749</td>\n",
       "      <td>6.238209</td>\n",
       "      <td>6.518094</td>\n",
       "      <td>5.710002</td>\n",
       "      <td>6.714567</td>\n",
       "      <td>5.481425</td>\n",
       "      <td>5.273707</td>\n",
       "      <td>6.228988</td>\n",
       "      <td>5.400760</td>\n",
       "      <td>...</td>\n",
       "      <td>5.204422</td>\n",
       "      <td>6.318736</td>\n",
       "      <td>6.295239</td>\n",
       "      <td>5.566774</td>\n",
       "      <td>6.213009</td>\n",
       "      <td>6.052655</td>\n",
       "      <td>5.877622</td>\n",
       "      <td>4.762273</td>\n",
       "      <td>5.170994</td>\n",
       "      <td>5.635175</td>\n",
       "    </tr>\n",
       "    <tr>\n",
       "      <th>4</th>\n",
       "      <td>A2M-AS1</td>\n",
       "      <td>4.462131</td>\n",
       "      <td>4.556981</td>\n",
       "      <td>5.534005</td>\n",
       "      <td>4.314480</td>\n",
       "      <td>4.269136</td>\n",
       "      <td>5.545392</td>\n",
       "      <td>5.925516</td>\n",
       "      <td>4.469871</td>\n",
       "      <td>4.759019</td>\n",
       "      <td>...</td>\n",
       "      <td>4.785578</td>\n",
       "      <td>4.925175</td>\n",
       "      <td>5.397922</td>\n",
       "      <td>5.180052</td>\n",
       "      <td>4.895515</td>\n",
       "      <td>4.594644</td>\n",
       "      <td>3.558557</td>\n",
       "      <td>5.747751</td>\n",
       "      <td>6.235191</td>\n",
       "      <td>4.441907</td>\n",
       "    </tr>\n",
       "    <tr>\n",
       "      <th>5</th>\n",
       "      <td>A2M</td>\n",
       "      <td>6.791144</td>\n",
       "      <td>8.487519</td>\n",
       "      <td>6.234256</td>\n",
       "      <td>8.668062</td>\n",
       "      <td>7.685584</td>\n",
       "      <td>9.377396</td>\n",
       "      <td>8.046176</td>\n",
       "      <td>5.772911</td>\n",
       "      <td>9.311957</td>\n",
       "      <td>...</td>\n",
       "      <td>8.465337</td>\n",
       "      <td>7.968997</td>\n",
       "      <td>9.191939</td>\n",
       "      <td>8.597154</td>\n",
       "      <td>5.785297</td>\n",
       "      <td>7.666499</td>\n",
       "      <td>9.305408</td>\n",
       "      <td>7.257515</td>\n",
       "      <td>8.916285</td>\n",
       "      <td>7.128524</td>\n",
       "    </tr>\n",
       "    <tr>\n",
       "      <th>...</th>\n",
       "      <td>...</td>\n",
       "      <td>...</td>\n",
       "      <td>...</td>\n",
       "      <td>...</td>\n",
       "      <td>...</td>\n",
       "      <td>...</td>\n",
       "      <td>...</td>\n",
       "      <td>...</td>\n",
       "      <td>...</td>\n",
       "      <td>...</td>\n",
       "      <td>...</td>\n",
       "      <td>...</td>\n",
       "      <td>...</td>\n",
       "      <td>...</td>\n",
       "      <td>...</td>\n",
       "      <td>...</td>\n",
       "      <td>...</td>\n",
       "      <td>...</td>\n",
       "      <td>...</td>\n",
       "      <td>...</td>\n",
       "      <td>...</td>\n",
       "    </tr>\n",
       "    <tr>\n",
       "      <th>23557</th>\n",
       "      <td>ZYG11A</td>\n",
       "      <td>4.134914</td>\n",
       "      <td>4.854401</td>\n",
       "      <td>4.328100</td>\n",
       "      <td>4.205314</td>\n",
       "      <td>4.332976</td>\n",
       "      <td>4.493933</td>\n",
       "      <td>4.723090</td>\n",
       "      <td>4.214385</td>\n",
       "      <td>4.411546</td>\n",
       "      <td>...</td>\n",
       "      <td>4.311748</td>\n",
       "      <td>4.505657</td>\n",
       "      <td>4.324669</td>\n",
       "      <td>4.215146</td>\n",
       "      <td>4.781287</td>\n",
       "      <td>4.305053</td>\n",
       "      <td>4.170102</td>\n",
       "      <td>4.102200</td>\n",
       "      <td>4.338251</td>\n",
       "      <td>4.285848</td>\n",
       "    </tr>\n",
       "    <tr>\n",
       "      <th>23558</th>\n",
       "      <td>ZYG11B</td>\n",
       "      <td>6.554528</td>\n",
       "      <td>6.612243</td>\n",
       "      <td>6.618143</td>\n",
       "      <td>6.325398</td>\n",
       "      <td>6.508897</td>\n",
       "      <td>6.148631</td>\n",
       "      <td>6.986253</td>\n",
       "      <td>5.997039</td>\n",
       "      <td>5.901641</td>\n",
       "      <td>...</td>\n",
       "      <td>6.338624</td>\n",
       "      <td>5.867325</td>\n",
       "      <td>6.094545</td>\n",
       "      <td>6.166064</td>\n",
       "      <td>6.360776</td>\n",
       "      <td>6.996253</td>\n",
       "      <td>6.323110</td>\n",
       "      <td>6.566785</td>\n",
       "      <td>5.747522</td>\n",
       "      <td>5.872794</td>\n",
       "    </tr>\n",
       "    <tr>\n",
       "      <th>23559</th>\n",
       "      <td>ZYX</td>\n",
       "      <td>6.722534</td>\n",
       "      <td>6.255755</td>\n",
       "      <td>6.002252</td>\n",
       "      <td>6.114326</td>\n",
       "      <td>5.876722</td>\n",
       "      <td>6.981527</td>\n",
       "      <td>6.590803</td>\n",
       "      <td>6.670014</td>\n",
       "      <td>6.406730</td>\n",
       "      <td>...</td>\n",
       "      <td>6.732710</td>\n",
       "      <td>7.115669</td>\n",
       "      <td>7.203286</td>\n",
       "      <td>6.876746</td>\n",
       "      <td>5.912886</td>\n",
       "      <td>6.748825</td>\n",
       "      <td>6.152497</td>\n",
       "      <td>6.383736</td>\n",
       "      <td>6.336024</td>\n",
       "      <td>6.883743</td>\n",
       "    </tr>\n",
       "    <tr>\n",
       "      <th>23560</th>\n",
       "      <td>ZZEF1</td>\n",
       "      <td>6.694138</td>\n",
       "      <td>5.696450</td>\n",
       "      <td>5.885443</td>\n",
       "      <td>5.912249</td>\n",
       "      <td>6.424245</td>\n",
       "      <td>6.438149</td>\n",
       "      <td>6.820116</td>\n",
       "      <td>5.562484</td>\n",
       "      <td>5.954268</td>\n",
       "      <td>...</td>\n",
       "      <td>6.101799</td>\n",
       "      <td>6.821187</td>\n",
       "      <td>6.386076</td>\n",
       "      <td>6.138753</td>\n",
       "      <td>6.909052</td>\n",
       "      <td>6.411837</td>\n",
       "      <td>6.292589</td>\n",
       "      <td>6.361620</td>\n",
       "      <td>6.110505</td>\n",
       "      <td>5.622003</td>\n",
       "    </tr>\n",
       "    <tr>\n",
       "      <th>23561</th>\n",
       "      <td>ZZZ3</td>\n",
       "      <td>6.061127</td>\n",
       "      <td>5.583025</td>\n",
       "      <td>6.663594</td>\n",
       "      <td>5.645420</td>\n",
       "      <td>5.514747</td>\n",
       "      <td>5.549378</td>\n",
       "      <td>5.670043</td>\n",
       "      <td>5.738378</td>\n",
       "      <td>5.189056</td>\n",
       "      <td>...</td>\n",
       "      <td>5.830862</td>\n",
       "      <td>5.260624</td>\n",
       "      <td>5.605037</td>\n",
       "      <td>5.608851</td>\n",
       "      <td>6.409568</td>\n",
       "      <td>5.629094</td>\n",
       "      <td>5.948553</td>\n",
       "      <td>5.645341</td>\n",
       "      <td>5.372329</td>\n",
       "      <td>5.904539</td>\n",
       "    </tr>\n",
       "  </tbody>\n",
       "</table>\n",
       "<p>23561 rows × 452 columns</p>\n",
       "</div>"
      ],
      "text/plain": [
       "        gsymbol         1         4         5         9        10        11  \\\n",
       "1      A1BG-AS1  6.073786  4.856430  4.258748  4.850635  4.670916  6.680079   \n",
       "2          A1BG  4.780956  4.530789  4.630758  4.775249  4.767542  4.823468   \n",
       "3          A1CF  5.478749  6.238209  6.518094  5.710002  6.714567  5.481425   \n",
       "4       A2M-AS1  4.462131  4.556981  5.534005  4.314480  4.269136  5.545392   \n",
       "5           A2M  6.791144  8.487519  6.234256  8.668062  7.685584  9.377396   \n",
       "...         ...       ...       ...       ...       ...       ...       ...   \n",
       "23557    ZYG11A  4.134914  4.854401  4.328100  4.205314  4.332976  4.493933   \n",
       "23558    ZYG11B  6.554528  6.612243  6.618143  6.325398  6.508897  6.148631   \n",
       "23559       ZYX  6.722534  6.255755  6.002252  6.114326  5.876722  6.981527   \n",
       "23560     ZZEF1  6.694138  5.696450  5.885443  5.912249  6.424245  6.438149   \n",
       "23561      ZZZ3  6.061127  5.583025  6.663594  5.645420  5.514747  5.549378   \n",
       "\n",
       "             12        15        16  ...       838       840       842  \\\n",
       "1      7.299947  6.021905  5.962186  ...  5.249598  6.113905  6.336825   \n",
       "2      4.705230  5.004281  4.827542  ...  4.908360  4.684136  4.757578   \n",
       "3      5.273707  6.228988  5.400760  ...  5.204422  6.318736  6.295239   \n",
       "4      5.925516  4.469871  4.759019  ...  4.785578  4.925175  5.397922   \n",
       "5      8.046176  5.772911  9.311957  ...  8.465337  7.968997  9.191939   \n",
       "...         ...       ...       ...  ...       ...       ...       ...   \n",
       "23557  4.723090  4.214385  4.411546  ...  4.311748  4.505657  4.324669   \n",
       "23558  6.986253  5.997039  5.901641  ...  6.338624  5.867325  6.094545   \n",
       "23559  6.590803  6.670014  6.406730  ...  6.732710  7.115669  7.203286   \n",
       "23560  6.820116  5.562484  5.954268  ...  6.101799  6.821187  6.386076   \n",
       "23561  5.670043  5.738378  5.189056  ...  5.830862  5.260624  5.605037   \n",
       "\n",
       "            843       889       892       896       897       899       900  \n",
       "1      5.804863  5.206533  5.251891  6.382205  4.889634  6.272591  5.233233  \n",
       "2      4.688623  4.678426  4.520686  4.681386  5.266437  4.840969  4.518457  \n",
       "3      5.566774  6.213009  6.052655  5.877622  4.762273  5.170994  5.635175  \n",
       "4      5.180052  4.895515  4.594644  3.558557  5.747751  6.235191  4.441907  \n",
       "5      8.597154  5.785297  7.666499  9.305408  7.257515  8.916285  7.128524  \n",
       "...         ...       ...       ...       ...       ...       ...       ...  \n",
       "23557  4.215146  4.781287  4.305053  4.170102  4.102200  4.338251  4.285848  \n",
       "23558  6.166064  6.360776  6.996253  6.323110  6.566785  5.747522  5.872794  \n",
       "23559  6.876746  5.912886  6.748825  6.152497  6.383736  6.336024  6.883743  \n",
       "23560  6.138753  6.909052  6.411837  6.292589  6.361620  6.110505  5.622003  \n",
       "23561  5.608851  6.409568  5.629094  5.948553  5.645341  5.372329  5.904539  \n",
       "\n",
       "[23561 rows x 452 columns]"
      ]
     },
     "execution_count": 2,
     "metadata": {},
     "output_type": "execute_result"
    }
   ],
   "source": [
    "gene_df.drop(columns='entrezid')"
   ]
  },
  {
   "cell_type": "code",
   "execution_count": 3,
   "id": "ce8b5fc9",
   "metadata": {},
   "outputs": [
    {
     "data": {
      "text/plain": [
       "(23561, 453)"
      ]
     },
     "execution_count": 3,
     "metadata": {},
     "output_type": "execute_result"
    }
   ],
   "source": [
    "gene_df.shape"
   ]
  },
  {
   "cell_type": "code",
   "execution_count": 4,
   "id": "5ab73850",
   "metadata": {},
   "outputs": [
    {
     "name": "stdout",
     "output_type": "stream",
     "text": [
      "Requirement already satisfied: pyreadstat in /home/henry/.pyenv/versions/3.8.12/envs/health/lib/python3.8/site-packages (1.1.3)\r\n",
      "Requirement already satisfied: pandas>0.24.0 in /home/henry/.pyenv/versions/3.8.12/envs/health/lib/python3.8/site-packages (from pyreadstat) (1.3.4)\r\n",
      "Requirement already satisfied: numpy>=1.17.3 in /home/henry/.pyenv/versions/3.8.12/envs/health/lib/python3.8/site-packages (from pandas>0.24.0->pyreadstat) (1.21.4)\r\n",
      "Requirement already satisfied: pytz>=2017.3 in /home/henry/.pyenv/versions/3.8.12/envs/health/lib/python3.8/site-packages (from pandas>0.24.0->pyreadstat) (2021.3)\r\n",
      "Requirement already satisfied: python-dateutil>=2.7.3 in /home/henry/.pyenv/versions/3.8.12/envs/health/lib/python3.8/site-packages (from pandas>0.24.0->pyreadstat) (2.8.2)\r\n",
      "Requirement already satisfied: six>=1.5 in /home/henry/.pyenv/versions/3.8.12/envs/health/lib/python3.8/site-packages (from python-dateutil>=2.7.3->pandas>0.24.0->pyreadstat) (1.16.0)\r\n"
     ]
    }
   ],
   "source": [
    "! pip install pyreadstat\n",
    "\n",
    "import pyreadstat\n",
    "\n",
    "clinical_df, meta = pyreadstat.read_sav(\"../raw_data/FIRE3_Heike_set_new.sav\")"
   ]
  },
  {
   "cell_type": "code",
   "execution_count": 5,
   "id": "125f9112",
   "metadata": {},
   "outputs": [
    {
     "data": {
      "text/plain": [
       "Index(['study', 'pat_nr', 'CET1_REST0', 'arm', 'sex', 'age', 'ecog',\n",
       "       'skin_rash', 'MOL_SG', 'RNA_Probe', 'predictedCMS', 'nearestCMS',\n",
       "       'detaiL_primloc', 'primeloc_side', 'liver', 'lung', 'LKMETS',\n",
       "       'PERITONEAL', 'other', 'liver_only', 'no_organs', 'secresec', 'pfs',\n",
       "       'pfs_time_mo', 'os', 'os_time_mo', 'bor1', 'orr1', 'dpr1', 'ets_cat',\n",
       "       'SYNCH_META', 'PRIMARY_RES', 'RADIOVORHER', 'LK', 'AP', 'CTX_ADJ',\n",
       "       'filter_$'],\n",
       "      dtype='object')"
      ]
     },
     "execution_count": 5,
     "metadata": {},
     "output_type": "execute_result"
    }
   ],
   "source": [
    "clinical_df.columns"
   ]
  },
  {
   "cell_type": "code",
   "execution_count": 6,
   "id": "a3d9007b",
   "metadata": {
    "scrolled": false
   },
   "outputs": [
    {
     "data": {
      "text/html": [
       "<div>\n",
       "<style scoped>\n",
       "    .dataframe tbody tr th:only-of-type {\n",
       "        vertical-align: middle;\n",
       "    }\n",
       "\n",
       "    .dataframe tbody tr th {\n",
       "        vertical-align: top;\n",
       "    }\n",
       "\n",
       "    .dataframe thead th {\n",
       "        text-align: right;\n",
       "    }\n",
       "</style>\n",
       "<table border=\"1\" class=\"dataframe\">\n",
       "  <thead>\n",
       "    <tr style=\"text-align: right;\">\n",
       "      <th></th>\n",
       "      <th>study</th>\n",
       "      <th>pat_nr</th>\n",
       "      <th>CET1_REST0</th>\n",
       "      <th>arm</th>\n",
       "      <th>sex</th>\n",
       "      <th>age</th>\n",
       "      <th>ecog</th>\n",
       "      <th>skin_rash</th>\n",
       "      <th>MOL_SG</th>\n",
       "      <th>RNA_Probe</th>\n",
       "      <th>...</th>\n",
       "      <th>orr1</th>\n",
       "      <th>dpr1</th>\n",
       "      <th>ets_cat</th>\n",
       "      <th>SYNCH_META</th>\n",
       "      <th>PRIMARY_RES</th>\n",
       "      <th>RADIOVORHER</th>\n",
       "      <th>LK</th>\n",
       "      <th>AP</th>\n",
       "      <th>CTX_ADJ</th>\n",
       "      <th>filter_$</th>\n",
       "    </tr>\n",
       "  </thead>\n",
       "  <tbody>\n",
       "    <tr>\n",
       "      <th>0</th>\n",
       "      <td>FIRE 3</td>\n",
       "      <td>1.0</td>\n",
       "      <td>0.0</td>\n",
       "      <td>2.0</td>\n",
       "      <td>2.0</td>\n",
       "      <td>60.0</td>\n",
       "      <td>0.0</td>\n",
       "      <td>0.0</td>\n",
       "      <td>3.0</td>\n",
       "      <td>1.0</td>\n",
       "      <td>...</td>\n",
       "      <td>1.0</td>\n",
       "      <td>NaN</td>\n",
       "      <td>NaN</td>\n",
       "      <td>2.0</td>\n",
       "      <td>1.0</td>\n",
       "      <td>1.0</td>\n",
       "      <td>2.0</td>\n",
       "      <td>1.0</td>\n",
       "      <td>1.0</td>\n",
       "      <td>1.0</td>\n",
       "    </tr>\n",
       "    <tr>\n",
       "      <th>1</th>\n",
       "      <td>FIRE 3</td>\n",
       "      <td>2.0</td>\n",
       "      <td>1.0</td>\n",
       "      <td>1.0</td>\n",
       "      <td>2.0</td>\n",
       "      <td>52.0</td>\n",
       "      <td>1.0</td>\n",
       "      <td>0.0</td>\n",
       "      <td>NaN</td>\n",
       "      <td>0.0</td>\n",
       "      <td>...</td>\n",
       "      <td>0.0</td>\n",
       "      <td>NaN</td>\n",
       "      <td>NaN</td>\n",
       "      <td>1.0</td>\n",
       "      <td>1.0</td>\n",
       "      <td>0.0</td>\n",
       "      <td>1.0</td>\n",
       "      <td>1.0</td>\n",
       "      <td>0.0</td>\n",
       "      <td>0.0</td>\n",
       "    </tr>\n",
       "    <tr>\n",
       "      <th>2</th>\n",
       "      <td>FIRE 3</td>\n",
       "      <td>3.0</td>\n",
       "      <td>1.0</td>\n",
       "      <td>1.0</td>\n",
       "      <td>2.0</td>\n",
       "      <td>52.0</td>\n",
       "      <td>1.0</td>\n",
       "      <td>0.0</td>\n",
       "      <td>NaN</td>\n",
       "      <td>0.0</td>\n",
       "      <td>...</td>\n",
       "      <td>1.0</td>\n",
       "      <td>NaN</td>\n",
       "      <td>NaN</td>\n",
       "      <td>2.0</td>\n",
       "      <td>1.0</td>\n",
       "      <td>1.0</td>\n",
       "      <td>1.0</td>\n",
       "      <td>1.0</td>\n",
       "      <td>1.0</td>\n",
       "      <td>0.0</td>\n",
       "    </tr>\n",
       "    <tr>\n",
       "      <th>3</th>\n",
       "      <td>FIRE 3</td>\n",
       "      <td>4.0</td>\n",
       "      <td>0.0</td>\n",
       "      <td>2.0</td>\n",
       "      <td>1.0</td>\n",
       "      <td>58.0</td>\n",
       "      <td>0.0</td>\n",
       "      <td>0.0</td>\n",
       "      <td>3.0</td>\n",
       "      <td>1.0</td>\n",
       "      <td>...</td>\n",
       "      <td>1.0</td>\n",
       "      <td>NaN</td>\n",
       "      <td>0.0</td>\n",
       "      <td>1.0</td>\n",
       "      <td>1.0</td>\n",
       "      <td>0.0</td>\n",
       "      <td>2.0</td>\n",
       "      <td>2.0</td>\n",
       "      <td>0.0</td>\n",
       "      <td>1.0</td>\n",
       "    </tr>\n",
       "    <tr>\n",
       "      <th>4</th>\n",
       "      <td>FIRE 3</td>\n",
       "      <td>5.0</td>\n",
       "      <td>0.0</td>\n",
       "      <td>2.0</td>\n",
       "      <td>2.0</td>\n",
       "      <td>54.0</td>\n",
       "      <td>0.0</td>\n",
       "      <td>0.0</td>\n",
       "      <td>1.0</td>\n",
       "      <td>1.0</td>\n",
       "      <td>...</td>\n",
       "      <td>1.0</td>\n",
       "      <td>NaN</td>\n",
       "      <td>1.0</td>\n",
       "      <td>1.0</td>\n",
       "      <td>1.0</td>\n",
       "      <td>0.0</td>\n",
       "      <td>1.0</td>\n",
       "      <td>1.0</td>\n",
       "      <td>0.0</td>\n",
       "      <td>1.0</td>\n",
       "    </tr>\n",
       "  </tbody>\n",
       "</table>\n",
       "<p>5 rows × 37 columns</p>\n",
       "</div>"
      ],
      "text/plain": [
       "    study  pat_nr  CET1_REST0  arm  sex   age  ecog  skin_rash  MOL_SG  \\\n",
       "0  FIRE 3     1.0         0.0  2.0  2.0  60.0   0.0        0.0     3.0   \n",
       "1  FIRE 3     2.0         1.0  1.0  2.0  52.0   1.0        0.0     NaN   \n",
       "2  FIRE 3     3.0         1.0  1.0  2.0  52.0   1.0        0.0     NaN   \n",
       "3  FIRE 3     4.0         0.0  2.0  1.0  58.0   0.0        0.0     3.0   \n",
       "4  FIRE 3     5.0         0.0  2.0  2.0  54.0   0.0        0.0     1.0   \n",
       "\n",
       "   RNA_Probe  ...  orr1  dpr1 ets_cat  SYNCH_META  PRIMARY_RES  RADIOVORHER  \\\n",
       "0        1.0  ...   1.0   NaN     NaN         2.0          1.0          1.0   \n",
       "1        0.0  ...   0.0   NaN     NaN         1.0          1.0          0.0   \n",
       "2        0.0  ...   1.0   NaN     NaN         2.0          1.0          1.0   \n",
       "3        1.0  ...   1.0   NaN     0.0         1.0          1.0          0.0   \n",
       "4        1.0  ...   1.0   NaN     1.0         1.0          1.0          0.0   \n",
       "\n",
       "    LK   AP  CTX_ADJ  filter_$  \n",
       "0  2.0  1.0      1.0       1.0  \n",
       "1  1.0  1.0      0.0       0.0  \n",
       "2  1.0  1.0      1.0       0.0  \n",
       "3  2.0  2.0      0.0       1.0  \n",
       "4  1.0  1.0      0.0       1.0  \n",
       "\n",
       "[5 rows x 37 columns]"
      ]
     },
     "execution_count": 6,
     "metadata": {},
     "output_type": "execute_result"
    }
   ],
   "source": [
    "clinical_df.head()"
   ]
  },
  {
   "cell_type": "code",
   "execution_count": 7,
   "id": "c20fb759",
   "metadata": {},
   "outputs": [
    {
     "data": {
      "text/plain": [
       "(735, 37)"
      ]
     },
     "execution_count": 7,
     "metadata": {},
     "output_type": "execute_result"
    }
   ],
   "source": [
    "clinical_df.shape"
   ]
  },
  {
   "cell_type": "code",
   "execution_count": 8,
   "id": "d3b2f807",
   "metadata": {},
   "outputs": [
    {
     "data": {
      "text/plain": [
       "0    1.0\n",
       "1    0.0\n",
       "2    0.0\n",
       "3    1.0\n",
       "4    1.0\n",
       "5    0.0\n",
       "6    0.0\n",
       "7    0.0\n",
       "8    1.0\n",
       "9    1.0\n",
       "Name: RNA_Probe, dtype: float64"
      ]
     },
     "execution_count": 8,
     "metadata": {},
     "output_type": "execute_result"
    }
   ],
   "source": [
    "clinical_df['RNA_Probe'][0:10]"
   ]
  },
  {
   "cell_type": "code",
   "execution_count": 9,
   "id": "de7c233d",
   "metadata": {},
   "outputs": [
    {
     "data": {
      "image/png": "[encoded data removed]",
      "text/plain": [
       "<Figure size 720x504 with 1 Axes>"
      ]
     },
     "metadata": {
      "needs_background": "light"
     },
     "output_type": "display_data"
    }
   ],
   "source": [
    "from matplotlib import pyplot as plt \n",
    "import numpy as np \n",
    "  \n",
    "  \n",
    "size = 2\n",
    "cars = ['Cetuximab', 'Bevacizumab'] \n",
    "  \n",
    "data = np.array([[109, 109],[220, 4]]) \n",
    "  \n",
    "norm = data / np.sum(data)*2 * np.pi \n",
    "  \n",
    "left = np.cumsum(np.append(0,  \n",
    "                           norm.flatten()[:-1])).reshape(data.shape) \n",
    "  \n",
    "cmap = plt.get_cmap(\"tab20c\") \n",
    "outer_colors = cmap(np.arange(6)*4) \n",
    "inner_colors = cmap(np.array([1, 2, 5, 6, 9, \n",
    "                              10, 12, 13, 15, \n",
    "                              17, 18, 20 ])) \n",
    "  \n",
    "fig, ax = plt.subplots(figsize =(10, 7), \n",
    "                       subplot_kw = dict(polar = True)) \n",
    "  \n",
    "ax.bar(x = left[:, 0], \n",
    "       width = norm.sum(axis = 1), \n",
    "       bottom = 1-size, \n",
    "       height = size, \n",
    "       color = outer_colors,  \n",
    "       edgecolor ='w', \n",
    "       linewidth = 1, \n",
    "       align =\"edge\") \n",
    "  \n",
    "ax.bar(x = left.flatten(), \n",
    "       width = norm.flatten(), \n",
    "       bottom = 1-2 * size, \n",
    "       height = size, \n",
    "       color = inner_colors, \n",
    "       edgecolor ='w', \n",
    "       linewidth = 1, \n",
    "       align =\"edge\") \n",
    "  \n",
    "ax.set(title =\"Nested pie chart\") \n",
    "ax.set_axis_off() \n",
    "  \n",
    "plt.show() "
   ]
  },
  {
   "cell_type": "code",
   "execution_count": 10,
   "id": "e4f10fe5",
   "metadata": {},
   "outputs": [],
   "source": [
    "immune_df = pd.read_csv(\"../raw_data/CIBERSORTx_Job7_Results.txt\",sep='\\t')"
   ]
  },
  {
   "cell_type": "code",
   "execution_count": 11,
   "id": "ae104820",
   "metadata": {},
   "outputs": [
    {
     "data": {
      "text/html": [
       "<div>\n",
       "<style scoped>\n",
       "    .dataframe tbody tr th:only-of-type {\n",
       "        vertical-align: middle;\n",
       "    }\n",
       "\n",
       "    .dataframe tbody tr th {\n",
       "        vertical-align: top;\n",
       "    }\n",
       "\n",
       "    .dataframe thead th {\n",
       "        text-align: right;\n",
       "    }\n",
       "</style>\n",
       "<table border=\"1\" class=\"dataframe\">\n",
       "  <thead>\n",
       "    <tr style=\"text-align: right;\">\n",
       "      <th></th>\n",
       "      <th>Mixture</th>\n",
       "      <th>B cells naive</th>\n",
       "      <th>B cells memory</th>\n",
       "      <th>Plasma cells</th>\n",
       "      <th>T cells CD8</th>\n",
       "      <th>T cells CD4 naive</th>\n",
       "      <th>T cells CD4 memory resting</th>\n",
       "      <th>T cells CD4 memory activated</th>\n",
       "      <th>T cells follicular helper</th>\n",
       "      <th>T cells regulatory (Tregs)</th>\n",
       "      <th>...</th>\n",
       "      <th>Macrophages M2</th>\n",
       "      <th>Dendritic cells resting</th>\n",
       "      <th>Dendritic cells activated</th>\n",
       "      <th>Mast cells resting</th>\n",
       "      <th>Mast cells activated</th>\n",
       "      <th>Eosinophils</th>\n",
       "      <th>Neutrophils</th>\n",
       "      <th>P-value</th>\n",
       "      <th>Correlation</th>\n",
       "      <th>RMSE</th>\n",
       "    </tr>\n",
       "  </thead>\n",
       "  <tbody>\n",
       "    <tr>\n",
       "      <th>0</th>\n",
       "      <td>1</td>\n",
       "      <td>0.040607</td>\n",
       "      <td>0.000000</td>\n",
       "      <td>0.209086</td>\n",
       "      <td>0.122856</td>\n",
       "      <td>0.0</td>\n",
       "      <td>0.088533</td>\n",
       "      <td>0.000000</td>\n",
       "      <td>0.111784</td>\n",
       "      <td>0.052571</td>\n",
       "      <td>...</td>\n",
       "      <td>0.136607</td>\n",
       "      <td>0.000000</td>\n",
       "      <td>0.008096</td>\n",
       "      <td>0.000000</td>\n",
       "      <td>0.045574</td>\n",
       "      <td>0.000000</td>\n",
       "      <td>0.119292</td>\n",
       "      <td>0.024</td>\n",
       "      <td>0.167135</td>\n",
       "      <td>1.012925</td>\n",
       "    </tr>\n",
       "    <tr>\n",
       "      <th>1</th>\n",
       "      <td>4</td>\n",
       "      <td>0.049146</td>\n",
       "      <td>0.000000</td>\n",
       "      <td>0.121825</td>\n",
       "      <td>0.076978</td>\n",
       "      <td>0.0</td>\n",
       "      <td>0.153331</td>\n",
       "      <td>0.051057</td>\n",
       "      <td>0.068564</td>\n",
       "      <td>0.059623</td>\n",
       "      <td>...</td>\n",
       "      <td>0.142035</td>\n",
       "      <td>0.003342</td>\n",
       "      <td>0.000000</td>\n",
       "      <td>0.000000</td>\n",
       "      <td>0.171013</td>\n",
       "      <td>0.000000</td>\n",
       "      <td>0.022019</td>\n",
       "      <td>0.030</td>\n",
       "      <td>0.161424</td>\n",
       "      <td>1.018143</td>\n",
       "    </tr>\n",
       "    <tr>\n",
       "      <th>2</th>\n",
       "      <td>5</td>\n",
       "      <td>0.003186</td>\n",
       "      <td>0.000000</td>\n",
       "      <td>0.162668</td>\n",
       "      <td>0.042196</td>\n",
       "      <td>0.0</td>\n",
       "      <td>0.240454</td>\n",
       "      <td>0.000000</td>\n",
       "      <td>0.000000</td>\n",
       "      <td>0.018316</td>\n",
       "      <td>...</td>\n",
       "      <td>0.066831</td>\n",
       "      <td>0.000000</td>\n",
       "      <td>0.000000</td>\n",
       "      <td>0.000000</td>\n",
       "      <td>0.140387</td>\n",
       "      <td>0.000000</td>\n",
       "      <td>0.111967</td>\n",
       "      <td>0.048</td>\n",
       "      <td>0.148986</td>\n",
       "      <td>1.029813</td>\n",
       "    </tr>\n",
       "    <tr>\n",
       "      <th>3</th>\n",
       "      <td>9</td>\n",
       "      <td>0.067346</td>\n",
       "      <td>0.000000</td>\n",
       "      <td>0.097330</td>\n",
       "      <td>0.072327</td>\n",
       "      <td>0.0</td>\n",
       "      <td>0.168887</td>\n",
       "      <td>0.000000</td>\n",
       "      <td>0.002431</td>\n",
       "      <td>0.067972</td>\n",
       "      <td>...</td>\n",
       "      <td>0.019745</td>\n",
       "      <td>0.071104</td>\n",
       "      <td>0.000000</td>\n",
       "      <td>0.000000</td>\n",
       "      <td>0.188876</td>\n",
       "      <td>0.000000</td>\n",
       "      <td>0.074924</td>\n",
       "      <td>0.004</td>\n",
       "      <td>0.250437</td>\n",
       "      <td>0.986058</td>\n",
       "    </tr>\n",
       "    <tr>\n",
       "      <th>4</th>\n",
       "      <td>10</td>\n",
       "      <td>0.000000</td>\n",
       "      <td>0.000000</td>\n",
       "      <td>0.105039</td>\n",
       "      <td>0.066233</td>\n",
       "      <td>0.0</td>\n",
       "      <td>0.249715</td>\n",
       "      <td>0.074691</td>\n",
       "      <td>0.035303</td>\n",
       "      <td>0.085112</td>\n",
       "      <td>...</td>\n",
       "      <td>0.065631</td>\n",
       "      <td>0.000000</td>\n",
       "      <td>0.009239</td>\n",
       "      <td>0.000000</td>\n",
       "      <td>0.134230</td>\n",
       "      <td>0.000000</td>\n",
       "      <td>0.070198</td>\n",
       "      <td>0.024</td>\n",
       "      <td>0.169331</td>\n",
       "      <td>1.020998</td>\n",
       "    </tr>\n",
       "    <tr>\n",
       "      <th>5</th>\n",
       "      <td>11</td>\n",
       "      <td>0.026077</td>\n",
       "      <td>0.036179</td>\n",
       "      <td>0.088607</td>\n",
       "      <td>0.143028</td>\n",
       "      <td>0.0</td>\n",
       "      <td>0.234585</td>\n",
       "      <td>0.000000</td>\n",
       "      <td>0.072747</td>\n",
       "      <td>0.070541</td>\n",
       "      <td>...</td>\n",
       "      <td>0.123556</td>\n",
       "      <td>0.000000</td>\n",
       "      <td>0.020624</td>\n",
       "      <td>0.096621</td>\n",
       "      <td>0.000000</td>\n",
       "      <td>0.000000</td>\n",
       "      <td>0.071394</td>\n",
       "      <td>0.012</td>\n",
       "      <td>0.216488</td>\n",
       "      <td>0.997350</td>\n",
       "    </tr>\n",
       "    <tr>\n",
       "      <th>6</th>\n",
       "      <td>12</td>\n",
       "      <td>0.065798</td>\n",
       "      <td>0.000000</td>\n",
       "      <td>0.118399</td>\n",
       "      <td>0.111458</td>\n",
       "      <td>0.0</td>\n",
       "      <td>0.281396</td>\n",
       "      <td>0.000000</td>\n",
       "      <td>0.000000</td>\n",
       "      <td>0.069544</td>\n",
       "      <td>...</td>\n",
       "      <td>0.005364</td>\n",
       "      <td>0.024802</td>\n",
       "      <td>0.000000</td>\n",
       "      <td>0.000000</td>\n",
       "      <td>0.086495</td>\n",
       "      <td>0.032828</td>\n",
       "      <td>0.051155</td>\n",
       "      <td>0.002</td>\n",
       "      <td>0.279592</td>\n",
       "      <td>0.974543</td>\n",
       "    </tr>\n",
       "    <tr>\n",
       "      <th>7</th>\n",
       "      <td>15</td>\n",
       "      <td>0.010223</td>\n",
       "      <td>0.000000</td>\n",
       "      <td>0.186072</td>\n",
       "      <td>0.193724</td>\n",
       "      <td>0.0</td>\n",
       "      <td>0.283032</td>\n",
       "      <td>0.000000</td>\n",
       "      <td>0.000000</td>\n",
       "      <td>0.144012</td>\n",
       "      <td>...</td>\n",
       "      <td>0.014802</td>\n",
       "      <td>0.000000</td>\n",
       "      <td>0.000000</td>\n",
       "      <td>0.000000</td>\n",
       "      <td>0.081489</td>\n",
       "      <td>0.000000</td>\n",
       "      <td>0.004522</td>\n",
       "      <td>0.034</td>\n",
       "      <td>0.156519</td>\n",
       "      <td>1.044811</td>\n",
       "    </tr>\n",
       "    <tr>\n",
       "      <th>8</th>\n",
       "      <td>16</td>\n",
       "      <td>0.000000</td>\n",
       "      <td>0.013582</td>\n",
       "      <td>0.056297</td>\n",
       "      <td>0.080645</td>\n",
       "      <td>0.0</td>\n",
       "      <td>0.336947</td>\n",
       "      <td>0.000000</td>\n",
       "      <td>0.035983</td>\n",
       "      <td>0.057663</td>\n",
       "      <td>...</td>\n",
       "      <td>0.167292</td>\n",
       "      <td>0.079572</td>\n",
       "      <td>0.010232</td>\n",
       "      <td>0.000000</td>\n",
       "      <td>0.045427</td>\n",
       "      <td>0.000000</td>\n",
       "      <td>0.095906</td>\n",
       "      <td>0.022</td>\n",
       "      <td>0.173837</td>\n",
       "      <td>1.017739</td>\n",
       "    </tr>\n",
       "    <tr>\n",
       "      <th>9</th>\n",
       "      <td>19</td>\n",
       "      <td>0.012503</td>\n",
       "      <td>0.000000</td>\n",
       "      <td>0.225200</td>\n",
       "      <td>0.095537</td>\n",
       "      <td>0.0</td>\n",
       "      <td>0.286720</td>\n",
       "      <td>0.038306</td>\n",
       "      <td>0.000000</td>\n",
       "      <td>0.146023</td>\n",
       "      <td>...</td>\n",
       "      <td>0.107022</td>\n",
       "      <td>0.020208</td>\n",
       "      <td>0.000000</td>\n",
       "      <td>0.014166</td>\n",
       "      <td>0.000000</td>\n",
       "      <td>0.000000</td>\n",
       "      <td>0.000000</td>\n",
       "      <td>0.030</td>\n",
       "      <td>0.163600</td>\n",
       "      <td>1.022673</td>\n",
       "    </tr>\n",
       "  </tbody>\n",
       "</table>\n",
       "<p>10 rows × 26 columns</p>\n",
       "</div>"
      ],
      "text/plain": [
       "   Mixture  B cells naive  B cells memory  Plasma cells  T cells CD8  \\\n",
       "0        1       0.040607        0.000000      0.209086     0.122856   \n",
       "1        4       0.049146        0.000000      0.121825     0.076978   \n",
       "2        5       0.003186        0.000000      0.162668     0.042196   \n",
       "3        9       0.067346        0.000000      0.097330     0.072327   \n",
       "4       10       0.000000        0.000000      0.105039     0.066233   \n",
       "5       11       0.026077        0.036179      0.088607     0.143028   \n",
       "6       12       0.065798        0.000000      0.118399     0.111458   \n",
       "7       15       0.010223        0.000000      0.186072     0.193724   \n",
       "8       16       0.000000        0.013582      0.056297     0.080645   \n",
       "9       19       0.012503        0.000000      0.225200     0.095537   \n",
       "\n",
       "   T cells CD4 naive  T cells CD4 memory resting  \\\n",
       "0                0.0                    0.088533   \n",
       "1                0.0                    0.153331   \n",
       "2                0.0                    0.240454   \n",
       "3                0.0                    0.168887   \n",
       "4                0.0                    0.249715   \n",
       "5                0.0                    0.234585   \n",
       "6                0.0                    0.281396   \n",
       "7                0.0                    0.283032   \n",
       "8                0.0                    0.336947   \n",
       "9                0.0                    0.286720   \n",
       "\n",
       "   T cells CD4 memory activated  T cells follicular helper  \\\n",
       "0                      0.000000                   0.111784   \n",
       "1                      0.051057                   0.068564   \n",
       "2                      0.000000                   0.000000   \n",
       "3                      0.000000                   0.002431   \n",
       "4                      0.074691                   0.035303   \n",
       "5                      0.000000                   0.072747   \n",
       "6                      0.000000                   0.000000   \n",
       "7                      0.000000                   0.000000   \n",
       "8                      0.000000                   0.035983   \n",
       "9                      0.038306                   0.000000   \n",
       "\n",
       "   T cells regulatory (Tregs)  ...  Macrophages M2  Dendritic cells resting  \\\n",
       "0                    0.052571  ...        0.136607                 0.000000   \n",
       "1                    0.059623  ...        0.142035                 0.003342   \n",
       "2                    0.018316  ...        0.066831                 0.000000   \n",
       "3                    0.067972  ...        0.019745                 0.071104   \n",
       "4                    0.085112  ...        0.065631                 0.000000   \n",
       "5                    0.070541  ...        0.123556                 0.000000   \n",
       "6                    0.069544  ...        0.005364                 0.024802   \n",
       "7                    0.144012  ...        0.014802                 0.000000   \n",
       "8                    0.057663  ...        0.167292                 0.079572   \n",
       "9                    0.146023  ...        0.107022                 0.020208   \n",
       "\n",
       "   Dendritic cells activated  Mast cells resting  Mast cells activated  \\\n",
       "0                   0.008096            0.000000              0.045574   \n",
       "1                   0.000000            0.000000              0.171013   \n",
       "2                   0.000000            0.000000              0.140387   \n",
       "3                   0.000000            0.000000              0.188876   \n",
       "4                   0.009239            0.000000              0.134230   \n",
       "5                   0.020624            0.096621              0.000000   \n",
       "6                   0.000000            0.000000              0.086495   \n",
       "7                   0.000000            0.000000              0.081489   \n",
       "8                   0.010232            0.000000              0.045427   \n",
       "9                   0.000000            0.014166              0.000000   \n",
       "\n",
       "   Eosinophils  Neutrophils  P-value  Correlation      RMSE  \n",
       "0     0.000000     0.119292    0.024     0.167135  1.012925  \n",
       "1     0.000000     0.022019    0.030     0.161424  1.018143  \n",
       "2     0.000000     0.111967    0.048     0.148986  1.029813  \n",
       "3     0.000000     0.074924    0.004     0.250437  0.986058  \n",
       "4     0.000000     0.070198    0.024     0.169331  1.020998  \n",
       "5     0.000000     0.071394    0.012     0.216488  0.997350  \n",
       "6     0.032828     0.051155    0.002     0.279592  0.974543  \n",
       "7     0.000000     0.004522    0.034     0.156519  1.044811  \n",
       "8     0.000000     0.095906    0.022     0.173837  1.017739  \n",
       "9     0.000000     0.000000    0.030     0.163600  1.022673  \n",
       "\n",
       "[10 rows x 26 columns]"
      ]
     },
     "execution_count": 11,
     "metadata": {},
     "output_type": "execute_result"
    }
   ],
   "source": [
    "immune_df.head(10)"
   ]
  },
  {
   "cell_type": "code",
   "execution_count": 12,
   "id": "cf5d54f1",
   "metadata": {},
   "outputs": [
    {
     "data": {
      "text/plain": [
       "<AxesSubplot:>"
      ]
     },
     "execution_count": 12,
     "metadata": {},
     "output_type": "execute_result"
    },
    {
     "data": {
      "image/png": "[encoded data removed]",
      "text/plain": [
       "<Figure size 432x288 with 2 Axes>"
      ]
     },
     "metadata": {
      "needs_background": "light"
     },
     "output_type": "display_data"
    }
   ],
   "source": [
    "import seaborn as sns\n",
    "sns.heatmap(immune_df.corr(), cmap='coolwarm')"
   ]
  },
  {
   "cell_type": "code",
   "execution_count": 13,
   "id": "3f351ab8",
   "metadata": {},
   "outputs": [
    {
     "data": {
      "text/plain": [
       "KMeans(n_clusters=3)"
      ]
     },
     "execution_count": 13,
     "metadata": {},
     "output_type": "execute_result"
    }
   ],
   "source": [
    "from sklearn.cluster import KMeans\n",
    "km = KMeans(n_clusters=3)\n",
    "km.fit(immune_df)"
   ]
  },
  {
   "cell_type": "code",
   "execution_count": 14,
   "id": "861d5c2a",
   "metadata": {},
   "outputs": [
    {
     "data": {
      "text/plain": [
       "array([[ 4.52921569e+02,  3.45406238e-02,  7.66859466e-03,\n",
       "         1.13320279e-01,  9.75204346e-02,  1.49980677e-04,\n",
       "         2.29093520e-01,  1.08275615e-02,  2.28755370e-02,\n",
       "         5.73494637e-02,  9.44171734e-04,  4.18237518e-02,\n",
       "         6.97077423e-03,  1.28187635e-02,  2.63473618e-02,\n",
       "         3.36503782e-02,  1.21776253e-01,  1.10531291e-02,\n",
       "         3.78152744e-03,  2.96017061e-02,  7.15597662e-02,\n",
       "         4.73138240e-04,  6.58532844e-02,  4.51111111e-02,\n",
       "         1.88936893e-01,  1.01077550e+00],\n",
       "       [ 7.06991597e+02,  3.22064140e-02,  5.05514878e-03,\n",
       "         1.05108357e-01,  1.03311733e-01,  1.56962383e-03,\n",
       "         2.34860625e-01,  1.44437858e-02,  2.37779757e-02,\n",
       "         4.99090500e-02, -3.25260652e-19,  4.48643665e-02,\n",
       "         8.31845432e-03,  1.51095511e-02,  2.48504729e-02,\n",
       "         2.64515448e-02,  1.10766247e-01,  1.72250148e-02,\n",
       "         6.46368137e-03,  4.05459896e-02,  6.97023091e-02,\n",
       "         3.18799085e-04,  6.51408571e-02,  3.65882353e-02,\n",
       "         1.98594682e-01,  1.00695128e+00],\n",
       "       [ 1.61620112e+02,  3.45718514e-02,  7.68457541e-03,\n",
       "         1.15651277e-01,  9.75817779e-02,  5.57003099e-05,\n",
       "         2.36407938e-01,  1.07353902e-02,  2.41786973e-02,\n",
       "         5.97758952e-02,  8.25026693e-04,  3.90505271e-02,\n",
       "         7.02144157e-03,  1.76551667e-02,  2.33425522e-02,\n",
       "         3.03370212e-02,  1.04077794e-01,  2.49250528e-02,\n",
       "         6.49416482e-03,  2.85294526e-02,  7.18645358e-02,\n",
       "         3.21209887e-04,  5.89129521e-02,  5.29273743e-02,\n",
       "         1.82738658e-01,  1.01282751e+00]])"
      ]
     },
     "execution_count": 14,
     "metadata": {},
     "output_type": "execute_result"
    }
   ],
   "source": [
    "km.cluster_centers_"
   ]
  },
  {
   "cell_type": "code",
   "execution_count": 15,
   "id": "58b6deb8",
   "metadata": {},
   "outputs": [],
   "source": [
    "immune_df = immune_df.rename({'Mixture': 'pat_nr'}, axis='columns')"
   ]
  },
  {
   "cell_type": "code",
   "execution_count": 16,
   "id": "4d318792",
   "metadata": {},
   "outputs": [],
   "source": [
    "clinical_df[\"pat_nr\"]=clinical_df[\"pat_nr\"].astype('int64')"
   ]
  },
  {
   "cell_type": "code",
   "execution_count": 17,
   "id": "5aa77ddc",
   "metadata": {},
   "outputs": [],
   "source": [
    "immune_clinical=immune_df.merge(clinical_df, how='inner', on='pat_nr')"
   ]
  },
  {
   "cell_type": "code",
   "execution_count": 18,
   "id": "e6dd83e5",
   "metadata": {},
   "outputs": [
    {
     "data": {
      "text/html": [
       "<div>\n",
       "<style scoped>\n",
       "    .dataframe tbody tr th:only-of-type {\n",
       "        vertical-align: middle;\n",
       "    }\n",
       "\n",
       "    .dataframe tbody tr th {\n",
       "        vertical-align: top;\n",
       "    }\n",
       "\n",
       "    .dataframe thead th {\n",
       "        text-align: right;\n",
       "    }\n",
       "</style>\n",
       "<table border=\"1\" class=\"dataframe\">\n",
       "  <thead>\n",
       "    <tr style=\"text-align: right;\">\n",
       "      <th></th>\n",
       "      <th>pat_nr</th>\n",
       "      <th>B cells naive</th>\n",
       "      <th>B cells memory</th>\n",
       "      <th>Plasma cells</th>\n",
       "      <th>T cells CD8</th>\n",
       "      <th>T cells CD4 naive</th>\n",
       "      <th>T cells CD4 memory resting</th>\n",
       "      <th>T cells CD4 memory activated</th>\n",
       "      <th>T cells follicular helper</th>\n",
       "      <th>T cells regulatory (Tregs)</th>\n",
       "      <th>...</th>\n",
       "      <th>RMSE</th>\n",
       "      <th>study</th>\n",
       "      <th>CET1_REST0</th>\n",
       "      <th>arm</th>\n",
       "      <th>sex</th>\n",
       "      <th>age</th>\n",
       "      <th>ecog</th>\n",
       "      <th>skin_rash</th>\n",
       "      <th>MOL_SG</th>\n",
       "      <th>RNA_Probe</th>\n",
       "    </tr>\n",
       "  </thead>\n",
       "  <tbody>\n",
       "    <tr>\n",
       "      <th>0</th>\n",
       "      <td>1</td>\n",
       "      <td>0.040607</td>\n",
       "      <td>0.000000</td>\n",
       "      <td>0.209086</td>\n",
       "      <td>0.122856</td>\n",
       "      <td>0.0</td>\n",
       "      <td>0.088533</td>\n",
       "      <td>0.000000</td>\n",
       "      <td>0.111784</td>\n",
       "      <td>0.052571</td>\n",
       "      <td>...</td>\n",
       "      <td>1.012925</td>\n",
       "      <td>FIRE 3</td>\n",
       "      <td>0.0</td>\n",
       "      <td>2.0</td>\n",
       "      <td>2.0</td>\n",
       "      <td>60.0</td>\n",
       "      <td>0.0</td>\n",
       "      <td>0.0</td>\n",
       "      <td>3.0</td>\n",
       "      <td>1.0</td>\n",
       "    </tr>\n",
       "    <tr>\n",
       "      <th>1</th>\n",
       "      <td>4</td>\n",
       "      <td>0.049146</td>\n",
       "      <td>0.000000</td>\n",
       "      <td>0.121825</td>\n",
       "      <td>0.076978</td>\n",
       "      <td>0.0</td>\n",
       "      <td>0.153331</td>\n",
       "      <td>0.051057</td>\n",
       "      <td>0.068564</td>\n",
       "      <td>0.059623</td>\n",
       "      <td>...</td>\n",
       "      <td>1.018143</td>\n",
       "      <td>FIRE 3</td>\n",
       "      <td>0.0</td>\n",
       "      <td>2.0</td>\n",
       "      <td>1.0</td>\n",
       "      <td>58.0</td>\n",
       "      <td>0.0</td>\n",
       "      <td>0.0</td>\n",
       "      <td>3.0</td>\n",
       "      <td>1.0</td>\n",
       "    </tr>\n",
       "    <tr>\n",
       "      <th>2</th>\n",
       "      <td>5</td>\n",
       "      <td>0.003186</td>\n",
       "      <td>0.000000</td>\n",
       "      <td>0.162668</td>\n",
       "      <td>0.042196</td>\n",
       "      <td>0.0</td>\n",
       "      <td>0.240454</td>\n",
       "      <td>0.000000</td>\n",
       "      <td>0.000000</td>\n",
       "      <td>0.018316</td>\n",
       "      <td>...</td>\n",
       "      <td>1.029813</td>\n",
       "      <td>FIRE 3</td>\n",
       "      <td>0.0</td>\n",
       "      <td>2.0</td>\n",
       "      <td>2.0</td>\n",
       "      <td>54.0</td>\n",
       "      <td>0.0</td>\n",
       "      <td>0.0</td>\n",
       "      <td>1.0</td>\n",
       "      <td>1.0</td>\n",
       "    </tr>\n",
       "    <tr>\n",
       "      <th>3</th>\n",
       "      <td>9</td>\n",
       "      <td>0.067346</td>\n",
       "      <td>0.000000</td>\n",
       "      <td>0.097330</td>\n",
       "      <td>0.072327</td>\n",
       "      <td>0.0</td>\n",
       "      <td>0.168887</td>\n",
       "      <td>0.000000</td>\n",
       "      <td>0.002431</td>\n",
       "      <td>0.067972</td>\n",
       "      <td>...</td>\n",
       "      <td>0.986058</td>\n",
       "      <td>FIRE 3</td>\n",
       "      <td>1.0</td>\n",
       "      <td>1.0</td>\n",
       "      <td>1.0</td>\n",
       "      <td>61.0</td>\n",
       "      <td>0.0</td>\n",
       "      <td>1.0</td>\n",
       "      <td>6.0</td>\n",
       "      <td>1.0</td>\n",
       "    </tr>\n",
       "    <tr>\n",
       "      <th>4</th>\n",
       "      <td>10</td>\n",
       "      <td>0.000000</td>\n",
       "      <td>0.000000</td>\n",
       "      <td>0.105039</td>\n",
       "      <td>0.066233</td>\n",
       "      <td>0.0</td>\n",
       "      <td>0.249715</td>\n",
       "      <td>0.074691</td>\n",
       "      <td>0.035303</td>\n",
       "      <td>0.085112</td>\n",
       "      <td>...</td>\n",
       "      <td>1.020998</td>\n",
       "      <td>FIRE 3</td>\n",
       "      <td>1.0</td>\n",
       "      <td>1.0</td>\n",
       "      <td>1.0</td>\n",
       "      <td>74.0</td>\n",
       "      <td>0.0</td>\n",
       "      <td>1.0</td>\n",
       "      <td>1.0</td>\n",
       "      <td>1.0</td>\n",
       "    </tr>\n",
       "    <tr>\n",
       "      <th>5</th>\n",
       "      <td>11</td>\n",
       "      <td>0.026077</td>\n",
       "      <td>0.036179</td>\n",
       "      <td>0.088607</td>\n",
       "      <td>0.143028</td>\n",
       "      <td>0.0</td>\n",
       "      <td>0.234585</td>\n",
       "      <td>0.000000</td>\n",
       "      <td>0.072747</td>\n",
       "      <td>0.070541</td>\n",
       "      <td>...</td>\n",
       "      <td>0.997350</td>\n",
       "      <td>FIRE 3</td>\n",
       "      <td>0.0</td>\n",
       "      <td>2.0</td>\n",
       "      <td>2.0</td>\n",
       "      <td>71.0</td>\n",
       "      <td>1.0</td>\n",
       "      <td>0.0</td>\n",
       "      <td>3.0</td>\n",
       "      <td>1.0</td>\n",
       "    </tr>\n",
       "    <tr>\n",
       "      <th>6</th>\n",
       "      <td>12</td>\n",
       "      <td>0.065798</td>\n",
       "      <td>0.000000</td>\n",
       "      <td>0.118399</td>\n",
       "      <td>0.111458</td>\n",
       "      <td>0.0</td>\n",
       "      <td>0.281396</td>\n",
       "      <td>0.000000</td>\n",
       "      <td>0.000000</td>\n",
       "      <td>0.069544</td>\n",
       "      <td>...</td>\n",
       "      <td>0.974543</td>\n",
       "      <td>FIRE 3</td>\n",
       "      <td>1.0</td>\n",
       "      <td>1.0</td>\n",
       "      <td>1.0</td>\n",
       "      <td>73.0</td>\n",
       "      <td>1.0</td>\n",
       "      <td>1.0</td>\n",
       "      <td>1.0</td>\n",
       "      <td>1.0</td>\n",
       "    </tr>\n",
       "    <tr>\n",
       "      <th>7</th>\n",
       "      <td>15</td>\n",
       "      <td>0.010223</td>\n",
       "      <td>0.000000</td>\n",
       "      <td>0.186072</td>\n",
       "      <td>0.193724</td>\n",
       "      <td>0.0</td>\n",
       "      <td>0.283032</td>\n",
       "      <td>0.000000</td>\n",
       "      <td>0.000000</td>\n",
       "      <td>0.144012</td>\n",
       "      <td>...</td>\n",
       "      <td>1.044811</td>\n",
       "      <td>FIRE 3</td>\n",
       "      <td>1.0</td>\n",
       "      <td>1.0</td>\n",
       "      <td>1.0</td>\n",
       "      <td>68.0</td>\n",
       "      <td>1.0</td>\n",
       "      <td>1.0</td>\n",
       "      <td>1.0</td>\n",
       "      <td>1.0</td>\n",
       "    </tr>\n",
       "    <tr>\n",
       "      <th>8</th>\n",
       "      <td>16</td>\n",
       "      <td>0.000000</td>\n",
       "      <td>0.013582</td>\n",
       "      <td>0.056297</td>\n",
       "      <td>0.080645</td>\n",
       "      <td>0.0</td>\n",
       "      <td>0.336947</td>\n",
       "      <td>0.000000</td>\n",
       "      <td>0.035983</td>\n",
       "      <td>0.057663</td>\n",
       "      <td>...</td>\n",
       "      <td>1.017739</td>\n",
       "      <td>FIRE 3</td>\n",
       "      <td>1.0</td>\n",
       "      <td>1.0</td>\n",
       "      <td>1.0</td>\n",
       "      <td>42.0</td>\n",
       "      <td>0.0</td>\n",
       "      <td>1.0</td>\n",
       "      <td>6.0</td>\n",
       "      <td>1.0</td>\n",
       "    </tr>\n",
       "    <tr>\n",
       "      <th>9</th>\n",
       "      <td>19</td>\n",
       "      <td>0.012503</td>\n",
       "      <td>0.000000</td>\n",
       "      <td>0.225200</td>\n",
       "      <td>0.095537</td>\n",
       "      <td>0.0</td>\n",
       "      <td>0.286720</td>\n",
       "      <td>0.038306</td>\n",
       "      <td>0.000000</td>\n",
       "      <td>0.146023</td>\n",
       "      <td>...</td>\n",
       "      <td>1.022673</td>\n",
       "      <td>FIRE 3</td>\n",
       "      <td>0.0</td>\n",
       "      <td>2.0</td>\n",
       "      <td>2.0</td>\n",
       "      <td>64.0</td>\n",
       "      <td>1.0</td>\n",
       "      <td>0.0</td>\n",
       "      <td>3.0</td>\n",
       "      <td>1.0</td>\n",
       "    </tr>\n",
       "  </tbody>\n",
       "</table>\n",
       "<p>10 rows × 35 columns</p>\n",
       "</div>"
      ],
      "text/plain": [
       "   pat_nr  B cells naive  B cells memory  Plasma cells  T cells CD8  \\\n",
       "0       1       0.040607        0.000000      0.209086     0.122856   \n",
       "1       4       0.049146        0.000000      0.121825     0.076978   \n",
       "2       5       0.003186        0.000000      0.162668     0.042196   \n",
       "3       9       0.067346        0.000000      0.097330     0.072327   \n",
       "4      10       0.000000        0.000000      0.105039     0.066233   \n",
       "5      11       0.026077        0.036179      0.088607     0.143028   \n",
       "6      12       0.065798        0.000000      0.118399     0.111458   \n",
       "7      15       0.010223        0.000000      0.186072     0.193724   \n",
       "8      16       0.000000        0.013582      0.056297     0.080645   \n",
       "9      19       0.012503        0.000000      0.225200     0.095537   \n",
       "\n",
       "   T cells CD4 naive  T cells CD4 memory resting  \\\n",
       "0                0.0                    0.088533   \n",
       "1                0.0                    0.153331   \n",
       "2                0.0                    0.240454   \n",
       "3                0.0                    0.168887   \n",
       "4                0.0                    0.249715   \n",
       "5                0.0                    0.234585   \n",
       "6                0.0                    0.281396   \n",
       "7                0.0                    0.283032   \n",
       "8                0.0                    0.336947   \n",
       "9                0.0                    0.286720   \n",
       "\n",
       "   T cells CD4 memory activated  T cells follicular helper  \\\n",
       "0                      0.000000                   0.111784   \n",
       "1                      0.051057                   0.068564   \n",
       "2                      0.000000                   0.000000   \n",
       "3                      0.000000                   0.002431   \n",
       "4                      0.074691                   0.035303   \n",
       "5                      0.000000                   0.072747   \n",
       "6                      0.000000                   0.000000   \n",
       "7                      0.000000                   0.000000   \n",
       "8                      0.000000                   0.035983   \n",
       "9                      0.038306                   0.000000   \n",
       "\n",
       "   T cells regulatory (Tregs)  ...      RMSE   study  CET1_REST0  arm  sex  \\\n",
       "0                    0.052571  ...  1.012925  FIRE 3         0.0  2.0  2.0   \n",
       "1                    0.059623  ...  1.018143  FIRE 3         0.0  2.0  1.0   \n",
       "2                    0.018316  ...  1.029813  FIRE 3         0.0  2.0  2.0   \n",
       "3                    0.067972  ...  0.986058  FIRE 3         1.0  1.0  1.0   \n",
       "4                    0.085112  ...  1.020998  FIRE 3         1.0  1.0  1.0   \n",
       "5                    0.070541  ...  0.997350  FIRE 3         0.0  2.0  2.0   \n",
       "6                    0.069544  ...  0.974543  FIRE 3         1.0  1.0  1.0   \n",
       "7                    0.144012  ...  1.044811  FIRE 3         1.0  1.0  1.0   \n",
       "8                    0.057663  ...  1.017739  FIRE 3         1.0  1.0  1.0   \n",
       "9                    0.146023  ...  1.022673  FIRE 3         0.0  2.0  2.0   \n",
       "\n",
       "    age  ecog  skin_rash  MOL_SG  RNA_Probe  \n",
       "0  60.0   0.0        0.0     3.0        1.0  \n",
       "1  58.0   0.0        0.0     3.0        1.0  \n",
       "2  54.0   0.0        0.0     1.0        1.0  \n",
       "3  61.0   0.0        1.0     6.0        1.0  \n",
       "4  74.0   0.0        1.0     1.0        1.0  \n",
       "5  71.0   1.0        0.0     3.0        1.0  \n",
       "6  73.0   1.0        1.0     1.0        1.0  \n",
       "7  68.0   1.0        1.0     1.0        1.0  \n",
       "8  42.0   0.0        1.0     6.0        1.0  \n",
       "9  64.0   1.0        0.0     3.0        1.0  \n",
       "\n",
       "[10 rows x 35 columns]"
      ]
     },
     "execution_count": 18,
     "metadata": {},
     "output_type": "execute_result"
    }
   ],
   "source": [
    "immune_clinical.iloc[:10,:35]"
   ]
  },
  {
   "cell_type": "code",
   "execution_count": 19,
   "id": "1c76f90f",
   "metadata": {},
   "outputs": [
    {
     "data": {
      "text/plain": [
       "pat_nr                            0\n",
       "B cells naive                    92\n",
       "B cells memory                  358\n",
       "Plasma cells                      2\n",
       "T cells CD8                       2\n",
       "T cells CD4 naive               438\n",
       "T cells CD4 memory resting        2\n",
       "T cells CD4 memory activated    321\n",
       "T cells follicular helper       167\n",
       "T cells regulatory (Tregs)       42\n",
       "T cells gamma delta             437\n",
       "NK cells resting                100\n",
       "NK cells activated              321\n",
       "Monocytes                       137\n",
       "Macrophages M0                  228\n",
       "Macrophages M1                  104\n",
       "Macrophages M2                   10\n",
       "Dendritic cells resting         205\n",
       "Dendritic cells activated       328\n",
       "Mast cells resting              273\n",
       "Mast cells activated             68\n",
       "Eosinophils                     435\n",
       "Neutrophils                      21\n",
       "P-value                          29\n",
       "Correlation                       0\n",
       "RMSE                              0\n",
       "study                             0\n",
       "CET1_REST0                      224\n",
       "arm                               0\n",
       "sex                               0\n",
       "dtype: int64"
      ]
     },
     "execution_count": 19,
     "metadata": {},
     "output_type": "execute_result"
    }
   ],
   "source": [
    "cdf.isin([0]).sum(axis=0).head(30)\n"
   ]
  },
  {
   "cell_type": "code",
   "execution_count": 65,
   "id": "4ee28fa4",
   "metadata": {},
   "outputs": [],
   "source": [
    "cdf_arm_1 = cdf[cdf.arm == 1.0]"
   ]
  },
  {
   "cell_type": "code",
   "execution_count": 20,
   "id": "3fd95b3b",
   "metadata": {},
   "outputs": [],
   "source": [
    "cdf1 = cdf[cdf.skin_rash == 1.0]"
   ]
  },
  {
   "cell_type": "code",
   "execution_count": 21,
   "id": "5b39155c",
   "metadata": {},
   "outputs": [],
   "source": [
    "cetux_rash = cdf1[cdf1.arm == 1.0]"
   ]
  },
  {
   "cell_type": "code",
   "execution_count": 22,
   "id": "50272ee3",
   "metadata": {},
   "outputs": [
    {
     "data": {
      "text/plain": [
       "(109, 62)"
      ]
     },
     "execution_count": 22,
     "metadata": {},
     "output_type": "execute_result"
    }
   ],
   "source": [
    "cetux_rash.shape"
   ]
  },
  {
   "cell_type": "code",
   "execution_count": 23,
   "id": "723b067c",
   "metadata": {},
   "outputs": [
    {
     "data": {
      "text/plain": [
       "Index(['pat_nr', 'B cells naive', 'B cells memory', 'Plasma cells',\n",
       "       'T cells CD8', 'T cells CD4 naive', 'T cells CD4 memory resting',\n",
       "       'T cells CD4 memory activated', 'T cells follicular helper',\n",
       "       'T cells regulatory (Tregs)', 'T cells gamma delta', 'NK cells resting',\n",
       "       'NK cells activated', 'Monocytes', 'Macrophages M0', 'Macrophages M1',\n",
       "       'Macrophages M2', 'Dendritic cells resting',\n",
       "       'Dendritic cells activated', 'Mast cells resting',\n",
       "       'Mast cells activated', 'Eosinophils', 'Neutrophils', 'P-value',\n",
       "       'Correlation', 'RMSE', 'study', 'CET1_REST0', 'arm', 'sex', 'age',\n",
       "       'ecog', 'skin_rash', 'MOL_SG', 'RNA_Probe', 'predictedCMS',\n",
       "       'nearestCMS', 'detaiL_primloc', 'primeloc_side', 'liver', 'lung',\n",
       "       'LKMETS', 'PERITONEAL', 'other', 'liver_only', 'no_organs', 'secresec',\n",
       "       'pfs', 'pfs_time_mo', 'os', 'os_time_mo', 'bor1', 'orr1', 'dpr1',\n",
       "       'ets_cat', 'SYNCH_META', 'PRIMARY_RES', 'RADIOVORHER', 'LK', 'AP',\n",
       "       'CTX_ADJ', 'filter_$'],\n",
       "      dtype='object')"
      ]
     },
     "execution_count": 23,
     "metadata": {},
     "output_type": "execute_result"
    }
   ],
   "source": [
    "cetux_rash.columns"
   ]
  },
  {
   "cell_type": "code",
   "execution_count": 24,
   "id": "a4cf3e0c",
   "metadata": {
    "scrolled": true
   },
   "outputs": [],
   "source": [
    "cetux_rash = cetux_rash.drop(['pat_nr','arm', 'ecog', 'skin_rash', 'P-value', 'Correlation', 'RMSE', 'study', 'CET1_REST0', 'MOL_SG', 'RNA_Probe', 'predictedCMS',\n",
    "       'nearestCMS', 'detaiL_primloc', 'primeloc_side', 'liver', 'lung',\n",
    "       'LKMETS', 'PERITONEAL', 'other', 'liver_only', 'no_organs', 'secresec',\n",
    "       'pfs', 'pfs_time_mo', 'os', 'os_time_mo', 'bor1', 'orr1', 'dpr1',\n",
    "       'ets_cat', 'SYNCH_META', 'PRIMARY_RES', 'RADIOVORHER', 'LK', 'AP',\n",
    "       'CTX_ADJ', 'filter_$'], axis = 1)"
   ]
  },
  {
   "cell_type": "code",
   "execution_count": 25,
   "id": "6cd8c76c",
   "metadata": {},
   "outputs": [
    {
     "data": {
      "text/html": [
       "<div>\n",
       "<style scoped>\n",
       "    .dataframe tbody tr th:only-of-type {\n",
       "        vertical-align: middle;\n",
       "    }\n",
       "\n",
       "    .dataframe tbody tr th {\n",
       "        vertical-align: top;\n",
       "    }\n",
       "\n",
       "    .dataframe thead th {\n",
       "        text-align: right;\n",
       "    }\n",
       "</style>\n",
       "<table border=\"1\" class=\"dataframe\">\n",
       "  <thead>\n",
       "    <tr style=\"text-align: right;\">\n",
       "      <th></th>\n",
       "      <th>B cells naive</th>\n",
       "      <th>B cells memory</th>\n",
       "      <th>Plasma cells</th>\n",
       "      <th>T cells CD8</th>\n",
       "      <th>T cells CD4 naive</th>\n",
       "      <th>T cells CD4 memory resting</th>\n",
       "      <th>T cells CD4 memory activated</th>\n",
       "      <th>T cells follicular helper</th>\n",
       "      <th>T cells regulatory (Tregs)</th>\n",
       "      <th>T cells gamma delta</th>\n",
       "      <th>...</th>\n",
       "      <th>Macrophages M1</th>\n",
       "      <th>Macrophages M2</th>\n",
       "      <th>Dendritic cells resting</th>\n",
       "      <th>Dendritic cells activated</th>\n",
       "      <th>Mast cells resting</th>\n",
       "      <th>Mast cells activated</th>\n",
       "      <th>Eosinophils</th>\n",
       "      <th>Neutrophils</th>\n",
       "      <th>sex</th>\n",
       "      <th>age</th>\n",
       "    </tr>\n",
       "  </thead>\n",
       "  <tbody>\n",
       "    <tr>\n",
       "      <th>3</th>\n",
       "      <td>0.067346</td>\n",
       "      <td>0.000000</td>\n",
       "      <td>0.097330</td>\n",
       "      <td>0.072327</td>\n",
       "      <td>0.0</td>\n",
       "      <td>0.168887</td>\n",
       "      <td>0.000000</td>\n",
       "      <td>0.002431</td>\n",
       "      <td>0.067972</td>\n",
       "      <td>0.094723</td>\n",
       "      <td>...</td>\n",
       "      <td>0.061996</td>\n",
       "      <td>0.019745</td>\n",
       "      <td>0.071104</td>\n",
       "      <td>0.000000</td>\n",
       "      <td>0.0</td>\n",
       "      <td>0.188876</td>\n",
       "      <td>0.000000</td>\n",
       "      <td>0.074924</td>\n",
       "      <td>1.0</td>\n",
       "      <td>61.0</td>\n",
       "    </tr>\n",
       "    <tr>\n",
       "      <th>4</th>\n",
       "      <td>0.000000</td>\n",
       "      <td>0.000000</td>\n",
       "      <td>0.105039</td>\n",
       "      <td>0.066233</td>\n",
       "      <td>0.0</td>\n",
       "      <td>0.249715</td>\n",
       "      <td>0.074691</td>\n",
       "      <td>0.035303</td>\n",
       "      <td>0.085112</td>\n",
       "      <td>0.000000</td>\n",
       "      <td>...</td>\n",
       "      <td>0.000000</td>\n",
       "      <td>0.065631</td>\n",
       "      <td>0.000000</td>\n",
       "      <td>0.009239</td>\n",
       "      <td>0.0</td>\n",
       "      <td>0.134230</td>\n",
       "      <td>0.000000</td>\n",
       "      <td>0.070198</td>\n",
       "      <td>1.0</td>\n",
       "      <td>74.0</td>\n",
       "    </tr>\n",
       "    <tr>\n",
       "      <th>6</th>\n",
       "      <td>0.065798</td>\n",
       "      <td>0.000000</td>\n",
       "      <td>0.118399</td>\n",
       "      <td>0.111458</td>\n",
       "      <td>0.0</td>\n",
       "      <td>0.281396</td>\n",
       "      <td>0.000000</td>\n",
       "      <td>0.000000</td>\n",
       "      <td>0.069544</td>\n",
       "      <td>0.000000</td>\n",
       "      <td>...</td>\n",
       "      <td>0.121340</td>\n",
       "      <td>0.005364</td>\n",
       "      <td>0.024802</td>\n",
       "      <td>0.000000</td>\n",
       "      <td>0.0</td>\n",
       "      <td>0.086495</td>\n",
       "      <td>0.032828</td>\n",
       "      <td>0.051155</td>\n",
       "      <td>1.0</td>\n",
       "      <td>73.0</td>\n",
       "    </tr>\n",
       "    <tr>\n",
       "      <th>7</th>\n",
       "      <td>0.010223</td>\n",
       "      <td>0.000000</td>\n",
       "      <td>0.186072</td>\n",
       "      <td>0.193724</td>\n",
       "      <td>0.0</td>\n",
       "      <td>0.283032</td>\n",
       "      <td>0.000000</td>\n",
       "      <td>0.000000</td>\n",
       "      <td>0.144012</td>\n",
       "      <td>0.000000</td>\n",
       "      <td>...</td>\n",
       "      <td>0.018321</td>\n",
       "      <td>0.014802</td>\n",
       "      <td>0.000000</td>\n",
       "      <td>0.000000</td>\n",
       "      <td>0.0</td>\n",
       "      <td>0.081489</td>\n",
       "      <td>0.000000</td>\n",
       "      <td>0.004522</td>\n",
       "      <td>1.0</td>\n",
       "      <td>68.0</td>\n",
       "    </tr>\n",
       "    <tr>\n",
       "      <th>8</th>\n",
       "      <td>0.000000</td>\n",
       "      <td>0.013582</td>\n",
       "      <td>0.056297</td>\n",
       "      <td>0.080645</td>\n",
       "      <td>0.0</td>\n",
       "      <td>0.336947</td>\n",
       "      <td>0.000000</td>\n",
       "      <td>0.035983</td>\n",
       "      <td>0.057663</td>\n",
       "      <td>0.000000</td>\n",
       "      <td>...</td>\n",
       "      <td>0.000000</td>\n",
       "      <td>0.167292</td>\n",
       "      <td>0.079572</td>\n",
       "      <td>0.010232</td>\n",
       "      <td>0.0</td>\n",
       "      <td>0.045427</td>\n",
       "      <td>0.000000</td>\n",
       "      <td>0.095906</td>\n",
       "      <td>1.0</td>\n",
       "      <td>42.0</td>\n",
       "    </tr>\n",
       "  </tbody>\n",
       "</table>\n",
       "<p>5 rows × 24 columns</p>\n",
       "</div>"
      ],
      "text/plain": [
       "   B cells naive  B cells memory  Plasma cells  T cells CD8  \\\n",
       "3       0.067346        0.000000      0.097330     0.072327   \n",
       "4       0.000000        0.000000      0.105039     0.066233   \n",
       "6       0.065798        0.000000      0.118399     0.111458   \n",
       "7       0.010223        0.000000      0.186072     0.193724   \n",
       "8       0.000000        0.013582      0.056297     0.080645   \n",
       "\n",
       "   T cells CD4 naive  T cells CD4 memory resting  \\\n",
       "3                0.0                    0.168887   \n",
       "4                0.0                    0.249715   \n",
       "6                0.0                    0.281396   \n",
       "7                0.0                    0.283032   \n",
       "8                0.0                    0.336947   \n",
       "\n",
       "   T cells CD4 memory activated  T cells follicular helper  \\\n",
       "3                      0.000000                   0.002431   \n",
       "4                      0.074691                   0.035303   \n",
       "6                      0.000000                   0.000000   \n",
       "7                      0.000000                   0.000000   \n",
       "8                      0.000000                   0.035983   \n",
       "\n",
       "   T cells regulatory (Tregs)  T cells gamma delta  ...  Macrophages M1  \\\n",
       "3                    0.067972             0.094723  ...        0.061996   \n",
       "4                    0.085112             0.000000  ...        0.000000   \n",
       "6                    0.069544             0.000000  ...        0.121340   \n",
       "7                    0.144012             0.000000  ...        0.018321   \n",
       "8                    0.057663             0.000000  ...        0.000000   \n",
       "\n",
       "   Macrophages M2  Dendritic cells resting  Dendritic cells activated  \\\n",
       "3        0.019745                 0.071104                   0.000000   \n",
       "4        0.065631                 0.000000                   0.009239   \n",
       "6        0.005364                 0.024802                   0.000000   \n",
       "7        0.014802                 0.000000                   0.000000   \n",
       "8        0.167292                 0.079572                   0.010232   \n",
       "\n",
       "   Mast cells resting  Mast cells activated  Eosinophils  Neutrophils  sex  \\\n",
       "3                 0.0              0.188876     0.000000     0.074924  1.0   \n",
       "4                 0.0              0.134230     0.000000     0.070198  1.0   \n",
       "6                 0.0              0.086495     0.032828     0.051155  1.0   \n",
       "7                 0.0              0.081489     0.000000     0.004522  1.0   \n",
       "8                 0.0              0.045427     0.000000     0.095906  1.0   \n",
       "\n",
       "    age  \n",
       "3  61.0  \n",
       "4  74.0  \n",
       "6  73.0  \n",
       "7  68.0  \n",
       "8  42.0  \n",
       "\n",
       "[5 rows x 24 columns]"
      ]
     },
     "execution_count": 25,
     "metadata": {},
     "output_type": "execute_result"
    }
   ],
   "source": [
    "cetux_rash.head()"
   ]
  },
  {
   "cell_type": "code",
   "execution_count": 26,
   "id": "ded61003",
   "metadata": {},
   "outputs": [
    {
     "data": {
      "text/plain": [
       "3      0.000000\n",
       "4      0.000000\n",
       "6      0.000000\n",
       "7      0.000000\n",
       "8      0.013582\n",
       "         ...   \n",
       "422    0.000000\n",
       "433    0.000000\n",
       "435    0.000000\n",
       "436    0.000000\n",
       "441    0.000000\n",
       "Name: B cells memory, Length: 109, dtype: float64"
      ]
     },
     "execution_count": 26,
     "metadata": {},
     "output_type": "execute_result"
    }
   ],
   "source": [
    "cetux_rash.iloc[:, 1]"
   ]
  },
  {
   "cell_type": "code",
   "execution_count": 27,
   "id": "1968f03b",
   "metadata": {},
   "outputs": [
    {
     "data": {
      "image/png": "[encoded data removed]",
      "text/plain": [
       "<Figure size 432x288 with 1 Axes>"
      ]
     },
     "metadata": {
      "needs_background": "light"
     },
     "output_type": "display_data"
    },
    {
     "data": {
      "image/png": "[encoded data removed]",
      "text/plain": [
       "<Figure size 432x288 with 1 Axes>"
      ]
     },
     "metadata": {
      "needs_background": "light"
     },
     "output_type": "display_data"
    },
    {
     "data": {
      "image/png": "[encoded data removed]",
      "text/plain": [
       "<Figure size 432x288 with 1 Axes>"
      ]
     },
     "metadata": {
      "needs_background": "light"
     },
     "output_type": "display_data"
    },
    {
     "data": {
      "image/png": "[encoded data removed]",
      "text/plain": [
       "<Figure size 432x288 with 1 Axes>"
      ]
     },
     "metadata": {
      "needs_background": "light"
     },
     "output_type": "display_data"
    },
    {
     "data": {
      "image/png": "[encoded data removed]",
      "text/plain": [
       "<Figure size 432x288 with 1 Axes>"
      ]
     },
     "metadata": {
      "needs_background": "light"
     },
     "output_type": "display_data"
    },
    {
     "data": {
      "image/png": "[encoded data removed]",
      "text/plain": [
       "<Figure size 432x288 with 1 Axes>"
      ]
     },
     "metadata": {
      "needs_background": "light"
     },
     "output_type": "display_data"
    },
    {
     "data": {
      "image/png": "[encoded data removed]",
      "text/plain": [
       "<Figure size 432x288 with 1 Axes>"
      ]
     },
     "metadata": {
      "needs_background": "light"
     },
     "output_type": "display_data"
    },
    {
     "data": {
      "image/png": "[encoded data removed]",
      "text/plain": [
       "<Figure size 432x288 with 1 Axes>"
      ]
     },
     "metadata": {
      "needs_background": "light"
     },
     "output_type": "display_data"
    },
    {
     "data": {
      "image/png": "[encoded data removed]",
      "text/plain": [
       "<Figure size 432x288 with 1 Axes>"
      ]
     },
     "metadata": {
      "needs_background": "light"
     },
     "output_type": "display_data"
    },
    {
     "data": {
      "image/png": "[encoded data removed]",
      "text/plain": [
       "<Figure size 432x288 with 1 Axes>"
      ]
     },
     "metadata": {
      "needs_background": "light"
     },
     "output_type": "display_data"
    },
    {
     "data": {
      "image/png": "[encoded data removed]",
      "text/plain": [
       "<Figure size 432x288 with 1 Axes>"
      ]
     },
     "metadata": {
      "needs_background": "light"
     },
     "output_type": "display_data"
    },
    {
     "data": {
      "image/png": "[encoded data removed]",
      "text/plain": [
       "<Figure size 432x288 with 1 Axes>"
      ]
     },
     "metadata": {
      "needs_background": "light"
     },
     "output_type": "display_data"
    },
    {
     "data": {
      "image/png": "[encoded data removed]",
      "text/plain": [
       "<Figure size 432x288 with 1 Axes>"
      ]
     },
     "metadata": {
      "needs_background": "light"
     },
     "output_type": "display_data"
    },
    {
     "data": {
      "image/png": "[encoded data removed]",
      "text/plain": [
       "<Figure size 432x288 with 1 Axes>"
      ]
     },
     "metadata": {
      "needs_background": "light"
     },
     "output_type": "display_data"
    },
    {
     "data": {
      "image/png": "[encoded data removed]",
      "text/plain": [
       "<Figure size 432x288 with 1 Axes>"
      ]
     },
     "metadata": {
      "needs_background": "light"
     },
     "output_type": "display_data"
    },
    {
     "data": {
      "image/png": "[encoded data removed]",
      "text/plain": [
       "<Figure size 432x288 with 1 Axes>"
      ]
     },
     "metadata": {
      "needs_background": "light"
     },
     "output_type": "display_data"
    },
    {
     "data": {
      "image/png": "[encoded data removed]",
      "text/plain": [
       "<Figure size 432x288 with 1 Axes>"
      ]
     },
     "metadata": {
      "needs_background": "light"
     },
     "output_type": "display_data"
    },
    {
     "data": {
      "image/png": "[encoded data removed]",
      "text/plain": [
       "<Figure size 432x288 with 1 Axes>"
      ]
     },
     "metadata": {
      "needs_background": "light"
     },
     "output_type": "display_data"
    },
    {
     "data": {
      "image/png": "[encoded data removed]",
      "text/plain": [
       "<Figure size 432x288 with 1 Axes>"
      ]
     },
     "metadata": {
      "needs_background": "light"
     },
     "output_type": "display_data"
    },
    {
     "data": {
      "image/png": "[encoded data removed]",
      "text/plain": [
       "<Figure size 432x288 with 1 Axes>"
      ]
     },
     "metadata": {
      "needs_background": "light"
     },
     "output_type": "display_data"
    },
    {
     "data": {
      "image/png": "[encoded data removed]",
      "text/plain": [
       "<Figure size 432x288 with 1 Axes>"
      ]
     },
     "metadata": {
      "needs_background": "light"
     },
     "output_type": "display_data"
    }
   ],
   "source": [
    "import matplotlib.pyplot as plt\n",
    "\n",
    "for i in range(1,22):\n",
    "    plt.hist(cetux_rash.iloc[:, i], bins = 25)\n",
    "    plt.show()"
   ]
  },
  {
   "cell_type": "code",
   "execution_count": 28,
   "id": "b662acf9",
   "metadata": {},
   "outputs": [
    {
     "data": {
      "image/png": "[encoded data removed]",
      "text/plain": [
       "<Figure size 432x288 with 1 Axes>"
      ]
     },
     "metadata": {
      "needs_background": "light"
     },
     "output_type": "display_data"
    },
    {
     "data": {
      "image/png": "[encoded data removed]",
      "text/plain": [
       "<Figure size 432x288 with 1 Axes>"
      ]
     },
     "metadata": {
      "needs_background": "light"
     },
     "output_type": "display_data"
    },
    {
     "data": {
      "image/png": "[encoded data removed]",
      "text/plain": [
       "<Figure size 432x288 with 1 Axes>"
      ]
     },
     "metadata": {
      "needs_background": "light"
     },
     "output_type": "display_data"
    },
    {
     "data": {
      "image/png": "[encoded data removed]",
      "text/plain": [
       "<Figure size 432x288 with 1 Axes>"
      ]
     },
     "metadata": {
      "needs_background": "light"
     },
     "output_type": "display_data"
    },
    {
     "data": {
      "image/png": "[encoded data removed]",
      "text/plain": [
       "<Figure size 432x288 with 1 Axes>"
      ]
     },
     "metadata": {
      "needs_background": "light"
     },
     "output_type": "display_data"
    },
    {
     "data": {
      "image/png": "[encoded data removed]",
      "text/plain": [
       "<Figure size 432x288 with 1 Axes>"
      ]
     },
     "metadata": {
      "needs_background": "light"
     },
     "output_type": "display_data"
    },
    {
     "data": {
      "image/png": "[encoded data removed]",
      "text/plain": [
       "<Figure size 432x288 with 1 Axes>"
      ]
     },
     "metadata": {
      "needs_background": "light"
     },
     "output_type": "display_data"
    },
    {
     "data": {
      "image/png": "[encoded data removed]",
      "text/plain": [
       "<Figure size 432x288 with 1 Axes>"
      ]
     },
     "metadata": {
      "needs_background": "light"
     },
     "output_type": "display_data"
    },
    {
     "data": {
      "image/png": "[encoded data removed]",
      "text/plain": [
       "<Figure size 432x288 with 1 Axes>"
      ]
     },
     "metadata": {
      "needs_background": "light"
     },
     "output_type": "display_data"
    },
    {
     "data": {
      "image/png": "[encoded data removed]",
      "text/plain": [
       "<Figure size 432x288 with 1 Axes>"
      ]
     },
     "metadata": {
      "needs_background": "light"
     },
     "output_type": "display_data"
    },
    {
     "data": {
      "image/png": "[encoded data removed]",
      "text/plain": [
       "<Figure size 432x288 with 1 Axes>"
      ]
     },
     "metadata": {
      "needs_background": "light"
     },
     "output_type": "display_data"
    },
    {
     "data": {
      "image/png": "[encoded data removed]",
      "text/plain": [
       "<Figure size 432x288 with 1 Axes>"
      ]
     },
     "metadata": {
      "needs_background": "light"
     },
     "output_type": "display_data"
    },
    {
     "data": {
      "image/png": "[encoded data removed]",
      "text/plain": [
       "<Figure size 432x288 with 1 Axes>"
      ]
     },
     "metadata": {
      "needs_background": "light"
     },
     "output_type": "display_data"
    },
    {
     "data": {
      "image/png": "[encoded data removed]",
      "text/plain": [
       "<Figure size 432x288 with 1 Axes>"
      ]
     },
     "metadata": {
      "needs_background": "light"
     },
     "output_type": "display_data"
    },
    {
     "data": {
      "image/png": "[encoded data removed]",
      "text/plain": [
       "<Figure size 432x288 with 1 Axes>"
      ]
     },
     "metadata": {
      "needs_background": "light"
     },
     "output_type": "display_data"
    },
    {
     "data": {
      "image/png": "[encoded data removed]",
      "text/plain": [
       "<Figure size 432x288 with 1 Axes>"
      ]
     },
     "metadata": {
      "needs_background": "light"
     },
     "output_type": "display_data"
    },
    {
     "data": {
      "image/png": "[encoded data removed]",
      "text/plain": [
       "<Figure size 432x288 with 1 Axes>"
      ]
     },
     "metadata": {
      "needs_background": "light"
     },
     "output_type": "display_data"
    },
    {
     "data": {
      "image/png": "[encoded data removed]",
      "text/plain": [
       "<Figure size 432x288 with 1 Axes>"
      ]
     },
     "metadata": {
      "needs_background": "light"
     },
     "output_type": "display_data"
    },
    {
     "data": {
      "image/png": "[encoded data removed]",
      "text/plain": [
       "<Figure size 432x288 with 1 Axes>"
      ]
     },
     "metadata": {
      "needs_background": "light"
     },
     "output_type": "display_data"
    },
    {
     "data": {
      "image/png": "[encoded data removed]",
      "text/plain": [
       "<Figure size 432x288 with 1 Axes>"
      ]
     },
     "metadata": {
      "needs_background": "light"
     },
     "output_type": "display_data"
    },
    {
     "data": {
      "image/png": "[encoded data removed]",
      "text/plain": [
       "<Figure size 432x288 with 1 Axes>"
      ]
     },
     "metadata": {
      "needs_background": "light"
     },
     "output_type": "display_data"
    }
   ],
   "source": [
    "for i in range(1,22):\n",
    "    plt.boxplot(x = cetux_rash.iloc[:, i])\n",
    "    plt.show()"
   ]
  },
  {
   "cell_type": "code",
   "execution_count": 29,
   "id": "852b4a02",
   "metadata": {},
   "outputs": [
    {
     "data": {
      "text/html": [
       "<div>\n",
       "<style scoped>\n",
       "    .dataframe tbody tr th:only-of-type {\n",
       "        vertical-align: middle;\n",
       "    }\n",
       "\n",
       "    .dataframe tbody tr th {\n",
       "        vertical-align: top;\n",
       "    }\n",
       "\n",
       "    .dataframe thead th {\n",
       "        text-align: right;\n",
       "    }\n",
       "</style>\n",
       "<table border=\"1\" class=\"dataframe\">\n",
       "  <thead>\n",
       "    <tr style=\"text-align: right;\">\n",
       "      <th></th>\n",
       "      <th>B cells memory</th>\n",
       "      <th>Plasma cells</th>\n",
       "      <th>T cells CD8</th>\n",
       "      <th>T cells CD4 naive</th>\n",
       "      <th>T cells CD4 memory resting</th>\n",
       "      <th>T cells CD4 memory activated</th>\n",
       "      <th>T cells follicular helper</th>\n",
       "      <th>T cells regulatory (Tregs)</th>\n",
       "      <th>T cells gamma delta</th>\n",
       "      <th>NK cells resting</th>\n",
       "      <th>...</th>\n",
       "      <th>Macrophages M0</th>\n",
       "      <th>Macrophages M1</th>\n",
       "      <th>Macrophages M2</th>\n",
       "      <th>Dendritic cells resting</th>\n",
       "      <th>Dendritic cells activated</th>\n",
       "      <th>Mast cells resting</th>\n",
       "      <th>Mast cells activated</th>\n",
       "      <th>Eosinophils</th>\n",
       "      <th>Neutrophils</th>\n",
       "      <th>sex</th>\n",
       "    </tr>\n",
       "  </thead>\n",
       "  <tbody>\n",
       "    <tr>\n",
       "      <th>3</th>\n",
       "      <td>0.000000</td>\n",
       "      <td>0.097330</td>\n",
       "      <td>0.072327</td>\n",
       "      <td>0.0</td>\n",
       "      <td>0.168887</td>\n",
       "      <td>0.000000</td>\n",
       "      <td>0.002431</td>\n",
       "      <td>0.067972</td>\n",
       "      <td>0.094723</td>\n",
       "      <td>0.000000</td>\n",
       "      <td>...</td>\n",
       "      <td>0.012340</td>\n",
       "      <td>0.061996</td>\n",
       "      <td>0.019745</td>\n",
       "      <td>0.071104</td>\n",
       "      <td>0.000000</td>\n",
       "      <td>0.0</td>\n",
       "      <td>0.188876</td>\n",
       "      <td>0.000000</td>\n",
       "      <td>0.074924</td>\n",
       "      <td>1.0</td>\n",
       "    </tr>\n",
       "    <tr>\n",
       "      <th>4</th>\n",
       "      <td>0.000000</td>\n",
       "      <td>0.105039</td>\n",
       "      <td>0.066233</td>\n",
       "      <td>0.0</td>\n",
       "      <td>0.249715</td>\n",
       "      <td>0.074691</td>\n",
       "      <td>0.035303</td>\n",
       "      <td>0.085112</td>\n",
       "      <td>0.000000</td>\n",
       "      <td>0.073329</td>\n",
       "      <td>...</td>\n",
       "      <td>0.000000</td>\n",
       "      <td>0.000000</td>\n",
       "      <td>0.065631</td>\n",
       "      <td>0.000000</td>\n",
       "      <td>0.009239</td>\n",
       "      <td>0.0</td>\n",
       "      <td>0.134230</td>\n",
       "      <td>0.000000</td>\n",
       "      <td>0.070198</td>\n",
       "      <td>1.0</td>\n",
       "    </tr>\n",
       "    <tr>\n",
       "      <th>6</th>\n",
       "      <td>0.000000</td>\n",
       "      <td>0.118399</td>\n",
       "      <td>0.111458</td>\n",
       "      <td>0.0</td>\n",
       "      <td>0.281396</td>\n",
       "      <td>0.000000</td>\n",
       "      <td>0.000000</td>\n",
       "      <td>0.069544</td>\n",
       "      <td>0.000000</td>\n",
       "      <td>0.023171</td>\n",
       "      <td>...</td>\n",
       "      <td>0.008250</td>\n",
       "      <td>0.121340</td>\n",
       "      <td>0.005364</td>\n",
       "      <td>0.024802</td>\n",
       "      <td>0.000000</td>\n",
       "      <td>0.0</td>\n",
       "      <td>0.086495</td>\n",
       "      <td>0.032828</td>\n",
       "      <td>0.051155</td>\n",
       "      <td>1.0</td>\n",
       "    </tr>\n",
       "    <tr>\n",
       "      <th>7</th>\n",
       "      <td>0.000000</td>\n",
       "      <td>0.186072</td>\n",
       "      <td>0.193724</td>\n",
       "      <td>0.0</td>\n",
       "      <td>0.283032</td>\n",
       "      <td>0.000000</td>\n",
       "      <td>0.000000</td>\n",
       "      <td>0.144012</td>\n",
       "      <td>0.000000</td>\n",
       "      <td>0.056367</td>\n",
       "      <td>...</td>\n",
       "      <td>0.000000</td>\n",
       "      <td>0.018321</td>\n",
       "      <td>0.014802</td>\n",
       "      <td>0.000000</td>\n",
       "      <td>0.000000</td>\n",
       "      <td>0.0</td>\n",
       "      <td>0.081489</td>\n",
       "      <td>0.000000</td>\n",
       "      <td>0.004522</td>\n",
       "      <td>1.0</td>\n",
       "    </tr>\n",
       "    <tr>\n",
       "      <th>8</th>\n",
       "      <td>0.013582</td>\n",
       "      <td>0.056297</td>\n",
       "      <td>0.080645</td>\n",
       "      <td>0.0</td>\n",
       "      <td>0.336947</td>\n",
       "      <td>0.000000</td>\n",
       "      <td>0.035983</td>\n",
       "      <td>0.057663</td>\n",
       "      <td>0.000000</td>\n",
       "      <td>0.008972</td>\n",
       "      <td>...</td>\n",
       "      <td>0.011481</td>\n",
       "      <td>0.000000</td>\n",
       "      <td>0.167292</td>\n",
       "      <td>0.079572</td>\n",
       "      <td>0.010232</td>\n",
       "      <td>0.0</td>\n",
       "      <td>0.045427</td>\n",
       "      <td>0.000000</td>\n",
       "      <td>0.095906</td>\n",
       "      <td>1.0</td>\n",
       "    </tr>\n",
       "  </tbody>\n",
       "</table>\n",
       "<p>5 rows × 22 columns</p>\n",
       "</div>"
      ],
      "text/plain": [
       "   B cells memory  Plasma cells  T cells CD8  T cells CD4 naive  \\\n",
       "3        0.000000      0.097330     0.072327                0.0   \n",
       "4        0.000000      0.105039     0.066233                0.0   \n",
       "6        0.000000      0.118399     0.111458                0.0   \n",
       "7        0.000000      0.186072     0.193724                0.0   \n",
       "8        0.013582      0.056297     0.080645                0.0   \n",
       "\n",
       "   T cells CD4 memory resting  T cells CD4 memory activated  \\\n",
       "3                    0.168887                      0.000000   \n",
       "4                    0.249715                      0.074691   \n",
       "6                    0.281396                      0.000000   \n",
       "7                    0.283032                      0.000000   \n",
       "8                    0.336947                      0.000000   \n",
       "\n",
       "   T cells follicular helper  T cells regulatory (Tregs)  T cells gamma delta  \\\n",
       "3                   0.002431                    0.067972             0.094723   \n",
       "4                   0.035303                    0.085112             0.000000   \n",
       "6                   0.000000                    0.069544             0.000000   \n",
       "7                   0.000000                    0.144012             0.000000   \n",
       "8                   0.035983                    0.057663             0.000000   \n",
       "\n",
       "   NK cells resting  ...  Macrophages M0  Macrophages M1  Macrophages M2  \\\n",
       "3          0.000000  ...        0.012340        0.061996        0.019745   \n",
       "4          0.073329  ...        0.000000        0.000000        0.065631   \n",
       "6          0.023171  ...        0.008250        0.121340        0.005364   \n",
       "7          0.056367  ...        0.000000        0.018321        0.014802   \n",
       "8          0.008972  ...        0.011481        0.000000        0.167292   \n",
       "\n",
       "   Dendritic cells resting  Dendritic cells activated  Mast cells resting  \\\n",
       "3                 0.071104                   0.000000                 0.0   \n",
       "4                 0.000000                   0.009239                 0.0   \n",
       "6                 0.024802                   0.000000                 0.0   \n",
       "7                 0.000000                   0.000000                 0.0   \n",
       "8                 0.079572                   0.010232                 0.0   \n",
       "\n",
       "   Mast cells activated  Eosinophils  Neutrophils  sex  \n",
       "3              0.188876     0.000000     0.074924  1.0  \n",
       "4              0.134230     0.000000     0.070198  1.0  \n",
       "6              0.086495     0.032828     0.051155  1.0  \n",
       "7              0.081489     0.000000     0.004522  1.0  \n",
       "8              0.045427     0.000000     0.095906  1.0  \n",
       "\n",
       "[5 rows x 22 columns]"
      ]
     },
     "execution_count": 29,
     "metadata": {},
     "output_type": "execute_result"
    }
   ],
   "source": [
    "X = cetux_rash.iloc[:,1:23]\n",
    "X.head()"
   ]
  },
  {
   "cell_type": "code",
   "execution_count": 30,
   "id": "913d2980",
   "metadata": {},
   "outputs": [],
   "source": [
    "# from sklearn.model_selection import train_test_split\n",
    "# X = cetux_rash.iloc[:,1:23]\n",
    "# y = cdf[cdf.skin_rash == 1.0]\n",
    "\n",
    "# X_cetux_train, X_cetux_test, y_cetux_train, y_cetux_test = train_test_split(X,y, test_size=0.33, random_state=42)"
   ]
  },
  {
   "cell_type": "code",
   "execution_count": 31,
   "id": "6461ccc2",
   "metadata": {},
   "outputs": [],
   "source": [
    "cetux_rash_center_df = cetux_rash.drop(['age', 'sex'], axis = 1)"
   ]
  },
  {
   "cell_type": "code",
   "execution_count": 32,
   "id": "a1ebc195",
   "metadata": {},
   "outputs": [
    {
     "data": {
      "text/plain": [
       "KMeans(n_clusters=1)"
      ]
     },
     "execution_count": 32,
     "metadata": {},
     "output_type": "execute_result"
    }
   ],
   "source": [
    "km_cetux = KMeans(n_clusters=1)\n",
    "km_cetux.fit(cetux_rash_center_df)"
   ]
  },
  {
   "cell_type": "code",
   "execution_count": 33,
   "id": "38747de3",
   "metadata": {},
   "outputs": [],
   "source": [
    "cetux_rash_center = km_cetux.cluster_centers_"
   ]
  },
  {
   "cell_type": "code",
   "execution_count": 34,
   "id": "c994f8cb",
   "metadata": {},
   "outputs": [
    {
     "data": {
      "text/plain": [
       "array([[3.42784766e-02, 6.65168869e-03, 1.17726013e-01, 9.78473284e-02,\n",
       "        9.01877364e-05, 2.32926787e-01, 1.36162789e-02, 2.92744348e-02,\n",
       "        5.28295389e-02, 1.13617689e-03, 3.83165381e-02, 6.32147173e-03,\n",
       "        1.22842315e-02, 3.06675067e-02, 3.01615128e-02, 9.49077746e-02,\n",
       "        2.01521644e-02, 6.71108426e-03, 3.11696893e-02, 6.94492581e-02,\n",
       "        3.01178237e-04, 7.31806797e-02]])"
      ]
     },
     "execution_count": 34,
     "metadata": {},
     "output_type": "execute_result"
    }
   ],
   "source": [
    "cetux_rash_center"
   ]
  },
  {
   "cell_type": "code",
   "execution_count": 35,
   "id": "58400ff9",
   "metadata": {},
   "outputs": [],
   "source": [
    "cdf2 = cdf[cdf.skin_rash == 0.0]"
   ]
  },
  {
   "cell_type": "code",
   "execution_count": 36,
   "id": "17bc7a1f",
   "metadata": {},
   "outputs": [],
   "source": [
    "cetux_non_rash = cdf2[cdf2.arm == 1.0]"
   ]
  },
  {
   "cell_type": "code",
   "execution_count": 37,
   "id": "8f6e6205",
   "metadata": {},
   "outputs": [],
   "source": [
    "cetux_non_rash = cetux_non_rash.drop(['pat_nr', 'skin_rash', 'arm', 'ecog', 'P-value', 'Correlation', 'RMSE', 'study', 'CET1_REST0', 'MOL_SG', 'RNA_Probe', 'predictedCMS',\n",
    "       'nearestCMS', 'detaiL_primloc', 'primeloc_side', 'liver', 'lung',\n",
    "       'LKMETS', 'PERITONEAL', 'other', 'liver_only', 'no_organs', 'secresec',\n",
    "       'pfs', 'pfs_time_mo', 'os', 'os_time_mo', 'bor1', 'orr1', 'dpr1',\n",
    "       'ets_cat', 'SYNCH_META', 'PRIMARY_RES', 'RADIOVORHER', 'LK', 'AP',\n",
    "       'CTX_ADJ', 'filter_$'], axis = 1)"
   ]
  },
  {
   "cell_type": "code",
   "execution_count": 38,
   "id": "33733ccb",
   "metadata": {},
   "outputs": [
    {
     "data": {
      "text/html": [
       "<div>\n",
       "<style scoped>\n",
       "    .dataframe tbody tr th:only-of-type {\n",
       "        vertical-align: middle;\n",
       "    }\n",
       "\n",
       "    .dataframe tbody tr th {\n",
       "        vertical-align: top;\n",
       "    }\n",
       "\n",
       "    .dataframe thead th {\n",
       "        text-align: right;\n",
       "    }\n",
       "</style>\n",
       "<table border=\"1\" class=\"dataframe\">\n",
       "  <thead>\n",
       "    <tr style=\"text-align: right;\">\n",
       "      <th></th>\n",
       "      <th>B cells naive</th>\n",
       "      <th>B cells memory</th>\n",
       "      <th>Plasma cells</th>\n",
       "      <th>T cells CD8</th>\n",
       "      <th>T cells CD4 naive</th>\n",
       "      <th>T cells CD4 memory resting</th>\n",
       "      <th>T cells CD4 memory activated</th>\n",
       "      <th>T cells follicular helper</th>\n",
       "      <th>T cells regulatory (Tregs)</th>\n",
       "      <th>T cells gamma delta</th>\n",
       "      <th>...</th>\n",
       "      <th>Macrophages M1</th>\n",
       "      <th>Macrophages M2</th>\n",
       "      <th>Dendritic cells resting</th>\n",
       "      <th>Dendritic cells activated</th>\n",
       "      <th>Mast cells resting</th>\n",
       "      <th>Mast cells activated</th>\n",
       "      <th>Eosinophils</th>\n",
       "      <th>Neutrophils</th>\n",
       "      <th>sex</th>\n",
       "      <th>age</th>\n",
       "    </tr>\n",
       "  </thead>\n",
       "  <tbody>\n",
       "    <tr>\n",
       "      <th>10</th>\n",
       "      <td>0.049530</td>\n",
       "      <td>0.000000</td>\n",
       "      <td>0.185333</td>\n",
       "      <td>0.124473</td>\n",
       "      <td>0.0</td>\n",
       "      <td>0.241966</td>\n",
       "      <td>0.0</td>\n",
       "      <td>0.031856</td>\n",
       "      <td>0.054100</td>\n",
       "      <td>0.0</td>\n",
       "      <td>...</td>\n",
       "      <td>0.000000</td>\n",
       "      <td>0.175774</td>\n",
       "      <td>0.000000</td>\n",
       "      <td>0.000000</td>\n",
       "      <td>0.0</td>\n",
       "      <td>0.040112</td>\n",
       "      <td>0.0</td>\n",
       "      <td>0.048806</td>\n",
       "      <td>2.0</td>\n",
       "      <td>49.0</td>\n",
       "    </tr>\n",
       "    <tr>\n",
       "      <th>15</th>\n",
       "      <td>0.000000</td>\n",
       "      <td>0.029792</td>\n",
       "      <td>0.200235</td>\n",
       "      <td>0.120734</td>\n",
       "      <td>0.0</td>\n",
       "      <td>0.178058</td>\n",
       "      <td>0.0</td>\n",
       "      <td>0.000000</td>\n",
       "      <td>0.172792</td>\n",
       "      <td>0.0</td>\n",
       "      <td>...</td>\n",
       "      <td>0.000000</td>\n",
       "      <td>0.116743</td>\n",
       "      <td>0.001361</td>\n",
       "      <td>0.007247</td>\n",
       "      <td>0.0</td>\n",
       "      <td>0.077623</td>\n",
       "      <td>0.0</td>\n",
       "      <td>0.007017</td>\n",
       "      <td>2.0</td>\n",
       "      <td>64.0</td>\n",
       "    </tr>\n",
       "    <tr>\n",
       "      <th>16</th>\n",
       "      <td>0.053419</td>\n",
       "      <td>0.000000</td>\n",
       "      <td>0.105206</td>\n",
       "      <td>0.071937</td>\n",
       "      <td>0.0</td>\n",
       "      <td>0.279767</td>\n",
       "      <td>0.0</td>\n",
       "      <td>0.000000</td>\n",
       "      <td>0.124881</td>\n",
       "      <td>0.0</td>\n",
       "      <td>...</td>\n",
       "      <td>0.021117</td>\n",
       "      <td>0.023945</td>\n",
       "      <td>0.000000</td>\n",
       "      <td>0.000000</td>\n",
       "      <td>0.0</td>\n",
       "      <td>0.152788</td>\n",
       "      <td>0.0</td>\n",
       "      <td>0.039808</td>\n",
       "      <td>1.0</td>\n",
       "      <td>70.0</td>\n",
       "    </tr>\n",
       "    <tr>\n",
       "      <th>18</th>\n",
       "      <td>0.036119</td>\n",
       "      <td>0.000000</td>\n",
       "      <td>0.065692</td>\n",
       "      <td>0.172489</td>\n",
       "      <td>0.0</td>\n",
       "      <td>0.235964</td>\n",
       "      <td>0.0</td>\n",
       "      <td>0.055358</td>\n",
       "      <td>0.096636</td>\n",
       "      <td>0.0</td>\n",
       "      <td>...</td>\n",
       "      <td>0.064111</td>\n",
       "      <td>0.131185</td>\n",
       "      <td>0.000000</td>\n",
       "      <td>0.000000</td>\n",
       "      <td>0.0</td>\n",
       "      <td>0.067157</td>\n",
       "      <td>0.0</td>\n",
       "      <td>0.008884</td>\n",
       "      <td>1.0</td>\n",
       "      <td>49.0</td>\n",
       "    </tr>\n",
       "    <tr>\n",
       "      <th>28</th>\n",
       "      <td>0.086481</td>\n",
       "      <td>0.000000</td>\n",
       "      <td>0.082970</td>\n",
       "      <td>0.093883</td>\n",
       "      <td>0.0</td>\n",
       "      <td>0.237752</td>\n",
       "      <td>0.0</td>\n",
       "      <td>0.020846</td>\n",
       "      <td>0.047234</td>\n",
       "      <td>0.0</td>\n",
       "      <td>...</td>\n",
       "      <td>0.039795</td>\n",
       "      <td>0.184875</td>\n",
       "      <td>0.000000</td>\n",
       "      <td>0.000000</td>\n",
       "      <td>0.0</td>\n",
       "      <td>0.052266</td>\n",
       "      <td>0.0</td>\n",
       "      <td>0.069188</td>\n",
       "      <td>2.0</td>\n",
       "      <td>74.0</td>\n",
       "    </tr>\n",
       "  </tbody>\n",
       "</table>\n",
       "<p>5 rows × 24 columns</p>\n",
       "</div>"
      ],
      "text/plain": [
       "    B cells naive  B cells memory  Plasma cells  T cells CD8  \\\n",
       "10       0.049530        0.000000      0.185333     0.124473   \n",
       "15       0.000000        0.029792      0.200235     0.120734   \n",
       "16       0.053419        0.000000      0.105206     0.071937   \n",
       "18       0.036119        0.000000      0.065692     0.172489   \n",
       "28       0.086481        0.000000      0.082970     0.093883   \n",
       "\n",
       "    T cells CD4 naive  T cells CD4 memory resting  \\\n",
       "10                0.0                    0.241966   \n",
       "15                0.0                    0.178058   \n",
       "16                0.0                    0.279767   \n",
       "18                0.0                    0.235964   \n",
       "28                0.0                    0.237752   \n",
       "\n",
       "    T cells CD4 memory activated  T cells follicular helper  \\\n",
       "10                           0.0                   0.031856   \n",
       "15                           0.0                   0.000000   \n",
       "16                           0.0                   0.000000   \n",
       "18                           0.0                   0.055358   \n",
       "28                           0.0                   0.020846   \n",
       "\n",
       "    T cells regulatory (Tregs)  T cells gamma delta  ...  Macrophages M1  \\\n",
       "10                    0.054100                  0.0  ...        0.000000   \n",
       "15                    0.172792                  0.0  ...        0.000000   \n",
       "16                    0.124881                  0.0  ...        0.021117   \n",
       "18                    0.096636                  0.0  ...        0.064111   \n",
       "28                    0.047234                  0.0  ...        0.039795   \n",
       "\n",
       "    Macrophages M2  Dendritic cells resting  Dendritic cells activated  \\\n",
       "10        0.175774                 0.000000                   0.000000   \n",
       "15        0.116743                 0.001361                   0.007247   \n",
       "16        0.023945                 0.000000                   0.000000   \n",
       "18        0.131185                 0.000000                   0.000000   \n",
       "28        0.184875                 0.000000                   0.000000   \n",
       "\n",
       "    Mast cells resting  Mast cells activated  Eosinophils  Neutrophils  sex  \\\n",
       "10                 0.0              0.040112          0.0     0.048806  2.0   \n",
       "15                 0.0              0.077623          0.0     0.007017  2.0   \n",
       "16                 0.0              0.152788          0.0     0.039808  1.0   \n",
       "18                 0.0              0.067157          0.0     0.008884  1.0   \n",
       "28                 0.0              0.052266          0.0     0.069188  2.0   \n",
       "\n",
       "     age  \n",
       "10  49.0  \n",
       "15  64.0  \n",
       "16  70.0  \n",
       "18  49.0  \n",
       "28  74.0  \n",
       "\n",
       "[5 rows x 24 columns]"
      ]
     },
     "execution_count": 38,
     "metadata": {},
     "output_type": "execute_result"
    }
   ],
   "source": [
    "cetux_non_rash.head()"
   ]
  },
  {
   "cell_type": "code",
   "execution_count": 39,
   "id": "0453dcb5",
   "metadata": {},
   "outputs": [],
   "source": [
    "cetux_non_rash_center_df = cetux_rash.drop(['age', 'sex'], axis = 1)"
   ]
  },
  {
   "cell_type": "code",
   "execution_count": 40,
   "id": "8ba8de52",
   "metadata": {},
   "outputs": [
    {
     "data": {
      "text/plain": [
       "KMeans(n_clusters=1)"
      ]
     },
     "execution_count": 40,
     "metadata": {},
     "output_type": "execute_result"
    }
   ],
   "source": [
    "km_cetux_non = KMeans(n_clusters=1)\n",
    "km_cetux_non.fit(cetux_non_rash_center_df)"
   ]
  },
  {
   "cell_type": "code",
   "execution_count": 41,
   "id": "026bc610",
   "metadata": {},
   "outputs": [],
   "source": [
    "cetux_non_rash_center = km_cetux_non.cluster_centers_"
   ]
  },
  {
   "cell_type": "code",
   "execution_count": 42,
   "id": "af9299a1",
   "metadata": {},
   "outputs": [
    {
     "data": {
      "text/plain": [
       "array([[3.42784766e-02, 6.65168869e-03, 1.17726013e-01, 9.78473284e-02,\n",
       "        9.01877364e-05, 2.32926787e-01, 1.36162789e-02, 2.92744348e-02,\n",
       "        5.28295389e-02, 1.13617689e-03, 3.83165381e-02, 6.32147173e-03,\n",
       "        1.22842315e-02, 3.06675067e-02, 3.01615128e-02, 9.49077746e-02,\n",
       "        2.01521644e-02, 6.71108426e-03, 3.11696893e-02, 6.94492581e-02,\n",
       "        3.01178237e-04, 7.31806797e-02]])"
      ]
     },
     "execution_count": 42,
     "metadata": {},
     "output_type": "execute_result"
    }
   ],
   "source": [
    "cetux_non_rash_center"
   ]
  },
  {
   "cell_type": "code",
   "execution_count": 68,
   "id": "19744e67",
   "metadata": {},
   "outputs": [],
   "source": [
    "cdf3 = cdf[cdf.arm == 1.0]"
   ]
  },
  {
   "cell_type": "code",
   "execution_count": 69,
   "id": "349e3f39",
   "metadata": {},
   "outputs": [],
   "source": [
    "cetux_complete = cdf3.iloc[:,1:23]"
   ]
  },
  {
   "cell_type": "code",
   "execution_count": 70,
   "id": "67927dff",
   "metadata": {},
   "outputs": [
    {
     "data": {
      "text/plain": [
       "(218, 22)"
      ]
     },
     "execution_count": 70,
     "metadata": {},
     "output_type": "execute_result"
    }
   ],
   "source": [
    "cetux_complete.shape"
   ]
  },
  {
   "cell_type": "code",
   "execution_count": 72,
   "id": "f82bce84",
   "metadata": {},
   "outputs": [
    {
     "data": {
      "text/plain": [
       "KMeans(n_clusters=2)"
      ]
     },
     "execution_count": 72,
     "metadata": {},
     "output_type": "execute_result"
    }
   ],
   "source": [
    "km_cetux_com = KMeans(n_clusters=2)\n",
    "km_cetux_com.fit(cetux_complete)"
   ]
  },
  {
   "cell_type": "code",
   "execution_count": 73,
   "id": "dd1da854",
   "metadata": {
    "scrolled": true
   },
   "outputs": [
    {
     "data": {
      "text/plain": [
       "array([[3.24374317e-02, 4.87912765e-03, 1.01450093e-01, 1.03129848e-01,\n",
       "        1.08420217e-19, 2.63909019e-01, 1.17255399e-02, 2.71019044e-02,\n",
       "        4.73200974e-02, 2.55440117e-04, 2.13699963e-02, 1.23752492e-02,\n",
       "        1.32684533e-02, 1.77449828e-02, 4.03597438e-02, 1.28561428e-01,\n",
       "        2.31530108e-02, 5.80484081e-03, 6.05074604e-02, 3.26493615e-02,\n",
       "        2.19416186e-04, 5.17775559e-02],\n",
       "       [3.59787110e-02, 6.58875526e-03, 1.22657750e-01, 9.46691289e-02,\n",
       "        1.90392488e-04, 2.02274113e-01, 2.07176044e-02, 2.62368478e-02,\n",
       "        5.96731456e-02, 2.01981932e-03, 5.55086376e-02, 1.96025430e-03,\n",
       "        1.28412525e-02, 3.37685523e-02, 2.46467490e-02, 8.21133322e-02,\n",
       "        1.44906278e-02, 6.50621569e-03, 6.21356073e-03, 1.05923624e-01,\n",
       "        4.04787133e-04, 8.46161386e-02]])"
      ]
     },
     "execution_count": 73,
     "metadata": {},
     "output_type": "execute_result"
    }
   ],
   "source": [
    "km_cetux_com.cluster_centers_"
   ]
  },
  {
   "cell_type": "code",
   "execution_count": 76,
   "id": "83171dcb",
   "metadata": {},
   "outputs": [
    {
     "name": "stderr",
     "output_type": "stream",
     "text": [
      "/tmp/ipykernel_5495/3831615047.py:1: SettingWithCopyWarning: \n",
      "A value is trying to be set on a copy of a slice from a DataFrame.\n",
      "Try using .loc[row_indexer,col_indexer] = value instead\n",
      "\n",
      "See the caveats in the documentation: https://pandas.pydata.org/pandas-docs/stable/user_guide/indexing.html#returning-a-view-versus-a-copy\n",
      "  cdf_arm_1['cluster_pred'] = km_cetux_com.predict(cetux_complete)\n"
     ]
    }
   ],
   "source": [
    "cdf_arm_1['cluster_pred'] = km_cetux_com.predict(cetux_complete)"
   ]
  },
  {
   "cell_type": "code",
   "execution_count": 78,
   "id": "bc22ea7c",
   "metadata": {},
   "outputs": [],
   "source": [
    "cdf_arm_1 = cdf_arm_1.drop(['pat_nr', 'arm', 'ecog', 'P-value', 'Correlation', 'RMSE', 'study', 'CET1_REST0', 'MOL_SG', 'RNA_Probe', 'predictedCMS',\n",
    "       'nearestCMS', 'detaiL_primloc', 'primeloc_side', 'liver', 'lung',\n",
    "       'LKMETS', 'PERITONEAL', 'other', 'liver_only', 'no_organs', 'secresec',\n",
    "       'pfs', 'pfs_time_mo', 'os', 'os_time_mo', 'bor1', 'orr1', 'dpr1',\n",
    "       'ets_cat', 'SYNCH_META', 'PRIMARY_RES', 'RADIOVORHER', 'LK', 'AP',\n",
    "       'CTX_ADJ', 'filter_$'], axis = 1)"
   ]
  },
  {
   "cell_type": "code",
   "execution_count": 92,
   "id": "52ae3747",
   "metadata": {},
   "outputs": [
    {
     "data": {
      "text/html": [
       "<div>\n",
       "<style scoped>\n",
       "    .dataframe tbody tr th:only-of-type {\n",
       "        vertical-align: middle;\n",
       "    }\n",
       "\n",
       "    .dataframe tbody tr th {\n",
       "        vertical-align: top;\n",
       "    }\n",
       "\n",
       "    .dataframe thead th {\n",
       "        text-align: right;\n",
       "    }\n",
       "</style>\n",
       "<table border=\"1\" class=\"dataframe\">\n",
       "  <thead>\n",
       "    <tr style=\"text-align: right;\">\n",
       "      <th></th>\n",
       "      <th>B cells naive</th>\n",
       "      <th>B cells memory</th>\n",
       "      <th>Plasma cells</th>\n",
       "      <th>T cells CD8</th>\n",
       "      <th>T cells CD4 naive</th>\n",
       "      <th>T cells CD4 memory resting</th>\n",
       "      <th>T cells CD4 memory activated</th>\n",
       "      <th>T cells follicular helper</th>\n",
       "      <th>T cells regulatory (Tregs)</th>\n",
       "      <th>T cells gamma delta</th>\n",
       "      <th>...</th>\n",
       "      <th>Dendritic cells resting</th>\n",
       "      <th>Dendritic cells activated</th>\n",
       "      <th>Mast cells resting</th>\n",
       "      <th>Mast cells activated</th>\n",
       "      <th>Eosinophils</th>\n",
       "      <th>Neutrophils</th>\n",
       "      <th>sex</th>\n",
       "      <th>age</th>\n",
       "      <th>skin_rash</th>\n",
       "      <th>cluster_pred</th>\n",
       "    </tr>\n",
       "  </thead>\n",
       "  <tbody>\n",
       "    <tr>\n",
       "      <th>3</th>\n",
       "      <td>0.067346</td>\n",
       "      <td>0.000000</td>\n",
       "      <td>0.097330</td>\n",
       "      <td>0.072327</td>\n",
       "      <td>0.0</td>\n",
       "      <td>0.168887</td>\n",
       "      <td>0.000000</td>\n",
       "      <td>0.002431</td>\n",
       "      <td>0.067972</td>\n",
       "      <td>0.094723</td>\n",
       "      <td>...</td>\n",
       "      <td>0.071104</td>\n",
       "      <td>0.000000</td>\n",
       "      <td>0.0</td>\n",
       "      <td>0.188876</td>\n",
       "      <td>0.000000</td>\n",
       "      <td>0.074924</td>\n",
       "      <td>1.0</td>\n",
       "      <td>61.0</td>\n",
       "      <td>1.0</td>\n",
       "      <td>1</td>\n",
       "    </tr>\n",
       "    <tr>\n",
       "      <th>4</th>\n",
       "      <td>0.000000</td>\n",
       "      <td>0.000000</td>\n",
       "      <td>0.105039</td>\n",
       "      <td>0.066233</td>\n",
       "      <td>0.0</td>\n",
       "      <td>0.249715</td>\n",
       "      <td>0.074691</td>\n",
       "      <td>0.035303</td>\n",
       "      <td>0.085112</td>\n",
       "      <td>0.000000</td>\n",
       "      <td>...</td>\n",
       "      <td>0.000000</td>\n",
       "      <td>0.009239</td>\n",
       "      <td>0.0</td>\n",
       "      <td>0.134230</td>\n",
       "      <td>0.000000</td>\n",
       "      <td>0.070198</td>\n",
       "      <td>1.0</td>\n",
       "      <td>74.0</td>\n",
       "      <td>1.0</td>\n",
       "      <td>1</td>\n",
       "    </tr>\n",
       "    <tr>\n",
       "      <th>6</th>\n",
       "      <td>0.065798</td>\n",
       "      <td>0.000000</td>\n",
       "      <td>0.118399</td>\n",
       "      <td>0.111458</td>\n",
       "      <td>0.0</td>\n",
       "      <td>0.281396</td>\n",
       "      <td>0.000000</td>\n",
       "      <td>0.000000</td>\n",
       "      <td>0.069544</td>\n",
       "      <td>0.000000</td>\n",
       "      <td>...</td>\n",
       "      <td>0.024802</td>\n",
       "      <td>0.000000</td>\n",
       "      <td>0.0</td>\n",
       "      <td>0.086495</td>\n",
       "      <td>0.032828</td>\n",
       "      <td>0.051155</td>\n",
       "      <td>1.0</td>\n",
       "      <td>73.0</td>\n",
       "      <td>1.0</td>\n",
       "      <td>1</td>\n",
       "    </tr>\n",
       "    <tr>\n",
       "      <th>7</th>\n",
       "      <td>0.010223</td>\n",
       "      <td>0.000000</td>\n",
       "      <td>0.186072</td>\n",
       "      <td>0.193724</td>\n",
       "      <td>0.0</td>\n",
       "      <td>0.283032</td>\n",
       "      <td>0.000000</td>\n",
       "      <td>0.000000</td>\n",
       "      <td>0.144012</td>\n",
       "      <td>0.000000</td>\n",
       "      <td>...</td>\n",
       "      <td>0.000000</td>\n",
       "      <td>0.000000</td>\n",
       "      <td>0.0</td>\n",
       "      <td>0.081489</td>\n",
       "      <td>0.000000</td>\n",
       "      <td>0.004522</td>\n",
       "      <td>1.0</td>\n",
       "      <td>68.0</td>\n",
       "      <td>1.0</td>\n",
       "      <td>1</td>\n",
       "    </tr>\n",
       "    <tr>\n",
       "      <th>8</th>\n",
       "      <td>0.000000</td>\n",
       "      <td>0.013582</td>\n",
       "      <td>0.056297</td>\n",
       "      <td>0.080645</td>\n",
       "      <td>0.0</td>\n",
       "      <td>0.336947</td>\n",
       "      <td>0.000000</td>\n",
       "      <td>0.035983</td>\n",
       "      <td>0.057663</td>\n",
       "      <td>0.000000</td>\n",
       "      <td>...</td>\n",
       "      <td>0.079572</td>\n",
       "      <td>0.010232</td>\n",
       "      <td>0.0</td>\n",
       "      <td>0.045427</td>\n",
       "      <td>0.000000</td>\n",
       "      <td>0.095906</td>\n",
       "      <td>1.0</td>\n",
       "      <td>42.0</td>\n",
       "      <td>1.0</td>\n",
       "      <td>0</td>\n",
       "    </tr>\n",
       "  </tbody>\n",
       "</table>\n",
       "<p>5 rows × 26 columns</p>\n",
       "</div>"
      ],
      "text/plain": [
       "   B cells naive  B cells memory  Plasma cells  T cells CD8  \\\n",
       "3       0.067346        0.000000      0.097330     0.072327   \n",
       "4       0.000000        0.000000      0.105039     0.066233   \n",
       "6       0.065798        0.000000      0.118399     0.111458   \n",
       "7       0.010223        0.000000      0.186072     0.193724   \n",
       "8       0.000000        0.013582      0.056297     0.080645   \n",
       "\n",
       "   T cells CD4 naive  T cells CD4 memory resting  \\\n",
       "3                0.0                    0.168887   \n",
       "4                0.0                    0.249715   \n",
       "6                0.0                    0.281396   \n",
       "7                0.0                    0.283032   \n",
       "8                0.0                    0.336947   \n",
       "\n",
       "   T cells CD4 memory activated  T cells follicular helper  \\\n",
       "3                      0.000000                   0.002431   \n",
       "4                      0.074691                   0.035303   \n",
       "6                      0.000000                   0.000000   \n",
       "7                      0.000000                   0.000000   \n",
       "8                      0.000000                   0.035983   \n",
       "\n",
       "   T cells regulatory (Tregs)  T cells gamma delta  ...  \\\n",
       "3                    0.067972             0.094723  ...   \n",
       "4                    0.085112             0.000000  ...   \n",
       "6                    0.069544             0.000000  ...   \n",
       "7                    0.144012             0.000000  ...   \n",
       "8                    0.057663             0.000000  ...   \n",
       "\n",
       "   Dendritic cells resting  Dendritic cells activated  Mast cells resting  \\\n",
       "3                 0.071104                   0.000000                 0.0   \n",
       "4                 0.000000                   0.009239                 0.0   \n",
       "6                 0.024802                   0.000000                 0.0   \n",
       "7                 0.000000                   0.000000                 0.0   \n",
       "8                 0.079572                   0.010232                 0.0   \n",
       "\n",
       "   Mast cells activated  Eosinophils  Neutrophils  sex   age  skin_rash  \\\n",
       "3              0.188876     0.000000     0.074924  1.0  61.0        1.0   \n",
       "4              0.134230     0.000000     0.070198  1.0  74.0        1.0   \n",
       "6              0.086495     0.032828     0.051155  1.0  73.0        1.0   \n",
       "7              0.081489     0.000000     0.004522  1.0  68.0        1.0   \n",
       "8              0.045427     0.000000     0.095906  1.0  42.0        1.0   \n",
       "\n",
       "   cluster_pred  \n",
       "3             1  \n",
       "4             1  \n",
       "6             1  \n",
       "7             1  \n",
       "8             0  \n",
       "\n",
       "[5 rows x 26 columns]"
      ]
     },
     "execution_count": 92,
     "metadata": {},
     "output_type": "execute_result"
    }
   ],
   "source": [
    "cdf_arm_1.head(5)"
   ]
  },
  {
   "cell_type": "code",
   "execution_count": 93,
   "id": "67592b7e",
   "metadata": {},
   "outputs": [],
   "source": [
    "cdf_arm_1_copy = cdf_arm_1.copy()"
   ]
  },
  {
   "cell_type": "code",
   "execution_count": 100,
   "id": "dfea25e0",
   "metadata": {},
   "outputs": [],
   "source": [
    "cdf_arm_1_copy['skin_rash'] = cdf_arm_1_copy['skin_rash'].astype('int32')"
   ]
  },
  {
   "cell_type": "code",
   "execution_count": 102,
   "id": "c1659291",
   "metadata": {},
   "outputs": [
    {
     "data": {
      "text/plain": [
       "<sklearn.metrics._plot.confusion_matrix.ConfusionMatrixDisplay at 0x7fc86ba6a580>"
      ]
     },
     "execution_count": 102,
     "metadata": {},
     "output_type": "execute_result"
    },
    {
     "data": {
      "image/png": "[encoded data removed]",
      "text/plain": [
       "<Figure size 432x288 with 2 Axes>"
      ]
     },
     "metadata": {
      "needs_background": "light"
     },
     "output_type": "display_data"
    }
   ],
   "source": [
    "from sklearn.metrics import confusion_matrix\n",
    "from sklearn.metrics import ConfusionMatrixDisplay\n",
    "\n",
    "cm = confusion_matrix(cdf_arm_1_copy['skin_rash'], cdf_arm_1_copy['cluster_pred'])\n",
    "\n",
    "ConfusionMatrixDisplay(cm).plot()"
   ]
  }
 ],
 "metadata": {
  "kernelspec": {
   "display_name": "Python 3 (ipykernel)",
   "language": "python",
   "name": "python3"
  },
  "language_info": {
   "codemirror_mode": {
    "name": "ipython",
    "version": 3
   },
   "file_extension": ".py",
   "mimetype": "text/x-python",
   "name": "python",
   "nbconvert_exporter": "python",
   "pygments_lexer": "ipython3",
   "version": "3.8.12"
  },
  "toc": {
   "base_numbering": 1,
   "nav_menu": {},
   "number_sections": true,
   "sideBar": true,
   "skip_h1_title": false,
   "title_cell": "Table of Contents",
   "title_sidebar": "Contents",
   "toc_cell": false,
   "toc_position": {},
   "toc_section_display": true,
   "toc_window_display": false
  }
 },
 "nbformat": 4,
 "nbformat_minor": 5
}
