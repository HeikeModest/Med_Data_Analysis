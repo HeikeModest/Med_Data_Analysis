{
 "cells": [
  {
   "cell_type": "markdown",
   "id": "99dda9ca",
   "metadata": {},
   "source": [
    "# Supervised learning Model"
   ]
  },
  {
   "cell_type": "markdown",
   "id": "06a14199",
   "metadata": {},
   "source": [
    "## Preparing Data"
   ]
  },
  {
   "cell_type": "code",
   "execution_count": 1,
   "id": "f21b940c",
   "metadata": {},
   "outputs": [],
   "source": [
    "#! pip install pyreadstat\n",
    "import pandas as pd\n",
    "import pyreadstat\n",
    "import seaborn as sns\n",
    "from sklearn.linear_model import LogisticRegression\n",
    "from sklearn.model_selection import cross_validate\n",
    "from sklearn.model_selection import train_test_split\n",
    "from sklearn.metrics import precision_recall_curve\n",
    "import matplotlib.pyplot as plt\n",
    "from sklearn.neighbors import KNeighborsClassifier\n",
    "from sklearn.linear_model import SGDClassifier, LinearRegression\n",
    "from sklearn.linear_model import SGDClassifier\n",
    "from sklearn.model_selection import cross_validate\n",
    "from sklearn.model_selection import GridSearchCV"
   ]
  },
  {
   "cell_type": "markdown",
   "id": "402e9a85",
   "metadata": {},
   "source": [
    "# start again"
   ]
  },
  {
   "cell_type": "code",
   "execution_count": 2,
   "id": "2062431d",
   "metadata": {},
   "outputs": [],
   "source": [
    "import pyreadstat\n",
    "\n",
    "clinical_df, meta = pyreadstat.read_sav(\"../raw_data/FIRE3_Heike_set_new.sav\")"
   ]
  },
  {
   "cell_type": "code",
   "execution_count": 3,
   "id": "f8b0d5da",
   "metadata": {
    "scrolled": true
   },
   "outputs": [
    {
     "data": {
      "text/html": [
       "<div>\n",
       "<style scoped>\n",
       "    .dataframe tbody tr th:only-of-type {\n",
       "        vertical-align: middle;\n",
       "    }\n",
       "\n",
       "    .dataframe tbody tr th {\n",
       "        vertical-align: top;\n",
       "    }\n",
       "\n",
       "    .dataframe thead th {\n",
       "        text-align: right;\n",
       "    }\n",
       "</style>\n",
       "<table border=\"1\" class=\"dataframe\">\n",
       "  <thead>\n",
       "    <tr style=\"text-align: right;\">\n",
       "      <th></th>\n",
       "      <th>pat_nr</th>\n",
       "      <th>B cells naive</th>\n",
       "      <th>B cells memory</th>\n",
       "      <th>Plasma cells</th>\n",
       "      <th>T cells CD8</th>\n",
       "      <th>T cells CD4 naive</th>\n",
       "      <th>T cells CD4 memory resting</th>\n",
       "      <th>T cells CD4 memory activated</th>\n",
       "      <th>T cells follicular helper</th>\n",
       "      <th>T cells regulatory (Tregs)</th>\n",
       "      <th>...</th>\n",
       "      <th>Dendritic cells resting</th>\n",
       "      <th>Dendritic cells activated</th>\n",
       "      <th>Mast cells resting</th>\n",
       "      <th>Mast cells activated</th>\n",
       "      <th>Eosinophils</th>\n",
       "      <th>Neutrophils</th>\n",
       "      <th>P-value</th>\n",
       "      <th>sex</th>\n",
       "      <th>age</th>\n",
       "      <th>skin_rash</th>\n",
       "    </tr>\n",
       "  </thead>\n",
       "  <tbody>\n",
       "    <tr>\n",
       "      <th>0</th>\n",
       "      <td>9</td>\n",
       "      <td>0.067346</td>\n",
       "      <td>0.000000</td>\n",
       "      <td>0.097330</td>\n",
       "      <td>0.072327</td>\n",
       "      <td>0.0</td>\n",
       "      <td>0.168887</td>\n",
       "      <td>0.000000</td>\n",
       "      <td>0.002431</td>\n",
       "      <td>0.067972</td>\n",
       "      <td>...</td>\n",
       "      <td>0.071104</td>\n",
       "      <td>0.000000</td>\n",
       "      <td>0.0</td>\n",
       "      <td>0.188876</td>\n",
       "      <td>0.000000</td>\n",
       "      <td>0.074924</td>\n",
       "      <td>0.004</td>\n",
       "      <td>1.0</td>\n",
       "      <td>61.0</td>\n",
       "      <td>1.0</td>\n",
       "    </tr>\n",
       "    <tr>\n",
       "      <th>1</th>\n",
       "      <td>10</td>\n",
       "      <td>0.000000</td>\n",
       "      <td>0.000000</td>\n",
       "      <td>0.105039</td>\n",
       "      <td>0.066233</td>\n",
       "      <td>0.0</td>\n",
       "      <td>0.249715</td>\n",
       "      <td>0.074691</td>\n",
       "      <td>0.035303</td>\n",
       "      <td>0.085112</td>\n",
       "      <td>...</td>\n",
       "      <td>0.000000</td>\n",
       "      <td>0.009239</td>\n",
       "      <td>0.0</td>\n",
       "      <td>0.134230</td>\n",
       "      <td>0.000000</td>\n",
       "      <td>0.070198</td>\n",
       "      <td>0.024</td>\n",
       "      <td>1.0</td>\n",
       "      <td>74.0</td>\n",
       "      <td>1.0</td>\n",
       "    </tr>\n",
       "    <tr>\n",
       "      <th>2</th>\n",
       "      <td>12</td>\n",
       "      <td>0.065798</td>\n",
       "      <td>0.000000</td>\n",
       "      <td>0.118399</td>\n",
       "      <td>0.111458</td>\n",
       "      <td>0.0</td>\n",
       "      <td>0.281396</td>\n",
       "      <td>0.000000</td>\n",
       "      <td>0.000000</td>\n",
       "      <td>0.069544</td>\n",
       "      <td>...</td>\n",
       "      <td>0.024802</td>\n",
       "      <td>0.000000</td>\n",
       "      <td>0.0</td>\n",
       "      <td>0.086495</td>\n",
       "      <td>0.032828</td>\n",
       "      <td>0.051155</td>\n",
       "      <td>0.002</td>\n",
       "      <td>1.0</td>\n",
       "      <td>73.0</td>\n",
       "      <td>1.0</td>\n",
       "    </tr>\n",
       "    <tr>\n",
       "      <th>3</th>\n",
       "      <td>15</td>\n",
       "      <td>0.010223</td>\n",
       "      <td>0.000000</td>\n",
       "      <td>0.186072</td>\n",
       "      <td>0.193724</td>\n",
       "      <td>0.0</td>\n",
       "      <td>0.283032</td>\n",
       "      <td>0.000000</td>\n",
       "      <td>0.000000</td>\n",
       "      <td>0.144012</td>\n",
       "      <td>...</td>\n",
       "      <td>0.000000</td>\n",
       "      <td>0.000000</td>\n",
       "      <td>0.0</td>\n",
       "      <td>0.081489</td>\n",
       "      <td>0.000000</td>\n",
       "      <td>0.004522</td>\n",
       "      <td>0.034</td>\n",
       "      <td>1.0</td>\n",
       "      <td>68.0</td>\n",
       "      <td>1.0</td>\n",
       "    </tr>\n",
       "    <tr>\n",
       "      <th>4</th>\n",
       "      <td>16</td>\n",
       "      <td>0.000000</td>\n",
       "      <td>0.013582</td>\n",
       "      <td>0.056297</td>\n",
       "      <td>0.080645</td>\n",
       "      <td>0.0</td>\n",
       "      <td>0.336947</td>\n",
       "      <td>0.000000</td>\n",
       "      <td>0.035983</td>\n",
       "      <td>0.057663</td>\n",
       "      <td>...</td>\n",
       "      <td>0.079572</td>\n",
       "      <td>0.010232</td>\n",
       "      <td>0.0</td>\n",
       "      <td>0.045427</td>\n",
       "      <td>0.000000</td>\n",
       "      <td>0.095906</td>\n",
       "      <td>0.022</td>\n",
       "      <td>1.0</td>\n",
       "      <td>42.0</td>\n",
       "      <td>1.0</td>\n",
       "    </tr>\n",
       "  </tbody>\n",
       "</table>\n",
       "<p>5 rows × 27 columns</p>\n",
       "</div>"
      ],
      "text/plain": [
       "   pat_nr  B cells naive  B cells memory  Plasma cells  T cells CD8  \\\n",
       "0       9       0.067346        0.000000      0.097330     0.072327   \n",
       "1      10       0.000000        0.000000      0.105039     0.066233   \n",
       "2      12       0.065798        0.000000      0.118399     0.111458   \n",
       "3      15       0.010223        0.000000      0.186072     0.193724   \n",
       "4      16       0.000000        0.013582      0.056297     0.080645   \n",
       "\n",
       "   T cells CD4 naive  T cells CD4 memory resting  \\\n",
       "0                0.0                    0.168887   \n",
       "1                0.0                    0.249715   \n",
       "2                0.0                    0.281396   \n",
       "3                0.0                    0.283032   \n",
       "4                0.0                    0.336947   \n",
       "\n",
       "   T cells CD4 memory activated  T cells follicular helper  \\\n",
       "0                      0.000000                   0.002431   \n",
       "1                      0.074691                   0.035303   \n",
       "2                      0.000000                   0.000000   \n",
       "3                      0.000000                   0.000000   \n",
       "4                      0.000000                   0.035983   \n",
       "\n",
       "   T cells regulatory (Tregs)  ...  Dendritic cells resting  \\\n",
       "0                    0.067972  ...                 0.071104   \n",
       "1                    0.085112  ...                 0.000000   \n",
       "2                    0.069544  ...                 0.024802   \n",
       "3                    0.144012  ...                 0.000000   \n",
       "4                    0.057663  ...                 0.079572   \n",
       "\n",
       "   Dendritic cells activated  Mast cells resting  Mast cells activated  \\\n",
       "0                   0.000000                 0.0              0.188876   \n",
       "1                   0.009239                 0.0              0.134230   \n",
       "2                   0.000000                 0.0              0.086495   \n",
       "3                   0.000000                 0.0              0.081489   \n",
       "4                   0.010232                 0.0              0.045427   \n",
       "\n",
       "   Eosinophils  Neutrophils  P-value  sex   age  skin_rash  \n",
       "0     0.000000     0.074924    0.004  1.0  61.0        1.0  \n",
       "1     0.000000     0.070198    0.024  1.0  74.0        1.0  \n",
       "2     0.032828     0.051155    0.002  1.0  73.0        1.0  \n",
       "3     0.000000     0.004522    0.034  1.0  68.0        1.0  \n",
       "4     0.000000     0.095906    0.022  1.0  42.0        1.0  \n",
       "\n",
       "[5 rows x 27 columns]"
      ]
     },
     "execution_count": 3,
     "metadata": {},
     "output_type": "execute_result"
    }
   ],
   "source": [
    "new_df= pd.read_csv(\"../raw_data/cetux.csv\")\n",
    "new_df.head()"
   ]
  },
  {
   "cell_type": "code",
   "execution_count": 4,
   "id": "8bacb491",
   "metadata": {},
   "outputs": [],
   "source": [
    "X=new_df.drop(columns=[\"pat_nr\",\"P-value\",\"sex\",\"age\",\"skin_rash\"])\n",
    "y=new_df[\"skin_rash\"]"
   ]
  },
  {
   "cell_type": "code",
   "execution_count": 5,
   "id": "e661915d",
   "metadata": {},
   "outputs": [],
   "source": [
    "X_train, X_test, y_train, y_test = train_test_split(X, y,\n",
    "                                                    test_size = 0.25, \n",
    "                                                    random_state = 6) # Holdout"
   ]
  },
  {
   "cell_type": "code",
   "execution_count": 6,
   "id": "c356050d",
   "metadata": {},
   "outputs": [],
   "source": [
    "X_spe=new_df[[\"Plasma cells\",\"Neutrophils\",\"Macrophages M0\",\"Macrophages M1\",\"Mast cells resting\",\"Macrophages M2\"]]"
   ]
  },
  {
   "cell_type": "code",
   "execution_count": 7,
   "id": "6d79efe3",
   "metadata": {},
   "outputs": [],
   "source": [
    "X_train2, X_test2, y_train2, y_test2 = train_test_split(X_spe, y,\n",
    "                                                    test_size = 0.25) # Holdout"
   ]
  },
  {
   "cell_type": "code",
   "execution_count": 8,
   "id": "9523be31",
   "metadata": {},
   "outputs": [],
   "source": [
    "X_study=new_df[[\"Macrophages M1\",\"Macrophages M2\",\"Neutrophils\",\"Eosinophils\"]]"
   ]
  },
  {
   "cell_type": "code",
   "execution_count": 70,
   "id": "7f063320",
   "metadata": {},
   "outputs": [],
   "source": [
    "X_train3, X_test3, y_train3, y_test3 = train_test_split(X_study, y,\n",
    "                                                    test_size = 0.25) # Holdout\n",
    "#X_train3.head()"
   ]
  },
  {
   "cell_type": "code",
   "execution_count": 64,
   "id": "2cedfbc5",
   "metadata": {},
   "outputs": [],
   "source": [
    "cetux_new_p = new_df[new_df['P-value'] <= 0.05]\n",
    "y4 = cetux_new_p[\"skin_rash\"]\n",
    "X4=cetux_new_p.drop(columns=[\"pat_nr\",\"P-value\",\"sex\",\"age\",\"skin_rash\"])"
   ]
  },
  {
   "cell_type": "code",
   "execution_count": 11,
   "id": "ebfda0ec",
   "metadata": {},
   "outputs": [],
   "source": [
    "X_train4, X_test4, y_train4, y_test4 = train_test_split(X4, y4,\n",
    "                                                    test_size = 0.25)"
   ]
  },
  {
   "cell_type": "code",
   "execution_count": 12,
   "id": "1a38b681",
   "metadata": {},
   "outputs": [],
   "source": [
    "X5=new_df[[\"Dendritic cells activated\",\n",
    "           \"Dendritic cells resting\",\n",
    "           \"T cells CD4 memory activated\",\n",
    "           \"T cells CD4 memory resting\",\n",
    "           \"T cells follicular helper\",\n",
    "           \"T cells CD4 naive\",\n",
    "           \"T cells gamma delta\",\n",
    "           \"T cells regulatory (Tregs)\",\n",
    "           \"T cells CD8\"]]"
   ]
  },
  {
   "cell_type": "code",
   "execution_count": 13,
   "id": "f1925670",
   "metadata": {},
   "outputs": [],
   "source": [
    "X_train5, X_test5, y_train5, y_test5 = train_test_split(X5, y,\n",
    "                                                    test_size = 0.25) # Holdout\n",
    "#X_train3.head()"
   ]
  },
  {
   "cell_type": "code",
   "execution_count": 14,
   "id": "05d34591",
   "metadata": {},
   "outputs": [],
   "source": [
    "X_study2=new_df[[\"Macrophages M1\",\"Macrophages M2\",\"Neutrophils\",\"Eosinophils\",\"sex\"]]"
   ]
  },
  {
   "cell_type": "code",
   "execution_count": 15,
   "id": "85752d7f",
   "metadata": {},
   "outputs": [],
   "source": [
    "X_train6, X_test6, y_train6, y_test6 = train_test_split(X_study2, y,\n",
    "                                                    test_size = 0.25)"
   ]
  },
  {
   "cell_type": "code",
   "execution_count": 16,
   "id": "8b7d3364",
   "metadata": {},
   "outputs": [
    {
     "data": {
      "text/html": [
       "<div>\n",
       "<style scoped>\n",
       "    .dataframe tbody tr th:only-of-type {\n",
       "        vertical-align: middle;\n",
       "    }\n",
       "\n",
       "    .dataframe tbody tr th {\n",
       "        vertical-align: top;\n",
       "    }\n",
       "\n",
       "    .dataframe thead th {\n",
       "        text-align: right;\n",
       "    }\n",
       "</style>\n",
       "<table border=\"1\" class=\"dataframe\">\n",
       "  <thead>\n",
       "    <tr style=\"text-align: right;\">\n",
       "      <th></th>\n",
       "      <th>os_time_mo</th>\n",
       "    </tr>\n",
       "  </thead>\n",
       "  <tbody>\n",
       "    <tr>\n",
       "      <th>0</th>\n",
       "      <td>29.798768</td>\n",
       "    </tr>\n",
       "    <tr>\n",
       "      <th>1</th>\n",
       "      <td>44.386037</td>\n",
       "    </tr>\n",
       "    <tr>\n",
       "      <th>2</th>\n",
       "      <td>7.063655</td>\n",
       "    </tr>\n",
       "    <tr>\n",
       "      <th>3</th>\n",
       "      <td>13.634497</td>\n",
       "    </tr>\n",
       "    <tr>\n",
       "      <th>4</th>\n",
       "      <td>23.753593</td>\n",
       "    </tr>\n",
       "    <tr>\n",
       "      <th>...</th>\n",
       "      <td>...</td>\n",
       "    </tr>\n",
       "    <tr>\n",
       "      <th>213</th>\n",
       "      <td>54.176591</td>\n",
       "    </tr>\n",
       "    <tr>\n",
       "      <th>214</th>\n",
       "      <td>33.215606</td>\n",
       "    </tr>\n",
       "    <tr>\n",
       "      <th>215</th>\n",
       "      <td>35.154004</td>\n",
       "    </tr>\n",
       "    <tr>\n",
       "      <th>216</th>\n",
       "      <td>4.829569</td>\n",
       "    </tr>\n",
       "    <tr>\n",
       "      <th>217</th>\n",
       "      <td>25.856263</td>\n",
       "    </tr>\n",
       "  </tbody>\n",
       "</table>\n",
       "<p>218 rows × 1 columns</p>\n",
       "</div>"
      ],
      "text/plain": [
       "     os_time_mo\n",
       "0     29.798768\n",
       "1     44.386037\n",
       "2      7.063655\n",
       "3     13.634497\n",
       "4     23.753593\n",
       "..          ...\n",
       "213   54.176591\n",
       "214   33.215606\n",
       "215   35.154004\n",
       "216    4.829569\n",
       "217   25.856263\n",
       "\n",
       "[218 rows x 1 columns]"
      ]
     },
     "execution_count": 16,
     "metadata": {},
     "output_type": "execute_result"
    }
   ],
   "source": [
    "X_study3=new_df.merge(clinical_df, on=\"pat_nr\")\n",
    "X_study3[[\"os_time_mo\"]]"
   ]
  },
  {
   "cell_type": "markdown",
   "id": "400fc037",
   "metadata": {
    "heading_collapsed": true
   },
   "source": [
    "## Some Data Analysis"
   ]
  },
  {
   "cell_type": "code",
   "execution_count": 48,
   "id": "30084655",
   "metadata": {
    "hidden": true
   },
   "outputs": [
    {
     "data": {
      "text/plain": [
       "B cells naive                    45\n",
       "B cells memory                  181\n",
       "Plasma cells                      2\n",
       "T cells CD8                       2\n",
       "T cells CD4 naive               216\n",
       "T cells CD4 memory resting        1\n",
       "T cells CD4 memory activated    152\n",
       "T cells follicular helper        72\n",
       "T cells regulatory (Tregs)       26\n",
       "T cells gamma delta             215\n",
       "NK cells resting                 50\n",
       "NK cells activated              159\n",
       "Monocytes                        77\n",
       "Macrophages M0                  111\n",
       "Macrophages M1                   50\n",
       "Macrophages M2                    4\n",
       "Dendritic cells resting          99\n",
       "Dendritic cells activated       157\n",
       "Mast cells resting              125\n",
       "Mast cells activated             33\n",
       "Eosinophils                     215\n",
       "Neutrophils                       9\n",
       "P-value                          16\n",
       "sex                               0\n",
       "age                               0\n",
       "skin_rash                       109\n",
       "dtype: int64"
      ]
     },
     "execution_count": 48,
     "metadata": {},
     "output_type": "execute_result"
    }
   ],
   "source": [
    "analysis = new_df.iloc[:,1:27]\n",
    "analysis.isin([0.0000]).sum(axis=0)"
   ]
  },
  {
   "cell_type": "code",
   "execution_count": 49,
   "id": "d001ca7c",
   "metadata": {
    "hidden": true
   },
   "outputs": [],
   "source": [
    "analysis=analysis.drop(columns=[\"B cells memory\",\"T cells CD4 naive\",\n",
    "                                \"T cells CD4 memory activated\",\"T cells gamma delta\",\n",
    "                                \"NK cells activated\",\"Dendritic cells activated\",\n",
    "                                \"Macrophages M0\",\"Mast cells resting\",\n",
    "                                \"P-value\",\"sex\",\"age\",\n",
    "                                \"Eosinophils\",\"Dendritic cells resting\"])"
   ]
  },
  {
   "cell_type": "code",
   "execution_count": 50,
   "id": "5f6eefb3",
   "metadata": {
    "hidden": true
   },
   "outputs": [],
   "source": [
    "y7 = analysis[\"skin_rash\"]\n",
    "X7=analysis.drop(columns=[\"skin_rash\"])"
   ]
  },
  {
   "cell_type": "code",
   "execution_count": 51,
   "id": "f4c748c3",
   "metadata": {
    "hidden": true
   },
   "outputs": [],
   "source": [
    "X_train7, X_test7, y_train7, y_test7 = train_test_split(X7, y7,\n",
    "                                                    test_size = 0.25)"
   ]
  },
  {
   "cell_type": "markdown",
   "id": "dff2f0e5",
   "metadata": {
    "heading_collapsed": true
   },
   "source": [
    "## Logistic Regression"
   ]
  },
  {
   "cell_type": "code",
   "execution_count": 52,
   "id": "b7e4a5d0",
   "metadata": {
    "hidden": true
   },
   "outputs": [
    {
     "data": {
      "text/plain": [
       "0.49053030303030304"
      ]
     },
     "execution_count": 52,
     "metadata": {},
     "output_type": "execute_result"
    }
   ],
   "source": [
    "model_log = LogisticRegression(class_weight='balanced')\n",
    "model_log=model_log.fit(X_train,y_train)\n",
    "\n",
    "cv_results = cross_validate(model_log, X_train, y_train, cv=5, scoring=[\"accuracy\",\"recall\",\"precision\",\"f1\"])\n",
    "pd.DataFrame(cv_results)\n",
    "cv_results[\"test_accuracy\"].mean()"
   ]
  },
  {
   "cell_type": "code",
   "execution_count": 53,
   "id": "89c37bcd",
   "metadata": {
    "hidden": true
   },
   "outputs": [
    {
     "data": {
      "text/plain": [
       "0.6193181818181819"
      ]
     },
     "execution_count": 53,
     "metadata": {},
     "output_type": "execute_result"
    }
   ],
   "source": [
    "model_log=model_log.fit(X_train2,y_train2)\n",
    "cv_results = cross_validate(model_log, X_train2, y_train2, cv=5, scoring=[\"accuracy\",\"recall\",\"precision\",\"f1\"])\n",
    "pd.DataFrame(cv_results)\n",
    "cv_results[\"test_accuracy\"].mean()"
   ]
  },
  {
   "cell_type": "code",
   "execution_count": 54,
   "id": "95b357b9",
   "metadata": {
    "hidden": true
   },
   "outputs": [
    {
     "data": {
      "text/plain": [
       "0.5765151515151515"
      ]
     },
     "execution_count": 54,
     "metadata": {},
     "output_type": "execute_result"
    }
   ],
   "source": [
    "model_log=model_log.fit(X_train3,y_train3)\n",
    "cv_results = cross_validate(model_log, X_train3, y_train3, cv=5, scoring=[\"accuracy\",\"recall\",\"precision\",\"f1\"])\n",
    "pd.DataFrame(cv_results)\n",
    "cv_results[\"test_accuracy\"].mean()"
   ]
  },
  {
   "cell_type": "code",
   "execution_count": 55,
   "id": "f843f77f",
   "metadata": {
    "hidden": true
   },
   "outputs": [
    {
     "data": {
      "text/plain": [
       "0.5489999999999999"
      ]
     },
     "execution_count": 55,
     "metadata": {},
     "output_type": "execute_result"
    }
   ],
   "source": [
    "model_log=model_log.fit(X_train4,y_train4)\n",
    "cv_results = cross_validate(model_log, X_train4, y_train4, cv=5, scoring=[\"accuracy\",\"recall\",\"precision\",\"f1\"])\n",
    "pd.DataFrame(cv_results)\n",
    "cv_results[\"test_accuracy\"].mean()"
   ]
  },
  {
   "cell_type": "code",
   "execution_count": 56,
   "id": "7ae75564",
   "metadata": {
    "hidden": true
   },
   "outputs": [
    {
     "data": {
      "text/plain": [
       "0.540340909090909"
      ]
     },
     "execution_count": 56,
     "metadata": {},
     "output_type": "execute_result"
    }
   ],
   "source": [
    "model_log=model_log.fit(X_train5,y_train5)\n",
    "cv_results = cross_validate(model_log, X_train5, y_train5, cv=5, scoring=[\"accuracy\",\"recall\",\"precision\",\"f1\"])\n",
    "pd.DataFrame(cv_results)\n",
    "cv_results[\"test_accuracy\"].mean()"
   ]
  },
  {
   "cell_type": "code",
   "execution_count": 39,
   "id": "bf29528b",
   "metadata": {
    "hidden": true
   },
   "outputs": [
    {
     "data": {
      "text/plain": [
       "0.5583333333333333"
      ]
     },
     "execution_count": 39,
     "metadata": {},
     "output_type": "execute_result"
    }
   ],
   "source": [
    "model_log=model_log.fit(X_train6,y_train6)\n",
    "cv_results = cross_validate(model_log, X_train6, y_train6, cv=5, scoring=[\"accuracy\",\"recall\",\"precision\",\"f1\"])\n",
    "pd.DataFrame(cv_results)\n",
    "cv_results[\"test_accuracy\"].mean()"
   ]
  },
  {
   "cell_type": "code",
   "execution_count": 40,
   "id": "9aeed2e7",
   "metadata": {
    "hidden": true
   },
   "outputs": [
    {
     "data": {
      "text/plain": [
       "0.5575757575757576"
      ]
     },
     "execution_count": 40,
     "metadata": {},
     "output_type": "execute_result"
    }
   ],
   "source": [
    "model_log=model_log.fit(X_train6,y_train6)\n",
    "cv_results = cross_validate(model_log, X_train7, y_train7, cv=5, scoring=[\"accuracy\",\"recall\",\"precision\",\"f1\"])\n",
    "pd.DataFrame(cv_results)\n",
    "cv_results[\"test_accuracy\"].mean()"
   ]
  },
  {
   "cell_type": "code",
   "execution_count": 41,
   "id": "ba63f3c9",
   "metadata": {
    "hidden": true
   },
   "outputs": [
    {
     "name": "stderr",
     "output_type": "stream",
     "text": [
      "/Users/leacebulla/.pyenv/versions/3.8.12/envs/health/lib/python3.8/site-packages/sklearn/model_selection/_validation.py:372: FitFailedWarning: \n",
      "225 fits failed out of a total of 500.\n",
      "The score on these train-test partitions for these parameters will be set to nan.\n",
      "If these failures are not expected, you can try to debug them by setting error_score='raise'.\n",
      "\n",
      "Below are more details about the failures:\n",
      "--------------------------------------------------------------------------------\n",
      "25 fits failed with the following error:\n",
      "Traceback (most recent call last):\n",
      "  File \"/Users/leacebulla/.pyenv/versions/3.8.12/envs/health/lib/python3.8/site-packages/sklearn/model_selection/_validation.py\", line 681, in _fit_and_score\n",
      "    estimator.fit(X_train, y_train, **fit_params)\n",
      "  File \"/Users/leacebulla/.pyenv/versions/3.8.12/envs/health/lib/python3.8/site-packages/sklearn/linear_model/_logistic.py\", line 1461, in fit\n",
      "    solver = _check_solver(self.solver, self.penalty, self.dual)\n",
      "  File \"/Users/leacebulla/.pyenv/versions/3.8.12/envs/health/lib/python3.8/site-packages/sklearn/linear_model/_logistic.py\", line 464, in _check_solver\n",
      "    raise ValueError(\"penalty='none' is not supported for the liblinear solver\")\n",
      "ValueError: penalty='none' is not supported for the liblinear solver\n",
      "\n",
      "--------------------------------------------------------------------------------\n",
      "25 fits failed with the following error:\n",
      "Traceback (most recent call last):\n",
      "  File \"/Users/leacebulla/.pyenv/versions/3.8.12/envs/health/lib/python3.8/site-packages/sklearn/model_selection/_validation.py\", line 681, in _fit_and_score\n",
      "    estimator.fit(X_train, y_train, **fit_params)\n",
      "  File \"/Users/leacebulla/.pyenv/versions/3.8.12/envs/health/lib/python3.8/site-packages/sklearn/linear_model/_logistic.py\", line 1461, in fit\n",
      "    solver = _check_solver(self.solver, self.penalty, self.dual)\n",
      "  File \"/Users/leacebulla/.pyenv/versions/3.8.12/envs/health/lib/python3.8/site-packages/sklearn/linear_model/_logistic.py\", line 447, in _check_solver\n",
      "    raise ValueError(\n",
      "ValueError: Solver newton-cg supports only 'l2' or 'none' penalties, got l1 penalty.\n",
      "\n",
      "--------------------------------------------------------------------------------\n",
      "25 fits failed with the following error:\n",
      "Traceback (most recent call last):\n",
      "  File \"/Users/leacebulla/.pyenv/versions/3.8.12/envs/health/lib/python3.8/site-packages/sklearn/model_selection/_validation.py\", line 681, in _fit_and_score\n",
      "    estimator.fit(X_train, y_train, **fit_params)\n",
      "  File \"/Users/leacebulla/.pyenv/versions/3.8.12/envs/health/lib/python3.8/site-packages/sklearn/linear_model/_logistic.py\", line 1461, in fit\n",
      "    solver = _check_solver(self.solver, self.penalty, self.dual)\n",
      "  File \"/Users/leacebulla/.pyenv/versions/3.8.12/envs/health/lib/python3.8/site-packages/sklearn/linear_model/_logistic.py\", line 447, in _check_solver\n",
      "    raise ValueError(\n",
      "ValueError: Solver lbfgs supports only 'l2' or 'none' penalties, got l1 penalty.\n",
      "\n",
      "--------------------------------------------------------------------------------\n",
      "25 fits failed with the following error:\n",
      "Traceback (most recent call last):\n",
      "  File \"/Users/leacebulla/.pyenv/versions/3.8.12/envs/health/lib/python3.8/site-packages/sklearn/model_selection/_validation.py\", line 681, in _fit_and_score\n",
      "    estimator.fit(X_train, y_train, **fit_params)\n",
      "  File \"/Users/leacebulla/.pyenv/versions/3.8.12/envs/health/lib/python3.8/site-packages/sklearn/linear_model/_logistic.py\", line 1461, in fit\n",
      "    solver = _check_solver(self.solver, self.penalty, self.dual)\n",
      "  File \"/Users/leacebulla/.pyenv/versions/3.8.12/envs/health/lib/python3.8/site-packages/sklearn/linear_model/_logistic.py\", line 447, in _check_solver\n",
      "    raise ValueError(\n",
      "ValueError: Solver sag supports only 'l2' or 'none' penalties, got l1 penalty.\n",
      "\n",
      "--------------------------------------------------------------------------------\n",
      "25 fits failed with the following error:\n",
      "Traceback (most recent call last):\n",
      "  File \"/Users/leacebulla/.pyenv/versions/3.8.12/envs/health/lib/python3.8/site-packages/sklearn/model_selection/_validation.py\", line 681, in _fit_and_score\n",
      "    estimator.fit(X_train, y_train, **fit_params)\n",
      "  File \"/Users/leacebulla/.pyenv/versions/3.8.12/envs/health/lib/python3.8/site-packages/sklearn/linear_model/_logistic.py\", line 1461, in fit\n",
      "    solver = _check_solver(self.solver, self.penalty, self.dual)\n",
      "  File \"/Users/leacebulla/.pyenv/versions/3.8.12/envs/health/lib/python3.8/site-packages/sklearn/linear_model/_logistic.py\", line 447, in _check_solver\n",
      "    raise ValueError(\n",
      "ValueError: Solver newton-cg supports only 'l2' or 'none' penalties, got elasticnet penalty.\n",
      "\n",
      "--------------------------------------------------------------------------------\n",
      "25 fits failed with the following error:\n",
      "Traceback (most recent call last):\n",
      "  File \"/Users/leacebulla/.pyenv/versions/3.8.12/envs/health/lib/python3.8/site-packages/sklearn/model_selection/_validation.py\", line 681, in _fit_and_score\n",
      "    estimator.fit(X_train, y_train, **fit_params)\n",
      "  File \"/Users/leacebulla/.pyenv/versions/3.8.12/envs/health/lib/python3.8/site-packages/sklearn/linear_model/_logistic.py\", line 1461, in fit\n",
      "    solver = _check_solver(self.solver, self.penalty, self.dual)\n",
      "  File \"/Users/leacebulla/.pyenv/versions/3.8.12/envs/health/lib/python3.8/site-packages/sklearn/linear_model/_logistic.py\", line 447, in _check_solver\n",
      "    raise ValueError(\n",
      "ValueError: Solver lbfgs supports only 'l2' or 'none' penalties, got elasticnet penalty.\n",
      "\n",
      "--------------------------------------------------------------------------------\n",
      "25 fits failed with the following error:\n",
      "Traceback (most recent call last):\n",
      "  File \"/Users/leacebulla/.pyenv/versions/3.8.12/envs/health/lib/python3.8/site-packages/sklearn/model_selection/_validation.py\", line 681, in _fit_and_score\n",
      "    estimator.fit(X_train, y_train, **fit_params)\n",
      "  File \"/Users/leacebulla/.pyenv/versions/3.8.12/envs/health/lib/python3.8/site-packages/sklearn/linear_model/_logistic.py\", line 1461, in fit\n",
      "    solver = _check_solver(self.solver, self.penalty, self.dual)\n",
      "  File \"/Users/leacebulla/.pyenv/versions/3.8.12/envs/health/lib/python3.8/site-packages/sklearn/linear_model/_logistic.py\", line 457, in _check_solver\n",
      "    raise ValueError(\n",
      "ValueError: Only 'saga' solver supports elasticnet penalty, got solver=liblinear.\n",
      "\n",
      "--------------------------------------------------------------------------------\n",
      "25 fits failed with the following error:\n",
      "Traceback (most recent call last):\n",
      "  File \"/Users/leacebulla/.pyenv/versions/3.8.12/envs/health/lib/python3.8/site-packages/sklearn/model_selection/_validation.py\", line 681, in _fit_and_score\n",
      "    estimator.fit(X_train, y_train, **fit_params)\n",
      "  File \"/Users/leacebulla/.pyenv/versions/3.8.12/envs/health/lib/python3.8/site-packages/sklearn/linear_model/_logistic.py\", line 1461, in fit\n",
      "    solver = _check_solver(self.solver, self.penalty, self.dual)\n",
      "  File \"/Users/leacebulla/.pyenv/versions/3.8.12/envs/health/lib/python3.8/site-packages/sklearn/linear_model/_logistic.py\", line 447, in _check_solver\n",
      "    raise ValueError(\n",
      "ValueError: Solver sag supports only 'l2' or 'none' penalties, got elasticnet penalty.\n",
      "\n",
      "--------------------------------------------------------------------------------\n",
      "25 fits failed with the following error:\n",
      "Traceback (most recent call last):\n",
      "  File \"/Users/leacebulla/.pyenv/versions/3.8.12/envs/health/lib/python3.8/site-packages/sklearn/model_selection/_validation.py\", line 681, in _fit_and_score\n",
      "    estimator.fit(X_train, y_train, **fit_params)\n",
      "  File \"/Users/leacebulla/.pyenv/versions/3.8.12/envs/health/lib/python3.8/site-packages/sklearn/linear_model/_logistic.py\", line 1471, in fit\n",
      "    raise ValueError(\n",
      "ValueError: l1_ratio must be between 0 and 1; got (l1_ratio=None)\n",
      "\n",
      "  warnings.warn(some_fits_failed_message, FitFailedWarning)\n",
      "/Users/leacebulla/.pyenv/versions/3.8.12/envs/health/lib/python3.8/site-packages/sklearn/model_selection/_search.py:969: UserWarning: One or more of the test scores are non-finite: [0.52102273 0.52102273        nan 0.52102273 0.53333333        nan\n",
      "        nan 0.53352273        nan 0.54545455 0.55189394 0.55189394\n",
      " 0.55189394 0.55189394 0.54564394        nan        nan        nan\n",
      "        nan        nan 0.52102273 0.52102273        nan 0.52102273\n",
      " 0.53333333        nan        nan 0.58219697        nan 0.57613636\n",
      " 0.56363636 0.56363636 0.56363636 0.56363636 0.56363636        nan\n",
      "        nan        nan        nan        nan 0.52102273 0.52102273\n",
      "        nan 0.52102273 0.53333333        nan        nan 0.49090909\n",
      "        nan 0.4969697  0.55757576 0.55757576 0.53920455 0.55757576\n",
      " 0.55757576        nan        nan        nan        nan        nan\n",
      " 0.52102273 0.52102273        nan 0.52102273 0.53333333        nan\n",
      "        nan 0.49090909        nan 0.4969697  0.55757576 0.55757576\n",
      " 0.52083333 0.56363636 0.55757576        nan        nan        nan\n",
      "        nan        nan 0.52102273 0.52102273        nan 0.52102273\n",
      " 0.53333333        nan        nan 0.49090909        nan 0.49090909\n",
      " 0.55757576 0.56363636 0.48465909 0.55776515 0.55757576        nan\n",
      "        nan        nan        nan        nan]\n",
      "  warnings.warn(\n"
     ]
    },
    {
     "data": {
      "text/plain": [
       "{'C': 10, 'penalty': 'l1', 'solver': 'liblinear'}"
      ]
     },
     "execution_count": 41,
     "metadata": {},
     "output_type": "execute_result"
    },
    {
     "name": "stderr",
     "output_type": "stream",
     "text": [
      "/Users/leacebulla/.pyenv/versions/3.8.12/envs/health/lib/python3.8/site-packages/sklearn/linear_model/_logistic.py:1483: UserWarning: Setting penalty='none' will ignore the C and l1_ratio parameters\n",
      "  warnings.warn(\n",
      "/Users/leacebulla/.pyenv/versions/3.8.12/envs/health/lib/python3.8/site-packages/sklearn/linear_model/_logistic.py:1483: UserWarning: Setting penalty='none' will ignore the C and l1_ratio parameters\n",
      "  warnings.warn(\n",
      "/Users/leacebulla/.pyenv/versions/3.8.12/envs/health/lib/python3.8/site-packages/sklearn/linear_model/_sag.py:352: ConvergenceWarning: The max_iter was reached which means the coef_ did not converge\n",
      "  warnings.warn(\n",
      "/Users/leacebulla/.pyenv/versions/3.8.12/envs/health/lib/python3.8/site-packages/sklearn/linear_model/_logistic.py:1483: UserWarning: Setting penalty='none' will ignore the C and l1_ratio parameters\n",
      "  warnings.warn(\n",
      "/Users/leacebulla/.pyenv/versions/3.8.12/envs/health/lib/python3.8/site-packages/sklearn/linear_model/_sag.py:352: ConvergenceWarning: The max_iter was reached which means the coef_ did not converge\n",
      "  warnings.warn(\n",
      "/Users/leacebulla/.pyenv/versions/3.8.12/envs/health/lib/python3.8/site-packages/sklearn/linear_model/_sag.py:352: ConvergenceWarning: The max_iter was reached which means the coef_ did not converge\n",
      "  warnings.warn(\n",
      "/Users/leacebulla/.pyenv/versions/3.8.12/envs/health/lib/python3.8/site-packages/sklearn/linear_model/_sag.py:352: ConvergenceWarning: The max_iter was reached which means the coef_ did not converge\n",
      "  warnings.warn(\n",
      "/Users/leacebulla/.pyenv/versions/3.8.12/envs/health/lib/python3.8/site-packages/sklearn/linear_model/_logistic.py:1483: UserWarning: Setting penalty='none' will ignore the C and l1_ratio parameters\n",
      "  warnings.warn(\n",
      "/Users/leacebulla/.pyenv/versions/3.8.12/envs/health/lib/python3.8/site-packages/sklearn/linear_model/_sag.py:352: ConvergenceWarning: The max_iter was reached which means the coef_ did not converge\n",
      "  warnings.warn(\n",
      "/Users/leacebulla/.pyenv/versions/3.8.12/envs/health/lib/python3.8/site-packages/sklearn/linear_model/_logistic.py:1483: UserWarning: Setting penalty='none' will ignore the C and l1_ratio parameters\n",
      "  warnings.warn(\n",
      "/Users/leacebulla/.pyenv/versions/3.8.12/envs/health/lib/python3.8/site-packages/sklearn/linear_model/_sag.py:352: ConvergenceWarning: The max_iter was reached which means the coef_ did not converge\n",
      "  warnings.warn(\n",
      "/Users/leacebulla/.pyenv/versions/3.8.12/envs/health/lib/python3.8/site-packages/sklearn/linear_model/_logistic.py:1483: UserWarning: Setting penalty='none' will ignore the C and l1_ratio parameters\n",
      "  warnings.warn(\n",
      "/Users/leacebulla/.pyenv/versions/3.8.12/envs/health/lib/python3.8/site-packages/sklearn/linear_model/_sag.py:352: ConvergenceWarning: The max_iter was reached which means the coef_ did not converge\n",
      "  warnings.warn(\n",
      "/Users/leacebulla/.pyenv/versions/3.8.12/envs/health/lib/python3.8/site-packages/sklearn/linear_model/_logistic.py:1483: UserWarning: Setting penalty='none' will ignore the C and l1_ratio parameters\n",
      "  warnings.warn(\n",
      "/Users/leacebulla/.pyenv/versions/3.8.12/envs/health/lib/python3.8/site-packages/sklearn/linear_model/_sag.py:352: ConvergenceWarning: The max_iter was reached which means the coef_ did not converge\n",
      "  warnings.warn(\n",
      "/Users/leacebulla/.pyenv/versions/3.8.12/envs/health/lib/python3.8/site-packages/sklearn/linear_model/_logistic.py:1483: UserWarning: Setting penalty='none' will ignore the C and l1_ratio parameters\n",
      "  warnings.warn(\n",
      "/Users/leacebulla/.pyenv/versions/3.8.12/envs/health/lib/python3.8/site-packages/sklearn/linear_model/_logistic.py:1483: UserWarning: Setting penalty='none' will ignore the C and l1_ratio parameters\n",
      "  warnings.warn(\n",
      "/Users/leacebulla/.pyenv/versions/3.8.12/envs/health/lib/python3.8/site-packages/sklearn/linear_model/_logistic.py:1483: UserWarning: Setting penalty='none' will ignore the C and l1_ratio parameters\n",
      "  warnings.warn(\n",
      "/Users/leacebulla/.pyenv/versions/3.8.12/envs/health/lib/python3.8/site-packages/sklearn/linear_model/_logistic.py:1483: UserWarning: Setting penalty='none' will ignore the C and l1_ratio parameters\n",
      "  warnings.warn(\n",
      "/Users/leacebulla/.pyenv/versions/3.8.12/envs/health/lib/python3.8/site-packages/sklearn/linear_model/_logistic.py:1483: UserWarning: Setting penalty='none' will ignore the C and l1_ratio parameters\n",
      "  warnings.warn(\n",
      "/Users/leacebulla/.pyenv/versions/3.8.12/envs/health/lib/python3.8/site-packages/sklearn/linear_model/_sag.py:352: ConvergenceWarning: The max_iter was reached which means the coef_ did not converge\n",
      "  warnings.warn(\n",
      "/Users/leacebulla/.pyenv/versions/3.8.12/envs/health/lib/python3.8/site-packages/sklearn/linear_model/_logistic.py:1483: UserWarning: Setting penalty='none' will ignore the C and l1_ratio parameters\n",
      "  warnings.warn(\n",
      "/Users/leacebulla/.pyenv/versions/3.8.12/envs/health/lib/python3.8/site-packages/sklearn/linear_model/_logistic.py:1483: UserWarning: Setting penalty='none' will ignore the C and l1_ratio parameters\n",
      "  warnings.warn(\n",
      "/Users/leacebulla/.pyenv/versions/3.8.12/envs/health/lib/python3.8/site-packages/sklearn/linear_model/_sag.py:352: ConvergenceWarning: The max_iter was reached which means the coef_ did not converge\n",
      "  warnings.warn(\n",
      "/Users/leacebulla/.pyenv/versions/3.8.12/envs/health/lib/python3.8/site-packages/sklearn/linear_model/_sag.py:352: ConvergenceWarning: The max_iter was reached which means the coef_ did not converge\n",
      "  warnings.warn(\n",
      "/Users/leacebulla/.pyenv/versions/3.8.12/envs/health/lib/python3.8/site-packages/sklearn/linear_model/_sag.py:352: ConvergenceWarning: The max_iter was reached which means the coef_ did not converge\n",
      "  warnings.warn(\n",
      "/Users/leacebulla/.pyenv/versions/3.8.12/envs/health/lib/python3.8/site-packages/sklearn/linear_model/_sag.py:352: ConvergenceWarning: The max_iter was reached which means the coef_ did not converge\n",
      "  warnings.warn(\n",
      "/Users/leacebulla/.pyenv/versions/3.8.12/envs/health/lib/python3.8/site-packages/sklearn/linear_model/_logistic.py:1483: UserWarning: Setting penalty='none' will ignore the C and l1_ratio parameters\n",
      "  warnings.warn(\n",
      "/Users/leacebulla/.pyenv/versions/3.8.12/envs/health/lib/python3.8/site-packages/sklearn/linear_model/_sag.py:352: ConvergenceWarning: The max_iter was reached which means the coef_ did not converge\n",
      "  warnings.warn(\n",
      "/Users/leacebulla/.pyenv/versions/3.8.12/envs/health/lib/python3.8/site-packages/sklearn/linear_model/_logistic.py:1483: UserWarning: Setting penalty='none' will ignore the C and l1_ratio parameters\n",
      "  warnings.warn(\n",
      "/Users/leacebulla/.pyenv/versions/3.8.12/envs/health/lib/python3.8/site-packages/sklearn/linear_model/_logistic.py:1483: UserWarning: Setting penalty='none' will ignore the C and l1_ratio parameters\n",
      "  warnings.warn(\n",
      "/Users/leacebulla/.pyenv/versions/3.8.12/envs/health/lib/python3.8/site-packages/sklearn/linear_model/_logistic.py:1483: UserWarning: Setting penalty='none' will ignore the C and l1_ratio parameters\n",
      "  warnings.warn(\n",
      "/Users/leacebulla/.pyenv/versions/3.8.12/envs/health/lib/python3.8/site-packages/sklearn/linear_model/_logistic.py:1483: UserWarning: Setting penalty='none' will ignore the C and l1_ratio parameters\n",
      "  warnings.warn(\n",
      "/Users/leacebulla/.pyenv/versions/3.8.12/envs/health/lib/python3.8/site-packages/sklearn/linear_model/_logistic.py:1483: UserWarning: Setting penalty='none' will ignore the C and l1_ratio parameters\n",
      "  warnings.warn(\n",
      "/Users/leacebulla/.pyenv/versions/3.8.12/envs/health/lib/python3.8/site-packages/sklearn/linear_model/_logistic.py:1483: UserWarning: Setting penalty='none' will ignore the C and l1_ratio parameters\n",
      "  warnings.warn(\n",
      "/Users/leacebulla/.pyenv/versions/3.8.12/envs/health/lib/python3.8/site-packages/sklearn/linear_model/_logistic.py:1483: UserWarning: Setting penalty='none' will ignore the C and l1_ratio parameters\n",
      "  warnings.warn(\n",
      "/Users/leacebulla/.pyenv/versions/3.8.12/envs/health/lib/python3.8/site-packages/sklearn/linear_model/_sag.py:352: ConvergenceWarning: The max_iter was reached which means the coef_ did not converge\n",
      "  warnings.warn(\n",
      "/Users/leacebulla/.pyenv/versions/3.8.12/envs/health/lib/python3.8/site-packages/sklearn/linear_model/_logistic.py:1483: UserWarning: Setting penalty='none' will ignore the C and l1_ratio parameters\n",
      "  warnings.warn(\n",
      "/Users/leacebulla/.pyenv/versions/3.8.12/envs/health/lib/python3.8/site-packages/sklearn/linear_model/_sag.py:352: ConvergenceWarning: The max_iter was reached which means the coef_ did not converge\n",
      "  warnings.warn(\n",
      "/Users/leacebulla/.pyenv/versions/3.8.12/envs/health/lib/python3.8/site-packages/sklearn/linear_model/_logistic.py:1483: UserWarning: Setting penalty='none' will ignore the C and l1_ratio parameters\n",
      "  warnings.warn(\n",
      "/Users/leacebulla/.pyenv/versions/3.8.12/envs/health/lib/python3.8/site-packages/sklearn/linear_model/_sag.py:352: ConvergenceWarning: The max_iter was reached which means the coef_ did not converge\n",
      "  warnings.warn(\n",
      "/Users/leacebulla/.pyenv/versions/3.8.12/envs/health/lib/python3.8/site-packages/sklearn/linear_model/_logistic.py:1483: UserWarning: Setting penalty='none' will ignore the C and l1_ratio parameters\n",
      "  warnings.warn(\n",
      "/Users/leacebulla/.pyenv/versions/3.8.12/envs/health/lib/python3.8/site-packages/sklearn/linear_model/_sag.py:352: ConvergenceWarning: The max_iter was reached which means the coef_ did not converge\n",
      "  warnings.warn(\n",
      "/Users/leacebulla/.pyenv/versions/3.8.12/envs/health/lib/python3.8/site-packages/sklearn/linear_model/_logistic.py:1483: UserWarning: Setting penalty='none' will ignore the C and l1_ratio parameters\n",
      "  warnings.warn(\n",
      "/Users/leacebulla/.pyenv/versions/3.8.12/envs/health/lib/python3.8/site-packages/sklearn/linear_model/_sag.py:352: ConvergenceWarning: The max_iter was reached which means the coef_ did not converge\n",
      "  warnings.warn(\n"
     ]
    },
    {
     "name": "stderr",
     "output_type": "stream",
     "text": [
      "/Users/leacebulla/.pyenv/versions/3.8.12/envs/health/lib/python3.8/site-packages/sklearn/linear_model/_logistic.py:1483: UserWarning: Setting penalty='none' will ignore the C and l1_ratio parameters\n",
      "  warnings.warn(\n",
      "/Users/leacebulla/.pyenv/versions/3.8.12/envs/health/lib/python3.8/site-packages/sklearn/linear_model/_logistic.py:1483: UserWarning: Setting penalty='none' will ignore the C and l1_ratio parameters\n",
      "  warnings.warn(\n",
      "/Users/leacebulla/.pyenv/versions/3.8.12/envs/health/lib/python3.8/site-packages/sklearn/linear_model/_sag.py:352: ConvergenceWarning: The max_iter was reached which means the coef_ did not converge\n",
      "  warnings.warn(\n",
      "/Users/leacebulla/.pyenv/versions/3.8.12/envs/health/lib/python3.8/site-packages/sklearn/linear_model/_sag.py:352: ConvergenceWarning: The max_iter was reached which means the coef_ did not converge\n",
      "  warnings.warn(\n",
      "/Users/leacebulla/.pyenv/versions/3.8.12/envs/health/lib/python3.8/site-packages/sklearn/linear_model/_sag.py:352: ConvergenceWarning: The max_iter was reached which means the coef_ did not converge\n",
      "  warnings.warn(\n",
      "/Users/leacebulla/.pyenv/versions/3.8.12/envs/health/lib/python3.8/site-packages/sklearn/linear_model/_logistic.py:1483: UserWarning: Setting penalty='none' will ignore the C and l1_ratio parameters\n",
      "  warnings.warn(\n",
      "/Users/leacebulla/.pyenv/versions/3.8.12/envs/health/lib/python3.8/site-packages/sklearn/linear_model/_logistic.py:1483: UserWarning: Setting penalty='none' will ignore the C and l1_ratio parameters\n",
      "  warnings.warn(\n",
      "/Users/leacebulla/.pyenv/versions/3.8.12/envs/health/lib/python3.8/site-packages/sklearn/linear_model/_logistic.py:1483: UserWarning: Setting penalty='none' will ignore the C and l1_ratio parameters\n",
      "  warnings.warn(\n",
      "/Users/leacebulla/.pyenv/versions/3.8.12/envs/health/lib/python3.8/site-packages/sklearn/linear_model/_logistic.py:1483: UserWarning: Setting penalty='none' will ignore the C and l1_ratio parameters\n",
      "  warnings.warn(\n",
      "/Users/leacebulla/.pyenv/versions/3.8.12/envs/health/lib/python3.8/site-packages/sklearn/linear_model/_sag.py:352: ConvergenceWarning: The max_iter was reached which means the coef_ did not converge\n",
      "  warnings.warn(\n",
      "/Users/leacebulla/.pyenv/versions/3.8.12/envs/health/lib/python3.8/site-packages/sklearn/linear_model/_logistic.py:1483: UserWarning: Setting penalty='none' will ignore the C and l1_ratio parameters\n",
      "  warnings.warn(\n",
      "/Users/leacebulla/.pyenv/versions/3.8.12/envs/health/lib/python3.8/site-packages/sklearn/linear_model/_sag.py:352: ConvergenceWarning: The max_iter was reached which means the coef_ did not converge\n",
      "  warnings.warn(\n",
      "/Users/leacebulla/.pyenv/versions/3.8.12/envs/health/lib/python3.8/site-packages/sklearn/linear_model/_logistic.py:1483: UserWarning: Setting penalty='none' will ignore the C and l1_ratio parameters\n",
      "  warnings.warn(\n",
      "/Users/leacebulla/.pyenv/versions/3.8.12/envs/health/lib/python3.8/site-packages/sklearn/linear_model/_sag.py:352: ConvergenceWarning: The max_iter was reached which means the coef_ did not converge\n",
      "  warnings.warn(\n",
      "/Users/leacebulla/.pyenv/versions/3.8.12/envs/health/lib/python3.8/site-packages/sklearn/linear_model/_logistic.py:1483: UserWarning: Setting penalty='none' will ignore the C and l1_ratio parameters\n",
      "  warnings.warn(\n",
      "/Users/leacebulla/.pyenv/versions/3.8.12/envs/health/lib/python3.8/site-packages/sklearn/linear_model/_logistic.py:1483: UserWarning: Setting penalty='none' will ignore the C and l1_ratio parameters\n",
      "  warnings.warn(\n",
      "/Users/leacebulla/.pyenv/versions/3.8.12/envs/health/lib/python3.8/site-packages/sklearn/linear_model/_logistic.py:1483: UserWarning: Setting penalty='none' will ignore the C and l1_ratio parameters\n",
      "  warnings.warn(\n",
      "/Users/leacebulla/.pyenv/versions/3.8.12/envs/health/lib/python3.8/site-packages/sklearn/linear_model/_sag.py:352: ConvergenceWarning: The max_iter was reached which means the coef_ did not converge\n",
      "  warnings.warn(\n",
      "/Users/leacebulla/.pyenv/versions/3.8.12/envs/health/lib/python3.8/site-packages/sklearn/linear_model/_sag.py:352: ConvergenceWarning: The max_iter was reached which means the coef_ did not converge\n",
      "  warnings.warn(\n",
      "/Users/leacebulla/.pyenv/versions/3.8.12/envs/health/lib/python3.8/site-packages/sklearn/linear_model/_sag.py:352: ConvergenceWarning: The max_iter was reached which means the coef_ did not converge\n",
      "  warnings.warn(\n",
      "/Users/leacebulla/.pyenv/versions/3.8.12/envs/health/lib/python3.8/site-packages/sklearn/linear_model/_sag.py:352: ConvergenceWarning: The max_iter was reached which means the coef_ did not converge\n",
      "  warnings.warn(\n",
      "/Users/leacebulla/.pyenv/versions/3.8.12/envs/health/lib/python3.8/site-packages/sklearn/linear_model/_logistic.py:1483: UserWarning: Setting penalty='none' will ignore the C and l1_ratio parameters\n",
      "  warnings.warn(\n",
      "/Users/leacebulla/.pyenv/versions/3.8.12/envs/health/lib/python3.8/site-packages/sklearn/linear_model/_logistic.py:1483: UserWarning: Setting penalty='none' will ignore the C and l1_ratio parameters\n",
      "  warnings.warn(\n",
      "/Users/leacebulla/.pyenv/versions/3.8.12/envs/health/lib/python3.8/site-packages/sklearn/linear_model/_sag.py:352: ConvergenceWarning: The max_iter was reached which means the coef_ did not converge\n",
      "  warnings.warn(\n",
      "/Users/leacebulla/.pyenv/versions/3.8.12/envs/health/lib/python3.8/site-packages/sklearn/linear_model/_sag.py:352: ConvergenceWarning: The max_iter was reached which means the coef_ did not converge\n",
      "  warnings.warn(\n",
      "/Users/leacebulla/.pyenv/versions/3.8.12/envs/health/lib/python3.8/site-packages/sklearn/linear_model/_sag.py:352: ConvergenceWarning: The max_iter was reached which means the coef_ did not converge\n",
      "  warnings.warn(\n",
      "/Users/leacebulla/.pyenv/versions/3.8.12/envs/health/lib/python3.8/site-packages/sklearn/linear_model/_sag.py:352: ConvergenceWarning: The max_iter was reached which means the coef_ did not converge\n",
      "  warnings.warn(\n",
      "/Users/leacebulla/.pyenv/versions/3.8.12/envs/health/lib/python3.8/site-packages/sklearn/linear_model/_sag.py:352: ConvergenceWarning: The max_iter was reached which means the coef_ did not converge\n",
      "  warnings.warn(\n",
      "/Users/leacebulla/.pyenv/versions/3.8.12/envs/health/lib/python3.8/site-packages/sklearn/linear_model/_logistic.py:1483: UserWarning: Setting penalty='none' will ignore the C and l1_ratio parameters\n",
      "  warnings.warn(\n",
      "/Users/leacebulla/.pyenv/versions/3.8.12/envs/health/lib/python3.8/site-packages/sklearn/linear_model/_logistic.py:1483: UserWarning: Setting penalty='none' will ignore the C and l1_ratio parameters\n",
      "  warnings.warn(\n",
      "/Users/leacebulla/.pyenv/versions/3.8.12/envs/health/lib/python3.8/site-packages/sklearn/linear_model/_logistic.py:1483: UserWarning: Setting penalty='none' will ignore the C and l1_ratio parameters\n",
      "  warnings.warn(\n",
      "/Users/leacebulla/.pyenv/versions/3.8.12/envs/health/lib/python3.8/site-packages/sklearn/linear_model/_sag.py:352: ConvergenceWarning: The max_iter was reached which means the coef_ did not converge\n",
      "  warnings.warn(\n",
      "/Users/leacebulla/.pyenv/versions/3.8.12/envs/health/lib/python3.8/site-packages/sklearn/linear_model/_logistic.py:1483: UserWarning: Setting penalty='none' will ignore the C and l1_ratio parameters\n",
      "  warnings.warn(\n",
      "/Users/leacebulla/.pyenv/versions/3.8.12/envs/health/lib/python3.8/site-packages/sklearn/linear_model/_sag.py:352: ConvergenceWarning: The max_iter was reached which means the coef_ did not converge\n",
      "  warnings.warn(\n",
      "/Users/leacebulla/.pyenv/versions/3.8.12/envs/health/lib/python3.8/site-packages/sklearn/linear_model/_logistic.py:1483: UserWarning: Setting penalty='none' will ignore the C and l1_ratio parameters\n",
      "  warnings.warn(\n",
      "/Users/leacebulla/.pyenv/versions/3.8.12/envs/health/lib/python3.8/site-packages/sklearn/linear_model/_sag.py:352: ConvergenceWarning: The max_iter was reached which means the coef_ did not converge\n",
      "  warnings.warn(\n",
      "/Users/leacebulla/.pyenv/versions/3.8.12/envs/health/lib/python3.8/site-packages/sklearn/linear_model/_logistic.py:1483: UserWarning: Setting penalty='none' will ignore the C and l1_ratio parameters\n",
      "  warnings.warn(\n",
      "/Users/leacebulla/.pyenv/versions/3.8.12/envs/health/lib/python3.8/site-packages/sklearn/linear_model/_sag.py:352: ConvergenceWarning: The max_iter was reached which means the coef_ did not converge\n",
      "  warnings.warn(\n",
      "/Users/leacebulla/.pyenv/versions/3.8.12/envs/health/lib/python3.8/site-packages/sklearn/linear_model/_logistic.py:1483: UserWarning: Setting penalty='none' will ignore the C and l1_ratio parameters\n",
      "  warnings.warn(\n",
      "/Users/leacebulla/.pyenv/versions/3.8.12/envs/health/lib/python3.8/site-packages/sklearn/linear_model/_sag.py:352: ConvergenceWarning: The max_iter was reached which means the coef_ did not converge\n",
      "  warnings.warn(\n",
      "/Users/leacebulla/.pyenv/versions/3.8.12/envs/health/lib/python3.8/site-packages/sklearn/linear_model/_logistic.py:1483: UserWarning: Setting penalty='none' will ignore the C and l1_ratio parameters\n",
      "  warnings.warn(\n",
      "/Users/leacebulla/.pyenv/versions/3.8.12/envs/health/lib/python3.8/site-packages/sklearn/linear_model/_logistic.py:1483: UserWarning: Setting penalty='none' will ignore the C and l1_ratio parameters\n",
      "  warnings.warn(\n",
      "/Users/leacebulla/.pyenv/versions/3.8.12/envs/health/lib/python3.8/site-packages/sklearn/linear_model/_logistic.py:1483: UserWarning: Setting penalty='none' will ignore the C and l1_ratio parameters\n",
      "  warnings.warn(\n",
      "/Users/leacebulla/.pyenv/versions/3.8.12/envs/health/lib/python3.8/site-packages/sklearn/linear_model/_logistic.py:1483: UserWarning: Setting penalty='none' will ignore the C and l1_ratio parameters\n",
      "  warnings.warn(\n",
      "/Users/leacebulla/.pyenv/versions/3.8.12/envs/health/lib/python3.8/site-packages/sklearn/linear_model/_logistic.py:1483: UserWarning: Setting penalty='none' will ignore the C and l1_ratio parameters\n",
      "  warnings.warn(\n",
      "/Users/leacebulla/.pyenv/versions/3.8.12/envs/health/lib/python3.8/site-packages/sklearn/linear_model/_logistic.py:1483: UserWarning: Setting penalty='none' will ignore the C and l1_ratio parameters\n",
      "  warnings.warn(\n",
      "/Users/leacebulla/.pyenv/versions/3.8.12/envs/health/lib/python3.8/site-packages/sklearn/linear_model/_logistic.py:1483: UserWarning: Setting penalty='none' will ignore the C and l1_ratio parameters\n",
      "  warnings.warn(\n",
      "/Users/leacebulla/.pyenv/versions/3.8.12/envs/health/lib/python3.8/site-packages/sklearn/linear_model/_logistic.py:1483: UserWarning: Setting penalty='none' will ignore the C and l1_ratio parameters\n",
      "  warnings.warn(\n",
      "/Users/leacebulla/.pyenv/versions/3.8.12/envs/health/lib/python3.8/site-packages/sklearn/linear_model/_sag.py:352: ConvergenceWarning: The max_iter was reached which means the coef_ did not converge\n",
      "  warnings.warn(\n",
      "/Users/leacebulla/.pyenv/versions/3.8.12/envs/health/lib/python3.8/site-packages/sklearn/linear_model/_logistic.py:1483: UserWarning: Setting penalty='none' will ignore the C and l1_ratio parameters\n",
      "  warnings.warn(\n",
      "/Users/leacebulla/.pyenv/versions/3.8.12/envs/health/lib/python3.8/site-packages/sklearn/linear_model/_sag.py:352: ConvergenceWarning: The max_iter was reached which means the coef_ did not converge\n",
      "  warnings.warn(\n",
      "/Users/leacebulla/.pyenv/versions/3.8.12/envs/health/lib/python3.8/site-packages/sklearn/linear_model/_logistic.py:1483: UserWarning: Setting penalty='none' will ignore the C and l1_ratio parameters\n",
      "  warnings.warn(\n",
      "/Users/leacebulla/.pyenv/versions/3.8.12/envs/health/lib/python3.8/site-packages/sklearn/linear_model/_logistic.py:1483: UserWarning: Setting penalty='none' will ignore the C and l1_ratio parameters\n",
      "  warnings.warn(\n",
      "/Users/leacebulla/.pyenv/versions/3.8.12/envs/health/lib/python3.8/site-packages/sklearn/linear_model/_sag.py:352: ConvergenceWarning: The max_iter was reached which means the coef_ did not converge\n",
      "  warnings.warn(\n",
      "/Users/leacebulla/.pyenv/versions/3.8.12/envs/health/lib/python3.8/site-packages/sklearn/linear_model/_sag.py:352: ConvergenceWarning: The max_iter was reached which means the coef_ did not converge\n",
      "  warnings.warn(\n",
      "/Users/leacebulla/.pyenv/versions/3.8.12/envs/health/lib/python3.8/site-packages/sklearn/linear_model/_sag.py:352: ConvergenceWarning: The max_iter was reached which means the coef_ did not converge\n",
      "  warnings.warn(\n",
      "/Users/leacebulla/.pyenv/versions/3.8.12/envs/health/lib/python3.8/site-packages/sklearn/linear_model/_sag.py:352: ConvergenceWarning: The max_iter was reached which means the coef_ did not converge\n",
      "  warnings.warn(\n",
      "/Users/leacebulla/.pyenv/versions/3.8.12/envs/health/lib/python3.8/site-packages/sklearn/linear_model/_logistic.py:1483: UserWarning: Setting penalty='none' will ignore the C and l1_ratio parameters\n",
      "  warnings.warn(\n",
      "/Users/leacebulla/.pyenv/versions/3.8.12/envs/health/lib/python3.8/site-packages/sklearn/linear_model/_sag.py:352: ConvergenceWarning: The max_iter was reached which means the coef_ did not converge\n",
      "  warnings.warn(\n",
      "/Users/leacebulla/.pyenv/versions/3.8.12/envs/health/lib/python3.8/site-packages/sklearn/linear_model/_logistic.py:1483: UserWarning: Setting penalty='none' will ignore the C and l1_ratio parameters\n",
      "  warnings.warn(\n",
      "/Users/leacebulla/.pyenv/versions/3.8.12/envs/health/lib/python3.8/site-packages/sklearn/linear_model/_sag.py:352: ConvergenceWarning: The max_iter was reached which means the coef_ did not converge\n",
      "  warnings.warn(\n"
     ]
    },
    {
     "name": "stderr",
     "output_type": "stream",
     "text": [
      "/Users/leacebulla/.pyenv/versions/3.8.12/envs/health/lib/python3.8/site-packages/sklearn/linear_model/_logistic.py:1483: UserWarning: Setting penalty='none' will ignore the C and l1_ratio parameters\n",
      "  warnings.warn(\n",
      "/Users/leacebulla/.pyenv/versions/3.8.12/envs/health/lib/python3.8/site-packages/sklearn/linear_model/_logistic.py:1483: UserWarning: Setting penalty='none' will ignore the C and l1_ratio parameters\n",
      "  warnings.warn(\n",
      "/Users/leacebulla/.pyenv/versions/3.8.12/envs/health/lib/python3.8/site-packages/sklearn/linear_model/_sag.py:352: ConvergenceWarning: The max_iter was reached which means the coef_ did not converge\n",
      "  warnings.warn(\n",
      "/Users/leacebulla/.pyenv/versions/3.8.12/envs/health/lib/python3.8/site-packages/sklearn/linear_model/_logistic.py:1483: UserWarning: Setting penalty='none' will ignore the C and l1_ratio parameters\n",
      "  warnings.warn(\n",
      "/Users/leacebulla/.pyenv/versions/3.8.12/envs/health/lib/python3.8/site-packages/sklearn/linear_model/_sag.py:352: ConvergenceWarning: The max_iter was reached which means the coef_ did not converge\n",
      "  warnings.warn(\n",
      "/Users/leacebulla/.pyenv/versions/3.8.12/envs/health/lib/python3.8/site-packages/sklearn/linear_model/_sag.py:352: ConvergenceWarning: The max_iter was reached which means the coef_ did not converge\n",
      "  warnings.warn(\n",
      "/Users/leacebulla/.pyenv/versions/3.8.12/envs/health/lib/python3.8/site-packages/sklearn/linear_model/_logistic.py:1483: UserWarning: Setting penalty='none' will ignore the C and l1_ratio parameters\n",
      "  warnings.warn(\n",
      "/Users/leacebulla/.pyenv/versions/3.8.12/envs/health/lib/python3.8/site-packages/sklearn/linear_model/_logistic.py:1483: UserWarning: Setting penalty='none' will ignore the C and l1_ratio parameters\n",
      "  warnings.warn(\n",
      "/Users/leacebulla/.pyenv/versions/3.8.12/envs/health/lib/python3.8/site-packages/sklearn/linear_model/_logistic.py:1483: UserWarning: Setting penalty='none' will ignore the C and l1_ratio parameters\n",
      "  warnings.warn(\n",
      "/Users/leacebulla/.pyenv/versions/3.8.12/envs/health/lib/python3.8/site-packages/sklearn/linear_model/_sag.py:352: ConvergenceWarning: The max_iter was reached which means the coef_ did not converge\n",
      "  warnings.warn(\n",
      "/Users/leacebulla/.pyenv/versions/3.8.12/envs/health/lib/python3.8/site-packages/sklearn/linear_model/_logistic.py:1483: UserWarning: Setting penalty='none' will ignore the C and l1_ratio parameters\n",
      "  warnings.warn(\n",
      "/Users/leacebulla/.pyenv/versions/3.8.12/envs/health/lib/python3.8/site-packages/sklearn/linear_model/_sag.py:352: ConvergenceWarning: The max_iter was reached which means the coef_ did not converge\n",
      "  warnings.warn(\n",
      "/Users/leacebulla/.pyenv/versions/3.8.12/envs/health/lib/python3.8/site-packages/sklearn/linear_model/_logistic.py:1483: UserWarning: Setting penalty='none' will ignore the C and l1_ratio parameters\n",
      "  warnings.warn(\n",
      "/Users/leacebulla/.pyenv/versions/3.8.12/envs/health/lib/python3.8/site-packages/sklearn/linear_model/_logistic.py:1483: UserWarning: Setting penalty='none' will ignore the C and l1_ratio parameters\n",
      "  warnings.warn(\n",
      "/Users/leacebulla/.pyenv/versions/3.8.12/envs/health/lib/python3.8/site-packages/sklearn/linear_model/_sag.py:352: ConvergenceWarning: The max_iter was reached which means the coef_ did not converge\n",
      "  warnings.warn(\n",
      "/Users/leacebulla/.pyenv/versions/3.8.12/envs/health/lib/python3.8/site-packages/sklearn/linear_model/_logistic.py:1483: UserWarning: Setting penalty='none' will ignore the C and l1_ratio parameters\n",
      "  warnings.warn(\n",
      "/Users/leacebulla/.pyenv/versions/3.8.12/envs/health/lib/python3.8/site-packages/sklearn/linear_model/_sag.py:352: ConvergenceWarning: The max_iter was reached which means the coef_ did not converge\n",
      "  warnings.warn(\n",
      "/Users/leacebulla/.pyenv/versions/3.8.12/envs/health/lib/python3.8/site-packages/sklearn/linear_model/_sag.py:352: ConvergenceWarning: The max_iter was reached which means the coef_ did not converge\n",
      "  warnings.warn(\n",
      "/Users/leacebulla/.pyenv/versions/3.8.12/envs/health/lib/python3.8/site-packages/sklearn/linear_model/_logistic.py:1483: UserWarning: Setting penalty='none' will ignore the C and l1_ratio parameters\n",
      "  warnings.warn(\n",
      "/Users/leacebulla/.pyenv/versions/3.8.12/envs/health/lib/python3.8/site-packages/sklearn/linear_model/_logistic.py:1483: UserWarning: Setting penalty='none' will ignore the C and l1_ratio parameters\n",
      "  warnings.warn(\n",
      "/Users/leacebulla/.pyenv/versions/3.8.12/envs/health/lib/python3.8/site-packages/sklearn/linear_model/_logistic.py:1483: UserWarning: Setting penalty='none' will ignore the C and l1_ratio parameters\n",
      "  warnings.warn(\n",
      "/Users/leacebulla/.pyenv/versions/3.8.12/envs/health/lib/python3.8/site-packages/sklearn/linear_model/_logistic.py:1483: UserWarning: Setting penalty='none' will ignore the C and l1_ratio parameters\n",
      "  warnings.warn(\n",
      "/Users/leacebulla/.pyenv/versions/3.8.12/envs/health/lib/python3.8/site-packages/sklearn/linear_model/_sag.py:352: ConvergenceWarning: The max_iter was reached which means the coef_ did not converge\n",
      "  warnings.warn(\n",
      "/Users/leacebulla/.pyenv/versions/3.8.12/envs/health/lib/python3.8/site-packages/sklearn/linear_model/_sag.py:352: ConvergenceWarning: The max_iter was reached which means the coef_ did not converge\n",
      "  warnings.warn(\n",
      "/Users/leacebulla/.pyenv/versions/3.8.12/envs/health/lib/python3.8/site-packages/sklearn/linear_model/_sag.py:352: ConvergenceWarning: The max_iter was reached which means the coef_ did not converge\n",
      "  warnings.warn(\n",
      "/Users/leacebulla/.pyenv/versions/3.8.12/envs/health/lib/python3.8/site-packages/sklearn/linear_model/_sag.py:352: ConvergenceWarning: The max_iter was reached which means the coef_ did not converge\n",
      "  warnings.warn(\n",
      "/Users/leacebulla/.pyenv/versions/3.8.12/envs/health/lib/python3.8/site-packages/sklearn/linear_model/_sag.py:352: ConvergenceWarning: The max_iter was reached which means the coef_ did not converge\n",
      "  warnings.warn(\n",
      "/Users/leacebulla/.pyenv/versions/3.8.12/envs/health/lib/python3.8/site-packages/sklearn/linear_model/_sag.py:352: ConvergenceWarning: The max_iter was reached which means the coef_ did not converge\n",
      "  warnings.warn(\n",
      "/Users/leacebulla/.pyenv/versions/3.8.12/envs/health/lib/python3.8/site-packages/sklearn/linear_model/_sag.py:352: ConvergenceWarning: The max_iter was reached which means the coef_ did not converge\n",
      "  warnings.warn(\n",
      "/Users/leacebulla/.pyenv/versions/3.8.12/envs/health/lib/python3.8/site-packages/sklearn/linear_model/_sag.py:352: ConvergenceWarning: The max_iter was reached which means the coef_ did not converge\n",
      "  warnings.warn(\n",
      "/Users/leacebulla/.pyenv/versions/3.8.12/envs/health/lib/python3.8/site-packages/sklearn/linear_model/_logistic.py:1483: UserWarning: Setting penalty='none' will ignore the C and l1_ratio parameters\n",
      "  warnings.warn(\n",
      "/Users/leacebulla/.pyenv/versions/3.8.12/envs/health/lib/python3.8/site-packages/sklearn/linear_model/_sag.py:352: ConvergenceWarning: The max_iter was reached which means the coef_ did not converge\n",
      "  warnings.warn(\n",
      "/Users/leacebulla/.pyenv/versions/3.8.12/envs/health/lib/python3.8/site-packages/sklearn/linear_model/_logistic.py:1483: UserWarning: Setting penalty='none' will ignore the C and l1_ratio parameters\n",
      "  warnings.warn(\n",
      "/Users/leacebulla/.pyenv/versions/3.8.12/envs/health/lib/python3.8/site-packages/sklearn/linear_model/_sag.py:352: ConvergenceWarning: The max_iter was reached which means the coef_ did not converge\n",
      "  warnings.warn(\n",
      "/Users/leacebulla/.pyenv/versions/3.8.12/envs/health/lib/python3.8/site-packages/sklearn/linear_model/_logistic.py:1483: UserWarning: Setting penalty='none' will ignore the C and l1_ratio parameters\n",
      "  warnings.warn(\n",
      "/Users/leacebulla/.pyenv/versions/3.8.12/envs/health/lib/python3.8/site-packages/sklearn/linear_model/_sag.py:352: ConvergenceWarning: The max_iter was reached which means the coef_ did not converge\n",
      "  warnings.warn(\n",
      "/Users/leacebulla/.pyenv/versions/3.8.12/envs/health/lib/python3.8/site-packages/sklearn/linear_model/_logistic.py:1483: UserWarning: Setting penalty='none' will ignore the C and l1_ratio parameters\n",
      "  warnings.warn(\n",
      "/Users/leacebulla/.pyenv/versions/3.8.12/envs/health/lib/python3.8/site-packages/sklearn/linear_model/_sag.py:352: ConvergenceWarning: The max_iter was reached which means the coef_ did not converge\n",
      "  warnings.warn(\n",
      "/Users/leacebulla/.pyenv/versions/3.8.12/envs/health/lib/python3.8/site-packages/sklearn/linear_model/_logistic.py:1483: UserWarning: Setting penalty='none' will ignore the C and l1_ratio parameters\n",
      "  warnings.warn(\n",
      "/Users/leacebulla/.pyenv/versions/3.8.12/envs/health/lib/python3.8/site-packages/sklearn/linear_model/_sag.py:352: ConvergenceWarning: The max_iter was reached which means the coef_ did not converge\n",
      "  warnings.warn(\n",
      "/Users/leacebulla/.pyenv/versions/3.8.12/envs/health/lib/python3.8/site-packages/sklearn/linear_model/_logistic.py:1483: UserWarning: Setting penalty='none' will ignore the C and l1_ratio parameters\n",
      "  warnings.warn(\n",
      "/Users/leacebulla/.pyenv/versions/3.8.12/envs/health/lib/python3.8/site-packages/sklearn/linear_model/_logistic.py:1483: UserWarning: Setting penalty='none' will ignore the C and l1_ratio parameters\n",
      "  warnings.warn(\n",
      "/Users/leacebulla/.pyenv/versions/3.8.12/envs/health/lib/python3.8/site-packages/sklearn/linear_model/_sag.py:352: ConvergenceWarning: The max_iter was reached which means the coef_ did not converge\n",
      "  warnings.warn(\n"
     ]
    }
   ],
   "source": [
    "k_grid={\"solver\": [\"newton-cg\", \"lbfgs\", \"liblinear\", \"sag\", \"saga\"],\"penalty\": [\"none\", \"l1\", \"l2\", \"elasticnet\"],\"C\":[100, 10, 1.0, 0.1, 0.01]}\n",
    " \n",
    "search = GridSearchCV(model_log, k_grid,\n",
    "                           scoring = 'accuracy',\n",
    "                           cv = 5,\n",
    "                           n_jobs=-1 # paralellize computation\n",
    "                          ) \n",
    "search.fit(X_train7, y_train7);\n",
    "search.best_params_"
   ]
  },
  {
   "cell_type": "code",
   "execution_count": 269,
   "id": "abcb7508",
   "metadata": {
    "hidden": true
   },
   "outputs": [
    {
     "data": {
      "text/plain": [
       "0.6441287878787879"
      ]
     },
     "execution_count": 269,
     "metadata": {},
     "output_type": "execute_result"
    }
   ],
   "source": [
    "model_log_best3 = LogisticRegression(class_weight='balanced',C=0.1,penalty=\"l2\",solver=\"liblinear\")\n",
    "model_log_best3 = model_log_best3.fit(X_train3,y_train)\n",
    "\n",
    "cv_results = cross_validate(model_log_best3, X_train3, y_train3, cv=5, scoring=[\"accuracy\",\"recall\",\"precision\",\"f1\"])\n",
    "pd.DataFrame(cv_results)\n",
    "cv_results[\"test_accuracy\"].mean()"
   ]
  },
  {
   "cell_type": "code",
   "execution_count": 270,
   "id": "366b6c04",
   "metadata": {
    "hidden": true
   },
   "outputs": [
    {
     "data": {
      "text/plain": [
       "0.5960227272727272"
      ]
     },
     "execution_count": 270,
     "metadata": {},
     "output_type": "execute_result"
    }
   ],
   "source": [
    "model_log_best2 = LogisticRegression(class_weight='balanced',C=0.1,penalty=\"l2\",solver=\"liblinear\")\n",
    "model_log_best2 = model_log_best2.fit(X_train2,y_train)\n",
    "\n",
    "cv_results = cross_validate(model_log_best2, X_train2, y_train2, cv=5, scoring=[\"accuracy\",\"recall\",\"precision\",\"f1\"])\n",
    "pd.DataFrame(cv_results)\n",
    "cv_results[\"test_accuracy\"].mean()"
   ]
  },
  {
   "cell_type": "code",
   "execution_count": 271,
   "id": "787df3d1",
   "metadata": {
    "hidden": true
   },
   "outputs": [
    {
     "data": {
      "text/plain": [
       "0.5246666666666666"
      ]
     },
     "execution_count": 271,
     "metadata": {},
     "output_type": "execute_result"
    }
   ],
   "source": [
    "model_log_best4 = LogisticRegression(class_weight='balanced',C=0.01,penalty=\"l2\",solver=\"liblinear\")\n",
    "model_log_best4 = model_log_best4.fit(X_train4,y_train4)\n",
    "\n",
    "cv_results = cross_validate(model_log_best4, X_train4, y_train4, cv=5, scoring=[\"accuracy\",\"recall\",\"precision\",\"f1\"])\n",
    "pd.DataFrame(cv_results)\n",
    "cv_results[\"test_accuracy\"].mean()"
   ]
  },
  {
   "cell_type": "code",
   "execution_count": 273,
   "id": "d8febf5b",
   "metadata": {
    "hidden": true
   },
   "outputs": [
    {
     "data": {
      "text/plain": [
       "0.4979166666666666"
      ]
     },
     "execution_count": 273,
     "metadata": {},
     "output_type": "execute_result"
    }
   ],
   "source": [
    "model_log_best5 = LogisticRegression(class_weight='balanced',C=100,penalty=\"l2\",solver=\"liblinear\")\n",
    "model_log_best5 = model_log_best5.fit(X_train5,y_train5)\n",
    "\n",
    "cv_results = cross_validate(model_log_best5, X_train5, y_train, cv=5, scoring=[\"accuracy\",\"recall\",\"precision\",\"f1\"])\n",
    "pd.DataFrame(cv_results)\n",
    "cv_results[\"test_accuracy\"].mean()"
   ]
  },
  {
   "cell_type": "code",
   "execution_count": 274,
   "id": "3857f4b8",
   "metadata": {
    "hidden": true
   },
   "outputs": [
    {
     "name": "stderr",
     "output_type": "stream",
     "text": [
      "/Users/leacebulla/.pyenv/versions/3.8.12/envs/health/lib/python3.8/site-packages/sklearn/linear_model/_logistic.py:1483: UserWarning: Setting penalty='none' will ignore the C and l1_ratio parameters\n",
      "  warnings.warn(\n",
      "/Users/leacebulla/.pyenv/versions/3.8.12/envs/health/lib/python3.8/site-packages/sklearn/linear_model/_sag.py:352: ConvergenceWarning: The max_iter was reached which means the coef_ did not converge\n",
      "  warnings.warn(\n",
      "/Users/leacebulla/.pyenv/versions/3.8.12/envs/health/lib/python3.8/site-packages/sklearn/linear_model/_logistic.py:1483: UserWarning: Setting penalty='none' will ignore the C and l1_ratio parameters\n",
      "  warnings.warn(\n",
      "/Users/leacebulla/.pyenv/versions/3.8.12/envs/health/lib/python3.8/site-packages/sklearn/linear_model/_sag.py:352: ConvergenceWarning: The max_iter was reached which means the coef_ did not converge\n",
      "  warnings.warn(\n",
      "/Users/leacebulla/.pyenv/versions/3.8.12/envs/health/lib/python3.8/site-packages/sklearn/linear_model/_logistic.py:1483: UserWarning: Setting penalty='none' will ignore the C and l1_ratio parameters\n",
      "  warnings.warn(\n",
      "/Users/leacebulla/.pyenv/versions/3.8.12/envs/health/lib/python3.8/site-packages/sklearn/linear_model/_sag.py:352: ConvergenceWarning: The max_iter was reached which means the coef_ did not converge\n",
      "  warnings.warn(\n",
      "/Users/leacebulla/.pyenv/versions/3.8.12/envs/health/lib/python3.8/site-packages/sklearn/linear_model/_logistic.py:1483: UserWarning: Setting penalty='none' will ignore the C and l1_ratio parameters\n",
      "  warnings.warn(\n",
      "/Users/leacebulla/.pyenv/versions/3.8.12/envs/health/lib/python3.8/site-packages/sklearn/linear_model/_sag.py:352: ConvergenceWarning: The max_iter was reached which means the coef_ did not converge\n",
      "  warnings.warn(\n",
      "/Users/leacebulla/.pyenv/versions/3.8.12/envs/health/lib/python3.8/site-packages/sklearn/linear_model/_logistic.py:1483: UserWarning: Setting penalty='none' will ignore the C and l1_ratio parameters\n",
      "  warnings.warn(\n",
      "/Users/leacebulla/.pyenv/versions/3.8.12/envs/health/lib/python3.8/site-packages/sklearn/linear_model/_sag.py:352: ConvergenceWarning: The max_iter was reached which means the coef_ did not converge\n",
      "  warnings.warn(\n",
      "/Users/leacebulla/.pyenv/versions/3.8.12/envs/health/lib/python3.8/site-packages/sklearn/linear_model/_logistic.py:1483: UserWarning: Setting penalty='none' will ignore the C and l1_ratio parameters\n",
      "  warnings.warn(\n",
      "/Users/leacebulla/.pyenv/versions/3.8.12/envs/health/lib/python3.8/site-packages/sklearn/linear_model/_sag.py:352: ConvergenceWarning: The max_iter was reached which means the coef_ did not converge\n",
      "  warnings.warn(\n"
     ]
    },
    {
     "data": {
      "text/plain": [
       "0.6015151515151516"
      ]
     },
     "execution_count": 274,
     "metadata": {},
     "output_type": "execute_result"
    }
   ],
   "source": [
    "model_log_best6 = LogisticRegression(class_weight='balanced',C=0.01,penalty=\"none\",solver=\"sag\")\n",
    "model_log_best6 = model_log_best6.fit(X_train6,y_train6)\n",
    "\n",
    "cv_results = cross_validate(model_log_best6, X_train6, y_train6, cv=5, scoring=[\"accuracy\",\"recall\",\"precision\",\"f1\"])\n",
    "pd.DataFrame(cv_results)\n",
    "cv_results[\"test_accuracy\"].mean()"
   ]
  },
  {
   "cell_type": "markdown",
   "id": "bdb70ee3",
   "metadata": {
    "heading_collapsed": true,
    "hidden": true
   },
   "source": [
    "### Data Investigation"
   ]
  },
  {
   "cell_type": "code",
   "execution_count": 54,
   "id": "91fc68cc",
   "metadata": {
    "hidden": true
   },
   "outputs": [],
   "source": [
    "coef=model_log.coef_[0]\n",
    "dicc=dict()\n",
    "for i in range(len(list(X))):\n",
    "    dicc[list(X)[i]]=coef[i]\n",
    "\n",
    "dic=dict(sorted(dicc.items(), key=lambda item: item[1]))"
   ]
  },
  {
   "cell_type": "code",
   "execution_count": 19,
   "id": "cc8ca10d",
   "metadata": {
    "hidden": true,
    "scrolled": true
   },
   "outputs": [
    {
     "data": {
      "text/html": [
       "<div>\n",
       "<style scoped>\n",
       "    .dataframe tbody tr th:only-of-type {\n",
       "        vertical-align: middle;\n",
       "    }\n",
       "\n",
       "    .dataframe tbody tr th {\n",
       "        vertical-align: top;\n",
       "    }\n",
       "\n",
       "    .dataframe thead th {\n",
       "        text-align: right;\n",
       "    }\n",
       "</style>\n",
       "<table border=\"1\" class=\"dataframe\">\n",
       "  <thead>\n",
       "    <tr style=\"text-align: right;\">\n",
       "      <th></th>\n",
       "      <th>0</th>\n",
       "    </tr>\n",
       "  </thead>\n",
       "  <tbody>\n",
       "    <tr>\n",
       "      <th>Mast cells activated</th>\n",
       "      <td>-0.102239</td>\n",
       "    </tr>\n",
       "    <tr>\n",
       "      <th>Dendritic cells resting</th>\n",
       "      <td>-0.097224</td>\n",
       "    </tr>\n",
       "    <tr>\n",
       "      <th>Macrophages M2</th>\n",
       "      <td>-0.066030</td>\n",
       "    </tr>\n",
       "    <tr>\n",
       "      <th>T cells CD4 memory activated</th>\n",
       "      <td>-0.045922</td>\n",
       "    </tr>\n",
       "    <tr>\n",
       "      <th>T cells follicular helper</th>\n",
       "      <td>-0.035977</td>\n",
       "    </tr>\n",
       "    <tr>\n",
       "      <th>T cells CD4 naive</th>\n",
       "      <td>-0.026318</td>\n",
       "    </tr>\n",
       "    <tr>\n",
       "      <th>T cells gamma delta</th>\n",
       "      <td>-0.019007</td>\n",
       "    </tr>\n",
       "    <tr>\n",
       "      <th>Monocytes</th>\n",
       "      <td>-0.013113</td>\n",
       "    </tr>\n",
       "    <tr>\n",
       "      <th>Dendritic cells activated</th>\n",
       "      <td>-0.013089</td>\n",
       "    </tr>\n",
       "    <tr>\n",
       "      <th>Macrophages M0</th>\n",
       "      <td>-0.011504</td>\n",
       "    </tr>\n",
       "    <tr>\n",
       "      <th>T cells CD4 memory resting</th>\n",
       "      <td>-0.001169</td>\n",
       "    </tr>\n",
       "    <tr>\n",
       "      <th>B cells naive</th>\n",
       "      <td>-0.001068</td>\n",
       "    </tr>\n",
       "    <tr>\n",
       "      <th>Neutrophils</th>\n",
       "      <td>0.000273</td>\n",
       "    </tr>\n",
       "    <tr>\n",
       "      <th>B cells memory</th>\n",
       "      <td>0.000318</td>\n",
       "    </tr>\n",
       "    <tr>\n",
       "      <th>Mast cells resting</th>\n",
       "      <td>0.003027</td>\n",
       "    </tr>\n",
       "    <tr>\n",
       "      <th>NK cells resting</th>\n",
       "      <td>0.004331</td>\n",
       "    </tr>\n",
       "    <tr>\n",
       "      <th>Plasma cells</th>\n",
       "      <td>0.014466</td>\n",
       "    </tr>\n",
       "    <tr>\n",
       "      <th>NK cells activated</th>\n",
       "      <td>0.020259</td>\n",
       "    </tr>\n",
       "    <tr>\n",
       "      <th>Macrophages M1</th>\n",
       "      <td>0.022385</td>\n",
       "    </tr>\n",
       "    <tr>\n",
       "      <th>Eosinophils</th>\n",
       "      <td>0.032099</td>\n",
       "    </tr>\n",
       "    <tr>\n",
       "      <th>T cells regulatory (Tregs)</th>\n",
       "      <td>0.038090</td>\n",
       "    </tr>\n",
       "    <tr>\n",
       "      <th>T cells CD8</th>\n",
       "      <td>0.092753</td>\n",
       "    </tr>\n",
       "  </tbody>\n",
       "</table>\n",
       "</div>"
      ],
      "text/plain": [
       "                                     0\n",
       "Mast cells activated         -0.102239\n",
       "Dendritic cells resting      -0.097224\n",
       "Macrophages M2               -0.066030\n",
       "T cells CD4 memory activated -0.045922\n",
       "T cells follicular helper    -0.035977\n",
       "T cells CD4 naive            -0.026318\n",
       "T cells gamma delta          -0.019007\n",
       "Monocytes                    -0.013113\n",
       "Dendritic cells activated    -0.013089\n",
       "Macrophages M0               -0.011504\n",
       "T cells CD4 memory resting   -0.001169\n",
       "B cells naive                -0.001068\n",
       "Neutrophils                   0.000273\n",
       "B cells memory                0.000318\n",
       "Mast cells resting            0.003027\n",
       "NK cells resting              0.004331\n",
       "Plasma cells                  0.014466\n",
       "NK cells activated            0.020259\n",
       "Macrophages M1                0.022385\n",
       "Eosinophils                   0.032099\n",
       "T cells regulatory (Tregs)    0.038090\n",
       "T cells CD8                   0.092753"
      ]
     },
     "execution_count": 19,
     "metadata": {},
     "output_type": "execute_result"
    }
   ],
   "source": [
    "data=pd.DataFrame.from_dict(dic,orient='index')\n",
    "data"
   ]
  },
  {
   "cell_type": "code",
   "execution_count": 20,
   "id": "6a465639",
   "metadata": {
    "hidden": true
   },
   "outputs": [
    {
     "data": {
      "text/plain": [
       "<AxesSubplot:>"
      ]
     },
     "execution_count": 20,
     "metadata": {},
     "output_type": "execute_result"
    },
    {
     "data": {
      "image/png": "[encoded data removed]",
      "text/plain": [
       "<Figure size 432x288 with 2 Axes>"
      ]
     },
     "metadata": {
      "needs_background": "light"
     },
     "output_type": "display_data"
    }
   ],
   "source": [
    "corr = new_df.corr()\n",
    "sns.heatmap(corr, \n",
    "        xticklabels=corr.columns,\n",
    "        cmap= \"twilight\")"
   ]
  },
  {
   "cell_type": "markdown",
   "id": "b831ac46",
   "metadata": {},
   "source": [
    "## SVC Linear"
   ]
  },
  {
   "cell_type": "code",
   "execution_count": 68,
   "id": "3b6b1c20",
   "metadata": {
    "scrolled": true
   },
   "outputs": [
    {
     "data": {
      "text/plain": [
       "0.6316287878787878"
      ]
     },
     "execution_count": 68,
     "metadata": {},
     "output_type": "execute_result"
    }
   ],
   "source": [
    "from sklearn.svm import LinearSVC\n",
    "model_linsvc = LinearSVC()\n",
    "\n",
    "cv_results = cross_validate(model_linsvc, X_train2, y_train2, cv=5, scoring=[\"accuracy\",\"recall\",\"precision\",\"f1\"])\n",
    "pd.DataFrame(cv_results)\n",
    "cv_results[\"test_accuracy\"].mean()"
   ]
  },
  {
   "cell_type": "code",
   "execution_count": 71,
   "id": "6fa8618f",
   "metadata": {},
   "outputs": [
    {
     "data": {
      "text/plain": [
       "0.6015151515151516"
      ]
     },
     "execution_count": 71,
     "metadata": {},
     "output_type": "execute_result"
    }
   ],
   "source": [
    "cv_results = cross_validate(model_linsvc, X_train3, y_train3, cv=5, scoring=[\"accuracy\",\"recall\",\"precision\",\"f1\"])\n",
    "pd.DataFrame(cv_results)\n",
    "cv_results[\"test_accuracy\"].mean()"
   ]
  },
  {
   "cell_type": "code",
   "execution_count": 277,
   "id": "44d0a119",
   "metadata": {},
   "outputs": [
    {
     "data": {
      "text/plain": [
       "0.5736666666666668"
      ]
     },
     "execution_count": 277,
     "metadata": {},
     "output_type": "execute_result"
    }
   ],
   "source": [
    "cv_results = cross_validate(model_linsvc, X_train4, y_train4, cv=5, scoring=[\"accuracy\",\"recall\",\"precision\",\"f1\"])\n",
    "pd.DataFrame(cv_results)\n",
    "cv_results[\"test_accuracy\"].mean()"
   ]
  },
  {
   "cell_type": "code",
   "execution_count": 278,
   "id": "aebac2ec",
   "metadata": {},
   "outputs": [
    {
     "data": {
      "text/plain": [
       "0.5708333333333333"
      ]
     },
     "execution_count": 278,
     "metadata": {},
     "output_type": "execute_result"
    }
   ],
   "source": [
    "cv_results = cross_validate(model_linsvc, X_train6, y_train6, cv=5, scoring=[\"accuracy\",\"recall\",\"precision\",\"f1\"])\n",
    "pd.DataFrame(cv_results)\n",
    "cv_results[\"test_accuracy\"].mean()"
   ]
  },
  {
   "cell_type": "code",
   "execution_count": 281,
   "id": "077e4e5e",
   "metadata": {},
   "outputs": [
    {
     "name": "stderr",
     "output_type": "stream",
     "text": [
      "/Users/leacebulla/.pyenv/versions/3.8.12/envs/health/lib/python3.8/site-packages/sklearn/model_selection/_validation.py:372: FitFailedWarning: \n",
      "50 fits failed out of a total of 200.\n",
      "The score on these train-test partitions for these parameters will be set to nan.\n",
      "If these failures are not expected, you can try to debug them by setting error_score='raise'.\n",
      "\n",
      "Below are more details about the failures:\n",
      "--------------------------------------------------------------------------------\n",
      "25 fits failed with the following error:\n",
      "Traceback (most recent call last):\n",
      "  File \"/Users/leacebulla/.pyenv/versions/3.8.12/envs/health/lib/python3.8/site-packages/sklearn/model_selection/_validation.py\", line 681, in _fit_and_score\n",
      "    estimator.fit(X_train, y_train, **fit_params)\n",
      "  File \"/Users/leacebulla/.pyenv/versions/3.8.12/envs/health/lib/python3.8/site-packages/sklearn/svm/_classes.py\", line 257, in fit\n",
      "    self.coef_, self.intercept_, self.n_iter_ = _fit_liblinear(\n",
      "  File \"/Users/leacebulla/.pyenv/versions/3.8.12/envs/health/lib/python3.8/site-packages/sklearn/svm/_base.py\", line 1185, in _fit_liblinear\n",
      "    solver_type = _get_liblinear_solver_type(multi_class, penalty, loss, dual)\n",
      "  File \"/Users/leacebulla/.pyenv/versions/3.8.12/envs/health/lib/python3.8/site-packages/sklearn/svm/_base.py\", line 1024, in _get_liblinear_solver_type\n",
      "    raise ValueError(\n",
      "ValueError: Unsupported set of arguments: The combination of penalty='l1' and loss='hinge' is not supported, Parameters: penalty='l1', loss='hinge', dual=True\n",
      "\n",
      "--------------------------------------------------------------------------------\n",
      "25 fits failed with the following error:\n",
      "Traceback (most recent call last):\n",
      "  File \"/Users/leacebulla/.pyenv/versions/3.8.12/envs/health/lib/python3.8/site-packages/sklearn/model_selection/_validation.py\", line 681, in _fit_and_score\n",
      "    estimator.fit(X_train, y_train, **fit_params)\n",
      "  File \"/Users/leacebulla/.pyenv/versions/3.8.12/envs/health/lib/python3.8/site-packages/sklearn/svm/_classes.py\", line 257, in fit\n",
      "    self.coef_, self.intercept_, self.n_iter_ = _fit_liblinear(\n",
      "  File \"/Users/leacebulla/.pyenv/versions/3.8.12/envs/health/lib/python3.8/site-packages/sklearn/svm/_base.py\", line 1185, in _fit_liblinear\n",
      "    solver_type = _get_liblinear_solver_type(multi_class, penalty, loss, dual)\n",
      "  File \"/Users/leacebulla/.pyenv/versions/3.8.12/envs/health/lib/python3.8/site-packages/sklearn/svm/_base.py\", line 1024, in _get_liblinear_solver_type\n",
      "    raise ValueError(\n",
      "ValueError: Unsupported set of arguments: The combination of penalty='l1' and loss='squared_hinge' are not supported when dual=True, Parameters: penalty='l1', loss='squared_hinge', dual=True\n",
      "\n",
      "  warnings.warn(some_fits_failed_message, FitFailedWarning)\n",
      "/Users/leacebulla/.pyenv/versions/3.8.12/envs/health/lib/python3.8/site-packages/sklearn/model_selection/_search.py:969: UserWarning: One or more of the test scores are non-finite: [       nan 0.62651515 0.63863636 0.63863636        nan 0.62613636\n",
      " 0.63863636 0.63863636        nan 0.59526515 0.61363636 0.61363636\n",
      "        nan 0.62613636 0.61363636 0.61363636        nan 0.50909091\n",
      " 0.54621212 0.54621212        nan 0.64450758 0.54621212 0.54621212\n",
      "        nan 0.50909091 0.50909091 0.50909091        nan 0.60132576\n",
      " 0.50909091 0.50909091        nan 0.50909091 0.50909091 0.50909091\n",
      "        nan 0.52746212 0.50909091 0.50909091]\n",
      "  warnings.warn(\n"
     ]
    },
    {
     "data": {
      "text/plain": [
       "{'C': 1.0, 'loss': 'squared_hinge', 'multi_class': 'ovr', 'penalty': 'l2'}"
      ]
     },
     "execution_count": 281,
     "metadata": {},
     "output_type": "execute_result"
    }
   ],
   "source": [
    "k_grid = [{\"penalty\": [\"l1\", \"l2\"],\"loss\":[\"hinge\", \"squared_hinge\"],\"C\":[100, 10, 1.0, 0.1, 0.01],\"multi_class\":[\"ovr\", \"crammer_singer\"]}]\n",
    " \n",
    "search = GridSearchCV(model_linsvc, k_grid,\n",
    "                           scoring = 'accuracy',\n",
    "                           cv = 5,\n",
    "                           n_jobs=-1 # paralellize computation\n",
    "                          ) \n",
    "search.fit(X_train3,y_train3);\n",
    "search.best_params_"
   ]
  },
  {
   "cell_type": "code",
   "execution_count": 72,
   "id": "e801b79f",
   "metadata": {},
   "outputs": [
    {
     "data": {
      "text/plain": [
       "0.6015151515151516"
      ]
     },
     "execution_count": 72,
     "metadata": {},
     "output_type": "execute_result"
    }
   ],
   "source": [
    "model_linsvc_best3 = LinearSVC(C=1.0, penalty=\"l2\", multi_class='ovr', loss= 'squared_hinge')\n",
    "model_linsvc_best3 = model_linsvc_best3.fit(X_train3,y_train3)\n",
    "\n",
    "cv_results = cross_validate(model_linsvc_best3, X_train3, y_train3, cv=5, scoring=[\"accuracy\",\"recall\",\"precision\",\"f1\"])\n",
    "pd.DataFrame(cv_results)\n",
    "cv_results[\"test_accuracy\"].mean()"
   ]
  },
  {
   "cell_type": "code",
   "execution_count": 73,
   "id": "076ca484",
   "metadata": {},
   "outputs": [],
   "source": [
    "import joblib"
   ]
  },
  {
   "cell_type": "code",
   "execution_count": 74,
   "id": "f915c62a",
   "metadata": {},
   "outputs": [
    {
     "data": {
      "text/plain": [
       "['best_model.joblib']"
      ]
     },
     "execution_count": 74,
     "metadata": {},
     "output_type": "execute_result"
    }
   ],
   "source": [
    "joblib.dump(model_linsvc_best3,'best_model.joblib')"
   ]
  },
  {
   "cell_type": "code",
   "execution_count": 62,
   "id": "3e0698ab",
   "metadata": {},
   "outputs": [
    {
     "name": "stderr",
     "output_type": "stream",
     "text": [
      "/Users/leacebulla/.pyenv/versions/3.8.12/envs/health/lib/python3.8/site-packages/sklearn/svm/_base.py:1206: ConvergenceWarning: Liblinear failed to converge, increase the number of iterations.\n",
      "  warnings.warn(\n",
      "/Users/leacebulla/.pyenv/versions/3.8.12/envs/health/lib/python3.8/site-packages/sklearn/svm/_base.py:1206: ConvergenceWarning: Liblinear failed to converge, increase the number of iterations.\n",
      "  warnings.warn(\n",
      "/Users/leacebulla/.pyenv/versions/3.8.12/envs/health/lib/python3.8/site-packages/sklearn/svm/_base.py:1206: ConvergenceWarning: Liblinear failed to converge, increase the number of iterations.\n",
      "  warnings.warn(\n",
      "/Users/leacebulla/.pyenv/versions/3.8.12/envs/health/lib/python3.8/site-packages/sklearn/svm/_base.py:1206: ConvergenceWarning: Liblinear failed to converge, increase the number of iterations.\n",
      "  warnings.warn(\n",
      "/Users/leacebulla/.pyenv/versions/3.8.12/envs/health/lib/python3.8/site-packages/sklearn/svm/_base.py:1206: ConvergenceWarning: Liblinear failed to converge, increase the number of iterations.\n",
      "  warnings.warn(\n",
      "/Users/leacebulla/.pyenv/versions/3.8.12/envs/health/lib/python3.8/site-packages/sklearn/svm/_base.py:1206: ConvergenceWarning: Liblinear failed to converge, increase the number of iterations.\n",
      "  warnings.warn(\n"
     ]
    },
    {
     "data": {
      "text/plain": [
       "0.5886363636363636"
      ]
     },
     "execution_count": 62,
     "metadata": {},
     "output_type": "execute_result"
    }
   ],
   "source": [
    "model_linsvc_best6 = LinearSVC(C=10, penalty=\"l2\", multi_class='ovr', loss= 'squared_hinge')\n",
    "model_linsvc_best6 = model_linsvc_best6.fit(X_train6,y_train6)\n",
    "\n",
    "cv_results = cross_validate(model_linsvc_best6, X_train6, y_train6, cv=5, scoring=[\"accuracy\",\"recall\",\"precision\",\"f1\"])\n",
    "pd.DataFrame(cv_results)\n",
    "cv_results[\"test_accuracy\"].mean()"
   ]
  },
  {
   "cell_type": "code",
   "execution_count": 284,
   "id": "8ec32781",
   "metadata": {},
   "outputs": [
    {
     "name": "stderr",
     "output_type": "stream",
     "text": [
      "/Users/leacebulla/.pyenv/versions/3.8.12/envs/health/lib/python3.8/site-packages/sklearn/svm/_base.py:1206: ConvergenceWarning: Liblinear failed to converge, increase the number of iterations.\n",
      "  warnings.warn(\n",
      "/Users/leacebulla/.pyenv/versions/3.8.12/envs/health/lib/python3.8/site-packages/sklearn/svm/_base.py:1206: ConvergenceWarning: Liblinear failed to converge, increase the number of iterations.\n",
      "  warnings.warn(\n",
      "/Users/leacebulla/.pyenv/versions/3.8.12/envs/health/lib/python3.8/site-packages/sklearn/svm/_base.py:1206: ConvergenceWarning: Liblinear failed to converge, increase the number of iterations.\n",
      "  warnings.warn(\n",
      "/Users/leacebulla/.pyenv/versions/3.8.12/envs/health/lib/python3.8/site-packages/sklearn/svm/_base.py:1206: ConvergenceWarning: Liblinear failed to converge, increase the number of iterations.\n",
      "  warnings.warn(\n",
      "/Users/leacebulla/.pyenv/versions/3.8.12/envs/health/lib/python3.8/site-packages/sklearn/svm/_base.py:1206: ConvergenceWarning: Liblinear failed to converge, increase the number of iterations.\n",
      "  warnings.warn(\n"
     ]
    },
    {
     "data": {
      "text/plain": [
       "0.5573333333333335"
      ]
     },
     "execution_count": 284,
     "metadata": {},
     "output_type": "execute_result"
    }
   ],
   "source": [
    "model_linsvc_best4 = LinearSVC(C=10, penalty=\"l1\", multi_class='crammer_singer', loss= 'hinge')\n",
    "model_linsvc_best4 = model_linsvc_best4.fit(X_train4,y_train4)\n",
    "\n",
    "cv_results = cross_validate(model_linsvc_best4, X_train4, y_train4, cv=5, scoring=[\"accuracy\",\"recall\",\"precision\",\"f1\"])\n",
    "pd.DataFrame(cv_results)\n",
    "cv_results[\"test_accuracy\"].mean()"
   ]
  },
  {
   "cell_type": "markdown",
   "id": "7b8cf5c8",
   "metadata": {},
   "source": [
    "## SVC"
   ]
  },
  {
   "cell_type": "code",
   "execution_count": 286,
   "id": "70b7a0f2",
   "metadata": {},
   "outputs": [
    {
     "data": {
      "text/plain": [
       "0.6077651515151515"
      ]
     },
     "execution_count": 286,
     "metadata": {},
     "output_type": "execute_result"
    }
   ],
   "source": [
    "from sklearn.svm import SVC\n",
    "model_svc = SVC( kernel = 'rbf')\n",
    "\n",
    "cv_results = cross_validate(model_svc, X_train2, y_train2, cv=5, scoring=[\"accuracy\",\"recall\",\"precision\",\"f1\"])\n",
    "pd.DataFrame(cv_results)\n",
    "cv_results[\"test_accuracy\"].mean()"
   ]
  },
  {
   "cell_type": "code",
   "execution_count": 287,
   "id": "25334647",
   "metadata": {},
   "outputs": [
    {
     "data": {
      "text/plain": [
       "0.5768939393939394"
      ]
     },
     "execution_count": 287,
     "metadata": {},
     "output_type": "execute_result"
    }
   ],
   "source": [
    "cv_results = cross_validate(model_svc, X_train3, y_train3, cv=5, scoring=[\"accuracy\",\"recall\",\"precision\",\"f1\"])\n",
    "pd.DataFrame(cv_results)\n",
    "cv_results[\"test_accuracy\"].mean()"
   ]
  },
  {
   "cell_type": "code",
   "execution_count": 288,
   "id": "db9d0a21",
   "metadata": {},
   "outputs": [
    {
     "data": {
      "text/plain": [
       "0.5976666666666667"
      ]
     },
     "execution_count": 288,
     "metadata": {},
     "output_type": "execute_result"
    }
   ],
   "source": [
    "cv_results = cross_validate(model_svc, X_train4, y_train4, cv=5, scoring=[\"accuracy\",\"recall\",\"precision\",\"f1\"])\n",
    "pd.DataFrame(cv_results)\n",
    "cv_results[\"test_accuracy\"].mean()"
   ]
  },
  {
   "cell_type": "code",
   "execution_count": 289,
   "id": "65156cdd",
   "metadata": {},
   "outputs": [
    {
     "data": {
      "text/plain": [
       "{'C': 1.0,\n",
       " 'decision_function_shape': 'ovo',\n",
       " 'gamma': 'scale',\n",
       " 'kernel': 'poly'}"
      ]
     },
     "execution_count": 289,
     "metadata": {},
     "output_type": "execute_result"
    }
   ],
   "source": [
    "k_grid = [{\"C\":[1000, 100, 10, 1.0, 0.1, 0.01], \"kernel\":[\"linear\", \"poly\", \"rbf\", \"sigmoid\"], \"gamma\":[\"scale\", \"auto\"], \"decision_function_shape\":[\"ovo\", \"ovr\"]}]\n",
    " \n",
    "search = GridSearchCV(model_svc, k_grid,\n",
    "                           scoring = 'accuracy',\n",
    "                           cv = 5,\n",
    "                           n_jobs=-1 # paralellize computation\n",
    "                          ) \n",
    "search.fit(X_train4,y_train4);\n",
    "search.best_params_"
   ]
  },
  {
   "cell_type": "code",
   "execution_count": 291,
   "id": "61f38c9b",
   "metadata": {},
   "outputs": [
    {
     "data": {
      "text/plain": [
       "0.6323863636363637"
      ]
     },
     "execution_count": 291,
     "metadata": {},
     "output_type": "execute_result"
    }
   ],
   "source": [
    "model_svc_best3 = SVC(C=1000, decision_function_shape=\"ovo\", gamma='auto', kernel= 'sigmoid')\n",
    "model_svc_best3 = model_svc_best3.fit(X_train3,y_train3)\n",
    "\n",
    "cv_results = cross_validate(model_svc_best3, X_train3, y_train3, cv=5, scoring=[\"accuracy\",\"recall\",\"precision\",\"f1\"])\n",
    "pd.DataFrame(cv_results)\n",
    "cv_results[\"test_accuracy\"].mean()"
   ]
  },
  {
   "cell_type": "code",
   "execution_count": 292,
   "id": "f7f0583d",
   "metadata": {},
   "outputs": [
    {
     "data": {
      "text/plain": [
       "0.5643939393939393"
      ]
     },
     "execution_count": 292,
     "metadata": {},
     "output_type": "execute_result"
    }
   ],
   "source": [
    "model_svc_best2 = SVC(C=0.1, decision_function_shape=\"ovo\", gamma='scale', kernel= 'poly')\n",
    "model_svc_best2 = model_svc_best2.fit(X_train2,y_train2)\n",
    "\n",
    "cv_results = cross_validate(model_svc_best2, X_train2, y_train2, cv=5, scoring=[\"accuracy\",\"recall\",\"precision\",\"f1\"])\n",
    "pd.DataFrame(cv_results)\n",
    "cv_results[\"test_accuracy\"].mean()"
   ]
  },
  {
   "cell_type": "code",
   "execution_count": 293,
   "id": "0802ca58",
   "metadata": {},
   "outputs": [
    {
     "data": {
      "text/plain": [
       "0.6386666666666666"
      ]
     },
     "execution_count": 293,
     "metadata": {},
     "output_type": "execute_result"
    }
   ],
   "source": [
    "model_svc_best4 = SVC(C=6, decision_function_shape=\"ovo\", gamma='scale', kernel= 'rbf')\n",
    "model_svc_best4 = model_svc_best4.fit(X_train4,y_train4)\n",
    "\n",
    "cv_results = cross_validate(model_svc_best4, X_train4, y_train4, cv=5, scoring=[\"accuracy\",\"recall\",\"precision\",\"f1\"])\n",
    "pd.DataFrame(cv_results)\n",
    "cv_results[\"test_accuracy\"].mean()"
   ]
  },
  {
   "cell_type": "markdown",
   "id": "71f1656f",
   "metadata": {},
   "source": [
    "## Adaboost"
   ]
  },
  {
   "cell_type": "code",
   "execution_count": 44,
   "id": "75cf92c7",
   "metadata": {},
   "outputs": [
    {
     "data": {
      "text/plain": [
       "0.5825757575757576"
      ]
     },
     "execution_count": 44,
     "metadata": {},
     "output_type": "execute_result"
    }
   ],
   "source": [
    "from sklearn.ensemble import AdaBoostClassifier\n",
    "model_ada = AdaBoostClassifier(n_estimators=1000)\n",
    "\n",
    "cv_results = cross_validate(model_ada, X_train2, y_train2, cv=5, scoring=[\"accuracy\",\"recall\",\"precision\",\"f1\"])\n",
    "pd.DataFrame(cv_results)\n",
    "cv_results[\"test_accuracy\"].mean()"
   ]
  },
  {
   "cell_type": "code",
   "execution_count": 45,
   "id": "fb287f0e",
   "metadata": {},
   "outputs": [
    {
     "data": {
      "text/plain": [
       "0.5643939393939393"
      ]
     },
     "execution_count": 45,
     "metadata": {},
     "output_type": "execute_result"
    }
   ],
   "source": [
    "model_ada = AdaBoostClassifier()\n",
    "\n",
    "cv_results = cross_validate(model_ada, X_train3, y_train3, cv=5, scoring=[\"accuracy\",\"recall\",\"precision\",\"f1\"])\n",
    "pd.DataFrame(cv_results)\n",
    "cv_results[\"test_accuracy\"].mean()"
   ]
  },
  {
   "cell_type": "code",
   "execution_count": 46,
   "id": "7685ab3e",
   "metadata": {},
   "outputs": [
    {
     "data": {
      "text/plain": [
       "0.5399999999999999"
      ]
     },
     "execution_count": 46,
     "metadata": {},
     "output_type": "execute_result"
    }
   ],
   "source": [
    "cv_results = cross_validate(model_ada, X_train4, y_train4, cv=5, scoring=[\"accuracy\",\"recall\",\"precision\",\"f1\"])\n",
    "pd.DataFrame(cv_results)\n",
    "cv_results[\"test_accuracy\"].mean()"
   ]
  },
  {
   "cell_type": "code",
   "execution_count": 47,
   "id": "bf196a7b",
   "metadata": {},
   "outputs": [
    {
     "data": {
      "text/plain": [
       "{'algorithm': 'SAMME', 'learning_rate': 0.5, 'n_estimators': 1000}"
      ]
     },
     "execution_count": 47,
     "metadata": {},
     "output_type": "execute_result"
    },
    {
     "name": "stderr",
     "output_type": "stream",
     "text": [
      "/Users/leacebulla/.pyenv/versions/3.8.12/envs/health/lib/python3.8/site-packages/sklearn/ensemble/_weight_boosting.py:655: RuntimeWarning: overflow encountered in exp\n",
      "  sample_weight = np.exp(\n",
      "/Users/leacebulla/.pyenv/versions/3.8.12/envs/health/lib/python3.8/site-packages/sklearn/ensemble/_weight_boosting.py:486: UserWarning: Sample weights have reached infinite values, at iteration 6, causing overflow. Iterations stopped. Try lowering the learning rate.\n",
      "  return super().fit(X, y, sample_weight)\n",
      "/Users/leacebulla/.pyenv/versions/3.8.12/envs/health/lib/python3.8/site-packages/sklearn/ensemble/_weight_boosting.py:656: RuntimeWarning: divide by zero encountered in log\n",
      "  np.log(sample_weight)\n",
      "/Users/leacebulla/.pyenv/versions/3.8.12/envs/health/lib/python3.8/site-packages/sklearn/ensemble/_weight_boosting.py:655: RuntimeWarning: overflow encountered in exp\n",
      "  sample_weight = np.exp(\n",
      "/Users/leacebulla/.pyenv/versions/3.8.12/envs/health/lib/python3.8/site-packages/sklearn/ensemble/_weight_boosting.py:486: UserWarning: Sample weights have reached infinite values, at iteration 5, causing overflow. Iterations stopped. Try lowering the learning rate.\n",
      "  return super().fit(X, y, sample_weight)\n",
      "/Users/leacebulla/.pyenv/versions/3.8.12/envs/health/lib/python3.8/site-packages/sklearn/ensemble/_weight_boosting.py:655: RuntimeWarning: overflow encountered in exp\n",
      "  sample_weight = np.exp(\n",
      "/Users/leacebulla/.pyenv/versions/3.8.12/envs/health/lib/python3.8/site-packages/sklearn/ensemble/_weight_boosting.py:486: UserWarning: Sample weights have reached infinite values, at iteration 5, causing overflow. Iterations stopped. Try lowering the learning rate.\n",
      "  return super().fit(X, y, sample_weight)\n",
      "/Users/leacebulla/.pyenv/versions/3.8.12/envs/health/lib/python3.8/site-packages/sklearn/ensemble/_weight_boosting.py:656: RuntimeWarning: divide by zero encountered in log\n",
      "  np.log(sample_weight)\n",
      "/Users/leacebulla/.pyenv/versions/3.8.12/envs/health/lib/python3.8/site-packages/sklearn/ensemble/_weight_boosting.py:655: RuntimeWarning: overflow encountered in exp\n",
      "  sample_weight = np.exp(\n",
      "/Users/leacebulla/.pyenv/versions/3.8.12/envs/health/lib/python3.8/site-packages/sklearn/ensemble/_weight_boosting.py:486: UserWarning: Sample weights have reached infinite values, at iteration 5, causing overflow. Iterations stopped. Try lowering the learning rate.\n",
      "  return super().fit(X, y, sample_weight)\n",
      "/Users/leacebulla/.pyenv/versions/3.8.12/envs/health/lib/python3.8/site-packages/sklearn/ensemble/_weight_boosting.py:655: RuntimeWarning: overflow encountered in exp\n",
      "  sample_weight = np.exp(\n",
      "/Users/leacebulla/.pyenv/versions/3.8.12/envs/health/lib/python3.8/site-packages/sklearn/ensemble/_weight_boosting.py:486: UserWarning: Sample weights have reached infinite values, at iteration 5, causing overflow. Iterations stopped. Try lowering the learning rate.\n",
      "  return super().fit(X, y, sample_weight)\n",
      "/Users/leacebulla/.pyenv/versions/3.8.12/envs/health/lib/python3.8/site-packages/sklearn/ensemble/_weight_boosting.py:656: RuntimeWarning: divide by zero encountered in log\n",
      "  np.log(sample_weight)\n",
      "/Users/leacebulla/.pyenv/versions/3.8.12/envs/health/lib/python3.8/site-packages/sklearn/ensemble/_weight_boosting.py:655: RuntimeWarning: overflow encountered in exp\n",
      "  sample_weight = np.exp(\n",
      "/Users/leacebulla/.pyenv/versions/3.8.12/envs/health/lib/python3.8/site-packages/sklearn/ensemble/_weight_boosting.py:486: UserWarning: Sample weights have reached infinite values, at iteration 5, causing overflow. Iterations stopped. Try lowering the learning rate.\n",
      "  return super().fit(X, y, sample_weight)\n",
      "/Users/leacebulla/.pyenv/versions/3.8.12/envs/health/lib/python3.8/site-packages/sklearn/ensemble/_weight_boosting.py:655: RuntimeWarning: overflow encountered in exp\n",
      "  sample_weight = np.exp(\n",
      "/Users/leacebulla/.pyenv/versions/3.8.12/envs/health/lib/python3.8/site-packages/sklearn/ensemble/_weight_boosting.py:486: UserWarning: Sample weights have reached infinite values, at iteration 5, causing overflow. Iterations stopped. Try lowering the learning rate.\n",
      "  return super().fit(X, y, sample_weight)\n",
      "/Users/leacebulla/.pyenv/versions/3.8.12/envs/health/lib/python3.8/site-packages/sklearn/ensemble/_weight_boosting.py:655: RuntimeWarning: overflow encountered in exp\n",
      "  sample_weight = np.exp(\n",
      "/Users/leacebulla/.pyenv/versions/3.8.12/envs/health/lib/python3.8/site-packages/sklearn/ensemble/_weight_boosting.py:486: UserWarning: Sample weights have reached infinite values, at iteration 5, causing overflow. Iterations stopped. Try lowering the learning rate.\n",
      "  return super().fit(X, y, sample_weight)\n",
      "/Users/leacebulla/.pyenv/versions/3.8.12/envs/health/lib/python3.8/site-packages/sklearn/ensemble/_weight_boosting.py:656: RuntimeWarning: divide by zero encountered in log\n",
      "  np.log(sample_weight)\n",
      "/Users/leacebulla/.pyenv/versions/3.8.12/envs/health/lib/python3.8/site-packages/sklearn/ensemble/_weight_boosting.py:655: RuntimeWarning: overflow encountered in exp\n",
      "  sample_weight = np.exp(\n",
      "/Users/leacebulla/.pyenv/versions/3.8.12/envs/health/lib/python3.8/site-packages/sklearn/ensemble/_weight_boosting.py:486: UserWarning: Sample weights have reached infinite values, at iteration 5, causing overflow. Iterations stopped. Try lowering the learning rate.\n",
      "  return super().fit(X, y, sample_weight)\n",
      "/Users/leacebulla/.pyenv/versions/3.8.12/envs/health/lib/python3.8/site-packages/sklearn/ensemble/_weight_boosting.py:655: RuntimeWarning: overflow encountered in exp\n",
      "  sample_weight = np.exp(\n",
      "/Users/leacebulla/.pyenv/versions/3.8.12/envs/health/lib/python3.8/site-packages/sklearn/ensemble/_weight_boosting.py:486: UserWarning: Sample weights have reached infinite values, at iteration 5, causing overflow. Iterations stopped. Try lowering the learning rate.\n",
      "  return super().fit(X, y, sample_weight)\n",
      "/Users/leacebulla/.pyenv/versions/3.8.12/envs/health/lib/python3.8/site-packages/sklearn/ensemble/_weight_boosting.py:655: RuntimeWarning: overflow encountered in exp\n",
      "  sample_weight = np.exp(\n",
      "/Users/leacebulla/.pyenv/versions/3.8.12/envs/health/lib/python3.8/site-packages/sklearn/ensemble/_weight_boosting.py:486: UserWarning: Sample weights have reached infinite values, at iteration 5, causing overflow. Iterations stopped. Try lowering the learning rate.\n",
      "  return super().fit(X, y, sample_weight)\n",
      "/Users/leacebulla/.pyenv/versions/3.8.12/envs/health/lib/python3.8/site-packages/sklearn/ensemble/_weight_boosting.py:655: RuntimeWarning: overflow encountered in exp\n",
      "  sample_weight = np.exp(\n",
      "/Users/leacebulla/.pyenv/versions/3.8.12/envs/health/lib/python3.8/site-packages/sklearn/ensemble/_weight_boosting.py:486: UserWarning: Sample weights have reached infinite values, at iteration 5, causing overflow. Iterations stopped. Try lowering the learning rate.\n",
      "  return super().fit(X, y, sample_weight)\n",
      "/Users/leacebulla/.pyenv/versions/3.8.12/envs/health/lib/python3.8/site-packages/sklearn/ensemble/_weight_boosting.py:655: RuntimeWarning: overflow encountered in exp\n",
      "  sample_weight = np.exp(\n",
      "/Users/leacebulla/.pyenv/versions/3.8.12/envs/health/lib/python3.8/site-packages/sklearn/ensemble/_weight_boosting.py:486: UserWarning: Sample weights have reached infinite values, at iteration 5, causing overflow. Iterations stopped. Try lowering the learning rate.\n",
      "  return super().fit(X, y, sample_weight)\n",
      "/Users/leacebulla/.pyenv/versions/3.8.12/envs/health/lib/python3.8/site-packages/sklearn/ensemble/_weight_boosting.py:655: RuntimeWarning: overflow encountered in exp\n",
      "  sample_weight = np.exp(\n",
      "/Users/leacebulla/.pyenv/versions/3.8.12/envs/health/lib/python3.8/site-packages/sklearn/ensemble/_weight_boosting.py:486: UserWarning: Sample weights have reached infinite values, at iteration 6, causing overflow. Iterations stopped. Try lowering the learning rate.\n",
      "  return super().fit(X, y, sample_weight)\n",
      "/Users/leacebulla/.pyenv/versions/3.8.12/envs/health/lib/python3.8/site-packages/sklearn/ensemble/_weight_boosting.py:655: RuntimeWarning: overflow encountered in exp\n",
      "  sample_weight = np.exp(\n",
      "/Users/leacebulla/.pyenv/versions/3.8.12/envs/health/lib/python3.8/site-packages/sklearn/ensemble/_weight_boosting.py:486: UserWarning: Sample weights have reached infinite values, at iteration 6, causing overflow. Iterations stopped. Try lowering the learning rate.\n",
      "  return super().fit(X, y, sample_weight)\n",
      "/Users/leacebulla/.pyenv/versions/3.8.12/envs/health/lib/python3.8/site-packages/sklearn/ensemble/_weight_boosting.py:655: RuntimeWarning: overflow encountered in exp\n",
      "  sample_weight = np.exp(\n",
      "/Users/leacebulla/.pyenv/versions/3.8.12/envs/health/lib/python3.8/site-packages/sklearn/ensemble/_weight_boosting.py:486: UserWarning: Sample weights have reached infinite values, at iteration 6, causing overflow. Iterations stopped. Try lowering the learning rate.\n",
      "  return super().fit(X, y, sample_weight)\n",
      "/Users/leacebulla/.pyenv/versions/3.8.12/envs/health/lib/python3.8/site-packages/sklearn/ensemble/_weight_boosting.py:655: RuntimeWarning: overflow encountered in exp\n",
      "  sample_weight = np.exp(\n",
      "/Users/leacebulla/.pyenv/versions/3.8.12/envs/health/lib/python3.8/site-packages/sklearn/ensemble/_weight_boosting.py:486: UserWarning: Sample weights have reached infinite values, at iteration 6, causing overflow. Iterations stopped. Try lowering the learning rate.\n",
      "  return super().fit(X, y, sample_weight)\n",
      "/Users/leacebulla/.pyenv/versions/3.8.12/envs/health/lib/python3.8/site-packages/sklearn/ensemble/_weight_boosting.py:655: RuntimeWarning: overflow encountered in exp\n",
      "  sample_weight = np.exp(\n",
      "/Users/leacebulla/.pyenv/versions/3.8.12/envs/health/lib/python3.8/site-packages/sklearn/ensemble/_weight_boosting.py:486: UserWarning: Sample weights have reached infinite values, at iteration 6, causing overflow. Iterations stopped. Try lowering the learning rate.\n",
      "  return super().fit(X, y, sample_weight)\n",
      "/Users/leacebulla/.pyenv/versions/3.8.12/envs/health/lib/python3.8/site-packages/sklearn/ensemble/_weight_boosting.py:655: RuntimeWarning: overflow encountered in exp\n",
      "  sample_weight = np.exp(\n",
      "/Users/leacebulla/.pyenv/versions/3.8.12/envs/health/lib/python3.8/site-packages/sklearn/ensemble/_weight_boosting.py:486: UserWarning: Sample weights have reached infinite values, at iteration 6, causing overflow. Iterations stopped. Try lowering the learning rate.\n",
      "  return super().fit(X, y, sample_weight)\n",
      "/Users/leacebulla/.pyenv/versions/3.8.12/envs/health/lib/python3.8/site-packages/sklearn/ensemble/_weight_boosting.py:655: RuntimeWarning: overflow encountered in exp\n",
      "  sample_weight = np.exp(\n",
      "/Users/leacebulla/.pyenv/versions/3.8.12/envs/health/lib/python3.8/site-packages/sklearn/ensemble/_weight_boosting.py:486: UserWarning: Sample weights have reached infinite values, at iteration 6, causing overflow. Iterations stopped. Try lowering the learning rate.\n",
      "  return super().fit(X, y, sample_weight)\n",
      "/Users/leacebulla/.pyenv/versions/3.8.12/envs/health/lib/python3.8/site-packages/sklearn/ensemble/_weight_boosting.py:655: RuntimeWarning: overflow encountered in exp\n",
      "  sample_weight = np.exp(\n",
      "/Users/leacebulla/.pyenv/versions/3.8.12/envs/health/lib/python3.8/site-packages/sklearn/ensemble/_weight_boosting.py:486: UserWarning: Sample weights have reached infinite values, at iteration 6, causing overflow. Iterations stopped. Try lowering the learning rate.\n",
      "  return super().fit(X, y, sample_weight)\n",
      "/Users/leacebulla/.pyenv/versions/3.8.12/envs/health/lib/python3.8/site-packages/sklearn/ensemble/_weight_boosting.py:655: RuntimeWarning: overflow encountered in exp\n",
      "  sample_weight = np.exp(\n",
      "/Users/leacebulla/.pyenv/versions/3.8.12/envs/health/lib/python3.8/site-packages/sklearn/ensemble/_weight_boosting.py:486: UserWarning: Sample weights have reached infinite values, at iteration 6, causing overflow. Iterations stopped. Try lowering the learning rate.\n",
      "  return super().fit(X, y, sample_weight)\n",
      "/Users/leacebulla/.pyenv/versions/3.8.12/envs/health/lib/python3.8/site-packages/sklearn/ensemble/_weight_boosting.py:655: RuntimeWarning: overflow encountered in exp\n",
      "  sample_weight = np.exp(\n",
      "/Users/leacebulla/.pyenv/versions/3.8.12/envs/health/lib/python3.8/site-packages/sklearn/ensemble/_weight_boosting.py:486: UserWarning: Sample weights have reached infinite values, at iteration 6, causing overflow. Iterations stopped. Try lowering the learning rate.\n",
      "  return super().fit(X, y, sample_weight)\n",
      "/Users/leacebulla/.pyenv/versions/3.8.12/envs/health/lib/python3.8/site-packages/sklearn/ensemble/_weight_boosting.py:655: RuntimeWarning: overflow encountered in exp\n",
      "  sample_weight = np.exp(\n",
      "/Users/leacebulla/.pyenv/versions/3.8.12/envs/health/lib/python3.8/site-packages/sklearn/ensemble/_weight_boosting.py:486: UserWarning: Sample weights have reached infinite values, at iteration 6, causing overflow. Iterations stopped. Try lowering the learning rate.\n",
      "  return super().fit(X, y, sample_weight)\n",
      "/Users/leacebulla/.pyenv/versions/3.8.12/envs/health/lib/python3.8/site-packages/sklearn/ensemble/_weight_boosting.py:655: RuntimeWarning: overflow encountered in exp\n",
      "  sample_weight = np.exp(\n",
      "/Users/leacebulla/.pyenv/versions/3.8.12/envs/health/lib/python3.8/site-packages/sklearn/ensemble/_weight_boosting.py:486: UserWarning: Sample weights have reached infinite values, at iteration 6, causing overflow. Iterations stopped. Try lowering the learning rate.\n",
      "  return super().fit(X, y, sample_weight)\n",
      "/Users/leacebulla/.pyenv/versions/3.8.12/envs/health/lib/python3.8/site-packages/sklearn/ensemble/_weight_boosting.py:655: RuntimeWarning: overflow encountered in exp\n",
      "  sample_weight = np.exp(\n",
      "/Users/leacebulla/.pyenv/versions/3.8.12/envs/health/lib/python3.8/site-packages/sklearn/ensemble/_weight_boosting.py:486: UserWarning: Sample weights have reached infinite values, at iteration 6, causing overflow. Iterations stopped. Try lowering the learning rate.\n",
      "  return super().fit(X, y, sample_weight)\n",
      "/Users/leacebulla/.pyenv/versions/3.8.12/envs/health/lib/python3.8/site-packages/sklearn/ensemble/_weight_boosting.py:655: RuntimeWarning: overflow encountered in exp\n",
      "  sample_weight = np.exp(\n",
      "/Users/leacebulla/.pyenv/versions/3.8.12/envs/health/lib/python3.8/site-packages/sklearn/ensemble/_weight_boosting.py:486: UserWarning: Sample weights have reached infinite values, at iteration 6, causing overflow. Iterations stopped. Try lowering the learning rate.\n",
      "  return super().fit(X, y, sample_weight)\n",
      "/Users/leacebulla/.pyenv/versions/3.8.12/envs/health/lib/python3.8/site-packages/sklearn/ensemble/_weight_boosting.py:655: RuntimeWarning: overflow encountered in exp\n",
      "  sample_weight = np.exp(\n",
      "/Users/leacebulla/.pyenv/versions/3.8.12/envs/health/lib/python3.8/site-packages/sklearn/ensemble/_weight_boosting.py:486: UserWarning: Sample weights have reached infinite values, at iteration 6, causing overflow. Iterations stopped. Try lowering the learning rate.\n",
      "  return super().fit(X, y, sample_weight)\n",
      "/Users/leacebulla/.pyenv/versions/3.8.12/envs/health/lib/python3.8/site-packages/sklearn/ensemble/_weight_boosting.py:655: RuntimeWarning: overflow encountered in exp\n",
      "  sample_weight = np.exp(\n",
      "/Users/leacebulla/.pyenv/versions/3.8.12/envs/health/lib/python3.8/site-packages/sklearn/ensemble/_weight_boosting.py:486: UserWarning: Sample weights have reached infinite values, at iteration 6, causing overflow. Iterations stopped. Try lowering the learning rate.\n",
      "  return super().fit(X, y, sample_weight)\n",
      "/Users/leacebulla/.pyenv/versions/3.8.12/envs/health/lib/python3.8/site-packages/sklearn/ensemble/_weight_boosting.py:655: RuntimeWarning: overflow encountered in exp\n",
      "  sample_weight = np.exp(\n",
      "/Users/leacebulla/.pyenv/versions/3.8.12/envs/health/lib/python3.8/site-packages/sklearn/ensemble/_weight_boosting.py:486: UserWarning: Sample weights have reached infinite values, at iteration 6, causing overflow. Iterations stopped. Try lowering the learning rate.\n",
      "  return super().fit(X, y, sample_weight)\n",
      "/Users/leacebulla/.pyenv/versions/3.8.12/envs/health/lib/python3.8/site-packages/sklearn/ensemble/_weight_boosting.py:655: RuntimeWarning: overflow encountered in exp\n",
      "  sample_weight = np.exp(\n",
      "/Users/leacebulla/.pyenv/versions/3.8.12/envs/health/lib/python3.8/site-packages/sklearn/ensemble/_weight_boosting.py:486: UserWarning: Sample weights have reached infinite values, at iteration 6, causing overflow. Iterations stopped. Try lowering the learning rate.\n",
      "  return super().fit(X, y, sample_weight)\n",
      "/Users/leacebulla/.pyenv/versions/3.8.12/envs/health/lib/python3.8/site-packages/sklearn/ensemble/_weight_boosting.py:655: RuntimeWarning: overflow encountered in exp\n",
      "  sample_weight = np.exp(\n",
      "/Users/leacebulla/.pyenv/versions/3.8.12/envs/health/lib/python3.8/site-packages/sklearn/ensemble/_weight_boosting.py:486: UserWarning: Sample weights have reached infinite values, at iteration 6, causing overflow. Iterations stopped. Try lowering the learning rate.\n",
      "  return super().fit(X, y, sample_weight)\n",
      "/Users/leacebulla/.pyenv/versions/3.8.12/envs/health/lib/python3.8/site-packages/sklearn/ensemble/_weight_boosting.py:655: RuntimeWarning: overflow encountered in exp\n",
      "  sample_weight = np.exp(\n",
      "/Users/leacebulla/.pyenv/versions/3.8.12/envs/health/lib/python3.8/site-packages/sklearn/ensemble/_weight_boosting.py:486: UserWarning: Sample weights have reached infinite values, at iteration 6, causing overflow. Iterations stopped. Try lowering the learning rate.\n",
      "  return super().fit(X, y, sample_weight)\n",
      "/Users/leacebulla/.pyenv/versions/3.8.12/envs/health/lib/python3.8/site-packages/sklearn/ensemble/_weight_boosting.py:655: RuntimeWarning: overflow encountered in exp\n",
      "  sample_weight = np.exp(\n",
      "/Users/leacebulla/.pyenv/versions/3.8.12/envs/health/lib/python3.8/site-packages/sklearn/ensemble/_weight_boosting.py:486: UserWarning: Sample weights have reached infinite values, at iteration 6, causing overflow. Iterations stopped. Try lowering the learning rate.\n",
      "  return super().fit(X, y, sample_weight)\n",
      "/Users/leacebulla/.pyenv/versions/3.8.12/envs/health/lib/python3.8/site-packages/sklearn/ensemble/_weight_boosting.py:655: RuntimeWarning: overflow encountered in exp\n",
      "  sample_weight = np.exp(\n",
      "/Users/leacebulla/.pyenv/versions/3.8.12/envs/health/lib/python3.8/site-packages/sklearn/ensemble/_weight_boosting.py:486: UserWarning: Sample weights have reached infinite values, at iteration 6, causing overflow. Iterations stopped. Try lowering the learning rate.\n",
      "  return super().fit(X, y, sample_weight)\n",
      "/Users/leacebulla/.pyenv/versions/3.8.12/envs/health/lib/python3.8/site-packages/sklearn/ensemble/_weight_boosting.py:655: RuntimeWarning: overflow encountered in exp\n",
      "  sample_weight = np.exp(\n",
      "/Users/leacebulla/.pyenv/versions/3.8.12/envs/health/lib/python3.8/site-packages/sklearn/ensemble/_weight_boosting.py:486: UserWarning: Sample weights have reached infinite values, at iteration 6, causing overflow. Iterations stopped. Try lowering the learning rate.\n",
      "  return super().fit(X, y, sample_weight)\n",
      "/Users/leacebulla/.pyenv/versions/3.8.12/envs/health/lib/python3.8/site-packages/sklearn/ensemble/_weight_boosting.py:655: RuntimeWarning: overflow encountered in exp\n",
      "  sample_weight = np.exp(\n",
      "/Users/leacebulla/.pyenv/versions/3.8.12/envs/health/lib/python3.8/site-packages/sklearn/ensemble/_weight_boosting.py:486: UserWarning: Sample weights have reached infinite values, at iteration 6, causing overflow. Iterations stopped. Try lowering the learning rate.\n",
      "  return super().fit(X, y, sample_weight)\n",
      "/Users/leacebulla/.pyenv/versions/3.8.12/envs/health/lib/python3.8/site-packages/sklearn/ensemble/_weight_boosting.py:656: RuntimeWarning: divide by zero encountered in log\n",
      "  np.log(sample_weight)\n",
      "/Users/leacebulla/.pyenv/versions/3.8.12/envs/health/lib/python3.8/site-packages/sklearn/ensemble/_weight_boosting.py:655: RuntimeWarning: overflow encountered in exp\n",
      "  sample_weight = np.exp(\n",
      "/Users/leacebulla/.pyenv/versions/3.8.12/envs/health/lib/python3.8/site-packages/sklearn/ensemble/_weight_boosting.py:486: UserWarning: Sample weights have reached infinite values, at iteration 5, causing overflow. Iterations stopped. Try lowering the learning rate.\n",
      "  return super().fit(X, y, sample_weight)\n",
      "/Users/leacebulla/.pyenv/versions/3.8.12/envs/health/lib/python3.8/site-packages/sklearn/ensemble/_weight_boosting.py:655: RuntimeWarning: overflow encountered in exp\n",
      "  sample_weight = np.exp(\n",
      "/Users/leacebulla/.pyenv/versions/3.8.12/envs/health/lib/python3.8/site-packages/sklearn/ensemble/_weight_boosting.py:486: UserWarning: Sample weights have reached infinite values, at iteration 5, causing overflow. Iterations stopped. Try lowering the learning rate.\n",
      "  return super().fit(X, y, sample_weight)\n",
      "/Users/leacebulla/.pyenv/versions/3.8.12/envs/health/lib/python3.8/site-packages/sklearn/ensemble/_weight_boosting.py:655: RuntimeWarning: overflow encountered in exp\n",
      "  sample_weight = np.exp(\n",
      "/Users/leacebulla/.pyenv/versions/3.8.12/envs/health/lib/python3.8/site-packages/sklearn/ensemble/_weight_boosting.py:486: UserWarning: Sample weights have reached infinite values, at iteration 5, causing overflow. Iterations stopped. Try lowering the learning rate.\n",
      "  return super().fit(X, y, sample_weight)\n",
      "/Users/leacebulla/.pyenv/versions/3.8.12/envs/health/lib/python3.8/site-packages/sklearn/ensemble/_weight_boosting.py:656: RuntimeWarning: divide by zero encountered in log\n",
      "  np.log(sample_weight)\n",
      "/Users/leacebulla/.pyenv/versions/3.8.12/envs/health/lib/python3.8/site-packages/sklearn/ensemble/_weight_boosting.py:655: RuntimeWarning: overflow encountered in exp\n",
      "  sample_weight = np.exp(\n",
      "/Users/leacebulla/.pyenv/versions/3.8.12/envs/health/lib/python3.8/site-packages/sklearn/ensemble/_weight_boosting.py:486: UserWarning: Sample weights have reached infinite values, at iteration 5, causing overflow. Iterations stopped. Try lowering the learning rate.\n",
      "  return super().fit(X, y, sample_weight)\n",
      "/Users/leacebulla/.pyenv/versions/3.8.12/envs/health/lib/python3.8/site-packages/sklearn/ensemble/_weight_boosting.py:655: RuntimeWarning: overflow encountered in exp\n",
      "  sample_weight = np.exp(\n",
      "/Users/leacebulla/.pyenv/versions/3.8.12/envs/health/lib/python3.8/site-packages/sklearn/ensemble/_weight_boosting.py:486: UserWarning: Sample weights have reached infinite values, at iteration 5, causing overflow. Iterations stopped. Try lowering the learning rate.\n",
      "  return super().fit(X, y, sample_weight)\n",
      "/Users/leacebulla/.pyenv/versions/3.8.12/envs/health/lib/python3.8/site-packages/sklearn/ensemble/_weight_boosting.py:655: RuntimeWarning: overflow encountered in exp\n",
      "  sample_weight = np.exp(\n",
      "/Users/leacebulla/.pyenv/versions/3.8.12/envs/health/lib/python3.8/site-packages/sklearn/ensemble/_weight_boosting.py:486: UserWarning: Sample weights have reached infinite values, at iteration 5, causing overflow. Iterations stopped. Try lowering the learning rate.\n",
      "  return super().fit(X, y, sample_weight)\n",
      "/Users/leacebulla/.pyenv/versions/3.8.12/envs/health/lib/python3.8/site-packages/sklearn/ensemble/_weight_boosting.py:656: RuntimeWarning: divide by zero encountered in log\n",
      "  np.log(sample_weight)\n",
      "/Users/leacebulla/.pyenv/versions/3.8.12/envs/health/lib/python3.8/site-packages/sklearn/ensemble/_weight_boosting.py:655: RuntimeWarning: overflow encountered in exp\n",
      "  sample_weight = np.exp(\n",
      "/Users/leacebulla/.pyenv/versions/3.8.12/envs/health/lib/python3.8/site-packages/sklearn/ensemble/_weight_boosting.py:486: UserWarning: Sample weights have reached infinite values, at iteration 5, causing overflow. Iterations stopped. Try lowering the learning rate.\n",
      "  return super().fit(X, y, sample_weight)\n",
      "/Users/leacebulla/.pyenv/versions/3.8.12/envs/health/lib/python3.8/site-packages/sklearn/ensemble/_weight_boosting.py:655: RuntimeWarning: overflow encountered in exp\n",
      "  sample_weight = np.exp(\n",
      "/Users/leacebulla/.pyenv/versions/3.8.12/envs/health/lib/python3.8/site-packages/sklearn/ensemble/_weight_boosting.py:486: UserWarning: Sample weights have reached infinite values, at iteration 5, causing overflow. Iterations stopped. Try lowering the learning rate.\n",
      "  return super().fit(X, y, sample_weight)\n",
      "/Users/leacebulla/.pyenv/versions/3.8.12/envs/health/lib/python3.8/site-packages/sklearn/ensemble/_weight_boosting.py:656: RuntimeWarning: divide by zero encountered in log\n",
      "  np.log(sample_weight)\n",
      "/Users/leacebulla/.pyenv/versions/3.8.12/envs/health/lib/python3.8/site-packages/sklearn/ensemble/_weight_boosting.py:655: RuntimeWarning: overflow encountered in exp\n",
      "  sample_weight = np.exp(\n",
      "/Users/leacebulla/.pyenv/versions/3.8.12/envs/health/lib/python3.8/site-packages/sklearn/ensemble/_weight_boosting.py:486: UserWarning: Sample weights have reached infinite values, at iteration 5, causing overflow. Iterations stopped. Try lowering the learning rate.\n",
      "  return super().fit(X, y, sample_weight)\n",
      "/Users/leacebulla/.pyenv/versions/3.8.12/envs/health/lib/python3.8/site-packages/sklearn/ensemble/_weight_boosting.py:655: RuntimeWarning: overflow encountered in exp\n",
      "  sample_weight = np.exp(\n",
      "/Users/leacebulla/.pyenv/versions/3.8.12/envs/health/lib/python3.8/site-packages/sklearn/ensemble/_weight_boosting.py:486: UserWarning: Sample weights have reached infinite values, at iteration 5, causing overflow. Iterations stopped. Try lowering the learning rate.\n",
      "  return super().fit(X, y, sample_weight)\n",
      "/Users/leacebulla/.pyenv/versions/3.8.12/envs/health/lib/python3.8/site-packages/sklearn/ensemble/_weight_boosting.py:656: RuntimeWarning: divide by zero encountered in log\n",
      "  np.log(sample_weight)\n",
      "/Users/leacebulla/.pyenv/versions/3.8.12/envs/health/lib/python3.8/site-packages/sklearn/ensemble/_weight_boosting.py:655: RuntimeWarning: overflow encountered in exp\n",
      "  sample_weight = np.exp(\n",
      "/Users/leacebulla/.pyenv/versions/3.8.12/envs/health/lib/python3.8/site-packages/sklearn/ensemble/_weight_boosting.py:486: UserWarning: Sample weights have reached infinite values, at iteration 5, causing overflow. Iterations stopped. Try lowering the learning rate.\n",
      "  return super().fit(X, y, sample_weight)\n",
      "/Users/leacebulla/.pyenv/versions/3.8.12/envs/health/lib/python3.8/site-packages/sklearn/ensemble/_weight_boosting.py:656: RuntimeWarning: divide by zero encountered in log\n",
      "  np.log(sample_weight)\n",
      "/Users/leacebulla/.pyenv/versions/3.8.12/envs/health/lib/python3.8/site-packages/sklearn/ensemble/_weight_boosting.py:655: RuntimeWarning: overflow encountered in exp\n",
      "  sample_weight = np.exp(\n",
      "/Users/leacebulla/.pyenv/versions/3.8.12/envs/health/lib/python3.8/site-packages/sklearn/ensemble/_weight_boosting.py:486: UserWarning: Sample weights have reached infinite values, at iteration 5, causing overflow. Iterations stopped. Try lowering the learning rate.\n",
      "  return super().fit(X, y, sample_weight)\n",
      "/Users/leacebulla/.pyenv/versions/3.8.12/envs/health/lib/python3.8/site-packages/sklearn/ensemble/_weight_boosting.py:655: RuntimeWarning: overflow encountered in exp\n",
      "  sample_weight = np.exp(\n",
      "/Users/leacebulla/.pyenv/versions/3.8.12/envs/health/lib/python3.8/site-packages/sklearn/ensemble/_weight_boosting.py:486: UserWarning: Sample weights have reached infinite values, at iteration 5, causing overflow. Iterations stopped. Try lowering the learning rate.\n",
      "  return super().fit(X, y, sample_weight)\n"
     ]
    }
   ],
   "source": [
    "k_grid={\"n_estimators\":[50,100,500,1000,5000],'learning_rate': [0.1,0.25,0.5,0.75, 1, 2,4,5],\"algorithm\":[\"SAMME\", \"SAMME.R\"]}\n",
    " \n",
    "search = GridSearchCV(model_ada, k_grid,\n",
    "                           scoring = 'accuracy',\n",
    "                           cv = 5,\n",
    "                           n_jobs=-1 # paralellize computation\n",
    "                          ) \n",
    "search.fit(X_train4,y_train4);\n",
    "search.best_params_"
   ]
  },
  {
   "cell_type": "code",
   "execution_count": 298,
   "id": "03a73e64",
   "metadata": {},
   "outputs": [
    {
     "data": {
      "text/plain": [
       "0.5954545454545455"
      ]
     },
     "execution_count": 298,
     "metadata": {},
     "output_type": "execute_result"
    }
   ],
   "source": [
    "model_ada_best2 = AdaBoostClassifier(algorithm=\"SAMME.R\", learning_rate=2, n_estimators= 500)\n",
    "model_ada_best2 = model_ada_best2.fit(X_train2,y_train2)\n",
    "\n",
    "cv_results = cross_validate(model_ada_best2, X_train2, y_train2, cv=5, scoring=[\"accuracy\",\"recall\",\"precision\",\"f1\"])\n",
    "pd.DataFrame(cv_results)\n",
    "cv_results[\"test_accuracy\"].mean()"
   ]
  },
  {
   "cell_type": "code",
   "execution_count": 299,
   "id": "8e2dcd21",
   "metadata": {},
   "outputs": [
    {
     "data": {
      "text/plain": [
       "0.6140151515151515"
      ]
     },
     "execution_count": 299,
     "metadata": {},
     "output_type": "execute_result"
    }
   ],
   "source": [
    "model_ada_best3 = AdaBoostClassifier(algorithm=\"SAMME\", learning_rate=0.5, n_estimators= 500)\n",
    "model_ada_best3 = model_ada_best3.fit(X_train3,y_train3)\n",
    "\n",
    "cv_results = cross_validate(model_ada_best3, X_train3, y_train3, cv=5, scoring=[\"accuracy\",\"recall\",\"precision\",\"f1\"])\n",
    "pd.DataFrame(cv_results)\n",
    "cv_results[\"test_accuracy\"].mean()"
   ]
  },
  {
   "cell_type": "code",
   "execution_count": 300,
   "id": "0ed58e00",
   "metadata": {},
   "outputs": [
    {
     "data": {
      "text/plain": [
       "0.525"
      ]
     },
     "execution_count": 300,
     "metadata": {},
     "output_type": "execute_result"
    },
    {
     "name": "stderr",
     "output_type": "stream",
     "text": [
      "/Users/leacebulla/.pyenv/versions/3.8.12/envs/health/lib/python3.8/site-packages/sklearn/linear_model/_logistic.py:1483: UserWarning: Setting penalty='none' will ignore the C and l1_ratio parameters\n",
      "  warnings.warn(\n",
      "/Users/leacebulla/.pyenv/versions/3.8.12/envs/health/lib/python3.8/site-packages/sklearn/linear_model/_logistic.py:1483: UserWarning: Setting penalty='none' will ignore the C and l1_ratio parameters\n",
      "  warnings.warn(\n",
      "/Users/leacebulla/.pyenv/versions/3.8.12/envs/health/lib/python3.8/site-packages/sklearn/linear_model/_logistic.py:1483: UserWarning: Setting penalty='none' will ignore the C and l1_ratio parameters\n",
      "  warnings.warn(\n",
      "/Users/leacebulla/.pyenv/versions/3.8.12/envs/health/lib/python3.8/site-packages/sklearn/linear_model/_sag.py:352: ConvergenceWarning: The max_iter was reached which means the coef_ did not converge\n",
      "  warnings.warn(\n",
      "/Users/leacebulla/.pyenv/versions/3.8.12/envs/health/lib/python3.8/site-packages/sklearn/linear_model/_logistic.py:1483: UserWarning: Setting penalty='none' will ignore the C and l1_ratio parameters\n",
      "  warnings.warn(\n",
      "/Users/leacebulla/.pyenv/versions/3.8.12/envs/health/lib/python3.8/site-packages/sklearn/linear_model/_logistic.py:1483: UserWarning: Setting penalty='none' will ignore the C and l1_ratio parameters\n",
      "  warnings.warn(\n",
      "/Users/leacebulla/.pyenv/versions/3.8.12/envs/health/lib/python3.8/site-packages/sklearn/linear_model/_logistic.py:1483: UserWarning: Setting penalty='none' will ignore the C and l1_ratio parameters\n",
      "  warnings.warn(\n",
      "/Users/leacebulla/.pyenv/versions/3.8.12/envs/health/lib/python3.8/site-packages/sklearn/linear_model/_logistic.py:1483: UserWarning: Setting penalty='none' will ignore the C and l1_ratio parameters\n",
      "  warnings.warn(\n",
      "/Users/leacebulla/.pyenv/versions/3.8.12/envs/health/lib/python3.8/site-packages/sklearn/linear_model/_logistic.py:1483: UserWarning: Setting penalty='none' will ignore the C and l1_ratio parameters\n",
      "  warnings.warn(\n",
      "/Users/leacebulla/.pyenv/versions/3.8.12/envs/health/lib/python3.8/site-packages/sklearn/linear_model/_logistic.py:1483: UserWarning: Setting penalty='none' will ignore the C and l1_ratio parameters\n",
      "  warnings.warn(\n",
      "/Users/leacebulla/.pyenv/versions/3.8.12/envs/health/lib/python3.8/site-packages/sklearn/linear_model/_logistic.py:1483: UserWarning: Setting penalty='none' will ignore the C and l1_ratio parameters\n",
      "  warnings.warn(\n",
      "/Users/leacebulla/.pyenv/versions/3.8.12/envs/health/lib/python3.8/site-packages/sklearn/linear_model/_sag.py:352: ConvergenceWarning: The max_iter was reached which means the coef_ did not converge\n",
      "  warnings.warn(\n",
      "/Users/leacebulla/.pyenv/versions/3.8.12/envs/health/lib/python3.8/site-packages/sklearn/linear_model/_logistic.py:1483: UserWarning: Setting penalty='none' will ignore the C and l1_ratio parameters\n",
      "  warnings.warn(\n",
      "/Users/leacebulla/.pyenv/versions/3.8.12/envs/health/lib/python3.8/site-packages/sklearn/linear_model/_sag.py:352: ConvergenceWarning: The max_iter was reached which means the coef_ did not converge\n",
      "  warnings.warn(\n",
      "/Users/leacebulla/.pyenv/versions/3.8.12/envs/health/lib/python3.8/site-packages/sklearn/linear_model/_logistic.py:1483: UserWarning: Setting penalty='none' will ignore the C and l1_ratio parameters\n",
      "  warnings.warn(\n",
      "/Users/leacebulla/.pyenv/versions/3.8.12/envs/health/lib/python3.8/site-packages/sklearn/svm/_base.py:1206: ConvergenceWarning: Liblinear failed to converge, increase the number of iterations.\n",
      "  warnings.warn(\n",
      "/Users/leacebulla/.pyenv/versions/3.8.12/envs/health/lib/python3.8/site-packages/sklearn/svm/_base.py:1206: ConvergenceWarning: Liblinear failed to converge, increase the number of iterations.\n",
      "  warnings.warn(\n",
      "/Users/leacebulla/.pyenv/versions/3.8.12/envs/health/lib/python3.8/site-packages/sklearn/svm/_base.py:1206: ConvergenceWarning: Liblinear failed to converge, increase the number of iterations.\n",
      "  warnings.warn(\n",
      "/Users/leacebulla/.pyenv/versions/3.8.12/envs/health/lib/python3.8/site-packages/sklearn/svm/_base.py:1206: ConvergenceWarning: Liblinear failed to converge, increase the number of iterations.\n",
      "  warnings.warn(\n",
      "/Users/leacebulla/.pyenv/versions/3.8.12/envs/health/lib/python3.8/site-packages/sklearn/svm/_base.py:1206: ConvergenceWarning: Liblinear failed to converge, increase the number of iterations.\n",
      "  warnings.warn(\n",
      "/Users/leacebulla/.pyenv/versions/3.8.12/envs/health/lib/python3.8/site-packages/sklearn/svm/_base.py:1206: ConvergenceWarning: Liblinear failed to converge, increase the number of iterations.\n",
      "  warnings.warn(\n",
      "/Users/leacebulla/.pyenv/versions/3.8.12/envs/health/lib/python3.8/site-packages/sklearn/svm/_base.py:1206: ConvergenceWarning: Liblinear failed to converge, increase the number of iterations.\n",
      "  warnings.warn(\n",
      "/Users/leacebulla/.pyenv/versions/3.8.12/envs/health/lib/python3.8/site-packages/sklearn/svm/_base.py:1206: ConvergenceWarning: Liblinear failed to converge, increase the number of iterations.\n",
      "  warnings.warn(\n",
      "/Users/leacebulla/.pyenv/versions/3.8.12/envs/health/lib/python3.8/site-packages/sklearn/svm/_base.py:1206: ConvergenceWarning: Liblinear failed to converge, increase the number of iterations.\n",
      "  warnings.warn(\n",
      "/Users/leacebulla/.pyenv/versions/3.8.12/envs/health/lib/python3.8/site-packages/sklearn/svm/_base.py:1206: ConvergenceWarning: Liblinear failed to converge, increase the number of iterations.\n",
      "  warnings.warn(\n",
      "/Users/leacebulla/.pyenv/versions/3.8.12/envs/health/lib/python3.8/site-packages/sklearn/linear_model/_logistic.py:1483: UserWarning: Setting penalty='none' will ignore the C and l1_ratio parameters\n",
      "  warnings.warn(\n",
      "/Users/leacebulla/.pyenv/versions/3.8.12/envs/health/lib/python3.8/site-packages/sklearn/linear_model/_logistic.py:1483: UserWarning: Setting penalty='none' will ignore the C and l1_ratio parameters\n",
      "  warnings.warn(\n",
      "/Users/leacebulla/.pyenv/versions/3.8.12/envs/health/lib/python3.8/site-packages/sklearn/linear_model/_sag.py:352: ConvergenceWarning: The max_iter was reached which means the coef_ did not converge\n",
      "  warnings.warn(\n",
      "/Users/leacebulla/.pyenv/versions/3.8.12/envs/health/lib/python3.8/site-packages/sklearn/linear_model/_logistic.py:1483: UserWarning: Setting penalty='none' will ignore the C and l1_ratio parameters\n",
      "  warnings.warn(\n",
      "/Users/leacebulla/.pyenv/versions/3.8.12/envs/health/lib/python3.8/site-packages/sklearn/linear_model/_sag.py:352: ConvergenceWarning: The max_iter was reached which means the coef_ did not converge\n",
      "  warnings.warn(\n",
      "/Users/leacebulla/.pyenv/versions/3.8.12/envs/health/lib/python3.8/site-packages/sklearn/linear_model/_sag.py:352: ConvergenceWarning: The max_iter was reached which means the coef_ did not converge\n",
      "  warnings.warn(\n",
      "/Users/leacebulla/.pyenv/versions/3.8.12/envs/health/lib/python3.8/site-packages/sklearn/linear_model/_sag.py:352: ConvergenceWarning: The max_iter was reached which means the coef_ did not converge\n",
      "  warnings.warn(\n",
      "/Users/leacebulla/.pyenv/versions/3.8.12/envs/health/lib/python3.8/site-packages/sklearn/linear_model/_logistic.py:1483: UserWarning: Setting penalty='none' will ignore the C and l1_ratio parameters\n",
      "  warnings.warn(\n",
      "/Users/leacebulla/.pyenv/versions/3.8.12/envs/health/lib/python3.8/site-packages/sklearn/linear_model/_sag.py:352: ConvergenceWarning: The max_iter was reached which means the coef_ did not converge\n",
      "  warnings.warn(\n",
      "/Users/leacebulla/.pyenv/versions/3.8.12/envs/health/lib/python3.8/site-packages/sklearn/linear_model/_logistic.py:1483: UserWarning: Setting penalty='none' will ignore the C and l1_ratio parameters\n",
      "  warnings.warn(\n",
      "/Users/leacebulla/.pyenv/versions/3.8.12/envs/health/lib/python3.8/site-packages/sklearn/linear_model/_sag.py:352: ConvergenceWarning: The max_iter was reached which means the coef_ did not converge\n",
      "  warnings.warn(\n",
      "/Users/leacebulla/.pyenv/versions/3.8.12/envs/health/lib/python3.8/site-packages/sklearn/linear_model/_logistic.py:1483: UserWarning: Setting penalty='none' will ignore the C and l1_ratio parameters\n",
      "  warnings.warn(\n",
      "/Users/leacebulla/.pyenv/versions/3.8.12/envs/health/lib/python3.8/site-packages/sklearn/linear_model/_sag.py:352: ConvergenceWarning: The max_iter was reached which means the coef_ did not converge\n",
      "  warnings.warn(\n",
      "/Users/leacebulla/.pyenv/versions/3.8.12/envs/health/lib/python3.8/site-packages/sklearn/linear_model/_logistic.py:1483: UserWarning: Setting penalty='none' will ignore the C and l1_ratio parameters\n",
      "  warnings.warn(\n",
      "/Users/leacebulla/.pyenv/versions/3.8.12/envs/health/lib/python3.8/site-packages/sklearn/linear_model/_sag.py:352: ConvergenceWarning: The max_iter was reached which means the coef_ did not converge\n",
      "  warnings.warn(\n",
      "/Users/leacebulla/.pyenv/versions/3.8.12/envs/health/lib/python3.8/site-packages/sklearn/linear_model/_sag.py:352: ConvergenceWarning: The max_iter was reached which means the coef_ did not converge\n",
      "  warnings.warn(\n",
      "/Users/leacebulla/.pyenv/versions/3.8.12/envs/health/lib/python3.8/site-packages/sklearn/linear_model/_sag.py:352: ConvergenceWarning: The max_iter was reached which means the coef_ did not converge\n",
      "  warnings.warn(\n",
      "/Users/leacebulla/.pyenv/versions/3.8.12/envs/health/lib/python3.8/site-packages/sklearn/linear_model/_sag.py:352: ConvergenceWarning: The max_iter was reached which means the coef_ did not converge\n",
      "  warnings.warn(\n",
      "/Users/leacebulla/.pyenv/versions/3.8.12/envs/health/lib/python3.8/site-packages/sklearn/linear_model/_sag.py:352: ConvergenceWarning: The max_iter was reached which means the coef_ did not converge\n",
      "  warnings.warn(\n",
      "/Users/leacebulla/.pyenv/versions/3.8.12/envs/health/lib/python3.8/site-packages/sklearn/linear_model/_sag.py:352: ConvergenceWarning: The max_iter was reached which means the coef_ did not converge\n",
      "  warnings.warn(\n",
      "/Users/leacebulla/.pyenv/versions/3.8.12/envs/health/lib/python3.8/site-packages/sklearn/linear_model/_sag.py:352: ConvergenceWarning: The max_iter was reached which means the coef_ did not converge\n",
      "  warnings.warn(\n",
      "/Users/leacebulla/.pyenv/versions/3.8.12/envs/health/lib/python3.8/site-packages/sklearn/linear_model/_sag.py:352: ConvergenceWarning: The max_iter was reached which means the coef_ did not converge\n",
      "  warnings.warn(\n",
      "/Users/leacebulla/.pyenv/versions/3.8.12/envs/health/lib/python3.8/site-packages/sklearn/linear_model/_sag.py:352: ConvergenceWarning: The max_iter was reached which means the coef_ did not converge\n",
      "  warnings.warn(\n",
      "/Users/leacebulla/.pyenv/versions/3.8.12/envs/health/lib/python3.8/site-packages/sklearn/linear_model/_logistic.py:1483: UserWarning: Setting penalty='none' will ignore the C and l1_ratio parameters\n",
      "  warnings.warn(\n",
      "/Users/leacebulla/.pyenv/versions/3.8.12/envs/health/lib/python3.8/site-packages/sklearn/linear_model/_logistic.py:1483: UserWarning: Setting penalty='none' will ignore the C and l1_ratio parameters\n",
      "  warnings.warn(\n",
      "/Users/leacebulla/.pyenv/versions/3.8.12/envs/health/lib/python3.8/site-packages/sklearn/linear_model/_logistic.py:1483: UserWarning: Setting penalty='none' will ignore the C and l1_ratio parameters\n",
      "  warnings.warn(\n",
      "/Users/leacebulla/.pyenv/versions/3.8.12/envs/health/lib/python3.8/site-packages/sklearn/linear_model/_logistic.py:1483: UserWarning: Setting penalty='none' will ignore the C and l1_ratio parameters\n",
      "  warnings.warn(\n",
      "/Users/leacebulla/.pyenv/versions/3.8.12/envs/health/lib/python3.8/site-packages/sklearn/linear_model/_logistic.py:1483: UserWarning: Setting penalty='none' will ignore the C and l1_ratio parameters\n",
      "  warnings.warn(\n",
      "/Users/leacebulla/.pyenv/versions/3.8.12/envs/health/lib/python3.8/site-packages/sklearn/linear_model/_logistic.py:1483: UserWarning: Setting penalty='none' will ignore the C and l1_ratio parameters\n",
      "  warnings.warn(\n",
      "/Users/leacebulla/.pyenv/versions/3.8.12/envs/health/lib/python3.8/site-packages/sklearn/linear_model/_logistic.py:1483: UserWarning: Setting penalty='none' will ignore the C and l1_ratio parameters\n",
      "  warnings.warn(\n",
      "/Users/leacebulla/.pyenv/versions/3.8.12/envs/health/lib/python3.8/site-packages/sklearn/linear_model/_sag.py:352: ConvergenceWarning: The max_iter was reached which means the coef_ did not converge\n",
      "  warnings.warn(\n",
      "/Users/leacebulla/.pyenv/versions/3.8.12/envs/health/lib/python3.8/site-packages/sklearn/linear_model/_logistic.py:1483: UserWarning: Setting penalty='none' will ignore the C and l1_ratio parameters\n",
      "  warnings.warn(\n",
      "/Users/leacebulla/.pyenv/versions/3.8.12/envs/health/lib/python3.8/site-packages/sklearn/linear_model/_sag.py:352: ConvergenceWarning: The max_iter was reached which means the coef_ did not converge\n",
      "  warnings.warn(\n",
      "/Users/leacebulla/.pyenv/versions/3.8.12/envs/health/lib/python3.8/site-packages/sklearn/linear_model/_logistic.py:1483: UserWarning: Setting penalty='none' will ignore the C and l1_ratio parameters\n",
      "  warnings.warn(\n",
      "/Users/leacebulla/.pyenv/versions/3.8.12/envs/health/lib/python3.8/site-packages/sklearn/linear_model/_sag.py:352: ConvergenceWarning: The max_iter was reached which means the coef_ did not converge\n",
      "  warnings.warn(\n",
      "/Users/leacebulla/.pyenv/versions/3.8.12/envs/health/lib/python3.8/site-packages/sklearn/linear_model/_logistic.py:1483: UserWarning: Setting penalty='none' will ignore the C and l1_ratio parameters\n",
      "  warnings.warn(\n",
      "/Users/leacebulla/.pyenv/versions/3.8.12/envs/health/lib/python3.8/site-packages/sklearn/linear_model/_sag.py:352: ConvergenceWarning: The max_iter was reached which means the coef_ did not converge\n",
      "  warnings.warn(\n",
      "/Users/leacebulla/.pyenv/versions/3.8.12/envs/health/lib/python3.8/site-packages/sklearn/linear_model/_logistic.py:1483: UserWarning: Setting penalty='none' will ignore the C and l1_ratio parameters\n",
      "  warnings.warn(\n",
      "/Users/leacebulla/.pyenv/versions/3.8.12/envs/health/lib/python3.8/site-packages/sklearn/linear_model/_sag.py:352: ConvergenceWarning: The max_iter was reached which means the coef_ did not converge\n",
      "  warnings.warn(\n",
      "/Users/leacebulla/.pyenv/versions/3.8.12/envs/health/lib/python3.8/site-packages/sklearn/linear_model/_logistic.py:1483: UserWarning: Setting penalty='none' will ignore the C and l1_ratio parameters\n",
      "  warnings.warn(\n",
      "/Users/leacebulla/.pyenv/versions/3.8.12/envs/health/lib/python3.8/site-packages/sklearn/linear_model/_logistic.py:1483: UserWarning: Setting penalty='none' will ignore the C and l1_ratio parameters\n",
      "  warnings.warn(\n",
      "/Users/leacebulla/.pyenv/versions/3.8.12/envs/health/lib/python3.8/site-packages/sklearn/linear_model/_logistic.py:1483: UserWarning: Setting penalty='none' will ignore the C and l1_ratio parameters\n",
      "  warnings.warn(\n",
      "/Users/leacebulla/.pyenv/versions/3.8.12/envs/health/lib/python3.8/site-packages/sklearn/linear_model/_sag.py:352: ConvergenceWarning: The max_iter was reached which means the coef_ did not converge\n",
      "  warnings.warn(\n",
      "/Users/leacebulla/.pyenv/versions/3.8.12/envs/health/lib/python3.8/site-packages/sklearn/linear_model/_logistic.py:1483: UserWarning: Setting penalty='none' will ignore the C and l1_ratio parameters\n",
      "  warnings.warn(\n",
      "/Users/leacebulla/.pyenv/versions/3.8.12/envs/health/lib/python3.8/site-packages/sklearn/linear_model/_sag.py:352: ConvergenceWarning: The max_iter was reached which means the coef_ did not converge\n",
      "  warnings.warn(\n",
      "/Users/leacebulla/.pyenv/versions/3.8.12/envs/health/lib/python3.8/site-packages/sklearn/linear_model/_logistic.py:1483: UserWarning: Setting penalty='none' will ignore the C and l1_ratio parameters\n",
      "  warnings.warn(\n",
      "/Users/leacebulla/.pyenv/versions/3.8.12/envs/health/lib/python3.8/site-packages/sklearn/linear_model/_sag.py:352: ConvergenceWarning: The max_iter was reached which means the coef_ did not converge\n",
      "  warnings.warn(\n",
      "/Users/leacebulla/.pyenv/versions/3.8.12/envs/health/lib/python3.8/site-packages/sklearn/linear_model/_sag.py:352: ConvergenceWarning: The max_iter was reached which means the coef_ did not converge\n",
      "  warnings.warn(\n",
      "/Users/leacebulla/.pyenv/versions/3.8.12/envs/health/lib/python3.8/site-packages/sklearn/linear_model/_logistic.py:1483: UserWarning: Setting penalty='none' will ignore the C and l1_ratio parameters\n",
      "  warnings.warn(\n",
      "/Users/leacebulla/.pyenv/versions/3.8.12/envs/health/lib/python3.8/site-packages/sklearn/linear_model/_sag.py:352: ConvergenceWarning: The max_iter was reached which means the coef_ did not converge\n",
      "  warnings.warn(\n",
      "/Users/leacebulla/.pyenv/versions/3.8.12/envs/health/lib/python3.8/site-packages/sklearn/linear_model/_logistic.py:1483: UserWarning: Setting penalty='none' will ignore the C and l1_ratio parameters\n",
      "  warnings.warn(\n",
      "/Users/leacebulla/.pyenv/versions/3.8.12/envs/health/lib/python3.8/site-packages/sklearn/linear_model/_sag.py:352: ConvergenceWarning: The max_iter was reached which means the coef_ did not converge\n",
      "  warnings.warn(\n",
      "/Users/leacebulla/.pyenv/versions/3.8.12/envs/health/lib/python3.8/site-packages/sklearn/linear_model/_logistic.py:1483: UserWarning: Setting penalty='none' will ignore the C and l1_ratio parameters\n",
      "  warnings.warn(\n",
      "/Users/leacebulla/.pyenv/versions/3.8.12/envs/health/lib/python3.8/site-packages/sklearn/linear_model/_sag.py:352: ConvergenceWarning: The max_iter was reached which means the coef_ did not converge\n",
      "  warnings.warn(\n",
      "/Users/leacebulla/.pyenv/versions/3.8.12/envs/health/lib/python3.8/site-packages/sklearn/linear_model/_logistic.py:1483: UserWarning: Setting penalty='none' will ignore the C and l1_ratio parameters\n",
      "  warnings.warn(\n",
      "/Users/leacebulla/.pyenv/versions/3.8.12/envs/health/lib/python3.8/site-packages/sklearn/linear_model/_sag.py:352: ConvergenceWarning: The max_iter was reached which means the coef_ did not converge\n",
      "  warnings.warn(\n",
      "/Users/leacebulla/.pyenv/versions/3.8.12/envs/health/lib/python3.8/site-packages/sklearn/linear_model/_logistic.py:1483: UserWarning: Setting penalty='none' will ignore the C and l1_ratio parameters\n",
      "  warnings.warn(\n",
      "/Users/leacebulla/.pyenv/versions/3.8.12/envs/health/lib/python3.8/site-packages/sklearn/linear_model/_sag.py:352: ConvergenceWarning: The max_iter was reached which means the coef_ did not converge\n",
      "  warnings.warn(\n",
      "/Users/leacebulla/.pyenv/versions/3.8.12/envs/health/lib/python3.8/site-packages/sklearn/linear_model/_sag.py:352: ConvergenceWarning: The max_iter was reached which means the coef_ did not converge\n",
      "  warnings.warn(\n",
      "/Users/leacebulla/.pyenv/versions/3.8.12/envs/health/lib/python3.8/site-packages/sklearn/linear_model/_logistic.py:1483: UserWarning: Setting penalty='none' will ignore the C and l1_ratio parameters\n",
      "  warnings.warn(\n",
      "/Users/leacebulla/.pyenv/versions/3.8.12/envs/health/lib/python3.8/site-packages/sklearn/linear_model/_logistic.py:1483: UserWarning: Setting penalty='none' will ignore the C and l1_ratio parameters\n",
      "  warnings.warn(\n",
      "/Users/leacebulla/.pyenv/versions/3.8.12/envs/health/lib/python3.8/site-packages/sklearn/linear_model/_logistic.py:1483: UserWarning: Setting penalty='none' will ignore the C and l1_ratio parameters\n",
      "  warnings.warn(\n",
      "/Users/leacebulla/.pyenv/versions/3.8.12/envs/health/lib/python3.8/site-packages/sklearn/linear_model/_logistic.py:1483: UserWarning: Setting penalty='none' will ignore the C and l1_ratio parameters\n",
      "  warnings.warn(\n",
      "/Users/leacebulla/.pyenv/versions/3.8.12/envs/health/lib/python3.8/site-packages/sklearn/linear_model/_logistic.py:1483: UserWarning: Setting penalty='none' will ignore the C and l1_ratio parameters\n",
      "  warnings.warn(\n",
      "/Users/leacebulla/.pyenv/versions/3.8.12/envs/health/lib/python3.8/site-packages/sklearn/linear_model/_logistic.py:1483: UserWarning: Setting penalty='none' will ignore the C and l1_ratio parameters\n",
      "  warnings.warn(\n",
      "/Users/leacebulla/.pyenv/versions/3.8.12/envs/health/lib/python3.8/site-packages/sklearn/linear_model/_logistic.py:1483: UserWarning: Setting penalty='none' will ignore the C and l1_ratio parameters\n",
      "  warnings.warn(\n",
      "/Users/leacebulla/.pyenv/versions/3.8.12/envs/health/lib/python3.8/site-packages/sklearn/linear_model/_logistic.py:1483: UserWarning: Setting penalty='none' will ignore the C and l1_ratio parameters\n",
      "  warnings.warn(\n",
      "/Users/leacebulla/.pyenv/versions/3.8.12/envs/health/lib/python3.8/site-packages/sklearn/linear_model/_logistic.py:1483: UserWarning: Setting penalty='none' will ignore the C and l1_ratio parameters\n",
      "  warnings.warn(\n",
      "/Users/leacebulla/.pyenv/versions/3.8.12/envs/health/lib/python3.8/site-packages/sklearn/linear_model/_logistic.py:1483: UserWarning: Setting penalty='none' will ignore the C and l1_ratio parameters\n",
      "  warnings.warn(\n",
      "/Users/leacebulla/.pyenv/versions/3.8.12/envs/health/lib/python3.8/site-packages/sklearn/linear_model/_logistic.py:1483: UserWarning: Setting penalty='none' will ignore the C and l1_ratio parameters\n",
      "  warnings.warn(\n",
      "/Users/leacebulla/.pyenv/versions/3.8.12/envs/health/lib/python3.8/site-packages/sklearn/linear_model/_sag.py:352: ConvergenceWarning: The max_iter was reached which means the coef_ did not converge\n",
      "  warnings.warn(\n",
      "/Users/leacebulla/.pyenv/versions/3.8.12/envs/health/lib/python3.8/site-packages/sklearn/svm/_base.py:1206: ConvergenceWarning: Liblinear failed to converge, increase the number of iterations.\n",
      "  warnings.warn(\n",
      "/Users/leacebulla/.pyenv/versions/3.8.12/envs/health/lib/python3.8/site-packages/sklearn/svm/_base.py:1206: ConvergenceWarning: Liblinear failed to converge, increase the number of iterations.\n",
      "  warnings.warn(\n",
      "/Users/leacebulla/.pyenv/versions/3.8.12/envs/health/lib/python3.8/site-packages/sklearn/svm/_base.py:1206: ConvergenceWarning: Liblinear failed to converge, increase the number of iterations.\n",
      "  warnings.warn(\n",
      "/Users/leacebulla/.pyenv/versions/3.8.12/envs/health/lib/python3.8/site-packages/sklearn/svm/_base.py:1206: ConvergenceWarning: Liblinear failed to converge, increase the number of iterations.\n",
      "  warnings.warn(\n",
      "/Users/leacebulla/.pyenv/versions/3.8.12/envs/health/lib/python3.8/site-packages/sklearn/svm/_base.py:1206: ConvergenceWarning: Liblinear failed to converge, increase the number of iterations.\n",
      "  warnings.warn(\n",
      "/Users/leacebulla/.pyenv/versions/3.8.12/envs/health/lib/python3.8/site-packages/sklearn/svm/_base.py:1206: ConvergenceWarning: Liblinear failed to converge, increase the number of iterations.\n",
      "  warnings.warn(\n",
      "/Users/leacebulla/.pyenv/versions/3.8.12/envs/health/lib/python3.8/site-packages/sklearn/svm/_base.py:1206: ConvergenceWarning: Liblinear failed to converge, increase the number of iterations.\n",
      "  warnings.warn(\n",
      "/Users/leacebulla/.pyenv/versions/3.8.12/envs/health/lib/python3.8/site-packages/sklearn/svm/_base.py:1206: ConvergenceWarning: Liblinear failed to converge, increase the number of iterations.\n",
      "  warnings.warn(\n",
      "/Users/leacebulla/.pyenv/versions/3.8.12/envs/health/lib/python3.8/site-packages/sklearn/svm/_base.py:1206: ConvergenceWarning: Liblinear failed to converge, increase the number of iterations.\n",
      "  warnings.warn(\n",
      "/Users/leacebulla/.pyenv/versions/3.8.12/envs/health/lib/python3.8/site-packages/sklearn/svm/_base.py:1206: ConvergenceWarning: Liblinear failed to converge, increase the number of iterations.\n",
      "  warnings.warn(\n",
      "/Users/leacebulla/.pyenv/versions/3.8.12/envs/health/lib/python3.8/site-packages/sklearn/svm/_base.py:1206: ConvergenceWarning: Liblinear failed to converge, increase the number of iterations.\n",
      "  warnings.warn(\n",
      "/Users/leacebulla/.pyenv/versions/3.8.12/envs/health/lib/python3.8/site-packages/sklearn/svm/_base.py:1206: ConvergenceWarning: Liblinear failed to converge, increase the number of iterations.\n",
      "  warnings.warn(\n"
     ]
    },
    {
     "name": "stderr",
     "output_type": "stream",
     "text": [
      "/Users/leacebulla/.pyenv/versions/3.8.12/envs/health/lib/python3.8/site-packages/sklearn/linear_model/_logistic.py:1483: UserWarning: Setting penalty='none' will ignore the C and l1_ratio parameters\n",
      "  warnings.warn(\n",
      "/Users/leacebulla/.pyenv/versions/3.8.12/envs/health/lib/python3.8/site-packages/sklearn/linear_model/_logistic.py:1483: UserWarning: Setting penalty='none' will ignore the C and l1_ratio parameters\n",
      "  warnings.warn(\n",
      "/Users/leacebulla/.pyenv/versions/3.8.12/envs/health/lib/python3.8/site-packages/sklearn/linear_model/_sag.py:352: ConvergenceWarning: The max_iter was reached which means the coef_ did not converge\n",
      "  warnings.warn(\n",
      "/Users/leacebulla/.pyenv/versions/3.8.12/envs/health/lib/python3.8/site-packages/sklearn/linear_model/_sag.py:352: ConvergenceWarning: The max_iter was reached which means the coef_ did not converge\n",
      "  warnings.warn(\n",
      "/Users/leacebulla/.pyenv/versions/3.8.12/envs/health/lib/python3.8/site-packages/sklearn/linear_model/_sag.py:352: ConvergenceWarning: The max_iter was reached which means the coef_ did not converge\n",
      "  warnings.warn(\n",
      "/Users/leacebulla/.pyenv/versions/3.8.12/envs/health/lib/python3.8/site-packages/sklearn/linear_model/_logistic.py:1483: UserWarning: Setting penalty='none' will ignore the C and l1_ratio parameters\n",
      "  warnings.warn(\n",
      "/Users/leacebulla/.pyenv/versions/3.8.12/envs/health/lib/python3.8/site-packages/sklearn/linear_model/_sag.py:352: ConvergenceWarning: The max_iter was reached which means the coef_ did not converge\n",
      "  warnings.warn(\n",
      "/Users/leacebulla/.pyenv/versions/3.8.12/envs/health/lib/python3.8/site-packages/sklearn/linear_model/_logistic.py:1483: UserWarning: Setting penalty='none' will ignore the C and l1_ratio parameters\n",
      "  warnings.warn(\n",
      "/Users/leacebulla/.pyenv/versions/3.8.12/envs/health/lib/python3.8/site-packages/sklearn/linear_model/_sag.py:352: ConvergenceWarning: The max_iter was reached which means the coef_ did not converge\n",
      "  warnings.warn(\n",
      "/Users/leacebulla/.pyenv/versions/3.8.12/envs/health/lib/python3.8/site-packages/sklearn/linear_model/_logistic.py:1483: UserWarning: Setting penalty='none' will ignore the C and l1_ratio parameters\n",
      "  warnings.warn(\n",
      "/Users/leacebulla/.pyenv/versions/3.8.12/envs/health/lib/python3.8/site-packages/sklearn/linear_model/_sag.py:352: ConvergenceWarning: The max_iter was reached which means the coef_ did not converge\n",
      "  warnings.warn(\n",
      "/Users/leacebulla/.pyenv/versions/3.8.12/envs/health/lib/python3.8/site-packages/sklearn/linear_model/_logistic.py:1483: UserWarning: Setting penalty='none' will ignore the C and l1_ratio parameters\n",
      "  warnings.warn(\n",
      "/Users/leacebulla/.pyenv/versions/3.8.12/envs/health/lib/python3.8/site-packages/sklearn/linear_model/_sag.py:352: ConvergenceWarning: The max_iter was reached which means the coef_ did not converge\n",
      "  warnings.warn(\n",
      "/Users/leacebulla/.pyenv/versions/3.8.12/envs/health/lib/python3.8/site-packages/sklearn/linear_model/_sag.py:352: ConvergenceWarning: The max_iter was reached which means the coef_ did not converge\n",
      "  warnings.warn(\n",
      "/Users/leacebulla/.pyenv/versions/3.8.12/envs/health/lib/python3.8/site-packages/sklearn/linear_model/_logistic.py:1483: UserWarning: Setting penalty='none' will ignore the C and l1_ratio parameters\n",
      "  warnings.warn(\n",
      "/Users/leacebulla/.pyenv/versions/3.8.12/envs/health/lib/python3.8/site-packages/sklearn/linear_model/_logistic.py:1483: UserWarning: Setting penalty='none' will ignore the C and l1_ratio parameters\n",
      "  warnings.warn(\n",
      "/Users/leacebulla/.pyenv/versions/3.8.12/envs/health/lib/python3.8/site-packages/sklearn/linear_model/_sag.py:352: ConvergenceWarning: The max_iter was reached which means the coef_ did not converge\n",
      "  warnings.warn(\n",
      "/Users/leacebulla/.pyenv/versions/3.8.12/envs/health/lib/python3.8/site-packages/sklearn/linear_model/_logistic.py:1483: UserWarning: Setting penalty='none' will ignore the C and l1_ratio parameters\n",
      "  warnings.warn(\n",
      "/Users/leacebulla/.pyenv/versions/3.8.12/envs/health/lib/python3.8/site-packages/sklearn/linear_model/_sag.py:352: ConvergenceWarning: The max_iter was reached which means the coef_ did not converge\n",
      "  warnings.warn(\n",
      "/Users/leacebulla/.pyenv/versions/3.8.12/envs/health/lib/python3.8/site-packages/sklearn/linear_model/_logistic.py:1483: UserWarning: Setting penalty='none' will ignore the C and l1_ratio parameters\n",
      "  warnings.warn(\n",
      "/Users/leacebulla/.pyenv/versions/3.8.12/envs/health/lib/python3.8/site-packages/sklearn/linear_model/_logistic.py:1483: UserWarning: Setting penalty='none' will ignore the C and l1_ratio parameters\n",
      "  warnings.warn(\n",
      "/Users/leacebulla/.pyenv/versions/3.8.12/envs/health/lib/python3.8/site-packages/sklearn/linear_model/_logistic.py:1483: UserWarning: Setting penalty='none' will ignore the C and l1_ratio parameters\n",
      "  warnings.warn(\n",
      "/Users/leacebulla/.pyenv/versions/3.8.12/envs/health/lib/python3.8/site-packages/sklearn/linear_model/_logistic.py:1483: UserWarning: Setting penalty='none' will ignore the C and l1_ratio parameters\n",
      "  warnings.warn(\n",
      "/Users/leacebulla/.pyenv/versions/3.8.12/envs/health/lib/python3.8/site-packages/sklearn/svm/_base.py:1206: ConvergenceWarning: Liblinear failed to converge, increase the number of iterations.\n",
      "  warnings.warn(\n",
      "/Users/leacebulla/.pyenv/versions/3.8.12/envs/health/lib/python3.8/site-packages/sklearn/svm/_base.py:1206: ConvergenceWarning: Liblinear failed to converge, increase the number of iterations.\n",
      "  warnings.warn(\n",
      "/Users/leacebulla/.pyenv/versions/3.8.12/envs/health/lib/python3.8/site-packages/sklearn/svm/_base.py:1206: ConvergenceWarning: Liblinear failed to converge, increase the number of iterations.\n",
      "  warnings.warn(\n",
      "/Users/leacebulla/.pyenv/versions/3.8.12/envs/health/lib/python3.8/site-packages/sklearn/svm/_base.py:1206: ConvergenceWarning: Liblinear failed to converge, increase the number of iterations.\n",
      "  warnings.warn(\n",
      "/Users/leacebulla/.pyenv/versions/3.8.12/envs/health/lib/python3.8/site-packages/sklearn/svm/_base.py:1206: ConvergenceWarning: Liblinear failed to converge, increase the number of iterations.\n",
      "  warnings.warn(\n",
      "/Users/leacebulla/.pyenv/versions/3.8.12/envs/health/lib/python3.8/site-packages/sklearn/linear_model/_logistic.py:1483: UserWarning: Setting penalty='none' will ignore the C and l1_ratio parameters\n",
      "  warnings.warn(\n",
      "/Users/leacebulla/.pyenv/versions/3.8.12/envs/health/lib/python3.8/site-packages/sklearn/linear_model/_logistic.py:1483: UserWarning: Setting penalty='none' will ignore the C and l1_ratio parameters\n",
      "  warnings.warn(\n",
      "/Users/leacebulla/.pyenv/versions/3.8.12/envs/health/lib/python3.8/site-packages/sklearn/linear_model/_sag.py:352: ConvergenceWarning: The max_iter was reached which means the coef_ did not converge\n",
      "  warnings.warn(\n",
      "/Users/leacebulla/.pyenv/versions/3.8.12/envs/health/lib/python3.8/site-packages/sklearn/linear_model/_sag.py:352: ConvergenceWarning: The max_iter was reached which means the coef_ did not converge\n",
      "  warnings.warn(\n",
      "/Users/leacebulla/.pyenv/versions/3.8.12/envs/health/lib/python3.8/site-packages/sklearn/linear_model/_sag.py:352: ConvergenceWarning: The max_iter was reached which means the coef_ did not converge\n",
      "  warnings.warn(\n",
      "/Users/leacebulla/.pyenv/versions/3.8.12/envs/health/lib/python3.8/site-packages/sklearn/linear_model/_sag.py:352: ConvergenceWarning: The max_iter was reached which means the coef_ did not converge\n",
      "  warnings.warn(\n",
      "/Users/leacebulla/.pyenv/versions/3.8.12/envs/health/lib/python3.8/site-packages/sklearn/linear_model/_sag.py:352: ConvergenceWarning: The max_iter was reached which means the coef_ did not converge\n",
      "  warnings.warn(\n",
      "/Users/leacebulla/.pyenv/versions/3.8.12/envs/health/lib/python3.8/site-packages/sklearn/linear_model/_sag.py:352: ConvergenceWarning: The max_iter was reached which means the coef_ did not converge\n",
      "  warnings.warn(\n",
      "/Users/leacebulla/.pyenv/versions/3.8.12/envs/health/lib/python3.8/site-packages/sklearn/linear_model/_logistic.py:1483: UserWarning: Setting penalty='none' will ignore the C and l1_ratio parameters\n",
      "  warnings.warn(\n",
      "/Users/leacebulla/.pyenv/versions/3.8.12/envs/health/lib/python3.8/site-packages/sklearn/linear_model/_logistic.py:1483: UserWarning: Setting penalty='none' will ignore the C and l1_ratio parameters\n",
      "  warnings.warn(\n",
      "/Users/leacebulla/.pyenv/versions/3.8.12/envs/health/lib/python3.8/site-packages/sklearn/linear_model/_logistic.py:1483: UserWarning: Setting penalty='none' will ignore the C and l1_ratio parameters\n",
      "  warnings.warn(\n",
      "/Users/leacebulla/.pyenv/versions/3.8.12/envs/health/lib/python3.8/site-packages/sklearn/linear_model/_logistic.py:1483: UserWarning: Setting penalty='none' will ignore the C and l1_ratio parameters\n",
      "  warnings.warn(\n",
      "/Users/leacebulla/.pyenv/versions/3.8.12/envs/health/lib/python3.8/site-packages/sklearn/linear_model/_logistic.py:1483: UserWarning: Setting penalty='none' will ignore the C and l1_ratio parameters\n",
      "  warnings.warn(\n",
      "/Users/leacebulla/.pyenv/versions/3.8.12/envs/health/lib/python3.8/site-packages/sklearn/linear_model/_sag.py:352: ConvergenceWarning: The max_iter was reached which means the coef_ did not converge\n",
      "  warnings.warn(\n",
      "/Users/leacebulla/.pyenv/versions/3.8.12/envs/health/lib/python3.8/site-packages/sklearn/linear_model/_logistic.py:1483: UserWarning: Setting penalty='none' will ignore the C and l1_ratio parameters\n",
      "  warnings.warn(\n",
      "/Users/leacebulla/.pyenv/versions/3.8.12/envs/health/lib/python3.8/site-packages/sklearn/linear_model/_sag.py:352: ConvergenceWarning: The max_iter was reached which means the coef_ did not converge\n",
      "  warnings.warn(\n",
      "/Users/leacebulla/.pyenv/versions/3.8.12/envs/health/lib/python3.8/site-packages/sklearn/linear_model/_logistic.py:1483: UserWarning: Setting penalty='none' will ignore the C and l1_ratio parameters\n",
      "  warnings.warn(\n",
      "/Users/leacebulla/.pyenv/versions/3.8.12/envs/health/lib/python3.8/site-packages/sklearn/linear_model/_sag.py:352: ConvergenceWarning: The max_iter was reached which means the coef_ did not converge\n",
      "  warnings.warn(\n",
      "/Users/leacebulla/.pyenv/versions/3.8.12/envs/health/lib/python3.8/site-packages/sklearn/linear_model/_logistic.py:1483: UserWarning: Setting penalty='none' will ignore the C and l1_ratio parameters\n",
      "  warnings.warn(\n",
      "/Users/leacebulla/.pyenv/versions/3.8.12/envs/health/lib/python3.8/site-packages/sklearn/linear_model/_sag.py:352: ConvergenceWarning: The max_iter was reached which means the coef_ did not converge\n",
      "  warnings.warn(\n",
      "/Users/leacebulla/.pyenv/versions/3.8.12/envs/health/lib/python3.8/site-packages/sklearn/linear_model/_logistic.py:1483: UserWarning: Setting penalty='none' will ignore the C and l1_ratio parameters\n",
      "  warnings.warn(\n",
      "/Users/leacebulla/.pyenv/versions/3.8.12/envs/health/lib/python3.8/site-packages/sklearn/linear_model/_sag.py:352: ConvergenceWarning: The max_iter was reached which means the coef_ did not converge\n",
      "  warnings.warn(\n",
      "/Users/leacebulla/.pyenv/versions/3.8.12/envs/health/lib/python3.8/site-packages/sklearn/linear_model/_logistic.py:1483: UserWarning: Setting penalty='none' will ignore the C and l1_ratio parameters\n",
      "  warnings.warn(\n",
      "/Users/leacebulla/.pyenv/versions/3.8.12/envs/health/lib/python3.8/site-packages/sklearn/linear_model/_logistic.py:1483: UserWarning: Setting penalty='none' will ignore the C and l1_ratio parameters\n",
      "  warnings.warn(\n",
      "/Users/leacebulla/.pyenv/versions/3.8.12/envs/health/lib/python3.8/site-packages/sklearn/linear_model/_logistic.py:1483: UserWarning: Setting penalty='none' will ignore the C and l1_ratio parameters\n",
      "  warnings.warn(\n",
      "/Users/leacebulla/.pyenv/versions/3.8.12/envs/health/lib/python3.8/site-packages/sklearn/linear_model/_logistic.py:1483: UserWarning: Setting penalty='none' will ignore the C and l1_ratio parameters\n",
      "  warnings.warn(\n",
      "/Users/leacebulla/.pyenv/versions/3.8.12/envs/health/lib/python3.8/site-packages/sklearn/linear_model/_sag.py:352: ConvergenceWarning: The max_iter was reached which means the coef_ did not converge\n",
      "  warnings.warn(\n",
      "/Users/leacebulla/.pyenv/versions/3.8.12/envs/health/lib/python3.8/site-packages/sklearn/linear_model/_logistic.py:1483: UserWarning: Setting penalty='none' will ignore the C and l1_ratio parameters\n",
      "  warnings.warn(\n",
      "/Users/leacebulla/.pyenv/versions/3.8.12/envs/health/lib/python3.8/site-packages/sklearn/linear_model/_logistic.py:1483: UserWarning: Setting penalty='none' will ignore the C and l1_ratio parameters\n",
      "  warnings.warn(\n",
      "/Users/leacebulla/.pyenv/versions/3.8.12/envs/health/lib/python3.8/site-packages/sklearn/linear_model/_sag.py:352: ConvergenceWarning: The max_iter was reached which means the coef_ did not converge\n",
      "  warnings.warn(\n",
      "/Users/leacebulla/.pyenv/versions/3.8.12/envs/health/lib/python3.8/site-packages/sklearn/linear_model/_logistic.py:1483: UserWarning: Setting penalty='none' will ignore the C and l1_ratio parameters\n",
      "  warnings.warn(\n",
      "/Users/leacebulla/.pyenv/versions/3.8.12/envs/health/lib/python3.8/site-packages/sklearn/linear_model/_sag.py:352: ConvergenceWarning: The max_iter was reached which means the coef_ did not converge\n",
      "  warnings.warn(\n",
      "/Users/leacebulla/.pyenv/versions/3.8.12/envs/health/lib/python3.8/site-packages/sklearn/linear_model/_logistic.py:1483: UserWarning: Setting penalty='none' will ignore the C and l1_ratio parameters\n",
      "  warnings.warn(\n",
      "/Users/leacebulla/.pyenv/versions/3.8.12/envs/health/lib/python3.8/site-packages/sklearn/linear_model/_sag.py:352: ConvergenceWarning: The max_iter was reached which means the coef_ did not converge\n",
      "  warnings.warn(\n",
      "/Users/leacebulla/.pyenv/versions/3.8.12/envs/health/lib/python3.8/site-packages/sklearn/linear_model/_logistic.py:1483: UserWarning: Setting penalty='none' will ignore the C and l1_ratio parameters\n",
      "  warnings.warn(\n",
      "/Users/leacebulla/.pyenv/versions/3.8.12/envs/health/lib/python3.8/site-packages/sklearn/linear_model/_sag.py:352: ConvergenceWarning: The max_iter was reached which means the coef_ did not converge\n",
      "  warnings.warn(\n",
      "/Users/leacebulla/.pyenv/versions/3.8.12/envs/health/lib/python3.8/site-packages/sklearn/linear_model/_logistic.py:1483: UserWarning: Setting penalty='none' will ignore the C and l1_ratio parameters\n",
      "  warnings.warn(\n",
      "/Users/leacebulla/.pyenv/versions/3.8.12/envs/health/lib/python3.8/site-packages/sklearn/linear_model/_sag.py:352: ConvergenceWarning: The max_iter was reached which means the coef_ did not converge\n",
      "  warnings.warn(\n",
      "/Users/leacebulla/.pyenv/versions/3.8.12/envs/health/lib/python3.8/site-packages/sklearn/linear_model/_logistic.py:1483: UserWarning: Setting penalty='none' will ignore the C and l1_ratio parameters\n",
      "  warnings.warn(\n",
      "/Users/leacebulla/.pyenv/versions/3.8.12/envs/health/lib/python3.8/site-packages/sklearn/linear_model/_sag.py:352: ConvergenceWarning: The max_iter was reached which means the coef_ did not converge\n",
      "  warnings.warn(\n",
      "/Users/leacebulla/.pyenv/versions/3.8.12/envs/health/lib/python3.8/site-packages/sklearn/linear_model/_logistic.py:1483: UserWarning: Setting penalty='none' will ignore the C and l1_ratio parameters\n",
      "  warnings.warn(\n",
      "/Users/leacebulla/.pyenv/versions/3.8.12/envs/health/lib/python3.8/site-packages/sklearn/linear_model/_sag.py:352: ConvergenceWarning: The max_iter was reached which means the coef_ did not converge\n",
      "  warnings.warn(\n",
      "/Users/leacebulla/.pyenv/versions/3.8.12/envs/health/lib/python3.8/site-packages/sklearn/linear_model/_logistic.py:1483: UserWarning: Setting penalty='none' will ignore the C and l1_ratio parameters\n",
      "  warnings.warn(\n",
      "/Users/leacebulla/.pyenv/versions/3.8.12/envs/health/lib/python3.8/site-packages/sklearn/linear_model/_sag.py:352: ConvergenceWarning: The max_iter was reached which means the coef_ did not converge\n",
      "  warnings.warn(\n",
      "/Users/leacebulla/.pyenv/versions/3.8.12/envs/health/lib/python3.8/site-packages/sklearn/linear_model/_logistic.py:1483: UserWarning: Setting penalty='none' will ignore the C and l1_ratio parameters\n",
      "  warnings.warn(\n",
      "/Users/leacebulla/.pyenv/versions/3.8.12/envs/health/lib/python3.8/site-packages/sklearn/linear_model/_sag.py:352: ConvergenceWarning: The max_iter was reached which means the coef_ did not converge\n",
      "  warnings.warn(\n",
      "/Users/leacebulla/.pyenv/versions/3.8.12/envs/health/lib/python3.8/site-packages/sklearn/linear_model/_logistic.py:1483: UserWarning: Setting penalty='none' will ignore the C and l1_ratio parameters\n",
      "  warnings.warn(\n",
      "/Users/leacebulla/.pyenv/versions/3.8.12/envs/health/lib/python3.8/site-packages/sklearn/linear_model/_sag.py:352: ConvergenceWarning: The max_iter was reached which means the coef_ did not converge\n",
      "  warnings.warn(\n",
      "/Users/leacebulla/.pyenv/versions/3.8.12/envs/health/lib/python3.8/site-packages/sklearn/linear_model/_logistic.py:1483: UserWarning: Setting penalty='none' will ignore the C and l1_ratio parameters\n",
      "  warnings.warn(\n",
      "/Users/leacebulla/.pyenv/versions/3.8.12/envs/health/lib/python3.8/site-packages/sklearn/linear_model/_sag.py:352: ConvergenceWarning: The max_iter was reached which means the coef_ did not converge\n",
      "  warnings.warn(\n",
      "/Users/leacebulla/.pyenv/versions/3.8.12/envs/health/lib/python3.8/site-packages/sklearn/linear_model/_logistic.py:1483: UserWarning: Setting penalty='none' will ignore the C and l1_ratio parameters\n",
      "  warnings.warn(\n",
      "/Users/leacebulla/.pyenv/versions/3.8.12/envs/health/lib/python3.8/site-packages/sklearn/linear_model/_sag.py:352: ConvergenceWarning: The max_iter was reached which means the coef_ did not converge\n",
      "  warnings.warn(\n",
      "/Users/leacebulla/.pyenv/versions/3.8.12/envs/health/lib/python3.8/site-packages/sklearn/linear_model/_logistic.py:1483: UserWarning: Setting penalty='none' will ignore the C and l1_ratio parameters\n",
      "  warnings.warn(\n",
      "/Users/leacebulla/.pyenv/versions/3.8.12/envs/health/lib/python3.8/site-packages/sklearn/linear_model/_sag.py:352: ConvergenceWarning: The max_iter was reached which means the coef_ did not converge\n",
      "  warnings.warn(\n",
      "/Users/leacebulla/.pyenv/versions/3.8.12/envs/health/lib/python3.8/site-packages/sklearn/linear_model/_logistic.py:1483: UserWarning: Setting penalty='none' will ignore the C and l1_ratio parameters\n",
      "  warnings.warn(\n",
      "/Users/leacebulla/.pyenv/versions/3.8.12/envs/health/lib/python3.8/site-packages/sklearn/linear_model/_sag.py:352: ConvergenceWarning: The max_iter was reached which means the coef_ did not converge\n",
      "  warnings.warn(\n",
      "/Users/leacebulla/.pyenv/versions/3.8.12/envs/health/lib/python3.8/site-packages/sklearn/linear_model/_logistic.py:1483: UserWarning: Setting penalty='none' will ignore the C and l1_ratio parameters\n",
      "  warnings.warn(\n",
      "/Users/leacebulla/.pyenv/versions/3.8.12/envs/health/lib/python3.8/site-packages/sklearn/linear_model/_sag.py:352: ConvergenceWarning: The max_iter was reached which means the coef_ did not converge\n",
      "  warnings.warn(\n",
      "/Users/leacebulla/.pyenv/versions/3.8.12/envs/health/lib/python3.8/site-packages/sklearn/svm/_base.py:1206: ConvergenceWarning: Liblinear failed to converge, increase the number of iterations.\n",
      "  warnings.warn(\n",
      "/Users/leacebulla/.pyenv/versions/3.8.12/envs/health/lib/python3.8/site-packages/sklearn/svm/_base.py:1206: ConvergenceWarning: Liblinear failed to converge, increase the number of iterations.\n",
      "  warnings.warn(\n",
      "/Users/leacebulla/.pyenv/versions/3.8.12/envs/health/lib/python3.8/site-packages/sklearn/svm/_base.py:1206: ConvergenceWarning: Liblinear failed to converge, increase the number of iterations.\n",
      "  warnings.warn(\n",
      "/Users/leacebulla/.pyenv/versions/3.8.12/envs/health/lib/python3.8/site-packages/sklearn/svm/_base.py:1206: ConvergenceWarning: Liblinear failed to converge, increase the number of iterations.\n",
      "  warnings.warn(\n",
      "/Users/leacebulla/.pyenv/versions/3.8.12/envs/health/lib/python3.8/site-packages/sklearn/svm/_base.py:1206: ConvergenceWarning: Liblinear failed to converge, increase the number of iterations.\n",
      "  warnings.warn(\n",
      "/Users/leacebulla/.pyenv/versions/3.8.12/envs/health/lib/python3.8/site-packages/sklearn/svm/_base.py:1206: ConvergenceWarning: Liblinear failed to converge, increase the number of iterations.\n",
      "  warnings.warn(\n",
      "/Users/leacebulla/.pyenv/versions/3.8.12/envs/health/lib/python3.8/site-packages/sklearn/svm/_base.py:1206: ConvergenceWarning: Liblinear failed to converge, increase the number of iterations.\n",
      "  warnings.warn(\n",
      "/Users/leacebulla/.pyenv/versions/3.8.12/envs/health/lib/python3.8/site-packages/sklearn/svm/_base.py:1206: ConvergenceWarning: Liblinear failed to converge, increase the number of iterations.\n",
      "  warnings.warn(\n",
      "/Users/leacebulla/.pyenv/versions/3.8.12/envs/health/lib/python3.8/site-packages/sklearn/svm/_base.py:1206: ConvergenceWarning: Liblinear failed to converge, increase the number of iterations.\n",
      "  warnings.warn(\n",
      "/Users/leacebulla/.pyenv/versions/3.8.12/envs/health/lib/python3.8/site-packages/sklearn/svm/_base.py:1206: ConvergenceWarning: Liblinear failed to converge, increase the number of iterations.\n",
      "  warnings.warn(\n",
      "/Users/leacebulla/.pyenv/versions/3.8.12/envs/health/lib/python3.8/site-packages/sklearn/svm/_base.py:1206: ConvergenceWarning: Liblinear failed to converge, increase the number of iterations.\n",
      "  warnings.warn(\n",
      "/Users/leacebulla/.pyenv/versions/3.8.12/envs/health/lib/python3.8/site-packages/sklearn/svm/_base.py:1206: ConvergenceWarning: Liblinear failed to converge, increase the number of iterations.\n",
      "  warnings.warn(\n",
      "/Users/leacebulla/.pyenv/versions/3.8.12/envs/health/lib/python3.8/site-packages/sklearn/svm/_base.py:1206: ConvergenceWarning: Liblinear failed to converge, increase the number of iterations.\n",
      "  warnings.warn(\n",
      "/Users/leacebulla/.pyenv/versions/3.8.12/envs/health/lib/python3.8/site-packages/sklearn/svm/_base.py:1206: ConvergenceWarning: Liblinear failed to converge, increase the number of iterations.\n",
      "  warnings.warn(\n",
      "/Users/leacebulla/.pyenv/versions/3.8.12/envs/health/lib/python3.8/site-packages/sklearn/svm/_base.py:1206: ConvergenceWarning: Liblinear failed to converge, increase the number of iterations.\n",
      "  warnings.warn(\n"
     ]
    },
    {
     "name": "stderr",
     "output_type": "stream",
     "text": [
      "/Users/leacebulla/.pyenv/versions/3.8.12/envs/health/lib/python3.8/site-packages/sklearn/linear_model/_logistic.py:1483: UserWarning: Setting penalty='none' will ignore the C and l1_ratio parameters\n",
      "  warnings.warn(\n",
      "/Users/leacebulla/.pyenv/versions/3.8.12/envs/health/lib/python3.8/site-packages/sklearn/linear_model/_logistic.py:1483: UserWarning: Setting penalty='none' will ignore the C and l1_ratio parameters\n",
      "  warnings.warn(\n",
      "/Users/leacebulla/.pyenv/versions/3.8.12/envs/health/lib/python3.8/site-packages/sklearn/linear_model/_sag.py:352: ConvergenceWarning: The max_iter was reached which means the coef_ did not converge\n",
      "  warnings.warn(\n",
      "/Users/leacebulla/.pyenv/versions/3.8.12/envs/health/lib/python3.8/site-packages/sklearn/linear_model/_logistic.py:1483: UserWarning: Setting penalty='none' will ignore the C and l1_ratio parameters\n",
      "  warnings.warn(\n",
      "/Users/leacebulla/.pyenv/versions/3.8.12/envs/health/lib/python3.8/site-packages/sklearn/linear_model/_sag.py:352: ConvergenceWarning: The max_iter was reached which means the coef_ did not converge\n",
      "  warnings.warn(\n",
      "/Users/leacebulla/.pyenv/versions/3.8.12/envs/health/lib/python3.8/site-packages/sklearn/linear_model/_logistic.py:1483: UserWarning: Setting penalty='none' will ignore the C and l1_ratio parameters\n",
      "  warnings.warn(\n",
      "/Users/leacebulla/.pyenv/versions/3.8.12/envs/health/lib/python3.8/site-packages/sklearn/linear_model/_logistic.py:1483: UserWarning: Setting penalty='none' will ignore the C and l1_ratio parameters\n",
      "  warnings.warn(\n",
      "/Users/leacebulla/.pyenv/versions/3.8.12/envs/health/lib/python3.8/site-packages/sklearn/linear_model/_logistic.py:1483: UserWarning: Setting penalty='none' will ignore the C and l1_ratio parameters\n",
      "  warnings.warn(\n",
      "/Users/leacebulla/.pyenv/versions/3.8.12/envs/health/lib/python3.8/site-packages/sklearn/linear_model/_logistic.py:1483: UserWarning: Setting penalty='none' will ignore the C and l1_ratio parameters\n",
      "  warnings.warn(\n",
      "/Users/leacebulla/.pyenv/versions/3.8.12/envs/health/lib/python3.8/site-packages/sklearn/linear_model/_logistic.py:1483: UserWarning: Setting penalty='none' will ignore the C and l1_ratio parameters\n",
      "  warnings.warn(\n",
      "/Users/leacebulla/.pyenv/versions/3.8.12/envs/health/lib/python3.8/site-packages/sklearn/linear_model/_logistic.py:1483: UserWarning: Setting penalty='none' will ignore the C and l1_ratio parameters\n",
      "  warnings.warn(\n",
      "/Users/leacebulla/.pyenv/versions/3.8.12/envs/health/lib/python3.8/site-packages/sklearn/linear_model/_sag.py:352: ConvergenceWarning: The max_iter was reached which means the coef_ did not converge\n",
      "  warnings.warn(\n",
      "/Users/leacebulla/.pyenv/versions/3.8.12/envs/health/lib/python3.8/site-packages/sklearn/linear_model/_logistic.py:1483: UserWarning: Setting penalty='none' will ignore the C and l1_ratio parameters\n",
      "  warnings.warn(\n",
      "/Users/leacebulla/.pyenv/versions/3.8.12/envs/health/lib/python3.8/site-packages/sklearn/linear_model/_sag.py:352: ConvergenceWarning: The max_iter was reached which means the coef_ did not converge\n",
      "  warnings.warn(\n",
      "/Users/leacebulla/.pyenv/versions/3.8.12/envs/health/lib/python3.8/site-packages/sklearn/linear_model/_logistic.py:1483: UserWarning: Setting penalty='none' will ignore the C and l1_ratio parameters\n",
      "  warnings.warn(\n",
      "/Users/leacebulla/.pyenv/versions/3.8.12/envs/health/lib/python3.8/site-packages/sklearn/linear_model/_logistic.py:1483: UserWarning: Setting penalty='none' will ignore the C and l1_ratio parameters\n",
      "  warnings.warn(\n",
      "/Users/leacebulla/.pyenv/versions/3.8.12/envs/health/lib/python3.8/site-packages/sklearn/linear_model/_logistic.py:1483: UserWarning: Setting penalty='none' will ignore the C and l1_ratio parameters\n",
      "  warnings.warn(\n",
      "/Users/leacebulla/.pyenv/versions/3.8.12/envs/health/lib/python3.8/site-packages/sklearn/linear_model/_logistic.py:1483: UserWarning: Setting penalty='none' will ignore the C and l1_ratio parameters\n",
      "  warnings.warn(\n",
      "/Users/leacebulla/.pyenv/versions/3.8.12/envs/health/lib/python3.8/site-packages/sklearn/linear_model/_sag.py:352: ConvergenceWarning: The max_iter was reached which means the coef_ did not converge\n",
      "  warnings.warn(\n",
      "/Users/leacebulla/.pyenv/versions/3.8.12/envs/health/lib/python3.8/site-packages/sklearn/linear_model/_logistic.py:1483: UserWarning: Setting penalty='none' will ignore the C and l1_ratio parameters\n",
      "  warnings.warn(\n",
      "/Users/leacebulla/.pyenv/versions/3.8.12/envs/health/lib/python3.8/site-packages/sklearn/linear_model/_sag.py:352: ConvergenceWarning: The max_iter was reached which means the coef_ did not converge\n",
      "  warnings.warn(\n",
      "/Users/leacebulla/.pyenv/versions/3.8.12/envs/health/lib/python3.8/site-packages/sklearn/linear_model/_logistic.py:1483: UserWarning: Setting penalty='none' will ignore the C and l1_ratio parameters\n",
      "  warnings.warn(\n",
      "/Users/leacebulla/.pyenv/versions/3.8.12/envs/health/lib/python3.8/site-packages/sklearn/linear_model/_sag.py:352: ConvergenceWarning: The max_iter was reached which means the coef_ did not converge\n",
      "  warnings.warn(\n",
      "/Users/leacebulla/.pyenv/versions/3.8.12/envs/health/lib/python3.8/site-packages/sklearn/linear_model/_logistic.py:1483: UserWarning: Setting penalty='none' will ignore the C and l1_ratio parameters\n",
      "  warnings.warn(\n",
      "/Users/leacebulla/.pyenv/versions/3.8.12/envs/health/lib/python3.8/site-packages/sklearn/linear_model/_sag.py:352: ConvergenceWarning: The max_iter was reached which means the coef_ did not converge\n",
      "  warnings.warn(\n",
      "/Users/leacebulla/.pyenv/versions/3.8.12/envs/health/lib/python3.8/site-packages/sklearn/linear_model/_sag.py:352: ConvergenceWarning: The max_iter was reached which means the coef_ did not converge\n",
      "  warnings.warn(\n",
      "/Users/leacebulla/.pyenv/versions/3.8.12/envs/health/lib/python3.8/site-packages/sklearn/linear_model/_sag.py:352: ConvergenceWarning: The max_iter was reached which means the coef_ did not converge\n",
      "  warnings.warn(\n",
      "/Users/leacebulla/.pyenv/versions/3.8.12/envs/health/lib/python3.8/site-packages/sklearn/linear_model/_logistic.py:1483: UserWarning: Setting penalty='none' will ignore the C and l1_ratio parameters\n",
      "  warnings.warn(\n",
      "/Users/leacebulla/.pyenv/versions/3.8.12/envs/health/lib/python3.8/site-packages/sklearn/linear_model/_sag.py:352: ConvergenceWarning: The max_iter was reached which means the coef_ did not converge\n",
      "  warnings.warn(\n",
      "/Users/leacebulla/.pyenv/versions/3.8.12/envs/health/lib/python3.8/site-packages/sklearn/linear_model/_logistic.py:1483: UserWarning: Setting penalty='none' will ignore the C and l1_ratio parameters\n",
      "  warnings.warn(\n",
      "/Users/leacebulla/.pyenv/versions/3.8.12/envs/health/lib/python3.8/site-packages/sklearn/linear_model/_sag.py:352: ConvergenceWarning: The max_iter was reached which means the coef_ did not converge\n",
      "  warnings.warn(\n",
      "/Users/leacebulla/.pyenv/versions/3.8.12/envs/health/lib/python3.8/site-packages/sklearn/linear_model/_logistic.py:1483: UserWarning: Setting penalty='none' will ignore the C and l1_ratio parameters\n",
      "  warnings.warn(\n",
      "/Users/leacebulla/.pyenv/versions/3.8.12/envs/health/lib/python3.8/site-packages/sklearn/linear_model/_sag.py:352: ConvergenceWarning: The max_iter was reached which means the coef_ did not converge\n",
      "  warnings.warn(\n",
      "/Users/leacebulla/.pyenv/versions/3.8.12/envs/health/lib/python3.8/site-packages/sklearn/linear_model/_logistic.py:1483: UserWarning: Setting penalty='none' will ignore the C and l1_ratio parameters\n",
      "  warnings.warn(\n",
      "/Users/leacebulla/.pyenv/versions/3.8.12/envs/health/lib/python3.8/site-packages/sklearn/linear_model/_sag.py:352: ConvergenceWarning: The max_iter was reached which means the coef_ did not converge\n",
      "  warnings.warn(\n",
      "/Users/leacebulla/.pyenv/versions/3.8.12/envs/health/lib/python3.8/site-packages/sklearn/linear_model/_logistic.py:1483: UserWarning: Setting penalty='none' will ignore the C and l1_ratio parameters\n",
      "  warnings.warn(\n",
      "/Users/leacebulla/.pyenv/versions/3.8.12/envs/health/lib/python3.8/site-packages/sklearn/linear_model/_sag.py:352: ConvergenceWarning: The max_iter was reached which means the coef_ did not converge\n",
      "  warnings.warn(\n",
      "/Users/leacebulla/.pyenv/versions/3.8.12/envs/health/lib/python3.8/site-packages/sklearn/linear_model/_sag.py:352: ConvergenceWarning: The max_iter was reached which means the coef_ did not converge\n",
      "  warnings.warn(\n",
      "/Users/leacebulla/.pyenv/versions/3.8.12/envs/health/lib/python3.8/site-packages/sklearn/linear_model/_sag.py:352: ConvergenceWarning: The max_iter was reached which means the coef_ did not converge\n",
      "  warnings.warn(\n",
      "/Users/leacebulla/.pyenv/versions/3.8.12/envs/health/lib/python3.8/site-packages/sklearn/linear_model/_sag.py:352: ConvergenceWarning: The max_iter was reached which means the coef_ did not converge\n",
      "  warnings.warn(\n",
      "/Users/leacebulla/.pyenv/versions/3.8.12/envs/health/lib/python3.8/site-packages/sklearn/linear_model/_sag.py:352: ConvergenceWarning: The max_iter was reached which means the coef_ did not converge\n",
      "  warnings.warn(\n",
      "/Users/leacebulla/.pyenv/versions/3.8.12/envs/health/lib/python3.8/site-packages/sklearn/linear_model/_sag.py:352: ConvergenceWarning: The max_iter was reached which means the coef_ did not converge\n",
      "  warnings.warn(\n",
      "/Users/leacebulla/.pyenv/versions/3.8.12/envs/health/lib/python3.8/site-packages/sklearn/linear_model/_sag.py:352: ConvergenceWarning: The max_iter was reached which means the coef_ did not converge\n",
      "  warnings.warn(\n",
      "/Users/leacebulla/.pyenv/versions/3.8.12/envs/health/lib/python3.8/site-packages/sklearn/linear_model/_sag.py:352: ConvergenceWarning: The max_iter was reached which means the coef_ did not converge\n",
      "  warnings.warn(\n",
      "/Users/leacebulla/.pyenv/versions/3.8.12/envs/health/lib/python3.8/site-packages/sklearn/linear_model/_sag.py:352: ConvergenceWarning: The max_iter was reached which means the coef_ did not converge\n",
      "  warnings.warn(\n",
      "/Users/leacebulla/.pyenv/versions/3.8.12/envs/health/lib/python3.8/site-packages/sklearn/svm/_base.py:1206: ConvergenceWarning: Liblinear failed to converge, increase the number of iterations.\n",
      "  warnings.warn(\n",
      "/Users/leacebulla/.pyenv/versions/3.8.12/envs/health/lib/python3.8/site-packages/sklearn/svm/_base.py:1206: ConvergenceWarning: Liblinear failed to converge, increase the number of iterations.\n",
      "  warnings.warn(\n",
      "/Users/leacebulla/.pyenv/versions/3.8.12/envs/health/lib/python3.8/site-packages/sklearn/svm/_base.py:1206: ConvergenceWarning: Liblinear failed to converge, increase the number of iterations.\n",
      "  warnings.warn(\n",
      "/Users/leacebulla/.pyenv/versions/3.8.12/envs/health/lib/python3.8/site-packages/sklearn/svm/_base.py:1206: ConvergenceWarning: Liblinear failed to converge, increase the number of iterations.\n",
      "  warnings.warn(\n",
      "/Users/leacebulla/.pyenv/versions/3.8.12/envs/health/lib/python3.8/site-packages/sklearn/svm/_base.py:1206: ConvergenceWarning: Liblinear failed to converge, increase the number of iterations.\n",
      "  warnings.warn(\n",
      "/Users/leacebulla/.pyenv/versions/3.8.12/envs/health/lib/python3.8/site-packages/sklearn/svm/_base.py:1206: ConvergenceWarning: Liblinear failed to converge, increase the number of iterations.\n",
      "  warnings.warn(\n",
      "/Users/leacebulla/.pyenv/versions/3.8.12/envs/health/lib/python3.8/site-packages/sklearn/svm/_base.py:1206: ConvergenceWarning: Liblinear failed to converge, increase the number of iterations.\n",
      "  warnings.warn(\n",
      "/Users/leacebulla/.pyenv/versions/3.8.12/envs/health/lib/python3.8/site-packages/sklearn/svm/_base.py:1206: ConvergenceWarning: Liblinear failed to converge, increase the number of iterations.\n",
      "  warnings.warn(\n",
      "/Users/leacebulla/.pyenv/versions/3.8.12/envs/health/lib/python3.8/site-packages/sklearn/svm/_base.py:1206: ConvergenceWarning: Liblinear failed to converge, increase the number of iterations.\n",
      "  warnings.warn(\n",
      "/Users/leacebulla/.pyenv/versions/3.8.12/envs/health/lib/python3.8/site-packages/sklearn/svm/_base.py:1206: ConvergenceWarning: Liblinear failed to converge, increase the number of iterations.\n",
      "  warnings.warn(\n"
     ]
    },
    {
     "name": "stderr",
     "output_type": "stream",
     "text": [
      "/Users/leacebulla/.pyenv/versions/3.8.12/envs/health/lib/python3.8/site-packages/sklearn/linear_model/_logistic.py:1483: UserWarning: Setting penalty='none' will ignore the C and l1_ratio parameters\n",
      "  warnings.warn(\n",
      "/Users/leacebulla/.pyenv/versions/3.8.12/envs/health/lib/python3.8/site-packages/sklearn/linear_model/_logistic.py:1483: UserWarning: Setting penalty='none' will ignore the C and l1_ratio parameters\n",
      "  warnings.warn(\n",
      "/Users/leacebulla/.pyenv/versions/3.8.12/envs/health/lib/python3.8/site-packages/sklearn/linear_model/_sag.py:352: ConvergenceWarning: The max_iter was reached which means the coef_ did not converge\n",
      "  warnings.warn(\n",
      "/Users/leacebulla/.pyenv/versions/3.8.12/envs/health/lib/python3.8/site-packages/sklearn/linear_model/_logistic.py:1483: UserWarning: Setting penalty='none' will ignore the C and l1_ratio parameters\n",
      "  warnings.warn(\n",
      "/Users/leacebulla/.pyenv/versions/3.8.12/envs/health/lib/python3.8/site-packages/sklearn/linear_model/_sag.py:352: ConvergenceWarning: The max_iter was reached which means the coef_ did not converge\n",
      "  warnings.warn(\n",
      "/Users/leacebulla/.pyenv/versions/3.8.12/envs/health/lib/python3.8/site-packages/sklearn/linear_model/_sag.py:352: ConvergenceWarning: The max_iter was reached which means the coef_ did not converge\n",
      "  warnings.warn(\n",
      "/Users/leacebulla/.pyenv/versions/3.8.12/envs/health/lib/python3.8/site-packages/sklearn/linear_model/_sag.py:352: ConvergenceWarning: The max_iter was reached which means the coef_ did not converge\n",
      "  warnings.warn(\n",
      "/Users/leacebulla/.pyenv/versions/3.8.12/envs/health/lib/python3.8/site-packages/sklearn/linear_model/_sag.py:352: ConvergenceWarning: The max_iter was reached which means the coef_ did not converge\n",
      "  warnings.warn(\n",
      "/Users/leacebulla/.pyenv/versions/3.8.12/envs/health/lib/python3.8/site-packages/sklearn/linear_model/_sag.py:352: ConvergenceWarning: The max_iter was reached which means the coef_ did not converge\n",
      "  warnings.warn(\n",
      "/Users/leacebulla/.pyenv/versions/3.8.12/envs/health/lib/python3.8/site-packages/sklearn/linear_model/_sag.py:352: ConvergenceWarning: The max_iter was reached which means the coef_ did not converge\n",
      "  warnings.warn(\n",
      "/Users/leacebulla/.pyenv/versions/3.8.12/envs/health/lib/python3.8/site-packages/sklearn/linear_model/_sag.py:352: ConvergenceWarning: The max_iter was reached which means the coef_ did not converge\n",
      "  warnings.warn(\n",
      "/Users/leacebulla/.pyenv/versions/3.8.12/envs/health/lib/python3.8/site-packages/sklearn/linear_model/_sag.py:352: ConvergenceWarning: The max_iter was reached which means the coef_ did not converge\n",
      "  warnings.warn(\n",
      "/Users/leacebulla/.pyenv/versions/3.8.12/envs/health/lib/python3.8/site-packages/sklearn/linear_model/_sag.py:352: ConvergenceWarning: The max_iter was reached which means the coef_ did not converge\n",
      "  warnings.warn(\n",
      "/Users/leacebulla/.pyenv/versions/3.8.12/envs/health/lib/python3.8/site-packages/sklearn/linear_model/_logistic.py:1483: UserWarning: Setting penalty='none' will ignore the C and l1_ratio parameters\n",
      "  warnings.warn(\n",
      "/Users/leacebulla/.pyenv/versions/3.8.12/envs/health/lib/python3.8/site-packages/sklearn/linear_model/_logistic.py:1483: UserWarning: Setting penalty='none' will ignore the C and l1_ratio parameters\n",
      "  warnings.warn(\n",
      "/Users/leacebulla/.pyenv/versions/3.8.12/envs/health/lib/python3.8/site-packages/sklearn/linear_model/_logistic.py:1483: UserWarning: Setting penalty='none' will ignore the C and l1_ratio parameters\n",
      "  warnings.warn(\n",
      "/Users/leacebulla/.pyenv/versions/3.8.12/envs/health/lib/python3.8/site-packages/sklearn/svm/_base.py:1206: ConvergenceWarning: Liblinear failed to converge, increase the number of iterations.\n",
      "  warnings.warn(\n",
      "/Users/leacebulla/.pyenv/versions/3.8.12/envs/health/lib/python3.8/site-packages/sklearn/svm/_base.py:1206: ConvergenceWarning: Liblinear failed to converge, increase the number of iterations.\n",
      "  warnings.warn(\n",
      "/Users/leacebulla/.pyenv/versions/3.8.12/envs/health/lib/python3.8/site-packages/sklearn/svm/_base.py:1206: ConvergenceWarning: Liblinear failed to converge, increase the number of iterations.\n",
      "  warnings.warn(\n",
      "/Users/leacebulla/.pyenv/versions/3.8.12/envs/health/lib/python3.8/site-packages/sklearn/svm/_base.py:1206: ConvergenceWarning: Liblinear failed to converge, increase the number of iterations.\n",
      "  warnings.warn(\n",
      "/Users/leacebulla/.pyenv/versions/3.8.12/envs/health/lib/python3.8/site-packages/sklearn/svm/_base.py:1206: ConvergenceWarning: Liblinear failed to converge, increase the number of iterations.\n",
      "  warnings.warn(\n",
      "/Users/leacebulla/.pyenv/versions/3.8.12/envs/health/lib/python3.8/site-packages/sklearn/svm/_base.py:1206: ConvergenceWarning: Liblinear failed to converge, increase the number of iterations.\n",
      "  warnings.warn(\n",
      "/Users/leacebulla/.pyenv/versions/3.8.12/envs/health/lib/python3.8/site-packages/sklearn/svm/_base.py:1206: ConvergenceWarning: Liblinear failed to converge, increase the number of iterations.\n",
      "  warnings.warn(\n",
      "/Users/leacebulla/.pyenv/versions/3.8.12/envs/health/lib/python3.8/site-packages/sklearn/svm/_base.py:1206: ConvergenceWarning: Liblinear failed to converge, increase the number of iterations.\n",
      "  warnings.warn(\n",
      "/Users/leacebulla/.pyenv/versions/3.8.12/envs/health/lib/python3.8/site-packages/sklearn/svm/_base.py:1206: ConvergenceWarning: Liblinear failed to converge, increase the number of iterations.\n",
      "  warnings.warn(\n",
      "/Users/leacebulla/.pyenv/versions/3.8.12/envs/health/lib/python3.8/site-packages/sklearn/svm/_base.py:1206: ConvergenceWarning: Liblinear failed to converge, increase the number of iterations.\n",
      "  warnings.warn(\n",
      "/Users/leacebulla/.pyenv/versions/3.8.12/envs/health/lib/python3.8/site-packages/sklearn/svm/_base.py:1206: ConvergenceWarning: Liblinear failed to converge, increase the number of iterations.\n",
      "  warnings.warn(\n",
      "/Users/leacebulla/.pyenv/versions/3.8.12/envs/health/lib/python3.8/site-packages/sklearn/svm/_base.py:1206: ConvergenceWarning: Liblinear failed to converge, increase the number of iterations.\n",
      "  warnings.warn(\n",
      "/Users/leacebulla/.pyenv/versions/3.8.12/envs/health/lib/python3.8/site-packages/sklearn/linear_model/_logistic.py:1483: UserWarning: Setting penalty='none' will ignore the C and l1_ratio parameters\n",
      "  warnings.warn(\n",
      "/Users/leacebulla/.pyenv/versions/3.8.12/envs/health/lib/python3.8/site-packages/sklearn/linear_model/_logistic.py:1483: UserWarning: Setting penalty='none' will ignore the C and l1_ratio parameters\n",
      "  warnings.warn(\n",
      "/Users/leacebulla/.pyenv/versions/3.8.12/envs/health/lib/python3.8/site-packages/sklearn/linear_model/_logistic.py:1483: UserWarning: Setting penalty='none' will ignore the C and l1_ratio parameters\n",
      "  warnings.warn(\n",
      "/Users/leacebulla/.pyenv/versions/3.8.12/envs/health/lib/python3.8/site-packages/sklearn/linear_model/_sag.py:352: ConvergenceWarning: The max_iter was reached which means the coef_ did not converge\n",
      "  warnings.warn(\n",
      "/Users/leacebulla/.pyenv/versions/3.8.12/envs/health/lib/python3.8/site-packages/sklearn/linear_model/_sag.py:352: ConvergenceWarning: The max_iter was reached which means the coef_ did not converge\n",
      "  warnings.warn(\n",
      "/Users/leacebulla/.pyenv/versions/3.8.12/envs/health/lib/python3.8/site-packages/sklearn/linear_model/_sag.py:352: ConvergenceWarning: The max_iter was reached which means the coef_ did not converge\n",
      "  warnings.warn(\n",
      "/Users/leacebulla/.pyenv/versions/3.8.12/envs/health/lib/python3.8/site-packages/sklearn/linear_model/_sag.py:352: ConvergenceWarning: The max_iter was reached which means the coef_ did not converge\n",
      "  warnings.warn(\n",
      "/Users/leacebulla/.pyenv/versions/3.8.12/envs/health/lib/python3.8/site-packages/sklearn/linear_model/_logistic.py:1483: UserWarning: Setting penalty='none' will ignore the C and l1_ratio parameters\n",
      "  warnings.warn(\n",
      "/Users/leacebulla/.pyenv/versions/3.8.12/envs/health/lib/python3.8/site-packages/sklearn/linear_model/_sag.py:352: ConvergenceWarning: The max_iter was reached which means the coef_ did not converge\n",
      "  warnings.warn(\n",
      "/Users/leacebulla/.pyenv/versions/3.8.12/envs/health/lib/python3.8/site-packages/sklearn/linear_model/_sag.py:352: ConvergenceWarning: The max_iter was reached which means the coef_ did not converge\n",
      "  warnings.warn(\n",
      "/Users/leacebulla/.pyenv/versions/3.8.12/envs/health/lib/python3.8/site-packages/sklearn/linear_model/_sag.py:352: ConvergenceWarning: The max_iter was reached which means the coef_ did not converge\n",
      "  warnings.warn(\n",
      "/Users/leacebulla/.pyenv/versions/3.8.12/envs/health/lib/python3.8/site-packages/sklearn/linear_model/_sag.py:352: ConvergenceWarning: The max_iter was reached which means the coef_ did not converge\n",
      "  warnings.warn(\n",
      "/Users/leacebulla/.pyenv/versions/3.8.12/envs/health/lib/python3.8/site-packages/sklearn/linear_model/_sag.py:352: ConvergenceWarning: The max_iter was reached which means the coef_ did not converge\n",
      "  warnings.warn(\n",
      "/Users/leacebulla/.pyenv/versions/3.8.12/envs/health/lib/python3.8/site-packages/sklearn/linear_model/_sag.py:352: ConvergenceWarning: The max_iter was reached which means the coef_ did not converge\n",
      "  warnings.warn(\n",
      "/Users/leacebulla/.pyenv/versions/3.8.12/envs/health/lib/python3.8/site-packages/sklearn/linear_model/_logistic.py:1483: UserWarning: Setting penalty='none' will ignore the C and l1_ratio parameters\n",
      "  warnings.warn(\n",
      "/Users/leacebulla/.pyenv/versions/3.8.12/envs/health/lib/python3.8/site-packages/sklearn/linear_model/_logistic.py:1483: UserWarning: Setting penalty='none' will ignore the C and l1_ratio parameters\n",
      "  warnings.warn(\n",
      "/Users/leacebulla/.pyenv/versions/3.8.12/envs/health/lib/python3.8/site-packages/sklearn/linear_model/_sag.py:352: ConvergenceWarning: The max_iter was reached which means the coef_ did not converge\n",
      "  warnings.warn(\n",
      "/Users/leacebulla/.pyenv/versions/3.8.12/envs/health/lib/python3.8/site-packages/sklearn/linear_model/_logistic.py:1483: UserWarning: Setting penalty='none' will ignore the C and l1_ratio parameters\n",
      "  warnings.warn(\n",
      "/Users/leacebulla/.pyenv/versions/3.8.12/envs/health/lib/python3.8/site-packages/sklearn/linear_model/_sag.py:352: ConvergenceWarning: The max_iter was reached which means the coef_ did not converge\n",
      "  warnings.warn(\n",
      "/Users/leacebulla/.pyenv/versions/3.8.12/envs/health/lib/python3.8/site-packages/sklearn/linear_model/_logistic.py:1483: UserWarning: Setting penalty='none' will ignore the C and l1_ratio parameters\n",
      "  warnings.warn(\n",
      "/Users/leacebulla/.pyenv/versions/3.8.12/envs/health/lib/python3.8/site-packages/sklearn/linear_model/_logistic.py:1483: UserWarning: Setting penalty='none' will ignore the C and l1_ratio parameters\n",
      "  warnings.warn(\n",
      "/Users/leacebulla/.pyenv/versions/3.8.12/envs/health/lib/python3.8/site-packages/sklearn/linear_model/_logistic.py:1483: UserWarning: Setting penalty='none' will ignore the C and l1_ratio parameters\n",
      "  warnings.warn(\n",
      "/Users/leacebulla/.pyenv/versions/3.8.12/envs/health/lib/python3.8/site-packages/sklearn/linear_model/_sag.py:352: ConvergenceWarning: The max_iter was reached which means the coef_ did not converge\n",
      "  warnings.warn(\n",
      "/Users/leacebulla/.pyenv/versions/3.8.12/envs/health/lib/python3.8/site-packages/sklearn/linear_model/_logistic.py:1483: UserWarning: Setting penalty='none' will ignore the C and l1_ratio parameters\n",
      "  warnings.warn(\n",
      "/Users/leacebulla/.pyenv/versions/3.8.12/envs/health/lib/python3.8/site-packages/sklearn/linear_model/_sag.py:352: ConvergenceWarning: The max_iter was reached which means the coef_ did not converge\n",
      "  warnings.warn(\n",
      "/Users/leacebulla/.pyenv/versions/3.8.12/envs/health/lib/python3.8/site-packages/sklearn/linear_model/_sag.py:352: ConvergenceWarning: The max_iter was reached which means the coef_ did not converge\n",
      "  warnings.warn(\n",
      "/Users/leacebulla/.pyenv/versions/3.8.12/envs/health/lib/python3.8/site-packages/sklearn/linear_model/_sag.py:352: ConvergenceWarning: The max_iter was reached which means the coef_ did not converge\n",
      "  warnings.warn(\n",
      "/Users/leacebulla/.pyenv/versions/3.8.12/envs/health/lib/python3.8/site-packages/sklearn/linear_model/_logistic.py:1483: UserWarning: Setting penalty='none' will ignore the C and l1_ratio parameters\n",
      "  warnings.warn(\n",
      "/Users/leacebulla/.pyenv/versions/3.8.12/envs/health/lib/python3.8/site-packages/sklearn/linear_model/_logistic.py:1483: UserWarning: Setting penalty='none' will ignore the C and l1_ratio parameters\n",
      "  warnings.warn(\n",
      "/Users/leacebulla/.pyenv/versions/3.8.12/envs/health/lib/python3.8/site-packages/sklearn/linear_model/_logistic.py:1483: UserWarning: Setting penalty='none' will ignore the C and l1_ratio parameters\n",
      "  warnings.warn(\n",
      "/Users/leacebulla/.pyenv/versions/3.8.12/envs/health/lib/python3.8/site-packages/sklearn/linear_model/_logistic.py:1483: UserWarning: Setting penalty='none' will ignore the C and l1_ratio parameters\n",
      "  warnings.warn(\n",
      "/Users/leacebulla/.pyenv/versions/3.8.12/envs/health/lib/python3.8/site-packages/sklearn/linear_model/_logistic.py:1483: UserWarning: Setting penalty='none' will ignore the C and l1_ratio parameters\n",
      "  warnings.warn(\n",
      "/Users/leacebulla/.pyenv/versions/3.8.12/envs/health/lib/python3.8/site-packages/sklearn/linear_model/_logistic.py:1483: UserWarning: Setting penalty='none' will ignore the C and l1_ratio parameters\n",
      "  warnings.warn(\n",
      "/Users/leacebulla/.pyenv/versions/3.8.12/envs/health/lib/python3.8/site-packages/sklearn/linear_model/_logistic.py:1483: UserWarning: Setting penalty='none' will ignore the C and l1_ratio parameters\n",
      "  warnings.warn(\n",
      "/Users/leacebulla/.pyenv/versions/3.8.12/envs/health/lib/python3.8/site-packages/sklearn/linear_model/_sag.py:352: ConvergenceWarning: The max_iter was reached which means the coef_ did not converge\n",
      "  warnings.warn(\n",
      "/Users/leacebulla/.pyenv/versions/3.8.12/envs/health/lib/python3.8/site-packages/sklearn/linear_model/_logistic.py:1483: UserWarning: Setting penalty='none' will ignore the C and l1_ratio parameters\n",
      "  warnings.warn(\n",
      "/Users/leacebulla/.pyenv/versions/3.8.12/envs/health/lib/python3.8/site-packages/sklearn/linear_model/_sag.py:352: ConvergenceWarning: The max_iter was reached which means the coef_ did not converge\n",
      "  warnings.warn(\n",
      "/Users/leacebulla/.pyenv/versions/3.8.12/envs/health/lib/python3.8/site-packages/sklearn/linear_model/_logistic.py:1483: UserWarning: Setting penalty='none' will ignore the C and l1_ratio parameters\n",
      "  warnings.warn(\n",
      "/Users/leacebulla/.pyenv/versions/3.8.12/envs/health/lib/python3.8/site-packages/sklearn/linear_model/_sag.py:352: ConvergenceWarning: The max_iter was reached which means the coef_ did not converge\n",
      "  warnings.warn(\n",
      "/Users/leacebulla/.pyenv/versions/3.8.12/envs/health/lib/python3.8/site-packages/sklearn/linear_model/_logistic.py:1483: UserWarning: Setting penalty='none' will ignore the C and l1_ratio parameters\n",
      "  warnings.warn(\n",
      "/Users/leacebulla/.pyenv/versions/3.8.12/envs/health/lib/python3.8/site-packages/sklearn/linear_model/_sag.py:352: ConvergenceWarning: The max_iter was reached which means the coef_ did not converge\n",
      "  warnings.warn(\n",
      "/Users/leacebulla/.pyenv/versions/3.8.12/envs/health/lib/python3.8/site-packages/sklearn/linear_model/_logistic.py:1483: UserWarning: Setting penalty='none' will ignore the C and l1_ratio parameters\n",
      "  warnings.warn(\n",
      "/Users/leacebulla/.pyenv/versions/3.8.12/envs/health/lib/python3.8/site-packages/sklearn/linear_model/_sag.py:352: ConvergenceWarning: The max_iter was reached which means the coef_ did not converge\n",
      "  warnings.warn(\n",
      "/Users/leacebulla/.pyenv/versions/3.8.12/envs/health/lib/python3.8/site-packages/sklearn/svm/_base.py:1206: ConvergenceWarning: Liblinear failed to converge, increase the number of iterations.\n",
      "  warnings.warn(\n",
      "/Users/leacebulla/.pyenv/versions/3.8.12/envs/health/lib/python3.8/site-packages/sklearn/svm/_base.py:1206: ConvergenceWarning: Liblinear failed to converge, increase the number of iterations.\n",
      "  warnings.warn(\n",
      "/Users/leacebulla/.pyenv/versions/3.8.12/envs/health/lib/python3.8/site-packages/sklearn/svm/_base.py:1206: ConvergenceWarning: Liblinear failed to converge, increase the number of iterations.\n",
      "  warnings.warn(\n",
      "/Users/leacebulla/.pyenv/versions/3.8.12/envs/health/lib/python3.8/site-packages/sklearn/svm/_base.py:1206: ConvergenceWarning: Liblinear failed to converge, increase the number of iterations.\n",
      "  warnings.warn(\n",
      "/Users/leacebulla/.pyenv/versions/3.8.12/envs/health/lib/python3.8/site-packages/sklearn/svm/_base.py:1206: ConvergenceWarning: Liblinear failed to converge, increase the number of iterations.\n",
      "  warnings.warn(\n",
      "/Users/leacebulla/.pyenv/versions/3.8.12/envs/health/lib/python3.8/site-packages/sklearn/svm/_base.py:1206: ConvergenceWarning: Liblinear failed to converge, increase the number of iterations.\n",
      "  warnings.warn(\n",
      "/Users/leacebulla/.pyenv/versions/3.8.12/envs/health/lib/python3.8/site-packages/sklearn/svm/_base.py:1206: ConvergenceWarning: Liblinear failed to converge, increase the number of iterations.\n",
      "  warnings.warn(\n",
      "/Users/leacebulla/.pyenv/versions/3.8.12/envs/health/lib/python3.8/site-packages/sklearn/svm/_base.py:1206: ConvergenceWarning: Liblinear failed to converge, increase the number of iterations.\n",
      "  warnings.warn(\n",
      "/Users/leacebulla/.pyenv/versions/3.8.12/envs/health/lib/python3.8/site-packages/sklearn/svm/_base.py:1206: ConvergenceWarning: Liblinear failed to converge, increase the number of iterations.\n",
      "  warnings.warn(\n",
      "/Users/leacebulla/.pyenv/versions/3.8.12/envs/health/lib/python3.8/site-packages/sklearn/svm/_base.py:1206: ConvergenceWarning: Liblinear failed to converge, increase the number of iterations.\n",
      "  warnings.warn(\n"
     ]
    },
    {
     "name": "stderr",
     "output_type": "stream",
     "text": [
      "/Users/leacebulla/.pyenv/versions/3.8.12/envs/health/lib/python3.8/site-packages/sklearn/linear_model/_logistic.py:1483: UserWarning: Setting penalty='none' will ignore the C and l1_ratio parameters\n",
      "  warnings.warn(\n",
      "/Users/leacebulla/.pyenv/versions/3.8.12/envs/health/lib/python3.8/site-packages/sklearn/linear_model/_logistic.py:1483: UserWarning: Setting penalty='none' will ignore the C and l1_ratio parameters\n",
      "  warnings.warn(\n",
      "/Users/leacebulla/.pyenv/versions/3.8.12/envs/health/lib/python3.8/site-packages/sklearn/linear_model/_sag.py:352: ConvergenceWarning: The max_iter was reached which means the coef_ did not converge\n",
      "  warnings.warn(\n",
      "/Users/leacebulla/.pyenv/versions/3.8.12/envs/health/lib/python3.8/site-packages/sklearn/linear_model/_sag.py:352: ConvergenceWarning: The max_iter was reached which means the coef_ did not converge\n",
      "  warnings.warn(\n",
      "/Users/leacebulla/.pyenv/versions/3.8.12/envs/health/lib/python3.8/site-packages/sklearn/linear_model/_logistic.py:1483: UserWarning: Setting penalty='none' will ignore the C and l1_ratio parameters\n",
      "  warnings.warn(\n",
      "/Users/leacebulla/.pyenv/versions/3.8.12/envs/health/lib/python3.8/site-packages/sklearn/linear_model/_logistic.py:1483: UserWarning: Setting penalty='none' will ignore the C and l1_ratio parameters\n",
      "  warnings.warn(\n",
      "/Users/leacebulla/.pyenv/versions/3.8.12/envs/health/lib/python3.8/site-packages/sklearn/linear_model/_logistic.py:1483: UserWarning: Setting penalty='none' will ignore the C and l1_ratio parameters\n",
      "  warnings.warn(\n",
      "/Users/leacebulla/.pyenv/versions/3.8.12/envs/health/lib/python3.8/site-packages/sklearn/linear_model/_logistic.py:1483: UserWarning: Setting penalty='none' will ignore the C and l1_ratio parameters\n",
      "  warnings.warn(\n",
      "/Users/leacebulla/.pyenv/versions/3.8.12/envs/health/lib/python3.8/site-packages/sklearn/linear_model/_logistic.py:1483: UserWarning: Setting penalty='none' will ignore the C and l1_ratio parameters\n",
      "  warnings.warn(\n",
      "/Users/leacebulla/.pyenv/versions/3.8.12/envs/health/lib/python3.8/site-packages/sklearn/linear_model/_sag.py:352: ConvergenceWarning: The max_iter was reached which means the coef_ did not converge\n",
      "  warnings.warn(\n",
      "/Users/leacebulla/.pyenv/versions/3.8.12/envs/health/lib/python3.8/site-packages/sklearn/linear_model/_logistic.py:1483: UserWarning: Setting penalty='none' will ignore the C and l1_ratio parameters\n",
      "  warnings.warn(\n",
      "/Users/leacebulla/.pyenv/versions/3.8.12/envs/health/lib/python3.8/site-packages/sklearn/linear_model/_logistic.py:1483: UserWarning: Setting penalty='none' will ignore the C and l1_ratio parameters\n",
      "  warnings.warn(\n",
      "/Users/leacebulla/.pyenv/versions/3.8.12/envs/health/lib/python3.8/site-packages/sklearn/linear_model/_logistic.py:1483: UserWarning: Setting penalty='none' will ignore the C and l1_ratio parameters\n",
      "  warnings.warn(\n",
      "/Users/leacebulla/.pyenv/versions/3.8.12/envs/health/lib/python3.8/site-packages/sklearn/linear_model/_logistic.py:1483: UserWarning: Setting penalty='none' will ignore the C and l1_ratio parameters\n",
      "  warnings.warn(\n",
      "/Users/leacebulla/.pyenv/versions/3.8.12/envs/health/lib/python3.8/site-packages/sklearn/linear_model/_sag.py:352: ConvergenceWarning: The max_iter was reached which means the coef_ did not converge\n",
      "  warnings.warn(\n",
      "/Users/leacebulla/.pyenv/versions/3.8.12/envs/health/lib/python3.8/site-packages/sklearn/linear_model/_logistic.py:1483: UserWarning: Setting penalty='none' will ignore the C and l1_ratio parameters\n",
      "  warnings.warn(\n",
      "/Users/leacebulla/.pyenv/versions/3.8.12/envs/health/lib/python3.8/site-packages/sklearn/linear_model/_logistic.py:1483: UserWarning: Setting penalty='none' will ignore the C and l1_ratio parameters\n",
      "  warnings.warn(\n",
      "/Users/leacebulla/.pyenv/versions/3.8.12/envs/health/lib/python3.8/site-packages/sklearn/linear_model/_logistic.py:1483: UserWarning: Setting penalty='none' will ignore the C and l1_ratio parameters\n",
      "  warnings.warn(\n",
      "/Users/leacebulla/.pyenv/versions/3.8.12/envs/health/lib/python3.8/site-packages/sklearn/linear_model/_logistic.py:1483: UserWarning: Setting penalty='none' will ignore the C and l1_ratio parameters\n",
      "  warnings.warn(\n",
      "/Users/leacebulla/.pyenv/versions/3.8.12/envs/health/lib/python3.8/site-packages/sklearn/svm/_base.py:1206: ConvergenceWarning: Liblinear failed to converge, increase the number of iterations.\n",
      "  warnings.warn(\n",
      "/Users/leacebulla/.pyenv/versions/3.8.12/envs/health/lib/python3.8/site-packages/sklearn/svm/_base.py:1206: ConvergenceWarning: Liblinear failed to converge, increase the number of iterations.\n",
      "  warnings.warn(\n",
      "/Users/leacebulla/.pyenv/versions/3.8.12/envs/health/lib/python3.8/site-packages/sklearn/svm/_base.py:1206: ConvergenceWarning: Liblinear failed to converge, increase the number of iterations.\n",
      "  warnings.warn(\n",
      "/Users/leacebulla/.pyenv/versions/3.8.12/envs/health/lib/python3.8/site-packages/sklearn/svm/_base.py:1206: ConvergenceWarning: Liblinear failed to converge, increase the number of iterations.\n",
      "  warnings.warn(\n",
      "/Users/leacebulla/.pyenv/versions/3.8.12/envs/health/lib/python3.8/site-packages/sklearn/svm/_base.py:1206: ConvergenceWarning: Liblinear failed to converge, increase the number of iterations.\n",
      "  warnings.warn(\n",
      "/Users/leacebulla/.pyenv/versions/3.8.12/envs/health/lib/python3.8/site-packages/sklearn/svm/_base.py:1206: ConvergenceWarning: Liblinear failed to converge, increase the number of iterations.\n",
      "  warnings.warn(\n",
      "/Users/leacebulla/.pyenv/versions/3.8.12/envs/health/lib/python3.8/site-packages/sklearn/svm/_base.py:1206: ConvergenceWarning: Liblinear failed to converge, increase the number of iterations.\n",
      "  warnings.warn(\n",
      "/Users/leacebulla/.pyenv/versions/3.8.12/envs/health/lib/python3.8/site-packages/sklearn/svm/_base.py:1206: ConvergenceWarning: Liblinear failed to converge, increase the number of iterations.\n",
      "  warnings.warn(\n",
      "/Users/leacebulla/.pyenv/versions/3.8.12/envs/health/lib/python3.8/site-packages/sklearn/svm/_base.py:1206: ConvergenceWarning: Liblinear failed to converge, increase the number of iterations.\n",
      "  warnings.warn(\n",
      "/Users/leacebulla/.pyenv/versions/3.8.12/envs/health/lib/python3.8/site-packages/sklearn/svm/_base.py:1206: ConvergenceWarning: Liblinear failed to converge, increase the number of iterations.\n",
      "  warnings.warn(\n",
      "/Users/leacebulla/.pyenv/versions/3.8.12/envs/health/lib/python3.8/site-packages/sklearn/svm/_base.py:1206: ConvergenceWarning: Liblinear failed to converge, increase the number of iterations.\n",
      "  warnings.warn(\n"
     ]
    }
   ],
   "source": [
    "model_ada_best4 = AdaBoostClassifier(algorithm=\"SAMME\", learning_rate=0.5, n_estimators= 500)\n",
    "model_ada_best4 = model_ada_best4.fit(X_train4,y_train4)\n",
    "\n",
    "cv_results = cross_validate(model_ada_best4, X_train4, y_train4, cv=5, scoring=[\"accuracy\",\"recall\",\"precision\",\"f1\"])\n",
    "pd.DataFrame(cv_results)\n",
    "cv_results[\"test_accuracy\"].mean()"
   ]
  },
  {
   "cell_type": "code",
   "execution_count": null,
   "id": "670a5570",
   "metadata": {},
   "outputs": [],
   "source": []
  }
 ],
 "metadata": {
  "kernelspec": {
   "display_name": "Python 3 (ipykernel)",
   "language": "python",
   "name": "python3"
  },
  "language_info": {
   "codemirror_mode": {
    "name": "ipython",
    "version": 3
   },
   "file_extension": ".py",
   "mimetype": "text/x-python",
   "name": "python",
   "nbconvert_exporter": "python",
   "pygments_lexer": "ipython3",
   "version": "3.8.12"
  },
  "toc": {
   "base_numbering": 1,
   "nav_menu": {},
   "number_sections": true,
   "sideBar": true,
   "skip_h1_title": false,
   "title_cell": "Table of Contents",
   "title_sidebar": "Contents",
   "toc_cell": false,
   "toc_position": {},
   "toc_section_display": true,
   "toc_window_display": false
  }
 },
 "nbformat": 4,
 "nbformat_minor": 5
}
