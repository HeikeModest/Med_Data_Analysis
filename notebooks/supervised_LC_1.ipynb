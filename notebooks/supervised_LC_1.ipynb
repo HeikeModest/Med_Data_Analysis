{
 "cells": [
  {
   "cell_type": "markdown",
   "id": "e25eba18",
   "metadata": {},
   "source": [
    "# Supervised learning Model"
   ]
  },
  {
   "cell_type": "markdown",
   "id": "2a24807a",
   "metadata": {},
   "source": [
    "## Preparing Data"
   ]
  },
  {
   "cell_type": "code",
   "execution_count": 41,
   "id": "9f819932",
   "metadata": {},
   "outputs": [],
   "source": [
    "import pandas as pd\n",
    "\n",
    "imune_df = pd.read_csv(\"../raw_data/CIBERSORTx_Job7_Results.txt\",sep='\\t')"
   ]
  },
  {
   "cell_type": "code",
   "execution_count": 42,
   "id": "a7a2adc8",
   "metadata": {},
   "outputs": [
    {
     "name": "stdout",
     "output_type": "stream",
     "text": [
      "Requirement already satisfied: pyreadstat in /Users/leacebulla/.pyenv/versions/3.8.12/envs/health/lib/python3.8/site-packages (1.1.3)\n",
      "Requirement already satisfied: pandas>0.24.0 in /Users/leacebulla/.pyenv/versions/3.8.12/envs/health/lib/python3.8/site-packages (from pyreadstat) (1.3.4)\n",
      "Requirement already satisfied: python-dateutil>=2.7.3 in /Users/leacebulla/.pyenv/versions/3.8.12/envs/health/lib/python3.8/site-packages (from pandas>0.24.0->pyreadstat) (2.8.2)\n",
      "Requirement already satisfied: pytz>=2017.3 in /Users/leacebulla/.pyenv/versions/3.8.12/envs/health/lib/python3.8/site-packages (from pandas>0.24.0->pyreadstat) (2021.3)\n",
      "Requirement already satisfied: numpy>=1.17.3 in /Users/leacebulla/.pyenv/versions/3.8.12/envs/health/lib/python3.8/site-packages (from pandas>0.24.0->pyreadstat) (1.21.4)\n",
      "Requirement already satisfied: six>=1.5 in /Users/leacebulla/.pyenv/versions/3.8.12/envs/health/lib/python3.8/site-packages (from python-dateutil>=2.7.3->pandas>0.24.0->pyreadstat) (1.16.0)\n"
     ]
    },
    {
     "data": {
      "text/html": [
       "<div>\n",
       "<style scoped>\n",
       "    .dataframe tbody tr th:only-of-type {\n",
       "        vertical-align: middle;\n",
       "    }\n",
       "\n",
       "    .dataframe tbody tr th {\n",
       "        vertical-align: top;\n",
       "    }\n",
       "\n",
       "    .dataframe thead th {\n",
       "        text-align: right;\n",
       "    }\n",
       "</style>\n",
       "<table border=\"1\" class=\"dataframe\">\n",
       "  <thead>\n",
       "    <tr style=\"text-align: right;\">\n",
       "      <th></th>\n",
       "      <th>Mixture</th>\n",
       "      <th>B cells naive</th>\n",
       "      <th>B cells memory</th>\n",
       "      <th>Plasma cells</th>\n",
       "      <th>T cells CD8</th>\n",
       "      <th>T cells CD4 naive</th>\n",
       "      <th>T cells CD4 memory resting</th>\n",
       "      <th>T cells CD4 memory activated</th>\n",
       "      <th>T cells follicular helper</th>\n",
       "      <th>T cells regulatory (Tregs)</th>\n",
       "      <th>...</th>\n",
       "      <th>Macrophages M2</th>\n",
       "      <th>Dendritic cells resting</th>\n",
       "      <th>Dendritic cells activated</th>\n",
       "      <th>Mast cells resting</th>\n",
       "      <th>Mast cells activated</th>\n",
       "      <th>Eosinophils</th>\n",
       "      <th>Neutrophils</th>\n",
       "      <th>P-value</th>\n",
       "      <th>Correlation</th>\n",
       "      <th>RMSE</th>\n",
       "    </tr>\n",
       "  </thead>\n",
       "  <tbody>\n",
       "    <tr>\n",
       "      <th>0</th>\n",
       "      <td>1</td>\n",
       "      <td>0.040607</td>\n",
       "      <td>0.0</td>\n",
       "      <td>0.209086</td>\n",
       "      <td>0.122856</td>\n",
       "      <td>0.0</td>\n",
       "      <td>0.088533</td>\n",
       "      <td>0.000000</td>\n",
       "      <td>0.111784</td>\n",
       "      <td>0.052571</td>\n",
       "      <td>...</td>\n",
       "      <td>0.136607</td>\n",
       "      <td>0.000000</td>\n",
       "      <td>0.008096</td>\n",
       "      <td>0.0</td>\n",
       "      <td>0.045574</td>\n",
       "      <td>0.0</td>\n",
       "      <td>0.119292</td>\n",
       "      <td>0.024</td>\n",
       "      <td>0.167135</td>\n",
       "      <td>1.012925</td>\n",
       "    </tr>\n",
       "    <tr>\n",
       "      <th>1</th>\n",
       "      <td>4</td>\n",
       "      <td>0.049146</td>\n",
       "      <td>0.0</td>\n",
       "      <td>0.121825</td>\n",
       "      <td>0.076978</td>\n",
       "      <td>0.0</td>\n",
       "      <td>0.153331</td>\n",
       "      <td>0.051057</td>\n",
       "      <td>0.068564</td>\n",
       "      <td>0.059623</td>\n",
       "      <td>...</td>\n",
       "      <td>0.142035</td>\n",
       "      <td>0.003342</td>\n",
       "      <td>0.000000</td>\n",
       "      <td>0.0</td>\n",
       "      <td>0.171013</td>\n",
       "      <td>0.0</td>\n",
       "      <td>0.022019</td>\n",
       "      <td>0.030</td>\n",
       "      <td>0.161424</td>\n",
       "      <td>1.018143</td>\n",
       "    </tr>\n",
       "    <tr>\n",
       "      <th>2</th>\n",
       "      <td>5</td>\n",
       "      <td>0.003186</td>\n",
       "      <td>0.0</td>\n",
       "      <td>0.162668</td>\n",
       "      <td>0.042196</td>\n",
       "      <td>0.0</td>\n",
       "      <td>0.240454</td>\n",
       "      <td>0.000000</td>\n",
       "      <td>0.000000</td>\n",
       "      <td>0.018316</td>\n",
       "      <td>...</td>\n",
       "      <td>0.066831</td>\n",
       "      <td>0.000000</td>\n",
       "      <td>0.000000</td>\n",
       "      <td>0.0</td>\n",
       "      <td>0.140387</td>\n",
       "      <td>0.0</td>\n",
       "      <td>0.111967</td>\n",
       "      <td>0.048</td>\n",
       "      <td>0.148986</td>\n",
       "      <td>1.029813</td>\n",
       "    </tr>\n",
       "    <tr>\n",
       "      <th>3</th>\n",
       "      <td>9</td>\n",
       "      <td>0.067346</td>\n",
       "      <td>0.0</td>\n",
       "      <td>0.097330</td>\n",
       "      <td>0.072327</td>\n",
       "      <td>0.0</td>\n",
       "      <td>0.168887</td>\n",
       "      <td>0.000000</td>\n",
       "      <td>0.002431</td>\n",
       "      <td>0.067972</td>\n",
       "      <td>...</td>\n",
       "      <td>0.019745</td>\n",
       "      <td>0.071104</td>\n",
       "      <td>0.000000</td>\n",
       "      <td>0.0</td>\n",
       "      <td>0.188876</td>\n",
       "      <td>0.0</td>\n",
       "      <td>0.074924</td>\n",
       "      <td>0.004</td>\n",
       "      <td>0.250437</td>\n",
       "      <td>0.986058</td>\n",
       "    </tr>\n",
       "    <tr>\n",
       "      <th>4</th>\n",
       "      <td>10</td>\n",
       "      <td>0.000000</td>\n",
       "      <td>0.0</td>\n",
       "      <td>0.105039</td>\n",
       "      <td>0.066233</td>\n",
       "      <td>0.0</td>\n",
       "      <td>0.249715</td>\n",
       "      <td>0.074691</td>\n",
       "      <td>0.035303</td>\n",
       "      <td>0.085112</td>\n",
       "      <td>...</td>\n",
       "      <td>0.065631</td>\n",
       "      <td>0.000000</td>\n",
       "      <td>0.009239</td>\n",
       "      <td>0.0</td>\n",
       "      <td>0.134230</td>\n",
       "      <td>0.0</td>\n",
       "      <td>0.070198</td>\n",
       "      <td>0.024</td>\n",
       "      <td>0.169331</td>\n",
       "      <td>1.020998</td>\n",
       "    </tr>\n",
       "  </tbody>\n",
       "</table>\n",
       "<p>5 rows × 26 columns</p>\n",
       "</div>"
      ],
      "text/plain": [
       "   Mixture  B cells naive  B cells memory  Plasma cells  T cells CD8  \\\n",
       "0        1       0.040607             0.0      0.209086     0.122856   \n",
       "1        4       0.049146             0.0      0.121825     0.076978   \n",
       "2        5       0.003186             0.0      0.162668     0.042196   \n",
       "3        9       0.067346             0.0      0.097330     0.072327   \n",
       "4       10       0.000000             0.0      0.105039     0.066233   \n",
       "\n",
       "   T cells CD4 naive  T cells CD4 memory resting  \\\n",
       "0                0.0                    0.088533   \n",
       "1                0.0                    0.153331   \n",
       "2                0.0                    0.240454   \n",
       "3                0.0                    0.168887   \n",
       "4                0.0                    0.249715   \n",
       "\n",
       "   T cells CD4 memory activated  T cells follicular helper  \\\n",
       "0                      0.000000                   0.111784   \n",
       "1                      0.051057                   0.068564   \n",
       "2                      0.000000                   0.000000   \n",
       "3                      0.000000                   0.002431   \n",
       "4                      0.074691                   0.035303   \n",
       "\n",
       "   T cells regulatory (Tregs)  ...  Macrophages M2  Dendritic cells resting  \\\n",
       "0                    0.052571  ...        0.136607                 0.000000   \n",
       "1                    0.059623  ...        0.142035                 0.003342   \n",
       "2                    0.018316  ...        0.066831                 0.000000   \n",
       "3                    0.067972  ...        0.019745                 0.071104   \n",
       "4                    0.085112  ...        0.065631                 0.000000   \n",
       "\n",
       "   Dendritic cells activated  Mast cells resting  Mast cells activated  \\\n",
       "0                   0.008096                 0.0              0.045574   \n",
       "1                   0.000000                 0.0              0.171013   \n",
       "2                   0.000000                 0.0              0.140387   \n",
       "3                   0.000000                 0.0              0.188876   \n",
       "4                   0.009239                 0.0              0.134230   \n",
       "\n",
       "   Eosinophils  Neutrophils  P-value  Correlation      RMSE  \n",
       "0          0.0     0.119292    0.024     0.167135  1.012925  \n",
       "1          0.0     0.022019    0.030     0.161424  1.018143  \n",
       "2          0.0     0.111967    0.048     0.148986  1.029813  \n",
       "3          0.0     0.074924    0.004     0.250437  0.986058  \n",
       "4          0.0     0.070198    0.024     0.169331  1.020998  \n",
       "\n",
       "[5 rows x 26 columns]"
      ]
     },
     "execution_count": 42,
     "metadata": {},
     "output_type": "execute_result"
    }
   ],
   "source": [
    "! pip install pyreadstat\n",
    "import pyreadstat\n",
    "\n",
    "clinical_df, meta = pyreadstat.read_sav(\"../raw_data/FIRE3_Heike_set_new.sav\")\n",
    "imune_df.head()"
   ]
  },
  {
   "cell_type": "code",
   "execution_count": 43,
   "id": "3f86b6bc",
   "metadata": {},
   "outputs": [
    {
     "data": {
      "text/plain": [
       "(451, 26)"
      ]
     },
     "execution_count": 43,
     "metadata": {},
     "output_type": "execute_result"
    }
   ],
   "source": [
    "imune_df.shape"
   ]
  },
  {
   "cell_type": "code",
   "execution_count": 44,
   "id": "516080d2",
   "metadata": {},
   "outputs": [
    {
     "data": {
      "text/html": [
       "<div>\n",
       "<style scoped>\n",
       "    .dataframe tbody tr th:only-of-type {\n",
       "        vertical-align: middle;\n",
       "    }\n",
       "\n",
       "    .dataframe tbody tr th {\n",
       "        vertical-align: top;\n",
       "    }\n",
       "\n",
       "    .dataframe thead th {\n",
       "        text-align: right;\n",
       "    }\n",
       "</style>\n",
       "<table border=\"1\" class=\"dataframe\">\n",
       "  <thead>\n",
       "    <tr style=\"text-align: right;\">\n",
       "      <th></th>\n",
       "      <th>study</th>\n",
       "      <th>pat_nr</th>\n",
       "      <th>CET1_REST0</th>\n",
       "      <th>arm</th>\n",
       "      <th>sex</th>\n",
       "      <th>age</th>\n",
       "      <th>ecog</th>\n",
       "      <th>skin_rash</th>\n",
       "      <th>MOL_SG</th>\n",
       "      <th>RNA_Probe</th>\n",
       "      <th>...</th>\n",
       "      <th>orr1</th>\n",
       "      <th>dpr1</th>\n",
       "      <th>ets_cat</th>\n",
       "      <th>SYNCH_META</th>\n",
       "      <th>PRIMARY_RES</th>\n",
       "      <th>RADIOVORHER</th>\n",
       "      <th>LK</th>\n",
       "      <th>AP</th>\n",
       "      <th>CTX_ADJ</th>\n",
       "      <th>filter_$</th>\n",
       "    </tr>\n",
       "  </thead>\n",
       "  <tbody>\n",
       "    <tr>\n",
       "      <th>0</th>\n",
       "      <td>FIRE 3</td>\n",
       "      <td>1.0</td>\n",
       "      <td>0.0</td>\n",
       "      <td>2.0</td>\n",
       "      <td>2.0</td>\n",
       "      <td>60.0</td>\n",
       "      <td>0.0</td>\n",
       "      <td>0.0</td>\n",
       "      <td>3.0</td>\n",
       "      <td>1.0</td>\n",
       "      <td>...</td>\n",
       "      <td>1.0</td>\n",
       "      <td>NaN</td>\n",
       "      <td>NaN</td>\n",
       "      <td>2.0</td>\n",
       "      <td>1.0</td>\n",
       "      <td>1.0</td>\n",
       "      <td>2.0</td>\n",
       "      <td>1.0</td>\n",
       "      <td>1.0</td>\n",
       "      <td>1.0</td>\n",
       "    </tr>\n",
       "    <tr>\n",
       "      <th>1</th>\n",
       "      <td>FIRE 3</td>\n",
       "      <td>2.0</td>\n",
       "      <td>1.0</td>\n",
       "      <td>1.0</td>\n",
       "      <td>2.0</td>\n",
       "      <td>52.0</td>\n",
       "      <td>1.0</td>\n",
       "      <td>0.0</td>\n",
       "      <td>NaN</td>\n",
       "      <td>0.0</td>\n",
       "      <td>...</td>\n",
       "      <td>0.0</td>\n",
       "      <td>NaN</td>\n",
       "      <td>NaN</td>\n",
       "      <td>1.0</td>\n",
       "      <td>1.0</td>\n",
       "      <td>0.0</td>\n",
       "      <td>1.0</td>\n",
       "      <td>1.0</td>\n",
       "      <td>0.0</td>\n",
       "      <td>0.0</td>\n",
       "    </tr>\n",
       "    <tr>\n",
       "      <th>2</th>\n",
       "      <td>FIRE 3</td>\n",
       "      <td>3.0</td>\n",
       "      <td>1.0</td>\n",
       "      <td>1.0</td>\n",
       "      <td>2.0</td>\n",
       "      <td>52.0</td>\n",
       "      <td>1.0</td>\n",
       "      <td>0.0</td>\n",
       "      <td>NaN</td>\n",
       "      <td>0.0</td>\n",
       "      <td>...</td>\n",
       "      <td>1.0</td>\n",
       "      <td>NaN</td>\n",
       "      <td>NaN</td>\n",
       "      <td>2.0</td>\n",
       "      <td>1.0</td>\n",
       "      <td>1.0</td>\n",
       "      <td>1.0</td>\n",
       "      <td>1.0</td>\n",
       "      <td>1.0</td>\n",
       "      <td>0.0</td>\n",
       "    </tr>\n",
       "    <tr>\n",
       "      <th>3</th>\n",
       "      <td>FIRE 3</td>\n",
       "      <td>4.0</td>\n",
       "      <td>0.0</td>\n",
       "      <td>2.0</td>\n",
       "      <td>1.0</td>\n",
       "      <td>58.0</td>\n",
       "      <td>0.0</td>\n",
       "      <td>0.0</td>\n",
       "      <td>3.0</td>\n",
       "      <td>1.0</td>\n",
       "      <td>...</td>\n",
       "      <td>1.0</td>\n",
       "      <td>NaN</td>\n",
       "      <td>0.0</td>\n",
       "      <td>1.0</td>\n",
       "      <td>1.0</td>\n",
       "      <td>0.0</td>\n",
       "      <td>2.0</td>\n",
       "      <td>2.0</td>\n",
       "      <td>0.0</td>\n",
       "      <td>1.0</td>\n",
       "    </tr>\n",
       "    <tr>\n",
       "      <th>4</th>\n",
       "      <td>FIRE 3</td>\n",
       "      <td>5.0</td>\n",
       "      <td>0.0</td>\n",
       "      <td>2.0</td>\n",
       "      <td>2.0</td>\n",
       "      <td>54.0</td>\n",
       "      <td>0.0</td>\n",
       "      <td>0.0</td>\n",
       "      <td>1.0</td>\n",
       "      <td>1.0</td>\n",
       "      <td>...</td>\n",
       "      <td>1.0</td>\n",
       "      <td>NaN</td>\n",
       "      <td>1.0</td>\n",
       "      <td>1.0</td>\n",
       "      <td>1.0</td>\n",
       "      <td>0.0</td>\n",
       "      <td>1.0</td>\n",
       "      <td>1.0</td>\n",
       "      <td>0.0</td>\n",
       "      <td>1.0</td>\n",
       "    </tr>\n",
       "  </tbody>\n",
       "</table>\n",
       "<p>5 rows × 37 columns</p>\n",
       "</div>"
      ],
      "text/plain": [
       "    study  pat_nr  CET1_REST0  arm  sex   age  ecog  skin_rash  MOL_SG  \\\n",
       "0  FIRE 3     1.0         0.0  2.0  2.0  60.0   0.0        0.0     3.0   \n",
       "1  FIRE 3     2.0         1.0  1.0  2.0  52.0   1.0        0.0     NaN   \n",
       "2  FIRE 3     3.0         1.0  1.0  2.0  52.0   1.0        0.0     NaN   \n",
       "3  FIRE 3     4.0         0.0  2.0  1.0  58.0   0.0        0.0     3.0   \n",
       "4  FIRE 3     5.0         0.0  2.0  2.0  54.0   0.0        0.0     1.0   \n",
       "\n",
       "   RNA_Probe  ...  orr1  dpr1 ets_cat  SYNCH_META  PRIMARY_RES  RADIOVORHER  \\\n",
       "0        1.0  ...   1.0   NaN     NaN         2.0          1.0          1.0   \n",
       "1        0.0  ...   0.0   NaN     NaN         1.0          1.0          0.0   \n",
       "2        0.0  ...   1.0   NaN     NaN         2.0          1.0          1.0   \n",
       "3        1.0  ...   1.0   NaN     0.0         1.0          1.0          0.0   \n",
       "4        1.0  ...   1.0   NaN     1.0         1.0          1.0          0.0   \n",
       "\n",
       "    LK   AP  CTX_ADJ  filter_$  \n",
       "0  2.0  1.0      1.0       1.0  \n",
       "1  1.0  1.0      0.0       0.0  \n",
       "2  1.0  1.0      1.0       0.0  \n",
       "3  2.0  2.0      0.0       1.0  \n",
       "4  1.0  1.0      0.0       1.0  \n",
       "\n",
       "[5 rows x 37 columns]"
      ]
     },
     "execution_count": 44,
     "metadata": {},
     "output_type": "execute_result"
    }
   ],
   "source": [
    "clinical_df.head()"
   ]
  },
  {
   "cell_type": "code",
   "execution_count": 47,
   "id": "a44e0f24",
   "metadata": {},
   "outputs": [
    {
     "data": {
      "text/html": [
       "<div>\n",
       "<style scoped>\n",
       "    .dataframe tbody tr th:only-of-type {\n",
       "        vertical-align: middle;\n",
       "    }\n",
       "\n",
       "    .dataframe tbody tr th {\n",
       "        vertical-align: top;\n",
       "    }\n",
       "\n",
       "    .dataframe thead th {\n",
       "        text-align: right;\n",
       "    }\n",
       "</style>\n",
       "<table border=\"1\" class=\"dataframe\">\n",
       "  <thead>\n",
       "    <tr style=\"text-align: right;\">\n",
       "      <th></th>\n",
       "      <th>pat_nr</th>\n",
       "      <th>B cells naive</th>\n",
       "      <th>B cells memory</th>\n",
       "      <th>Plasma cells</th>\n",
       "      <th>T cells CD8</th>\n",
       "      <th>T cells CD4 naive</th>\n",
       "      <th>T cells CD4 memory resting</th>\n",
       "      <th>T cells CD4 memory activated</th>\n",
       "      <th>T cells follicular helper</th>\n",
       "      <th>T cells regulatory (Tregs)</th>\n",
       "      <th>...</th>\n",
       "      <th>Macrophages M2</th>\n",
       "      <th>Dendritic cells resting</th>\n",
       "      <th>Dendritic cells activated</th>\n",
       "      <th>Mast cells resting</th>\n",
       "      <th>Mast cells activated</th>\n",
       "      <th>Eosinophils</th>\n",
       "      <th>Neutrophils</th>\n",
       "      <th>P-value</th>\n",
       "      <th>Correlation</th>\n",
       "      <th>RMSE</th>\n",
       "    </tr>\n",
       "  </thead>\n",
       "  <tbody>\n",
       "    <tr>\n",
       "      <th>0</th>\n",
       "      <td>1</td>\n",
       "      <td>0.040607</td>\n",
       "      <td>0.0</td>\n",
       "      <td>0.209086</td>\n",
       "      <td>0.122856</td>\n",
       "      <td>0.0</td>\n",
       "      <td>0.088533</td>\n",
       "      <td>0.000000</td>\n",
       "      <td>0.111784</td>\n",
       "      <td>0.052571</td>\n",
       "      <td>...</td>\n",
       "      <td>0.136607</td>\n",
       "      <td>0.000000</td>\n",
       "      <td>0.008096</td>\n",
       "      <td>0.0</td>\n",
       "      <td>0.045574</td>\n",
       "      <td>0.0</td>\n",
       "      <td>0.119292</td>\n",
       "      <td>0.024</td>\n",
       "      <td>0.167135</td>\n",
       "      <td>1.012925</td>\n",
       "    </tr>\n",
       "    <tr>\n",
       "      <th>1</th>\n",
       "      <td>4</td>\n",
       "      <td>0.049146</td>\n",
       "      <td>0.0</td>\n",
       "      <td>0.121825</td>\n",
       "      <td>0.076978</td>\n",
       "      <td>0.0</td>\n",
       "      <td>0.153331</td>\n",
       "      <td>0.051057</td>\n",
       "      <td>0.068564</td>\n",
       "      <td>0.059623</td>\n",
       "      <td>...</td>\n",
       "      <td>0.142035</td>\n",
       "      <td>0.003342</td>\n",
       "      <td>0.000000</td>\n",
       "      <td>0.0</td>\n",
       "      <td>0.171013</td>\n",
       "      <td>0.0</td>\n",
       "      <td>0.022019</td>\n",
       "      <td>0.030</td>\n",
       "      <td>0.161424</td>\n",
       "      <td>1.018143</td>\n",
       "    </tr>\n",
       "    <tr>\n",
       "      <th>2</th>\n",
       "      <td>5</td>\n",
       "      <td>0.003186</td>\n",
       "      <td>0.0</td>\n",
       "      <td>0.162668</td>\n",
       "      <td>0.042196</td>\n",
       "      <td>0.0</td>\n",
       "      <td>0.240454</td>\n",
       "      <td>0.000000</td>\n",
       "      <td>0.000000</td>\n",
       "      <td>0.018316</td>\n",
       "      <td>...</td>\n",
       "      <td>0.066831</td>\n",
       "      <td>0.000000</td>\n",
       "      <td>0.000000</td>\n",
       "      <td>0.0</td>\n",
       "      <td>0.140387</td>\n",
       "      <td>0.0</td>\n",
       "      <td>0.111967</td>\n",
       "      <td>0.048</td>\n",
       "      <td>0.148986</td>\n",
       "      <td>1.029813</td>\n",
       "    </tr>\n",
       "    <tr>\n",
       "      <th>3</th>\n",
       "      <td>9</td>\n",
       "      <td>0.067346</td>\n",
       "      <td>0.0</td>\n",
       "      <td>0.097330</td>\n",
       "      <td>0.072327</td>\n",
       "      <td>0.0</td>\n",
       "      <td>0.168887</td>\n",
       "      <td>0.000000</td>\n",
       "      <td>0.002431</td>\n",
       "      <td>0.067972</td>\n",
       "      <td>...</td>\n",
       "      <td>0.019745</td>\n",
       "      <td>0.071104</td>\n",
       "      <td>0.000000</td>\n",
       "      <td>0.0</td>\n",
       "      <td>0.188876</td>\n",
       "      <td>0.0</td>\n",
       "      <td>0.074924</td>\n",
       "      <td>0.004</td>\n",
       "      <td>0.250437</td>\n",
       "      <td>0.986058</td>\n",
       "    </tr>\n",
       "    <tr>\n",
       "      <th>4</th>\n",
       "      <td>10</td>\n",
       "      <td>0.000000</td>\n",
       "      <td>0.0</td>\n",
       "      <td>0.105039</td>\n",
       "      <td>0.066233</td>\n",
       "      <td>0.0</td>\n",
       "      <td>0.249715</td>\n",
       "      <td>0.074691</td>\n",
       "      <td>0.035303</td>\n",
       "      <td>0.085112</td>\n",
       "      <td>...</td>\n",
       "      <td>0.065631</td>\n",
       "      <td>0.000000</td>\n",
       "      <td>0.009239</td>\n",
       "      <td>0.0</td>\n",
       "      <td>0.134230</td>\n",
       "      <td>0.0</td>\n",
       "      <td>0.070198</td>\n",
       "      <td>0.024</td>\n",
       "      <td>0.169331</td>\n",
       "      <td>1.020998</td>\n",
       "    </tr>\n",
       "  </tbody>\n",
       "</table>\n",
       "<p>5 rows × 26 columns</p>\n",
       "</div>"
      ],
      "text/plain": [
       "   pat_nr  B cells naive  B cells memory  Plasma cells  T cells CD8  \\\n",
       "0       1       0.040607             0.0      0.209086     0.122856   \n",
       "1       4       0.049146             0.0      0.121825     0.076978   \n",
       "2       5       0.003186             0.0      0.162668     0.042196   \n",
       "3       9       0.067346             0.0      0.097330     0.072327   \n",
       "4      10       0.000000             0.0      0.105039     0.066233   \n",
       "\n",
       "   T cells CD4 naive  T cells CD4 memory resting  \\\n",
       "0                0.0                    0.088533   \n",
       "1                0.0                    0.153331   \n",
       "2                0.0                    0.240454   \n",
       "3                0.0                    0.168887   \n",
       "4                0.0                    0.249715   \n",
       "\n",
       "   T cells CD4 memory activated  T cells follicular helper  \\\n",
       "0                      0.000000                   0.111784   \n",
       "1                      0.051057                   0.068564   \n",
       "2                      0.000000                   0.000000   \n",
       "3                      0.000000                   0.002431   \n",
       "4                      0.074691                   0.035303   \n",
       "\n",
       "   T cells regulatory (Tregs)  ...  Macrophages M2  Dendritic cells resting  \\\n",
       "0                    0.052571  ...        0.136607                 0.000000   \n",
       "1                    0.059623  ...        0.142035                 0.003342   \n",
       "2                    0.018316  ...        0.066831                 0.000000   \n",
       "3                    0.067972  ...        0.019745                 0.071104   \n",
       "4                    0.085112  ...        0.065631                 0.000000   \n",
       "\n",
       "   Dendritic cells activated  Mast cells resting  Mast cells activated  \\\n",
       "0                   0.008096                 0.0              0.045574   \n",
       "1                   0.000000                 0.0              0.171013   \n",
       "2                   0.000000                 0.0              0.140387   \n",
       "3                   0.000000                 0.0              0.188876   \n",
       "4                   0.009239                 0.0              0.134230   \n",
       "\n",
       "   Eosinophils  Neutrophils  P-value  Correlation      RMSE  \n",
       "0          0.0     0.119292    0.024     0.167135  1.012925  \n",
       "1          0.0     0.022019    0.030     0.161424  1.018143  \n",
       "2          0.0     0.111967    0.048     0.148986  1.029813  \n",
       "3          0.0     0.074924    0.004     0.250437  0.986058  \n",
       "4          0.0     0.070198    0.024     0.169331  1.020998  \n",
       "\n",
       "[5 rows x 26 columns]"
      ]
     },
     "execution_count": 47,
     "metadata": {},
     "output_type": "execute_result"
    }
   ],
   "source": [
    "imune_df = imune_df.rename({'Mixture': 'pat_nr'}, axis='columns')\n",
    "imune_df.head()"
   ]
  },
  {
   "cell_type": "code",
   "execution_count": 48,
   "id": "a6061cda",
   "metadata": {},
   "outputs": [
    {
     "data": {
      "text/plain": [
       "(735, 37)"
      ]
     },
     "execution_count": 48,
     "metadata": {},
     "output_type": "execute_result"
    }
   ],
   "source": [
    "clinical_df.shape"
   ]
  },
  {
   "cell_type": "code",
   "execution_count": 49,
   "id": "84444e7c",
   "metadata": {},
   "outputs": [
    {
     "data": {
      "text/plain": [
       "dtype('int64')"
      ]
     },
     "execution_count": 49,
     "metadata": {},
     "output_type": "execute_result"
    }
   ],
   "source": [
    "clinical_df[\"pat_nr\"]=clinical_df[\"pat_nr\"].astype('int64')\n",
    "clinical_df.pat_nr.dtype"
   ]
  },
  {
   "cell_type": "code",
   "execution_count": 59,
   "id": "a58cd7fb",
   "metadata": {},
   "outputs": [
    {
     "data": {
      "text/html": [
       "<div>\n",
       "<style scoped>\n",
       "    .dataframe tbody tr th:only-of-type {\n",
       "        vertical-align: middle;\n",
       "    }\n",
       "\n",
       "    .dataframe tbody tr th {\n",
       "        vertical-align: top;\n",
       "    }\n",
       "\n",
       "    .dataframe thead th {\n",
       "        text-align: right;\n",
       "    }\n",
       "</style>\n",
       "<table border=\"1\" class=\"dataframe\">\n",
       "  <thead>\n",
       "    <tr style=\"text-align: right;\">\n",
       "      <th></th>\n",
       "      <th>pat_nr</th>\n",
       "      <th>skin_rash</th>\n",
       "    </tr>\n",
       "  </thead>\n",
       "  <tbody>\n",
       "    <tr>\n",
       "      <th>0</th>\n",
       "      <td>1</td>\n",
       "      <td>0.0</td>\n",
       "    </tr>\n",
       "    <tr>\n",
       "      <th>1</th>\n",
       "      <td>2</td>\n",
       "      <td>0.0</td>\n",
       "    </tr>\n",
       "    <tr>\n",
       "      <th>2</th>\n",
       "      <td>3</td>\n",
       "      <td>0.0</td>\n",
       "    </tr>\n",
       "    <tr>\n",
       "      <th>3</th>\n",
       "      <td>4</td>\n",
       "      <td>0.0</td>\n",
       "    </tr>\n",
       "    <tr>\n",
       "      <th>4</th>\n",
       "      <td>5</td>\n",
       "      <td>0.0</td>\n",
       "    </tr>\n",
       "    <tr>\n",
       "      <th>...</th>\n",
       "      <td>...</td>\n",
       "      <td>...</td>\n",
       "    </tr>\n",
       "    <tr>\n",
       "      <th>730</th>\n",
       "      <td>896</td>\n",
       "      <td>0.0</td>\n",
       "    </tr>\n",
       "    <tr>\n",
       "      <th>731</th>\n",
       "      <td>897</td>\n",
       "      <td>0.0</td>\n",
       "    </tr>\n",
       "    <tr>\n",
       "      <th>732</th>\n",
       "      <td>898</td>\n",
       "      <td>0.0</td>\n",
       "    </tr>\n",
       "    <tr>\n",
       "      <th>733</th>\n",
       "      <td>899</td>\n",
       "      <td>0.0</td>\n",
       "    </tr>\n",
       "    <tr>\n",
       "      <th>734</th>\n",
       "      <td>900</td>\n",
       "      <td>1.0</td>\n",
       "    </tr>\n",
       "  </tbody>\n",
       "</table>\n",
       "<p>735 rows × 2 columns</p>\n",
       "</div>"
      ],
      "text/plain": [
       "     pat_nr  skin_rash\n",
       "0         1        0.0\n",
       "1         2        0.0\n",
       "2         3        0.0\n",
       "3         4        0.0\n",
       "4         5        0.0\n",
       "..      ...        ...\n",
       "730     896        0.0\n",
       "731     897        0.0\n",
       "732     898        0.0\n",
       "733     899        0.0\n",
       "734     900        1.0\n",
       "\n",
       "[735 rows x 2 columns]"
      ]
     },
     "execution_count": 59,
     "metadata": {},
     "output_type": "execute_result"
    }
   ],
   "source": [
    "clinical_df.head(30)\n",
    "clinical2=clinical_df[[\"pat_nr\",\"skin_rash\"]]\n",
    "clinical2"
   ]
  },
  {
   "cell_type": "code",
   "execution_count": 60,
   "id": "28d7a051",
   "metadata": {},
   "outputs": [
    {
     "data": {
      "text/html": [
       "<div>\n",
       "<style scoped>\n",
       "    .dataframe tbody tr th:only-of-type {\n",
       "        vertical-align: middle;\n",
       "    }\n",
       "\n",
       "    .dataframe tbody tr th {\n",
       "        vertical-align: top;\n",
       "    }\n",
       "\n",
       "    .dataframe thead th {\n",
       "        text-align: right;\n",
       "    }\n",
       "</style>\n",
       "<table border=\"1\" class=\"dataframe\">\n",
       "  <thead>\n",
       "    <tr style=\"text-align: right;\">\n",
       "      <th></th>\n",
       "      <th>pat_nr</th>\n",
       "      <th>B cells naive</th>\n",
       "      <th>B cells memory</th>\n",
       "      <th>Plasma cells</th>\n",
       "      <th>T cells CD8</th>\n",
       "      <th>T cells CD4 naive</th>\n",
       "      <th>T cells CD4 memory resting</th>\n",
       "      <th>T cells CD4 memory activated</th>\n",
       "      <th>T cells follicular helper</th>\n",
       "      <th>T cells regulatory (Tregs)</th>\n",
       "      <th>...</th>\n",
       "      <th>Dendritic cells resting</th>\n",
       "      <th>Dendritic cells activated</th>\n",
       "      <th>Mast cells resting</th>\n",
       "      <th>Mast cells activated</th>\n",
       "      <th>Eosinophils</th>\n",
       "      <th>Neutrophils</th>\n",
       "      <th>P-value</th>\n",
       "      <th>Correlation</th>\n",
       "      <th>RMSE</th>\n",
       "      <th>skin_rash</th>\n",
       "    </tr>\n",
       "  </thead>\n",
       "  <tbody>\n",
       "    <tr>\n",
       "      <th>0</th>\n",
       "      <td>1</td>\n",
       "      <td>0.040607</td>\n",
       "      <td>0.0</td>\n",
       "      <td>0.209086</td>\n",
       "      <td>0.122856</td>\n",
       "      <td>0.0</td>\n",
       "      <td>0.088533</td>\n",
       "      <td>0.000000</td>\n",
       "      <td>0.111784</td>\n",
       "      <td>0.052571</td>\n",
       "      <td>...</td>\n",
       "      <td>0.000000</td>\n",
       "      <td>0.008096</td>\n",
       "      <td>0.0</td>\n",
       "      <td>0.045574</td>\n",
       "      <td>0.0</td>\n",
       "      <td>0.119292</td>\n",
       "      <td>0.024</td>\n",
       "      <td>0.167135</td>\n",
       "      <td>1.012925</td>\n",
       "      <td>0.0</td>\n",
       "    </tr>\n",
       "    <tr>\n",
       "      <th>1</th>\n",
       "      <td>4</td>\n",
       "      <td>0.049146</td>\n",
       "      <td>0.0</td>\n",
       "      <td>0.121825</td>\n",
       "      <td>0.076978</td>\n",
       "      <td>0.0</td>\n",
       "      <td>0.153331</td>\n",
       "      <td>0.051057</td>\n",
       "      <td>0.068564</td>\n",
       "      <td>0.059623</td>\n",
       "      <td>...</td>\n",
       "      <td>0.003342</td>\n",
       "      <td>0.000000</td>\n",
       "      <td>0.0</td>\n",
       "      <td>0.171013</td>\n",
       "      <td>0.0</td>\n",
       "      <td>0.022019</td>\n",
       "      <td>0.030</td>\n",
       "      <td>0.161424</td>\n",
       "      <td>1.018143</td>\n",
       "      <td>0.0</td>\n",
       "    </tr>\n",
       "    <tr>\n",
       "      <th>2</th>\n",
       "      <td>5</td>\n",
       "      <td>0.003186</td>\n",
       "      <td>0.0</td>\n",
       "      <td>0.162668</td>\n",
       "      <td>0.042196</td>\n",
       "      <td>0.0</td>\n",
       "      <td>0.240454</td>\n",
       "      <td>0.000000</td>\n",
       "      <td>0.000000</td>\n",
       "      <td>0.018316</td>\n",
       "      <td>...</td>\n",
       "      <td>0.000000</td>\n",
       "      <td>0.000000</td>\n",
       "      <td>0.0</td>\n",
       "      <td>0.140387</td>\n",
       "      <td>0.0</td>\n",
       "      <td>0.111967</td>\n",
       "      <td>0.048</td>\n",
       "      <td>0.148986</td>\n",
       "      <td>1.029813</td>\n",
       "      <td>0.0</td>\n",
       "    </tr>\n",
       "    <tr>\n",
       "      <th>3</th>\n",
       "      <td>9</td>\n",
       "      <td>0.067346</td>\n",
       "      <td>0.0</td>\n",
       "      <td>0.097330</td>\n",
       "      <td>0.072327</td>\n",
       "      <td>0.0</td>\n",
       "      <td>0.168887</td>\n",
       "      <td>0.000000</td>\n",
       "      <td>0.002431</td>\n",
       "      <td>0.067972</td>\n",
       "      <td>...</td>\n",
       "      <td>0.071104</td>\n",
       "      <td>0.000000</td>\n",
       "      <td>0.0</td>\n",
       "      <td>0.188876</td>\n",
       "      <td>0.0</td>\n",
       "      <td>0.074924</td>\n",
       "      <td>0.004</td>\n",
       "      <td>0.250437</td>\n",
       "      <td>0.986058</td>\n",
       "      <td>1.0</td>\n",
       "    </tr>\n",
       "    <tr>\n",
       "      <th>4</th>\n",
       "      <td>10</td>\n",
       "      <td>0.000000</td>\n",
       "      <td>0.0</td>\n",
       "      <td>0.105039</td>\n",
       "      <td>0.066233</td>\n",
       "      <td>0.0</td>\n",
       "      <td>0.249715</td>\n",
       "      <td>0.074691</td>\n",
       "      <td>0.035303</td>\n",
       "      <td>0.085112</td>\n",
       "      <td>...</td>\n",
       "      <td>0.000000</td>\n",
       "      <td>0.009239</td>\n",
       "      <td>0.0</td>\n",
       "      <td>0.134230</td>\n",
       "      <td>0.0</td>\n",
       "      <td>0.070198</td>\n",
       "      <td>0.024</td>\n",
       "      <td>0.169331</td>\n",
       "      <td>1.020998</td>\n",
       "      <td>1.0</td>\n",
       "    </tr>\n",
       "  </tbody>\n",
       "</table>\n",
       "<p>5 rows × 27 columns</p>\n",
       "</div>"
      ],
      "text/plain": [
       "   pat_nr  B cells naive  B cells memory  Plasma cells  T cells CD8  \\\n",
       "0       1       0.040607             0.0      0.209086     0.122856   \n",
       "1       4       0.049146             0.0      0.121825     0.076978   \n",
       "2       5       0.003186             0.0      0.162668     0.042196   \n",
       "3       9       0.067346             0.0      0.097330     0.072327   \n",
       "4      10       0.000000             0.0      0.105039     0.066233   \n",
       "\n",
       "   T cells CD4 naive  T cells CD4 memory resting  \\\n",
       "0                0.0                    0.088533   \n",
       "1                0.0                    0.153331   \n",
       "2                0.0                    0.240454   \n",
       "3                0.0                    0.168887   \n",
       "4                0.0                    0.249715   \n",
       "\n",
       "   T cells CD4 memory activated  T cells follicular helper  \\\n",
       "0                      0.000000                   0.111784   \n",
       "1                      0.051057                   0.068564   \n",
       "2                      0.000000                   0.000000   \n",
       "3                      0.000000                   0.002431   \n",
       "4                      0.074691                   0.035303   \n",
       "\n",
       "   T cells regulatory (Tregs)  ...  Dendritic cells resting  \\\n",
       "0                    0.052571  ...                 0.000000   \n",
       "1                    0.059623  ...                 0.003342   \n",
       "2                    0.018316  ...                 0.000000   \n",
       "3                    0.067972  ...                 0.071104   \n",
       "4                    0.085112  ...                 0.000000   \n",
       "\n",
       "   Dendritic cells activated  Mast cells resting  Mast cells activated  \\\n",
       "0                   0.008096                 0.0              0.045574   \n",
       "1                   0.000000                 0.0              0.171013   \n",
       "2                   0.000000                 0.0              0.140387   \n",
       "3                   0.000000                 0.0              0.188876   \n",
       "4                   0.009239                 0.0              0.134230   \n",
       "\n",
       "   Eosinophils  Neutrophils  P-value  Correlation      RMSE  skin_rash  \n",
       "0          0.0     0.119292    0.024     0.167135  1.012925        0.0  \n",
       "1          0.0     0.022019    0.030     0.161424  1.018143        0.0  \n",
       "2          0.0     0.111967    0.048     0.148986  1.029813        0.0  \n",
       "3          0.0     0.074924    0.004     0.250437  0.986058        1.0  \n",
       "4          0.0     0.070198    0.024     0.169331  1.020998        1.0  \n",
       "\n",
       "[5 rows x 27 columns]"
      ]
     },
     "execution_count": 60,
     "metadata": {},
     "output_type": "execute_result"
    }
   ],
   "source": [
    "cdf=imune_df.merge(clinical2, how='inner', on='pat_nr')\n",
    "cdf.head()"
   ]
  },
  {
   "cell_type": "code",
   "execution_count": 54,
   "id": "ee4ebcec",
   "metadata": {},
   "outputs": [
    {
     "data": {
      "text/plain": [
       "(442, 62)"
      ]
     },
     "execution_count": 54,
     "metadata": {},
     "output_type": "execute_result"
    }
   ],
   "source": [
    "cdf.shape"
   ]
  },
  {
   "cell_type": "markdown",
   "id": "ec663c66",
   "metadata": {},
   "source": [
    "## Initiating Supervised Model"
   ]
  },
  {
   "cell_type": "code",
   "execution_count": 65,
   "id": "9dfb6b59",
   "metadata": {},
   "outputs": [],
   "source": [
    "X=cdf.drop(columns=[\"pat_nr\",\"P-value\",\"Correlation\",\"RMSE\",\"skin_rash\"])\n",
    "y=cdf[\"skin_rash\"]"
   ]
  },
  {
   "cell_type": "code",
   "execution_count": 72,
   "id": "9f9e05bc",
   "metadata": {},
   "outputs": [
    {
     "data": {
      "text/plain": [
       "<AxesSubplot:>"
      ]
     },
     "execution_count": 72,
     "metadata": {},
     "output_type": "execute_result"
    },
    {
     "data": {
      "image/png": "[encoded data removed]",
      "text/plain": [
       "<Figure size 432x288 with 2 Axes>"
      ]
     },
     "metadata": {
      "needs_background": "light"
     },
     "output_type": "display_data"
    }
   ],
   "source": [
    "import seaborn as sns\n",
    "\n",
    "# Heatmap\n",
    "corr = cdf.corr()\n",
    "sns.heatmap(corr, \n",
    "        xticklabels=corr.columns,\n",
    "        yticklabels=corr.columns,\n",
    "        cmap= \"Pastel1\")"
   ]
  },
  {
   "cell_type": "markdown",
   "id": "69464495",
   "metadata": {},
   "source": [
    "### LogisticRegression"
   ]
  },
  {
   "cell_type": "code",
   "execution_count": 126,
   "id": "c171ef7a",
   "metadata": {},
   "outputs": [],
   "source": [
    "from sklearn.linear_model import LogisticRegression\n",
    "from sklearn.model_selection import cross_validate\n",
    "from sklearn.model_selection import train_test_split\n",
    "from sklearn.metrics import precision_recall_curve\n",
    "import matplotlib.pyplot as plt\n",
    "\n",
    "model = LogisticRegression(class_weight='balanced')\n",
    "\n",
    "X_train, X_test, y_train, y_test = train_test_split(X, y,\n",
    "                                                    test_size = 0.25, \n",
    "                                                    random_state = 6) # Holdout"
   ]
  },
  {
   "cell_type": "code",
   "execution_count": 127,
   "id": "cf02b117",
   "metadata": {},
   "outputs": [
    {
     "data": {
      "text/html": [
       "<div>\n",
       "<style scoped>\n",
       "    .dataframe tbody tr th:only-of-type {\n",
       "        vertical-align: middle;\n",
       "    }\n",
       "\n",
       "    .dataframe tbody tr th {\n",
       "        vertical-align: top;\n",
       "    }\n",
       "\n",
       "    .dataframe thead th {\n",
       "        text-align: right;\n",
       "    }\n",
       "</style>\n",
       "<table border=\"1\" class=\"dataframe\">\n",
       "  <thead>\n",
       "    <tr style=\"text-align: right;\">\n",
       "      <th></th>\n",
       "      <th>fit_time</th>\n",
       "      <th>score_time</th>\n",
       "      <th>test_accuracy</th>\n",
       "      <th>test_recall</th>\n",
       "      <th>test_precision</th>\n",
       "      <th>test_f1</th>\n",
       "    </tr>\n",
       "  </thead>\n",
       "  <tbody>\n",
       "    <tr>\n",
       "      <th>0</th>\n",
       "      <td>0.097078</td>\n",
       "      <td>0.015552</td>\n",
       "      <td>0.558824</td>\n",
       "      <td>0.444444</td>\n",
       "      <td>0.285714</td>\n",
       "      <td>0.347826</td>\n",
       "    </tr>\n",
       "    <tr>\n",
       "      <th>1</th>\n",
       "      <td>0.006050</td>\n",
       "      <td>0.005374</td>\n",
       "      <td>0.636364</td>\n",
       "      <td>0.500000</td>\n",
       "      <td>0.333333</td>\n",
       "      <td>0.400000</td>\n",
       "    </tr>\n",
       "    <tr>\n",
       "      <th>2</th>\n",
       "      <td>0.004411</td>\n",
       "      <td>0.005309</td>\n",
       "      <td>0.545455</td>\n",
       "      <td>0.625000</td>\n",
       "      <td>0.294118</td>\n",
       "      <td>0.400000</td>\n",
       "    </tr>\n",
       "    <tr>\n",
       "      <th>3</th>\n",
       "      <td>0.005832</td>\n",
       "      <td>0.005553</td>\n",
       "      <td>0.545455</td>\n",
       "      <td>0.250000</td>\n",
       "      <td>0.181818</td>\n",
       "      <td>0.210526</td>\n",
       "    </tr>\n",
       "    <tr>\n",
       "      <th>4</th>\n",
       "      <td>0.007932</td>\n",
       "      <td>0.004342</td>\n",
       "      <td>0.666667</td>\n",
       "      <td>0.625000</td>\n",
       "      <td>0.384615</td>\n",
       "      <td>0.476190</td>\n",
       "    </tr>\n",
       "    <tr>\n",
       "      <th>5</th>\n",
       "      <td>0.005971</td>\n",
       "      <td>0.004859</td>\n",
       "      <td>0.363636</td>\n",
       "      <td>0.375000</td>\n",
       "      <td>0.157895</td>\n",
       "      <td>0.222222</td>\n",
       "    </tr>\n",
       "    <tr>\n",
       "      <th>6</th>\n",
       "      <td>0.004211</td>\n",
       "      <td>0.005248</td>\n",
       "      <td>0.575758</td>\n",
       "      <td>0.750000</td>\n",
       "      <td>0.333333</td>\n",
       "      <td>0.461538</td>\n",
       "    </tr>\n",
       "    <tr>\n",
       "      <th>7</th>\n",
       "      <td>0.004756</td>\n",
       "      <td>0.005132</td>\n",
       "      <td>0.484848</td>\n",
       "      <td>0.375000</td>\n",
       "      <td>0.200000</td>\n",
       "      <td>0.260870</td>\n",
       "    </tr>\n",
       "    <tr>\n",
       "      <th>8</th>\n",
       "      <td>0.007693</td>\n",
       "      <td>0.004260</td>\n",
       "      <td>0.727273</td>\n",
       "      <td>0.875000</td>\n",
       "      <td>0.466667</td>\n",
       "      <td>0.608696</td>\n",
       "    </tr>\n",
       "    <tr>\n",
       "      <th>9</th>\n",
       "      <td>0.004019</td>\n",
       "      <td>0.003928</td>\n",
       "      <td>0.545455</td>\n",
       "      <td>0.555556</td>\n",
       "      <td>0.312500</td>\n",
       "      <td>0.400000</td>\n",
       "    </tr>\n",
       "  </tbody>\n",
       "</table>\n",
       "</div>"
      ],
      "text/plain": [
       "   fit_time  score_time  test_accuracy  test_recall  test_precision   test_f1\n",
       "0  0.097078    0.015552       0.558824     0.444444        0.285714  0.347826\n",
       "1  0.006050    0.005374       0.636364     0.500000        0.333333  0.400000\n",
       "2  0.004411    0.005309       0.545455     0.625000        0.294118  0.400000\n",
       "3  0.005832    0.005553       0.545455     0.250000        0.181818  0.210526\n",
       "4  0.007932    0.004342       0.666667     0.625000        0.384615  0.476190\n",
       "5  0.005971    0.004859       0.363636     0.375000        0.157895  0.222222\n",
       "6  0.004211    0.005248       0.575758     0.750000        0.333333  0.461538\n",
       "7  0.004756    0.005132       0.484848     0.375000        0.200000  0.260870\n",
       "8  0.007693    0.004260       0.727273     0.875000        0.466667  0.608696\n",
       "9  0.004019    0.003928       0.545455     0.555556        0.312500  0.400000"
      ]
     },
     "execution_count": 127,
     "metadata": {},
     "output_type": "execute_result"
    }
   ],
   "source": [
    "cv_results = cross_validate(model, X_train, y_train, cv=10, scoring=[\"accuracy\",\"recall\",\"precision\",\"f1\"])\n",
    "pd.DataFrame(cv_results)"
   ]
  },
  {
   "cell_type": "code",
   "execution_count": 128,
   "id": "08386844",
   "metadata": {},
   "outputs": [
    {
     "name": "stderr",
     "output_type": "stream",
     "text": [
      "/Users/leacebulla/.pyenv/versions/3.8.12/envs/health/lib/python3.8/site-packages/sklearn/utils/deprecation.py:87: FutureWarning: Function plot_confusion_matrix is deprecated; Function `plot_confusion_matrix` is deprecated in 1.0 and will be removed in 1.2. Use one of the class methods: ConfusionMatrixDisplay.from_predictions or ConfusionMatrixDisplay.from_estimator.\n",
      "  warnings.warn(msg, category=FutureWarning)\n"
     ]
    },
    {
     "data": {
      "text/plain": [
       "<sklearn.metrics._plot.confusion_matrix.ConfusionMatrixDisplay at 0x1355ee730>"
      ]
     },
     "execution_count": 128,
     "metadata": {},
     "output_type": "execute_result"
    },
    {
     "data": {
      "image/png": "[encoded data removed]",
      "text/plain": [
       "<Figure size 432x288 with 2 Axes>"
      ]
     },
     "metadata": {
      "needs_background": "light"
     },
     "output_type": "display_data"
    }
   ],
   "source": [
    "from sklearn.metrics import plot_confusion_matrix\n",
    "model=model.fit(X,y)\n",
    "plot_confusion_matrix(model,X,y)"
   ]
  },
  {
   "cell_type": "code",
   "execution_count": 124,
   "id": "54659860",
   "metadata": {},
   "outputs": [
    {
     "data": {
      "text/plain": [
       "0.0    329\n",
       "1.0    113\n",
       "Name: skin_rash, dtype: int64"
      ]
     },
     "execution_count": 124,
     "metadata": {},
     "output_type": "execute_result"
    }
   ],
   "source": [
    "y.value_counts()"
   ]
  },
  {
   "cell_type": "markdown",
   "id": "480e0096",
   "metadata": {},
   "source": [
    "### KNeighborsClassifier"
   ]
  },
  {
   "cell_type": "code",
   "execution_count": 106,
   "id": "1a71ec43",
   "metadata": {},
   "outputs": [
    {
     "name": "stderr",
     "output_type": "stream",
     "text": [
      "/Users/leacebulla/.pyenv/versions/3.8.12/envs/health/lib/python3.8/site-packages/sklearn/metrics/_classification.py:1308: UndefinedMetricWarning: Precision is ill-defined and being set to 0.0 due to no predicted samples. Use `zero_division` parameter to control this behavior.\n",
      "  _warn_prf(average, modifier, msg_start, len(result))\n",
      "/Users/leacebulla/.pyenv/versions/3.8.12/envs/health/lib/python3.8/site-packages/sklearn/metrics/_classification.py:1308: UndefinedMetricWarning: Precision is ill-defined and being set to 0.0 due to no predicted samples. Use `zero_division` parameter to control this behavior.\n",
      "  _warn_prf(average, modifier, msg_start, len(result))\n"
     ]
    },
    {
     "data": {
      "text/html": [
       "<div>\n",
       "<style scoped>\n",
       "    .dataframe tbody tr th:only-of-type {\n",
       "        vertical-align: middle;\n",
       "    }\n",
       "\n",
       "    .dataframe tbody tr th {\n",
       "        vertical-align: top;\n",
       "    }\n",
       "\n",
       "    .dataframe thead th {\n",
       "        text-align: right;\n",
       "    }\n",
       "</style>\n",
       "<table border=\"1\" class=\"dataframe\">\n",
       "  <thead>\n",
       "    <tr style=\"text-align: right;\">\n",
       "      <th></th>\n",
       "      <th>fit_time</th>\n",
       "      <th>score_time</th>\n",
       "      <th>test_accuracy</th>\n",
       "      <th>test_recall</th>\n",
       "      <th>test_precision</th>\n",
       "      <th>test_f1</th>\n",
       "    </tr>\n",
       "  </thead>\n",
       "  <tbody>\n",
       "    <tr>\n",
       "      <th>0</th>\n",
       "      <td>0.009015</td>\n",
       "      <td>0.019799</td>\n",
       "      <td>0.735294</td>\n",
       "      <td>0.000000</td>\n",
       "      <td>0.000000</td>\n",
       "      <td>0.000000</td>\n",
       "    </tr>\n",
       "    <tr>\n",
       "      <th>1</th>\n",
       "      <td>0.002519</td>\n",
       "      <td>0.006612</td>\n",
       "      <td>0.757576</td>\n",
       "      <td>0.000000</td>\n",
       "      <td>0.000000</td>\n",
       "      <td>0.000000</td>\n",
       "    </tr>\n",
       "    <tr>\n",
       "      <th>2</th>\n",
       "      <td>0.002337</td>\n",
       "      <td>0.005244</td>\n",
       "      <td>0.727273</td>\n",
       "      <td>0.250000</td>\n",
       "      <td>0.400000</td>\n",
       "      <td>0.307692</td>\n",
       "    </tr>\n",
       "    <tr>\n",
       "      <th>3</th>\n",
       "      <td>0.001659</td>\n",
       "      <td>0.005326</td>\n",
       "      <td>0.727273</td>\n",
       "      <td>0.125000</td>\n",
       "      <td>0.333333</td>\n",
       "      <td>0.181818</td>\n",
       "    </tr>\n",
       "    <tr>\n",
       "      <th>4</th>\n",
       "      <td>0.002027</td>\n",
       "      <td>0.005507</td>\n",
       "      <td>0.666667</td>\n",
       "      <td>0.250000</td>\n",
       "      <td>0.285714</td>\n",
       "      <td>0.266667</td>\n",
       "    </tr>\n",
       "    <tr>\n",
       "      <th>5</th>\n",
       "      <td>0.001972</td>\n",
       "      <td>0.005747</td>\n",
       "      <td>0.727273</td>\n",
       "      <td>0.125000</td>\n",
       "      <td>0.333333</td>\n",
       "      <td>0.181818</td>\n",
       "    </tr>\n",
       "    <tr>\n",
       "      <th>6</th>\n",
       "      <td>0.002160</td>\n",
       "      <td>0.008054</td>\n",
       "      <td>0.727273</td>\n",
       "      <td>0.250000</td>\n",
       "      <td>0.400000</td>\n",
       "      <td>0.307692</td>\n",
       "    </tr>\n",
       "    <tr>\n",
       "      <th>7</th>\n",
       "      <td>0.002973</td>\n",
       "      <td>0.013492</td>\n",
       "      <td>0.757576</td>\n",
       "      <td>0.125000</td>\n",
       "      <td>0.500000</td>\n",
       "      <td>0.200000</td>\n",
       "    </tr>\n",
       "    <tr>\n",
       "      <th>8</th>\n",
       "      <td>0.002346</td>\n",
       "      <td>0.006547</td>\n",
       "      <td>0.696970</td>\n",
       "      <td>0.250000</td>\n",
       "      <td>0.333333</td>\n",
       "      <td>0.285714</td>\n",
       "    </tr>\n",
       "    <tr>\n",
       "      <th>9</th>\n",
       "      <td>0.002637</td>\n",
       "      <td>0.007180</td>\n",
       "      <td>0.696970</td>\n",
       "      <td>0.111111</td>\n",
       "      <td>0.333333</td>\n",
       "      <td>0.166667</td>\n",
       "    </tr>\n",
       "  </tbody>\n",
       "</table>\n",
       "</div>"
      ],
      "text/plain": [
       "   fit_time  score_time  test_accuracy  test_recall  test_precision   test_f1\n",
       "0  0.009015    0.019799       0.735294     0.000000        0.000000  0.000000\n",
       "1  0.002519    0.006612       0.757576     0.000000        0.000000  0.000000\n",
       "2  0.002337    0.005244       0.727273     0.250000        0.400000  0.307692\n",
       "3  0.001659    0.005326       0.727273     0.125000        0.333333  0.181818\n",
       "4  0.002027    0.005507       0.666667     0.250000        0.285714  0.266667\n",
       "5  0.001972    0.005747       0.727273     0.125000        0.333333  0.181818\n",
       "6  0.002160    0.008054       0.727273     0.250000        0.400000  0.307692\n",
       "7  0.002973    0.013492       0.757576     0.125000        0.500000  0.200000\n",
       "8  0.002346    0.006547       0.696970     0.250000        0.333333  0.285714\n",
       "9  0.002637    0.007180       0.696970     0.111111        0.333333  0.166667"
      ]
     },
     "execution_count": 106,
     "metadata": {},
     "output_type": "execute_result"
    }
   ],
   "source": [
    "from sklearn.neighbors import KNeighborsClassifier\n",
    "model2 = KNeighborsClassifier()\n",
    "model2.fit(X_train,y_train)\n",
    "cv_results = cross_validate(model2, X_train, y_train, cv=10, scoring=[\"accuracy\",\"recall\",\"precision\",\"f1\"])\n",
    "pd.DataFrame(cv_results)"
   ]
  },
  {
   "cell_type": "code",
   "execution_count": 101,
   "id": "a7704931",
   "metadata": {},
   "outputs": [
    {
     "name": "stderr",
     "output_type": "stream",
     "text": [
      "/Users/leacebulla/.pyenv/versions/3.8.12/envs/health/lib/python3.8/site-packages/sklearn/utils/deprecation.py:87: FutureWarning: Function plot_confusion_matrix is deprecated; Function `plot_confusion_matrix` is deprecated in 1.0 and will be removed in 1.2. Use one of the class methods: ConfusionMatrixDisplay.from_predictions or ConfusionMatrixDisplay.from_estimator.\n",
      "  warnings.warn(msg, category=FutureWarning)\n"
     ]
    },
    {
     "data": {
      "text/plain": [
       "<sklearn.metrics._plot.confusion_matrix.ConfusionMatrixDisplay at 0x13530ba00>"
      ]
     },
     "execution_count": 101,
     "metadata": {},
     "output_type": "execute_result"
    },
    {
     "data": {
      "image/png": "[encoded data removed]",
      "text/plain": [
       "<Figure size 432x288 with 2 Axes>"
      ]
     },
     "metadata": {
      "needs_background": "light"
     },
     "output_type": "display_data"
    }
   ],
   "source": [
    "plot_confusion_matrix(model2,X,y)"
   ]
  },
  {
   "cell_type": "markdown",
   "id": "39a3e543",
   "metadata": {},
   "source": [
    "### SGDClassifier"
   ]
  },
  {
   "cell_type": "code",
   "execution_count": 129,
   "id": "bd12d77b",
   "metadata": {},
   "outputs": [
    {
     "data": {
      "text/plain": [
       "{'fit_time': array([0.04345512, 0.00677776, 0.00340819, 0.00362086, 0.00221705,\n",
       "        0.00228477, 0.00246716, 0.00217795, 0.00200295, 0.00190592]),\n",
       " 'score_time': array([0.04808688, 0.00527096, 0.00298882, 0.00278401, 0.00212598,\n",
       "        0.0037291 , 0.00232196, 0.00216675, 0.00195694, 0.001899  ]),\n",
       " 'test_precision': array([0.4       , 1.        , 0.27272727, 1.        , 0.        ,\n",
       "        0.        , 0.        , 0.27272727, 0.27272727, 0.16666667])}"
      ]
     },
     "execution_count": 129,
     "metadata": {},
     "output_type": "execute_result"
    }
   ],
   "source": [
    "from sklearn.linear_model import SGDClassifier, LinearRegression\n",
    "from sklearn.linear_model import SGDClassifier\n",
    "from sklearn.model_selection import cross_validate\n",
    "\n",
    "model3 = SGDClassifier(class_weight='balanced')\n",
    "\n",
    "\n",
    "model3.fit(X_test,y_test)\n",
    "cv_results = cross_validate(model3, X_test, y_test, cv=10, scoring=['precision'])\n",
    "\n",
    "#simplified_model_score = cv_results['test_score'].mean()\n",
    "cv_results"
   ]
  },
  {
   "cell_type": "code",
   "execution_count": 130,
   "id": "69ca9e78",
   "metadata": {},
   "outputs": [
    {
     "name": "stderr",
     "output_type": "stream",
     "text": [
      "/Users/leacebulla/.pyenv/versions/3.8.12/envs/health/lib/python3.8/site-packages/sklearn/utils/deprecation.py:87: FutureWarning: Function plot_confusion_matrix is deprecated; Function `plot_confusion_matrix` is deprecated in 1.0 and will be removed in 1.2. Use one of the class methods: ConfusionMatrixDisplay.from_predictions or ConfusionMatrixDisplay.from_estimator.\n",
      "  warnings.warn(msg, category=FutureWarning)\n"
     ]
    },
    {
     "data": {
      "text/plain": [
       "<sklearn.metrics._plot.confusion_matrix.ConfusionMatrixDisplay at 0x135300850>"
      ]
     },
     "execution_count": 130,
     "metadata": {},
     "output_type": "execute_result"
    },
    {
     "data": {
      "image/png": "[encoded data removed]",
      "text/plain": [
       "<Figure size 432x288 with 2 Axes>"
      ]
     },
     "metadata": {
      "needs_background": "light"
     },
     "output_type": "display_data"
    }
   ],
   "source": [
    "plot_confusion_matrix(model3,X,y)"
   ]
  },
  {
   "cell_type": "markdown",
   "id": "84b1f51e",
   "metadata": {},
   "source": [
    "### Best Model so far"
   ]
  },
  {
   "cell_type": "code",
   "execution_count": 105,
   "id": "bbb94510",
   "metadata": {},
   "outputs": [],
   "source": [
    "best=\"KNeighbors\""
   ]
  },
  {
   "cell_type": "code",
   "execution_count": 108,
   "id": "f4b7e662",
   "metadata": {},
   "outputs": [
    {
     "name": "stderr",
     "output_type": "stream",
     "text": [
      "/Users/leacebulla/.pyenv/versions/3.8.12/envs/health/lib/python3.8/site-packages/sklearn/metrics/_classification.py:1308: UndefinedMetricWarning: Precision is ill-defined and being set to 0.0 due to no predicted samples. Use `zero_division` parameter to control this behavior.\n",
      "  _warn_prf(average, modifier, msg_start, len(result))\n",
      "/Users/leacebulla/.pyenv/versions/3.8.12/envs/health/lib/python3.8/site-packages/sklearn/metrics/_classification.py:1308: UndefinedMetricWarning: Precision is ill-defined and being set to 0.0 due to no predicted samples. Use `zero_division` parameter to control this behavior.\n",
      "  _warn_prf(average, modifier, msg_start, len(result))\n",
      "/Users/leacebulla/.pyenv/versions/3.8.12/envs/health/lib/python3.8/site-packages/sklearn/metrics/_classification.py:1308: UndefinedMetricWarning: Precision is ill-defined and being set to 0.0 due to no predicted samples. Use `zero_division` parameter to control this behavior.\n",
      "  _warn_prf(average, modifier, msg_start, len(result))\n",
      "/Users/leacebulla/.pyenv/versions/3.8.12/envs/health/lib/python3.8/site-packages/sklearn/metrics/_classification.py:1308: UndefinedMetricWarning: Precision is ill-defined and being set to 0.0 due to no predicted samples. Use `zero_division` parameter to control this behavior.\n",
      "  _warn_prf(average, modifier, msg_start, len(result))\n",
      "/Users/leacebulla/.pyenv/versions/3.8.12/envs/health/lib/python3.8/site-packages/sklearn/metrics/_classification.py:1308: UndefinedMetricWarning: Precision is ill-defined and being set to 0.0 due to no predicted samples. Use `zero_division` parameter to control this behavior.\n",
      "  _warn_prf(average, modifier, msg_start, len(result))\n",
      "/Users/leacebulla/.pyenv/versions/3.8.12/envs/health/lib/python3.8/site-packages/sklearn/metrics/_classification.py:1308: UndefinedMetricWarning: Precision is ill-defined and being set to 0.0 due to no predicted samples. Use `zero_division` parameter to control this behavior.\n",
      "  _warn_prf(average, modifier, msg_start, len(result))\n",
      "/Users/leacebulla/.pyenv/versions/3.8.12/envs/health/lib/python3.8/site-packages/sklearn/metrics/_classification.py:1308: UndefinedMetricWarning: Precision is ill-defined and being set to 0.0 due to no predicted samples. Use `zero_division` parameter to control this behavior.\n",
      "  _warn_prf(average, modifier, msg_start, len(result))\n"
     ]
    },
    {
     "data": {
      "text/html": [
       "<div>\n",
       "<style scoped>\n",
       "    .dataframe tbody tr th:only-of-type {\n",
       "        vertical-align: middle;\n",
       "    }\n",
       "\n",
       "    .dataframe tbody tr th {\n",
       "        vertical-align: top;\n",
       "    }\n",
       "\n",
       "    .dataframe thead th {\n",
       "        text-align: right;\n",
       "    }\n",
       "</style>\n",
       "<table border=\"1\" class=\"dataframe\">\n",
       "  <thead>\n",
       "    <tr style=\"text-align: right;\">\n",
       "      <th></th>\n",
       "      <th>fit_time</th>\n",
       "      <th>score_time</th>\n",
       "      <th>test_accuracy</th>\n",
       "      <th>test_recall</th>\n",
       "      <th>test_precision</th>\n",
       "      <th>test_f1</th>\n",
       "    </tr>\n",
       "  </thead>\n",
       "  <tbody>\n",
       "    <tr>\n",
       "      <th>0</th>\n",
       "      <td>0.003079</td>\n",
       "      <td>0.010003</td>\n",
       "      <td>0.735294</td>\n",
       "      <td>0.000</td>\n",
       "      <td>0.0</td>\n",
       "      <td>0.000000</td>\n",
       "    </tr>\n",
       "    <tr>\n",
       "      <th>1</th>\n",
       "      <td>0.002692</td>\n",
       "      <td>0.008219</td>\n",
       "      <td>0.727273</td>\n",
       "      <td>0.000</td>\n",
       "      <td>0.0</td>\n",
       "      <td>0.000000</td>\n",
       "    </tr>\n",
       "    <tr>\n",
       "      <th>2</th>\n",
       "      <td>0.002198</td>\n",
       "      <td>0.006559</td>\n",
       "      <td>0.727273</td>\n",
       "      <td>0.000</td>\n",
       "      <td>0.0</td>\n",
       "      <td>0.000000</td>\n",
       "    </tr>\n",
       "    <tr>\n",
       "      <th>3</th>\n",
       "      <td>0.002366</td>\n",
       "      <td>0.008156</td>\n",
       "      <td>0.757576</td>\n",
       "      <td>0.000</td>\n",
       "      <td>0.0</td>\n",
       "      <td>0.000000</td>\n",
       "    </tr>\n",
       "    <tr>\n",
       "      <th>4</th>\n",
       "      <td>0.002575</td>\n",
       "      <td>0.010931</td>\n",
       "      <td>0.787879</td>\n",
       "      <td>0.125</td>\n",
       "      <td>1.0</td>\n",
       "      <td>0.222222</td>\n",
       "    </tr>\n",
       "    <tr>\n",
       "      <th>5</th>\n",
       "      <td>0.001951</td>\n",
       "      <td>0.008440</td>\n",
       "      <td>0.757576</td>\n",
       "      <td>0.000</td>\n",
       "      <td>0.0</td>\n",
       "      <td>0.000000</td>\n",
       "    </tr>\n",
       "    <tr>\n",
       "      <th>6</th>\n",
       "      <td>0.002617</td>\n",
       "      <td>0.006869</td>\n",
       "      <td>0.757576</td>\n",
       "      <td>0.000</td>\n",
       "      <td>0.0</td>\n",
       "      <td>0.000000</td>\n",
       "    </tr>\n",
       "    <tr>\n",
       "      <th>7</th>\n",
       "      <td>0.002433</td>\n",
       "      <td>0.006265</td>\n",
       "      <td>0.757576</td>\n",
       "      <td>0.000</td>\n",
       "      <td>0.0</td>\n",
       "      <td>0.000000</td>\n",
       "    </tr>\n",
       "    <tr>\n",
       "      <th>8</th>\n",
       "      <td>0.001877</td>\n",
       "      <td>0.007471</td>\n",
       "      <td>0.757576</td>\n",
       "      <td>0.000</td>\n",
       "      <td>0.0</td>\n",
       "      <td>0.000000</td>\n",
       "    </tr>\n",
       "    <tr>\n",
       "      <th>9</th>\n",
       "      <td>0.001956</td>\n",
       "      <td>0.006884</td>\n",
       "      <td>0.727273</td>\n",
       "      <td>0.000</td>\n",
       "      <td>0.0</td>\n",
       "      <td>0.000000</td>\n",
       "    </tr>\n",
       "  </tbody>\n",
       "</table>\n",
       "</div>"
      ],
      "text/plain": [
       "   fit_time  score_time  test_accuracy  test_recall  test_precision   test_f1\n",
       "0  0.003079    0.010003       0.735294        0.000             0.0  0.000000\n",
       "1  0.002692    0.008219       0.727273        0.000             0.0  0.000000\n",
       "2  0.002198    0.006559       0.727273        0.000             0.0  0.000000\n",
       "3  0.002366    0.008156       0.757576        0.000             0.0  0.000000\n",
       "4  0.002575    0.010931       0.787879        0.125             1.0  0.222222\n",
       "5  0.001951    0.008440       0.757576        0.000             0.0  0.000000\n",
       "6  0.002617    0.006869       0.757576        0.000             0.0  0.000000\n",
       "7  0.002433    0.006265       0.757576        0.000             0.0  0.000000\n",
       "8  0.001877    0.007471       0.757576        0.000             0.0  0.000000\n",
       "9  0.001956    0.006884       0.727273        0.000             0.0  0.000000"
      ]
     },
     "execution_count": 108,
     "metadata": {},
     "output_type": "execute_result"
    }
   ],
   "source": [
    "model4 = KNeighborsClassifier(n_neighbors=20)\n",
    "model4.fit(X_train,y_train)\n",
    "cv_results = cross_validate(model4, X_train, y_train, cv=10, scoring=[\"accuracy\",\"recall\",\"precision\",\"f1\"])\n",
    "pd.DataFrame(cv_results)"
   ]
  },
  {
   "cell_type": "code",
   "execution_count": 119,
   "id": "5d950a22",
   "metadata": {},
   "outputs": [
    {
     "data": {
      "text/plain": [
       "{'n_neighbors': 22, 'p': 1}"
      ]
     },
     "execution_count": 119,
     "metadata": {},
     "output_type": "execute_result"
    }
   ],
   "source": [
    "from sklearn.model_selection import GridSearchCV\n",
    "model5 = KNeighborsClassifier()\n",
    "k_grid={\"n_neighbors\":[20,21,22,23,24],'p': [1, 2, 3,4,5]}\n",
    " \n",
    "search = GridSearchCV(model5, k_grid,\n",
    "                           scoring = 'accuracy',\n",
    "                           cv = 5,\n",
    "                           n_jobs=-1 # paralellize computation\n",
    "                          ) \n",
    "search.fit(X_train,y_train);\n",
    "search.best_params_"
   ]
  },
  {
   "cell_type": "code",
   "execution_count": 121,
   "id": "394a47c2",
   "metadata": {},
   "outputs": [
    {
     "data": {
      "text/plain": [
       "{'fit_time': array([0.00362015, 0.00269198, 0.00205326, 0.00215483, 0.00210404]),\n",
       " 'score_time': array([0.00657487, 0.00478506, 0.00459599, 0.00471234, 0.00439   ]),\n",
       " 'test_score': array([0.74626866, 0.77272727, 0.75757576, 0.75757576, 0.74242424])}"
      ]
     },
     "execution_count": 121,
     "metadata": {},
     "output_type": "execute_result"
    }
   ],
   "source": [
    "model6=KNeighborsClassifier(n_neighbors=22,p=1)\n",
    "cv_results=cross_validate(model6,X_train,y_train,cv=5)\n",
    "cv_results"
   ]
  },
  {
   "cell_type": "code",
   "execution_count": 123,
   "id": "51f112e6",
   "metadata": {},
   "outputs": [
    {
     "name": "stderr",
     "output_type": "stream",
     "text": [
      "/Users/leacebulla/.pyenv/versions/3.8.12/envs/health/lib/python3.8/site-packages/sklearn/utils/deprecation.py:87: FutureWarning: Function plot_confusion_matrix is deprecated; Function `plot_confusion_matrix` is deprecated in 1.0 and will be removed in 1.2. Use one of the class methods: ConfusionMatrixDisplay.from_predictions or ConfusionMatrixDisplay.from_estimator.\n",
      "  warnings.warn(msg, category=FutureWarning)\n"
     ]
    },
    {
     "data": {
      "text/plain": [
       "<sklearn.metrics._plot.confusion_matrix.ConfusionMatrixDisplay at 0x135238580>"
      ]
     },
     "execution_count": 123,
     "metadata": {},
     "output_type": "execute_result"
    },
    {
     "data": {
      "image/png": "[encoded data removed]",
      "text/plain": [
       "<Figure size 432x288 with 2 Axes>"
      ]
     },
     "metadata": {
      "needs_background": "light"
     },
     "output_type": "display_data"
    }
   ],
   "source": [
    "model6.fit(X_train,y_train)\n",
    "plot_confusion_matrix(model6,X,y)"
   ]
  },
  {
   "cell_type": "markdown",
   "id": "6f7ddc33",
   "metadata": {},
   "source": [
    "## What I am gonna work on: Logistic Regression Model"
   ]
  },
  {
   "cell_type": "code",
   "execution_count": null,
   "id": "8a43a4d6",
   "metadata": {},
   "outputs": [],
   "source": []
  },
  {
   "cell_type": "code",
   "execution_count": null,
   "id": "d1fc4756",
   "metadata": {},
   "outputs": [],
   "source": []
  },
  {
   "cell_type": "code",
   "execution_count": null,
   "id": "3dde097d",
   "metadata": {},
   "outputs": [],
   "source": []
  },
  {
   "cell_type": "markdown",
   "id": "4746061b",
   "metadata": {},
   "source": [
    "# start again"
   ]
  },
  {
   "cell_type": "code",
   "execution_count": 178,
   "id": "c184037a",
   "metadata": {
    "scrolled": true
   },
   "outputs": [
    {
     "data": {
      "text/html": [
       "<div>\n",
       "<style scoped>\n",
       "    .dataframe tbody tr th:only-of-type {\n",
       "        vertical-align: middle;\n",
       "    }\n",
       "\n",
       "    .dataframe tbody tr th {\n",
       "        vertical-align: top;\n",
       "    }\n",
       "\n",
       "    .dataframe thead th {\n",
       "        text-align: right;\n",
       "    }\n",
       "</style>\n",
       "<table border=\"1\" class=\"dataframe\">\n",
       "  <thead>\n",
       "    <tr style=\"text-align: right;\">\n",
       "      <th></th>\n",
       "      <th>pat_nr</th>\n",
       "      <th>B cells naive</th>\n",
       "      <th>B cells memory</th>\n",
       "      <th>Plasma cells</th>\n",
       "      <th>T cells CD8</th>\n",
       "      <th>T cells CD4 naive</th>\n",
       "      <th>T cells CD4 memory resting</th>\n",
       "      <th>T cells CD4 memory activated</th>\n",
       "      <th>T cells follicular helper</th>\n",
       "      <th>T cells regulatory (Tregs)</th>\n",
       "      <th>...</th>\n",
       "      <th>Dendritic cells resting</th>\n",
       "      <th>Dendritic cells activated</th>\n",
       "      <th>Mast cells resting</th>\n",
       "      <th>Mast cells activated</th>\n",
       "      <th>Eosinophils</th>\n",
       "      <th>Neutrophils</th>\n",
       "      <th>P-value</th>\n",
       "      <th>sex</th>\n",
       "      <th>age</th>\n",
       "      <th>skin_rash</th>\n",
       "    </tr>\n",
       "  </thead>\n",
       "  <tbody>\n",
       "    <tr>\n",
       "      <th>0</th>\n",
       "      <td>9</td>\n",
       "      <td>0.067346</td>\n",
       "      <td>0.000000</td>\n",
       "      <td>0.097330</td>\n",
       "      <td>0.072327</td>\n",
       "      <td>0.0</td>\n",
       "      <td>0.168887</td>\n",
       "      <td>0.000000</td>\n",
       "      <td>0.002431</td>\n",
       "      <td>0.067972</td>\n",
       "      <td>...</td>\n",
       "      <td>0.071104</td>\n",
       "      <td>0.000000</td>\n",
       "      <td>0.0</td>\n",
       "      <td>0.188876</td>\n",
       "      <td>0.000000</td>\n",
       "      <td>0.074924</td>\n",
       "      <td>0.004</td>\n",
       "      <td>1.0</td>\n",
       "      <td>61.0</td>\n",
       "      <td>1.0</td>\n",
       "    </tr>\n",
       "    <tr>\n",
       "      <th>1</th>\n",
       "      <td>10</td>\n",
       "      <td>0.000000</td>\n",
       "      <td>0.000000</td>\n",
       "      <td>0.105039</td>\n",
       "      <td>0.066233</td>\n",
       "      <td>0.0</td>\n",
       "      <td>0.249715</td>\n",
       "      <td>0.074691</td>\n",
       "      <td>0.035303</td>\n",
       "      <td>0.085112</td>\n",
       "      <td>...</td>\n",
       "      <td>0.000000</td>\n",
       "      <td>0.009239</td>\n",
       "      <td>0.0</td>\n",
       "      <td>0.134230</td>\n",
       "      <td>0.000000</td>\n",
       "      <td>0.070198</td>\n",
       "      <td>0.024</td>\n",
       "      <td>1.0</td>\n",
       "      <td>74.0</td>\n",
       "      <td>1.0</td>\n",
       "    </tr>\n",
       "    <tr>\n",
       "      <th>2</th>\n",
       "      <td>12</td>\n",
       "      <td>0.065798</td>\n",
       "      <td>0.000000</td>\n",
       "      <td>0.118399</td>\n",
       "      <td>0.111458</td>\n",
       "      <td>0.0</td>\n",
       "      <td>0.281396</td>\n",
       "      <td>0.000000</td>\n",
       "      <td>0.000000</td>\n",
       "      <td>0.069544</td>\n",
       "      <td>...</td>\n",
       "      <td>0.024802</td>\n",
       "      <td>0.000000</td>\n",
       "      <td>0.0</td>\n",
       "      <td>0.086495</td>\n",
       "      <td>0.032828</td>\n",
       "      <td>0.051155</td>\n",
       "      <td>0.002</td>\n",
       "      <td>1.0</td>\n",
       "      <td>73.0</td>\n",
       "      <td>1.0</td>\n",
       "    </tr>\n",
       "    <tr>\n",
       "      <th>3</th>\n",
       "      <td>15</td>\n",
       "      <td>0.010223</td>\n",
       "      <td>0.000000</td>\n",
       "      <td>0.186072</td>\n",
       "      <td>0.193724</td>\n",
       "      <td>0.0</td>\n",
       "      <td>0.283032</td>\n",
       "      <td>0.000000</td>\n",
       "      <td>0.000000</td>\n",
       "      <td>0.144012</td>\n",
       "      <td>...</td>\n",
       "      <td>0.000000</td>\n",
       "      <td>0.000000</td>\n",
       "      <td>0.0</td>\n",
       "      <td>0.081489</td>\n",
       "      <td>0.000000</td>\n",
       "      <td>0.004522</td>\n",
       "      <td>0.034</td>\n",
       "      <td>1.0</td>\n",
       "      <td>68.0</td>\n",
       "      <td>1.0</td>\n",
       "    </tr>\n",
       "    <tr>\n",
       "      <th>4</th>\n",
       "      <td>16</td>\n",
       "      <td>0.000000</td>\n",
       "      <td>0.013582</td>\n",
       "      <td>0.056297</td>\n",
       "      <td>0.080645</td>\n",
       "      <td>0.0</td>\n",
       "      <td>0.336947</td>\n",
       "      <td>0.000000</td>\n",
       "      <td>0.035983</td>\n",
       "      <td>0.057663</td>\n",
       "      <td>...</td>\n",
       "      <td>0.079572</td>\n",
       "      <td>0.010232</td>\n",
       "      <td>0.0</td>\n",
       "      <td>0.045427</td>\n",
       "      <td>0.000000</td>\n",
       "      <td>0.095906</td>\n",
       "      <td>0.022</td>\n",
       "      <td>1.0</td>\n",
       "      <td>42.0</td>\n",
       "      <td>1.0</td>\n",
       "    </tr>\n",
       "  </tbody>\n",
       "</table>\n",
       "<p>5 rows × 27 columns</p>\n",
       "</div>"
      ],
      "text/plain": [
       "   pat_nr  B cells naive  B cells memory  Plasma cells  T cells CD8  \\\n",
       "0       9       0.067346        0.000000      0.097330     0.072327   \n",
       "1      10       0.000000        0.000000      0.105039     0.066233   \n",
       "2      12       0.065798        0.000000      0.118399     0.111458   \n",
       "3      15       0.010223        0.000000      0.186072     0.193724   \n",
       "4      16       0.000000        0.013582      0.056297     0.080645   \n",
       "\n",
       "   T cells CD4 naive  T cells CD4 memory resting  \\\n",
       "0                0.0                    0.168887   \n",
       "1                0.0                    0.249715   \n",
       "2                0.0                    0.281396   \n",
       "3                0.0                    0.283032   \n",
       "4                0.0                    0.336947   \n",
       "\n",
       "   T cells CD4 memory activated  T cells follicular helper  \\\n",
       "0                      0.000000                   0.002431   \n",
       "1                      0.074691                   0.035303   \n",
       "2                      0.000000                   0.000000   \n",
       "3                      0.000000                   0.000000   \n",
       "4                      0.000000                   0.035983   \n",
       "\n",
       "   T cells regulatory (Tregs)  ...  Dendritic cells resting  \\\n",
       "0                    0.067972  ...                 0.071104   \n",
       "1                    0.085112  ...                 0.000000   \n",
       "2                    0.069544  ...                 0.024802   \n",
       "3                    0.144012  ...                 0.000000   \n",
       "4                    0.057663  ...                 0.079572   \n",
       "\n",
       "   Dendritic cells activated  Mast cells resting  Mast cells activated  \\\n",
       "0                   0.000000                 0.0              0.188876   \n",
       "1                   0.009239                 0.0              0.134230   \n",
       "2                   0.000000                 0.0              0.086495   \n",
       "3                   0.000000                 0.0              0.081489   \n",
       "4                   0.010232                 0.0              0.045427   \n",
       "\n",
       "   Eosinophils  Neutrophils  P-value  sex   age  skin_rash  \n",
       "0     0.000000     0.074924    0.004  1.0  61.0        1.0  \n",
       "1     0.000000     0.070198    0.024  1.0  74.0        1.0  \n",
       "2     0.032828     0.051155    0.002  1.0  73.0        1.0  \n",
       "3     0.000000     0.004522    0.034  1.0  68.0        1.0  \n",
       "4     0.000000     0.095906    0.022  1.0  42.0        1.0  \n",
       "\n",
       "[5 rows x 27 columns]"
      ]
     },
     "execution_count": 178,
     "metadata": {},
     "output_type": "execute_result"
    }
   ],
   "source": [
    "new_df= pd.read_csv(\"../raw_data/cetux.csv\")\n",
    "new_df.head()"
   ]
  },
  {
   "cell_type": "code",
   "execution_count": 284,
   "id": "601c46d8",
   "metadata": {},
   "outputs": [],
   "source": [
    "X=new_df.drop(columns=[\"pat_nr\",\"P-value\",\"sex\",\"age\",\"skin_rash\"])\n",
    "y=new_df[\"skin_rash\"]"
   ]
  },
  {
   "cell_type": "code",
   "execution_count": 285,
   "id": "533e37bf",
   "metadata": {},
   "outputs": [],
   "source": [
    "X_train, X_test, y_train, y_test = train_test_split(X, y,\n",
    "                                                    test_size = 0.25, \n",
    "                                                    random_state = 6) # Holdout"
   ]
  },
  {
   "cell_type": "code",
   "execution_count": 292,
   "id": "452bbc37",
   "metadata": {},
   "outputs": [
    {
     "data": {
      "text/plain": [
       "0.49053030303030304"
      ]
     },
     "execution_count": 292,
     "metadata": {},
     "output_type": "execute_result"
    }
   ],
   "source": [
    "model = LogisticRegression(class_weight='balanced')\n",
    "model=model.fit(X_train,y_train)\n",
    "\n",
    "cv_results = cross_validate(model, X_train, y_train, cv=5, scoring=[\"accuracy\",\"recall\",\"precision\",\"f1\"])\n",
    "pd.DataFrame(cv_results)\n",
    "cv_results[\"test_accuracy\"].mean()"
   ]
  },
  {
   "cell_type": "code",
   "execution_count": 293,
   "id": "3e30de14",
   "metadata": {},
   "outputs": [
    {
     "name": "stderr",
     "output_type": "stream",
     "text": [
      "/Users/leacebulla/.pyenv/versions/3.8.12/envs/health/lib/python3.8/site-packages/sklearn/utils/deprecation.py:87: FutureWarning: Function plot_confusion_matrix is deprecated; Function `plot_confusion_matrix` is deprecated in 1.0 and will be removed in 1.2. Use one of the class methods: ConfusionMatrixDisplay.from_predictions or ConfusionMatrixDisplay.from_estimator.\n",
      "  warnings.warn(msg, category=FutureWarning)\n"
     ]
    },
    {
     "data": {
      "text/plain": [
       "<sklearn.metrics._plot.confusion_matrix.ConfusionMatrixDisplay at 0x1379d7580>"
      ]
     },
     "execution_count": 293,
     "metadata": {},
     "output_type": "execute_result"
    },
    {
     "data": {
      "image/png": "[encoded data removed]",
      "text/plain": [
       "<Figure size 432x288 with 2 Axes>"
      ]
     },
     "metadata": {
      "needs_background": "light"
     },
     "output_type": "display_data"
    }
   ],
   "source": [
    "model=model.fit(X_train,y_train)\n",
    "plot_confusion_matrix(model,X,y)"
   ]
  },
  {
   "cell_type": "code",
   "execution_count": 294,
   "id": "c8f22e6f",
   "metadata": {},
   "outputs": [],
   "source": [
    "coef=model.coef_[0]\n",
    "dicc=dict()\n",
    "for i in range(len(list(X))):\n",
    "    dicc[list(X)[i]]=coef[i]\n",
    "\n",
    "dic=dict(sorted(dicc.items(), key=lambda item: item[1]))"
   ]
  },
  {
   "cell_type": "code",
   "execution_count": 295,
   "id": "b04e680b",
   "metadata": {},
   "outputs": [
    {
     "data": {
      "text/html": [
       "<div>\n",
       "<style scoped>\n",
       "    .dataframe tbody tr th:only-of-type {\n",
       "        vertical-align: middle;\n",
       "    }\n",
       "\n",
       "    .dataframe tbody tr th {\n",
       "        vertical-align: top;\n",
       "    }\n",
       "\n",
       "    .dataframe thead th {\n",
       "        text-align: right;\n",
       "    }\n",
       "</style>\n",
       "<table border=\"1\" class=\"dataframe\">\n",
       "  <thead>\n",
       "    <tr style=\"text-align: right;\">\n",
       "      <th></th>\n",
       "      <th>0</th>\n",
       "    </tr>\n",
       "  </thead>\n",
       "  <tbody>\n",
       "    <tr>\n",
       "      <th>Macrophages M2</th>\n",
       "      <td>-0.706941</td>\n",
       "    </tr>\n",
       "    <tr>\n",
       "      <th>T cells CD4 memory activated</th>\n",
       "      <td>-0.243768</td>\n",
       "    </tr>\n",
       "    <tr>\n",
       "      <th>Mast cells resting</th>\n",
       "      <td>-0.155205</td>\n",
       "    </tr>\n",
       "    <tr>\n",
       "      <th>Mast cells activated</th>\n",
       "      <td>-0.073650</td>\n",
       "    </tr>\n",
       "    <tr>\n",
       "      <th>NK cells activated</th>\n",
       "      <td>-0.059384</td>\n",
       "    </tr>\n",
       "    <tr>\n",
       "      <th>Macrophages M1</th>\n",
       "      <td>-0.044981</td>\n",
       "    </tr>\n",
       "    <tr>\n",
       "      <th>T cells regulatory (Tregs)</th>\n",
       "      <td>-0.040155</td>\n",
       "    </tr>\n",
       "    <tr>\n",
       "      <th>T cells gamma delta</th>\n",
       "      <td>-0.037724</td>\n",
       "    </tr>\n",
       "    <tr>\n",
       "      <th>B cells naive</th>\n",
       "      <td>-0.005094</td>\n",
       "    </tr>\n",
       "    <tr>\n",
       "      <th>Monocytes</th>\n",
       "      <td>-0.002404</td>\n",
       "    </tr>\n",
       "    <tr>\n",
       "      <th>T cells CD4 naive</th>\n",
       "      <td>0.000439</td>\n",
       "    </tr>\n",
       "    <tr>\n",
       "      <th>Eosinophils</th>\n",
       "      <td>0.000660</td>\n",
       "    </tr>\n",
       "    <tr>\n",
       "      <th>T cells CD8</th>\n",
       "      <td>0.015478</td>\n",
       "    </tr>\n",
       "    <tr>\n",
       "      <th>NK cells resting</th>\n",
       "      <td>0.017689</td>\n",
       "    </tr>\n",
       "    <tr>\n",
       "      <th>Dendritic cells activated</th>\n",
       "      <td>0.026822</td>\n",
       "    </tr>\n",
       "    <tr>\n",
       "      <th>Neutrophils</th>\n",
       "      <td>0.074063</td>\n",
       "    </tr>\n",
       "    <tr>\n",
       "      <th>B cells memory</th>\n",
       "      <td>0.085247</td>\n",
       "    </tr>\n",
       "    <tr>\n",
       "      <th>Dendritic cells resting</th>\n",
       "      <td>0.118425</td>\n",
       "    </tr>\n",
       "    <tr>\n",
       "      <th>T cells CD4 memory resting</th>\n",
       "      <td>0.231043</td>\n",
       "    </tr>\n",
       "    <tr>\n",
       "      <th>T cells follicular helper</th>\n",
       "      <td>0.251864</td>\n",
       "    </tr>\n",
       "    <tr>\n",
       "      <th>Plasma cells</th>\n",
       "      <td>0.257792</td>\n",
       "    </tr>\n",
       "    <tr>\n",
       "      <th>Macrophages M0</th>\n",
       "      <td>0.289667</td>\n",
       "    </tr>\n",
       "  </tbody>\n",
       "</table>\n",
       "</div>"
      ],
      "text/plain": [
       "                                     0\n",
       "Macrophages M2               -0.706941\n",
       "T cells CD4 memory activated -0.243768\n",
       "Mast cells resting           -0.155205\n",
       "Mast cells activated         -0.073650\n",
       "NK cells activated           -0.059384\n",
       "Macrophages M1               -0.044981\n",
       "T cells regulatory (Tregs)   -0.040155\n",
       "T cells gamma delta          -0.037724\n",
       "B cells naive                -0.005094\n",
       "Monocytes                    -0.002404\n",
       "T cells CD4 naive             0.000439\n",
       "Eosinophils                   0.000660\n",
       "T cells CD8                   0.015478\n",
       "NK cells resting              0.017689\n",
       "Dendritic cells activated     0.026822\n",
       "Neutrophils                   0.074063\n",
       "B cells memory                0.085247\n",
       "Dendritic cells resting       0.118425\n",
       "T cells CD4 memory resting    0.231043\n",
       "T cells follicular helper     0.251864\n",
       "Plasma cells                  0.257792\n",
       "Macrophages M0                0.289667"
      ]
     },
     "execution_count": 295,
     "metadata": {},
     "output_type": "execute_result"
    }
   ],
   "source": [
    "data=pd.DataFrame.from_dict(dic,orient='index')\n",
    "data"
   ]
  },
  {
   "cell_type": "code",
   "execution_count": null,
   "id": "863cf2f1",
   "metadata": {},
   "outputs": [],
   "source": []
  },
  {
   "cell_type": "code",
   "execution_count": 296,
   "id": "55fc6860",
   "metadata": {},
   "outputs": [
    {
     "data": {
      "text/plain": [
       "<AxesSubplot:>"
      ]
     },
     "execution_count": 296,
     "metadata": {},
     "output_type": "execute_result"
    },
    {
     "data": {
      "image/png": "[encoded data removed]",
      "text/plain": [
       "<Figure size 432x288 with 2 Axes>"
      ]
     },
     "metadata": {
      "needs_background": "light"
     },
     "output_type": "display_data"
    }
   ],
   "source": [
    "corr = new_df.corr()\n",
    "sns.heatmap(corr, \n",
    "        xticklabels=corr.columns,\n",
    "        cmap= \"twilight\")"
   ]
  },
  {
   "cell_type": "code",
   "execution_count": 297,
   "id": "9849df7d",
   "metadata": {},
   "outputs": [],
   "source": [
    "X_spe=new_df[[\"Plasma cells\",\"Neutrophils\",\"Macrophages M0\",\"Macrophages M1\",\"Mast cells resting\",\"Macrophages M2\"]]"
   ]
  },
  {
   "cell_type": "code",
   "execution_count": 298,
   "id": "415bd518",
   "metadata": {},
   "outputs": [
    {
     "data": {
      "text/plain": [
       "0.5526515151515151"
      ]
     },
     "execution_count": 298,
     "metadata": {},
     "output_type": "execute_result"
    }
   ],
   "source": [
    "X_train2, X_test2, y_train, y_test = train_test_split(X_spe, y,\n",
    "                                                    test_size = 0.25, \n",
    "                                                    random_state = 6) # Holdout\n",
    "\n",
    "cv_results = cross_validate(model, X_train2, y_train, cv=5, scoring=[\"accuracy\",\"recall\",\"precision\",\"f1\"])\n",
    "pd.DataFrame(cv_results)\n",
    "cv_results[\"test_accuracy\"].mean()"
   ]
  },
  {
   "cell_type": "code",
   "execution_count": 299,
   "id": "84ffb351",
   "metadata": {},
   "outputs": [
    {
     "name": "stderr",
     "output_type": "stream",
     "text": [
      "/Users/leacebulla/.pyenv/versions/3.8.12/envs/health/lib/python3.8/site-packages/sklearn/utils/deprecation.py:87: FutureWarning: Function plot_confusion_matrix is deprecated; Function `plot_confusion_matrix` is deprecated in 1.0 and will be removed in 1.2. Use one of the class methods: ConfusionMatrixDisplay.from_predictions or ConfusionMatrixDisplay.from_estimator.\n",
      "  warnings.warn(msg, category=FutureWarning)\n"
     ]
    },
    {
     "data": {
      "text/plain": [
       "<sklearn.metrics._plot.confusion_matrix.ConfusionMatrixDisplay at 0x1368c8f10>"
      ]
     },
     "execution_count": 299,
     "metadata": {},
     "output_type": "execute_result"
    },
    {
     "data": {
      "image/png": "[encoded data removed]",
      "text/plain": [
       "<Figure size 432x288 with 2 Axes>"
      ]
     },
     "metadata": {
      "needs_background": "light"
     },
     "output_type": "display_data"
    }
   ],
   "source": [
    "model=model.fit(X_train2,y_train)\n",
    "plot_confusion_matrix(model,X_spe,y)"
   ]
  },
  {
   "cell_type": "code",
   "execution_count": 300,
   "id": "a4501749",
   "metadata": {},
   "outputs": [
    {
     "data": {
      "text/plain": [
       "array([ 0.2516613 ,  0.06969916,  0.28533756, -0.04470612, -0.15090049,\n",
       "       -0.70799027])"
      ]
     },
     "execution_count": 300,
     "metadata": {},
     "output_type": "execute_result"
    }
   ],
   "source": [
    "coef=model.coef_[0]\n",
    "coef"
   ]
  },
  {
   "cell_type": "code",
   "execution_count": null,
   "id": "0ab0cfc4",
   "metadata": {},
   "outputs": [],
   "source": []
  },
  {
   "cell_type": "markdown",
   "id": "7112b17b",
   "metadata": {},
   "source": [
    "## SVC Linear"
   ]
  },
  {
   "cell_type": "code",
   "execution_count": 307,
   "id": "e276904e",
   "metadata": {},
   "outputs": [],
   "source": [
    "X_train, X_test, y_train, y_test = train_test_split(X, y,\n",
    "                                                    test_size = 0.25, \n",
    "                                                    random_state = 6) # Holdout"
   ]
  },
  {
   "cell_type": "code",
   "execution_count": 308,
   "id": "2ea09fcc",
   "metadata": {},
   "outputs": [],
   "source": [
    "X_train2, X_test2, y_train, y_test = train_test_split(X_spe, y,\n",
    "                                                    test_size = 0.25, \n",
    "                                                    random_state = 6) # Holdout"
   ]
  },
  {
   "cell_type": "code",
   "execution_count": 309,
   "id": "00dc4b8c",
   "metadata": {},
   "outputs": [
    {
     "data": {
      "text/plain": [
       "0.5280303030303031"
      ]
     },
     "execution_count": 309,
     "metadata": {},
     "output_type": "execute_result"
    }
   ],
   "source": [
    "from sklearn.svm import LinearSVC\n",
    "model = LinearSVC()\n",
    "\n",
    "cv_results = cross_validate(model, X_train2, y_train, cv=5, scoring=[\"accuracy\",\"recall\",\"precision\",\"f1\"])\n",
    "pd.DataFrame(cv_results)\n",
    "cv_results[\"test_accuracy\"].mean()"
   ]
  },
  {
   "cell_type": "markdown",
   "id": "a2c1b387",
   "metadata": {},
   "source": [
    "## SVC"
   ]
  },
  {
   "cell_type": "code",
   "execution_count": 314,
   "id": "8555820b",
   "metadata": {},
   "outputs": [
    {
     "data": {
      "text/plain": [
       "0.515530303030303"
      ]
     },
     "execution_count": 314,
     "metadata": {},
     "output_type": "execute_result"
    }
   ],
   "source": [
    "from sklearn.svm import SVC\n",
    "model = SVC( kernel = 'rbf')\n",
    "\n",
    "cv_results = cross_validate(model, X_train2, y_train, cv=5, scoring=[\"accuracy\",\"recall\",\"precision\",\"f1\"])\n",
    "pd.DataFrame(cv_results)\n",
    "cv_results[\"test_accuracy\"].mean()"
   ]
  },
  {
   "cell_type": "markdown",
   "id": "90d36943",
   "metadata": {},
   "source": [
    "## Adaboost"
   ]
  },
  {
   "cell_type": "code",
   "execution_count": null,
   "id": "9acfd9ce",
   "metadata": {},
   "outputs": [],
   "source": [
    "model = SVC( kernel = 'rbf')\n",
    "\n",
    "cv_results = cross_validate(model, X_train2, y_train, cv=5, scoring=[\"accuracy\",\"recall\",\"precision\",\"f1\"])\n",
    "pd.DataFrame(cv_results)\n",
    "cv_results[\"test_accuracy\"].mean()"
   ]
  },
  {
   "cell_type": "code",
   "execution_count": null,
   "id": "797e2415",
   "metadata": {},
   "outputs": [],
   "source": []
  },
  {
   "cell_type": "code",
   "execution_count": null,
   "id": "69fd0354",
   "metadata": {},
   "outputs": [],
   "source": []
  },
  {
   "cell_type": "code",
   "execution_count": null,
   "id": "7e6f1b7d",
   "metadata": {},
   "outputs": [],
   "source": []
  }
 ],
 "metadata": {
  "kernelspec": {
   "display_name": "Python 3 (ipykernel)",
   "language": "python",
   "name": "python3"
  },
  "language_info": {
   "codemirror_mode": {
    "name": "ipython",
    "version": 3
   },
   "file_extension": ".py",
   "mimetype": "text/x-python",
   "name": "python",
   "nbconvert_exporter": "python",
   "pygments_lexer": "ipython3",
   "version": "3.8.12"
  },
  "toc": {
   "base_numbering": 1,
   "nav_menu": {},
   "number_sections": true,
   "sideBar": true,
   "skip_h1_title": false,
   "title_cell": "Table of Contents",
   "title_sidebar": "Contents",
   "toc_cell": false,
   "toc_position": {},
   "toc_section_display": true,
   "toc_window_display": false
  }
 },
 "nbformat": 4,
 "nbformat_minor": 5
}
