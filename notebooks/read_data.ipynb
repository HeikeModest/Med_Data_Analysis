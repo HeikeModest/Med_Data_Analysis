{
 "cells": [
  {
   "cell_type": "code",
   "execution_count": 1,
   "id": "2895349b",
   "metadata": {},
   "outputs": [],
   "source": [
    "import pandas as pd\n",
    "df = pd.read_csv(\"../raw_data/FIRE3_final_df.txt\",sep=' ')"
   ]
  },
  {
   "cell_type": "code",
   "execution_count": 2,
   "id": "bb0aada8",
   "metadata": {
    "scrolled": true
   },
   "outputs": [
    {
     "data": {
      "text/plain": [
       "Index(['entrezid', 'gsymbol', '1', '4', '5', '9', '10', '11', '12', '15',\n",
       "       ...\n",
       "       '838', '840', '842', '843', '889', '892', '896', '897', '899', '900'],\n",
       "      dtype='object', length=453)"
      ]
     },
     "execution_count": 2,
     "metadata": {},
     "output_type": "execute_result"
    }
   ],
   "source": [
    "df.columns"
   ]
  },
  {
   "cell_type": "code",
   "execution_count": 39,
   "id": "30701885",
   "metadata": {},
   "outputs": [
    {
     "data": {
      "text/plain": [
       "Index(['gsymbol', '1', '4', '5', '9', '10', '11', '12', '15', '16',\n",
       "       ...\n",
       "       '838', '840', '842', '843', '889', '892', '896', '897', '899', '900'],\n",
       "      dtype='object', length=452)"
      ]
     },
     "execution_count": 39,
     "metadata": {},
     "output_type": "execute_result"
    }
   ],
   "source": [
    "df_new = df.drop(columns=['entrezid'])\n",
    "df_new.columns"
   ]
  },
  {
   "cell_type": "code",
   "execution_count": 42,
   "id": "848402cb",
   "metadata": {},
   "outputs": [
    {
     "data": {
      "text/html": [
       "<div>\n",
       "<style scoped>\n",
       "    .dataframe tbody tr th:only-of-type {\n",
       "        vertical-align: middle;\n",
       "    }\n",
       "\n",
       "    .dataframe tbody tr th {\n",
       "        vertical-align: top;\n",
       "    }\n",
       "\n",
       "    .dataframe thead th {\n",
       "        text-align: right;\n",
       "    }\n",
       "</style>\n",
       "<table border=\"1\" class=\"dataframe\">\n",
       "  <thead>\n",
       "    <tr style=\"text-align: right;\">\n",
       "      <th></th>\n",
       "      <th>gsymbol</th>\n",
       "      <th>1</th>\n",
       "    </tr>\n",
       "  </thead>\n",
       "  <tbody>\n",
       "    <tr>\n",
       "      <th>1</th>\n",
       "      <td>A1BG-AS1</td>\n",
       "      <td>6.073786</td>\n",
       "    </tr>\n",
       "    <tr>\n",
       "      <th>2</th>\n",
       "      <td>A1BG</td>\n",
       "      <td>4.780956</td>\n",
       "    </tr>\n",
       "    <tr>\n",
       "      <th>3</th>\n",
       "      <td>A1CF</td>\n",
       "      <td>5.478749</td>\n",
       "    </tr>\n",
       "    <tr>\n",
       "      <th>4</th>\n",
       "      <td>A2M-AS1</td>\n",
       "      <td>4.462131</td>\n",
       "    </tr>\n",
       "    <tr>\n",
       "      <th>5</th>\n",
       "      <td>A2M</td>\n",
       "      <td>6.791144</td>\n",
       "    </tr>\n",
       "    <tr>\n",
       "      <th>...</th>\n",
       "      <td>...</td>\n",
       "      <td>...</td>\n",
       "    </tr>\n",
       "    <tr>\n",
       "      <th>23557</th>\n",
       "      <td>ZYG11A</td>\n",
       "      <td>4.134914</td>\n",
       "    </tr>\n",
       "    <tr>\n",
       "      <th>23558</th>\n",
       "      <td>ZYG11B</td>\n",
       "      <td>6.554528</td>\n",
       "    </tr>\n",
       "    <tr>\n",
       "      <th>23559</th>\n",
       "      <td>ZYX</td>\n",
       "      <td>6.722534</td>\n",
       "    </tr>\n",
       "    <tr>\n",
       "      <th>23560</th>\n",
       "      <td>ZZEF1</td>\n",
       "      <td>6.694138</td>\n",
       "    </tr>\n",
       "    <tr>\n",
       "      <th>23561</th>\n",
       "      <td>ZZZ3</td>\n",
       "      <td>6.061127</td>\n",
       "    </tr>\n",
       "  </tbody>\n",
       "</table>\n",
       "<p>23561 rows × 2 columns</p>\n",
       "</div>"
      ],
      "text/plain": [
       "        gsymbol         1\n",
       "1      A1BG-AS1  6.073786\n",
       "2          A1BG  4.780956\n",
       "3          A1CF  5.478749\n",
       "4       A2M-AS1  4.462131\n",
       "5           A2M  6.791144\n",
       "...         ...       ...\n",
       "23557    ZYG11A  4.134914\n",
       "23558    ZYG11B  6.554528\n",
       "23559       ZYX  6.722534\n",
       "23560     ZZEF1  6.694138\n",
       "23561      ZZZ3  6.061127\n",
       "\n",
       "[23561 rows x 2 columns]"
      ]
     },
     "execution_count": 42,
     "metadata": {},
     "output_type": "execute_result"
    }
   ],
   "source": [
    "first_column = df_new.iloc[:, 0:2]\n",
    "first_column"
   ]
  },
  {
   "cell_type": "code",
   "execution_count": 43,
   "id": "6cca3221",
   "metadata": {},
   "outputs": [],
   "source": [
    "first_column.to_csv(\"../raw_data/patient1.txt\", header=None, index=None, sep=' ')"
   ]
  },
  {
   "cell_type": "code",
   "execution_count": 20,
   "id": "934b9db5",
   "metadata": {},
   "outputs": [],
   "source": [
    "df_test= pd.read_csv(\"../raw_data/dataset.txt\",sep=' ')"
   ]
  },
  {
   "cell_type": "code",
   "execution_count": 27,
   "id": "57de729b",
   "metadata": {},
   "outputs": [
    {
     "data": {
      "text/plain": [
       "Index(['A1BG-AS1', '6.073786425', '4.856429604', '4.25874843', '4.85063519',\n",
       "       '4.670916181', '6.680078675', '7.299947282', '6.021905273',\n",
       "       '5.962185663',\n",
       "       ...\n",
       "       '5.24959828', '6.113905357', '6.336825131', '5.804862948',\n",
       "       '5.206532783', '5.251891422', '6.38220514', '4.889634195',\n",
       "       '6.272590601', '5.233232602'],\n",
       "      dtype='object', length=452)"
      ]
     },
     "execution_count": 27,
     "metadata": {},
     "output_type": "execute_result"
    }
   ],
   "source": [
    "df_test.columns\n"
   ]
  },
  {
   "cell_type": "code",
   "execution_count": 3,
   "id": "ce8b5fc9",
   "metadata": {},
   "outputs": [
    {
     "data": {
      "text/plain": [
       "(23561, 453)"
      ]
     },
     "execution_count": 3,
     "metadata": {},
     "output_type": "execute_result"
    }
   ],
   "source": [
    "df.shape"
   ]
  },
  {
   "cell_type": "code",
   "execution_count": null,
   "id": "1152f8d2",
   "metadata": {},
   "outputs": [],
   "source": []
  },
  {
   "cell_type": "code",
   "execution_count": 4,
   "id": "5ab73850",
   "metadata": {},
   "outputs": [],
   "source": [
    "import pyreadstat\n",
    "\n",
    "data, meta = pyreadstat.read_sav(\"../raw_data/FIRE3_Heike_set_new.sav\")"
   ]
  },
  {
   "cell_type": "code",
   "execution_count": 6,
   "id": "c9d6aa5c",
   "metadata": {},
   "outputs": [
    {
     "data": {
      "text/plain": [
       "(735, 37)"
      ]
     },
     "execution_count": 6,
     "metadata": {},
     "output_type": "execute_result"
    }
   ],
   "source": [
    "data.shape"
   ]
  },
  {
   "cell_type": "code",
   "execution_count": 5,
   "id": "a3d9007b",
   "metadata": {
    "scrolled": false
   },
   "outputs": [
    {
     "data": {
      "text/plain": [
       "Index(['study', 'pat_nr', 'CET1_REST0', 'arm', 'sex', 'age', 'ecog',\n",
       "       'skin_rash', 'MOL_SG', 'RNA_Probe', 'predictedCMS', 'nearestCMS',\n",
       "       'detaiL_primloc', 'primeloc_side', 'liver', 'lung', 'LKMETS',\n",
       "       'PERITONEAL', 'other', 'liver_only', 'no_organs', 'secresec', 'pfs',\n",
       "       'pfs_time_mo', 'os', 'os_time_mo', 'bor1', 'orr1', 'dpr1', 'ets_cat',\n",
       "       'SYNCH_META', 'PRIMARY_RES', 'RADIOVORHER', 'LK', 'AP', 'CTX_ADJ',\n",
       "       'filter_$'],\n",
       "      dtype='object')"
      ]
     },
     "execution_count": 5,
     "metadata": {},
     "output_type": "execute_result"
    }
   ],
   "source": [
    "data.columns"
   ]
  },
  {
   "cell_type": "code",
   "execution_count": null,
   "id": "e3b904cc",
   "metadata": {},
   "outputs": [],
   "source": []
  },
  {
   "cell_type": "code",
   "execution_count": 9,
   "id": "d3b2f807",
   "metadata": {},
   "outputs": [
    {
     "data": {
      "text/plain": [
       "0    1.0\n",
       "1    0.0\n",
       "2    0.0\n",
       "3    1.0\n",
       "4    1.0\n",
       "5    0.0\n",
       "6    0.0\n",
       "7    0.0\n",
       "8    1.0\n",
       "9    1.0\n",
       "Name: RNA_Probe, dtype: float64"
      ]
     },
     "execution_count": 9,
     "metadata": {},
     "output_type": "execute_result"
    }
   ],
   "source": [
    "data['RNA_Probe'][0:10]"
   ]
  },
  {
   "cell_type": "code",
   "execution_count": 12,
   "id": "de7c233d",
   "metadata": {},
   "outputs": [
    {
     "data": {
      "image/png": "[encoded data removed]",
      "text/plain": [
       "<Figure size 720x504 with 1 Axes>"
      ]
     },
     "metadata": {
      "needs_background": "light"
     },
     "output_type": "display_data"
    }
   ],
   "source": [
    "from matplotlib import pyplot as plt \n",
    "import numpy as np \n",
    "  \n",
    "  \n",
    "size = 2\n",
    "cars = ['Cetuximab', 'Bevacizumab'] \n",
    "  \n",
    "data = np.array([[109, 109],[220, 4]]) \n",
    "  \n",
    "norm = data / np.sum(data)*2 * np.pi \n",
    "  \n",
    "left = np.cumsum(np.append(0,  \n",
    "                           norm.flatten()[:-1])).reshape(data.shape) \n",
    "  \n",
    "cmap = plt.get_cmap(\"tab20c\") \n",
    "outer_colors = cmap(np.arange(6)*4) \n",
    "inner_colors = cmap(np.array([1, 2, 5, 6, 9, \n",
    "                              10, 12, 13, 15, \n",
    "                              17, 18, 20 ])) \n",
    "\n",
    "  \n",
    "fig, ax = plt.subplots(figsize =(10, 7), \n",
    "                       subplot_kw = dict(polar = True)) \n",
    "  \n",
    "ax.bar(x = left[:, 0], \n",
    "       width = norm.sum(axis = 1), \n",
    "       bottom = 1-size, \n",
    "       height = size, \n",
    "       color = outer_colors,  \n",
    "       edgecolor ='w', \n",
    "       linewidth = 1, \n",
    "       align =\"edge\") \n",
    "  \n",
    "ax.bar(x = left.flatten(), \n",
    "       width = norm.flatten(), \n",
    "       bottom = 1-2 * size, \n",
    "       height = size, \n",
    "       color = inner_colors, \n",
    "       edgecolor ='w', \n",
    "       linewidth = 1, \n",
    "       align =\"edge\") \n",
    "  \n",
    "ax.set(title =\"Nested pie chart\") \n",
    "ax.set_axis_off() \n",
    "  \n",
    "plt.show() "
   ]
  }
 ],
 "metadata": {
  "kernelspec": {
   "display_name": "Python 3 (ipykernel)",
   "language": "python",
   "name": "python3"
  },
  "language_info": {
   "codemirror_mode": {
    "name": "ipython",
    "version": 3
   },
   "file_extension": ".py",
   "mimetype": "text/x-python",
   "name": "python",
   "nbconvert_exporter": "python",
   "pygments_lexer": "ipython3",
   "version": "3.8.12"
  },
  "toc": {
   "base_numbering": 1,
   "nav_menu": {},
   "number_sections": true,
   "sideBar": true,
   "skip_h1_title": false,
   "title_cell": "Table of Contents",
   "title_sidebar": "Contents",
   "toc_cell": false,
   "toc_position": {},
   "toc_section_display": true,
   "toc_window_display": false
  }
 },
 "nbformat": 4,
 "nbformat_minor": 5
}
