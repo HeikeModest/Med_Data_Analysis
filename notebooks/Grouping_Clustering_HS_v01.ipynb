{
 "cells": [
  {
   "cell_type": "markdown",
   "id": "77a25bcb",
   "metadata": {},
   "source": [
    "# Grouping and Clustering of immune cells"
   ]
  },
  {
   "cell_type": "markdown",
   "id": "8fda3d45",
   "metadata": {},
   "source": [
    "## Finding the coefficients through Linear Regression"
   ]
  },
  {
   "cell_type": "code",
   "execution_count": 1,
   "id": "8e697c1b",
   "metadata": {},
   "outputs": [],
   "source": [
    "import pandas as pd"
   ]
  },
  {
   "cell_type": "code",
   "execution_count": 2,
   "id": "477d60a6",
   "metadata": {},
   "outputs": [
    {
     "data": {
      "text/html": [
       "<div>\n",
       "<style scoped>\n",
       "    .dataframe tbody tr th:only-of-type {\n",
       "        vertical-align: middle;\n",
       "    }\n",
       "\n",
       "    .dataframe tbody tr th {\n",
       "        vertical-align: top;\n",
       "    }\n",
       "\n",
       "    .dataframe thead th {\n",
       "        text-align: right;\n",
       "    }\n",
       "</style>\n",
       "<table border=\"1\" class=\"dataframe\">\n",
       "  <thead>\n",
       "    <tr style=\"text-align: right;\">\n",
       "      <th></th>\n",
       "      <th>pat_nr</th>\n",
       "      <th>B cells naive</th>\n",
       "      <th>B cells memory</th>\n",
       "      <th>Plasma cells</th>\n",
       "      <th>T cells CD8</th>\n",
       "      <th>T cells CD4 naive</th>\n",
       "      <th>T cells CD4 memory resting</th>\n",
       "      <th>T cells CD4 memory activated</th>\n",
       "      <th>T cells follicular helper</th>\n",
       "      <th>T cells regulatory (Tregs)</th>\n",
       "      <th>...</th>\n",
       "      <th>Dendritic cells resting</th>\n",
       "      <th>Dendritic cells activated</th>\n",
       "      <th>Mast cells resting</th>\n",
       "      <th>Mast cells activated</th>\n",
       "      <th>Eosinophils</th>\n",
       "      <th>Neutrophils</th>\n",
       "      <th>P-value</th>\n",
       "      <th>sex</th>\n",
       "      <th>age</th>\n",
       "      <th>skin_rash</th>\n",
       "    </tr>\n",
       "  </thead>\n",
       "  <tbody>\n",
       "    <tr>\n",
       "      <th>0</th>\n",
       "      <td>9</td>\n",
       "      <td>0.067346</td>\n",
       "      <td>0.000000</td>\n",
       "      <td>0.097330</td>\n",
       "      <td>0.072327</td>\n",
       "      <td>0.0</td>\n",
       "      <td>0.168887</td>\n",
       "      <td>0.000000</td>\n",
       "      <td>0.002431</td>\n",
       "      <td>0.067972</td>\n",
       "      <td>...</td>\n",
       "      <td>0.071104</td>\n",
       "      <td>0.000000</td>\n",
       "      <td>0.0</td>\n",
       "      <td>0.188876</td>\n",
       "      <td>0.000000</td>\n",
       "      <td>0.074924</td>\n",
       "      <td>0.004</td>\n",
       "      <td>1.0</td>\n",
       "      <td>61.0</td>\n",
       "      <td>1.0</td>\n",
       "    </tr>\n",
       "    <tr>\n",
       "      <th>1</th>\n",
       "      <td>10</td>\n",
       "      <td>0.000000</td>\n",
       "      <td>0.000000</td>\n",
       "      <td>0.105039</td>\n",
       "      <td>0.066233</td>\n",
       "      <td>0.0</td>\n",
       "      <td>0.249715</td>\n",
       "      <td>0.074691</td>\n",
       "      <td>0.035303</td>\n",
       "      <td>0.085112</td>\n",
       "      <td>...</td>\n",
       "      <td>0.000000</td>\n",
       "      <td>0.009239</td>\n",
       "      <td>0.0</td>\n",
       "      <td>0.134230</td>\n",
       "      <td>0.000000</td>\n",
       "      <td>0.070198</td>\n",
       "      <td>0.024</td>\n",
       "      <td>1.0</td>\n",
       "      <td>74.0</td>\n",
       "      <td>1.0</td>\n",
       "    </tr>\n",
       "    <tr>\n",
       "      <th>2</th>\n",
       "      <td>12</td>\n",
       "      <td>0.065798</td>\n",
       "      <td>0.000000</td>\n",
       "      <td>0.118399</td>\n",
       "      <td>0.111458</td>\n",
       "      <td>0.0</td>\n",
       "      <td>0.281396</td>\n",
       "      <td>0.000000</td>\n",
       "      <td>0.000000</td>\n",
       "      <td>0.069544</td>\n",
       "      <td>...</td>\n",
       "      <td>0.024802</td>\n",
       "      <td>0.000000</td>\n",
       "      <td>0.0</td>\n",
       "      <td>0.086495</td>\n",
       "      <td>0.032828</td>\n",
       "      <td>0.051155</td>\n",
       "      <td>0.002</td>\n",
       "      <td>1.0</td>\n",
       "      <td>73.0</td>\n",
       "      <td>1.0</td>\n",
       "    </tr>\n",
       "    <tr>\n",
       "      <th>3</th>\n",
       "      <td>15</td>\n",
       "      <td>0.010223</td>\n",
       "      <td>0.000000</td>\n",
       "      <td>0.186072</td>\n",
       "      <td>0.193724</td>\n",
       "      <td>0.0</td>\n",
       "      <td>0.283032</td>\n",
       "      <td>0.000000</td>\n",
       "      <td>0.000000</td>\n",
       "      <td>0.144012</td>\n",
       "      <td>...</td>\n",
       "      <td>0.000000</td>\n",
       "      <td>0.000000</td>\n",
       "      <td>0.0</td>\n",
       "      <td>0.081489</td>\n",
       "      <td>0.000000</td>\n",
       "      <td>0.004522</td>\n",
       "      <td>0.034</td>\n",
       "      <td>1.0</td>\n",
       "      <td>68.0</td>\n",
       "      <td>1.0</td>\n",
       "    </tr>\n",
       "    <tr>\n",
       "      <th>4</th>\n",
       "      <td>16</td>\n",
       "      <td>0.000000</td>\n",
       "      <td>0.013582</td>\n",
       "      <td>0.056297</td>\n",
       "      <td>0.080645</td>\n",
       "      <td>0.0</td>\n",
       "      <td>0.336947</td>\n",
       "      <td>0.000000</td>\n",
       "      <td>0.035983</td>\n",
       "      <td>0.057663</td>\n",
       "      <td>...</td>\n",
       "      <td>0.079572</td>\n",
       "      <td>0.010232</td>\n",
       "      <td>0.0</td>\n",
       "      <td>0.045427</td>\n",
       "      <td>0.000000</td>\n",
       "      <td>0.095906</td>\n",
       "      <td>0.022</td>\n",
       "      <td>1.0</td>\n",
       "      <td>42.0</td>\n",
       "      <td>1.0</td>\n",
       "    </tr>\n",
       "  </tbody>\n",
       "</table>\n",
       "<p>5 rows × 27 columns</p>\n",
       "</div>"
      ],
      "text/plain": [
       "   pat_nr  B cells naive  B cells memory  Plasma cells  T cells CD8  \\\n",
       "0       9       0.067346        0.000000      0.097330     0.072327   \n",
       "1      10       0.000000        0.000000      0.105039     0.066233   \n",
       "2      12       0.065798        0.000000      0.118399     0.111458   \n",
       "3      15       0.010223        0.000000      0.186072     0.193724   \n",
       "4      16       0.000000        0.013582      0.056297     0.080645   \n",
       "\n",
       "   T cells CD4 naive  T cells CD4 memory resting  \\\n",
       "0                0.0                    0.168887   \n",
       "1                0.0                    0.249715   \n",
       "2                0.0                    0.281396   \n",
       "3                0.0                    0.283032   \n",
       "4                0.0                    0.336947   \n",
       "\n",
       "   T cells CD4 memory activated  T cells follicular helper  \\\n",
       "0                      0.000000                   0.002431   \n",
       "1                      0.074691                   0.035303   \n",
       "2                      0.000000                   0.000000   \n",
       "3                      0.000000                   0.000000   \n",
       "4                      0.000000                   0.035983   \n",
       "\n",
       "   T cells regulatory (Tregs)  ...  Dendritic cells resting  \\\n",
       "0                    0.067972  ...                 0.071104   \n",
       "1                    0.085112  ...                 0.000000   \n",
       "2                    0.069544  ...                 0.024802   \n",
       "3                    0.144012  ...                 0.000000   \n",
       "4                    0.057663  ...                 0.079572   \n",
       "\n",
       "   Dendritic cells activated  Mast cells resting  Mast cells activated  \\\n",
       "0                   0.000000                 0.0              0.188876   \n",
       "1                   0.009239                 0.0              0.134230   \n",
       "2                   0.000000                 0.0              0.086495   \n",
       "3                   0.000000                 0.0              0.081489   \n",
       "4                   0.010232                 0.0              0.045427   \n",
       "\n",
       "   Eosinophils  Neutrophils  P-value  sex   age  skin_rash  \n",
       "0     0.000000     0.074924    0.004  1.0  61.0        1.0  \n",
       "1     0.000000     0.070198    0.024  1.0  74.0        1.0  \n",
       "2     0.032828     0.051155    0.002  1.0  73.0        1.0  \n",
       "3     0.000000     0.004522    0.034  1.0  68.0        1.0  \n",
       "4     0.000000     0.095906    0.022  1.0  42.0        1.0  \n",
       "\n",
       "[5 rows x 27 columns]"
      ]
     },
     "execution_count": 2,
     "metadata": {},
     "output_type": "execute_result"
    }
   ],
   "source": [
    "cetux = pd.read_csv(\"../raw_data/cetux.csv\")\n",
    "cetux.head()"
   ]
  },
  {
   "cell_type": "code",
   "execution_count": 86,
   "id": "d3a8bff4",
   "metadata": {},
   "outputs": [
    {
     "data": {
      "text/plain": [
       "Index(['pat_nr', 'B cells naive', 'B cells memory', 'Plasma cells',\n",
       "       'T cells CD8', 'T cells CD4 naive', 'T cells CD4 memory resting',\n",
       "       'T cells CD4 memory activated', 'T cells follicular helper',\n",
       "       'T cells regulatory (Tregs)', 'T cells gamma delta', 'NK cells resting',\n",
       "       'NK cells activated', 'Monocytes', 'Macrophages M0', 'Macrophages M1',\n",
       "       'Macrophages M2', 'Dendritic cells resting',\n",
       "       'Dendritic cells activated', 'Mast cells resting',\n",
       "       'Mast cells activated', 'Eosinophils', 'Neutrophils', 'P-value', 'sex',\n",
       "       'age', 'skin_rash', 'group_1', 'group_2', 'group_3', 'group_4',\n",
       "       'group_5', 'group_6', 'group_7', 'group_8', 'group_9', 'group_10',\n",
       "       'group_11'],\n",
       "      dtype='object')"
      ]
     },
     "execution_count": 86,
     "metadata": {},
     "output_type": "execute_result"
    }
   ],
   "source": [
    "cetux.columns"
   ]
  },
  {
   "cell_type": "code",
   "execution_count": 3,
   "id": "cd747eda",
   "metadata": {
    "collapsed": true
   },
   "outputs": [],
   "source": [
    "X=cetux.drop(columns=[\"pat_nr\",\"P-value\",\"sex\",\"age\",\"skin_rash\"])\n",
    "y=cetux[\"skin_rash\"]"
   ]
  },
  {
   "cell_type": "code",
   "execution_count": 4,
   "id": "d19ad853",
   "metadata": {},
   "outputs": [],
   "source": [
    "from sklearn.model_selection import train_test_split\n",
    "X_train, X_test, y_train, y_test = train_test_split(X, y,\n",
    "                                                    test_size = 0.25, \n",
    "                                                    random_state = 6)"
   ]
  },
  {
   "cell_type": "code",
   "execution_count": 5,
   "id": "19742977",
   "metadata": {},
   "outputs": [
    {
     "data": {
      "text/html": [
       "<div>\n",
       "<style scoped>\n",
       "    .dataframe tbody tr th:only-of-type {\n",
       "        vertical-align: middle;\n",
       "    }\n",
       "\n",
       "    .dataframe tbody tr th {\n",
       "        vertical-align: top;\n",
       "    }\n",
       "\n",
       "    .dataframe thead th {\n",
       "        text-align: right;\n",
       "    }\n",
       "</style>\n",
       "<table border=\"1\" class=\"dataframe\">\n",
       "  <thead>\n",
       "    <tr style=\"text-align: right;\">\n",
       "      <th></th>\n",
       "      <th>fit_time</th>\n",
       "      <th>score_time</th>\n",
       "      <th>test_accuracy</th>\n",
       "      <th>test_recall</th>\n",
       "      <th>test_precision</th>\n",
       "      <th>test_f1</th>\n",
       "    </tr>\n",
       "  </thead>\n",
       "  <tbody>\n",
       "    <tr>\n",
       "      <th>0</th>\n",
       "      <td>0.003996</td>\n",
       "      <td>0.004199</td>\n",
       "      <td>0.588235</td>\n",
       "      <td>0.625000</td>\n",
       "      <td>0.555556</td>\n",
       "      <td>0.588235</td>\n",
       "    </tr>\n",
       "    <tr>\n",
       "      <th>1</th>\n",
       "      <td>0.005669</td>\n",
       "      <td>0.010424</td>\n",
       "      <td>0.588235</td>\n",
       "      <td>0.500000</td>\n",
       "      <td>0.571429</td>\n",
       "      <td>0.533333</td>\n",
       "    </tr>\n",
       "    <tr>\n",
       "      <th>2</th>\n",
       "      <td>0.008454</td>\n",
       "      <td>0.009290</td>\n",
       "      <td>0.294118</td>\n",
       "      <td>0.500000</td>\n",
       "      <td>0.333333</td>\n",
       "      <td>0.400000</td>\n",
       "    </tr>\n",
       "    <tr>\n",
       "      <th>3</th>\n",
       "      <td>0.007562</td>\n",
       "      <td>0.008828</td>\n",
       "      <td>0.562500</td>\n",
       "      <td>0.500000</td>\n",
       "      <td>0.571429</td>\n",
       "      <td>0.533333</td>\n",
       "    </tr>\n",
       "    <tr>\n",
       "      <th>4</th>\n",
       "      <td>0.007361</td>\n",
       "      <td>0.008935</td>\n",
       "      <td>0.562500</td>\n",
       "      <td>0.500000</td>\n",
       "      <td>0.571429</td>\n",
       "      <td>0.533333</td>\n",
       "    </tr>\n",
       "    <tr>\n",
       "      <th>5</th>\n",
       "      <td>0.005999</td>\n",
       "      <td>0.005158</td>\n",
       "      <td>0.437500</td>\n",
       "      <td>0.375000</td>\n",
       "      <td>0.428571</td>\n",
       "      <td>0.400000</td>\n",
       "    </tr>\n",
       "    <tr>\n",
       "      <th>6</th>\n",
       "      <td>0.003811</td>\n",
       "      <td>0.004284</td>\n",
       "      <td>0.437500</td>\n",
       "      <td>0.625000</td>\n",
       "      <td>0.454545</td>\n",
       "      <td>0.526316</td>\n",
       "    </tr>\n",
       "    <tr>\n",
       "      <th>7</th>\n",
       "      <td>0.003587</td>\n",
       "      <td>0.003660</td>\n",
       "      <td>0.312500</td>\n",
       "      <td>0.428571</td>\n",
       "      <td>0.300000</td>\n",
       "      <td>0.352941</td>\n",
       "    </tr>\n",
       "    <tr>\n",
       "      <th>8</th>\n",
       "      <td>0.003277</td>\n",
       "      <td>0.003862</td>\n",
       "      <td>0.625000</td>\n",
       "      <td>0.428571</td>\n",
       "      <td>0.600000</td>\n",
       "      <td>0.500000</td>\n",
       "    </tr>\n",
       "    <tr>\n",
       "      <th>9</th>\n",
       "      <td>0.003508</td>\n",
       "      <td>0.003697</td>\n",
       "      <td>0.562500</td>\n",
       "      <td>0.571429</td>\n",
       "      <td>0.500000</td>\n",
       "      <td>0.533333</td>\n",
       "    </tr>\n",
       "  </tbody>\n",
       "</table>\n",
       "</div>"
      ],
      "text/plain": [
       "   fit_time  score_time  test_accuracy  test_recall  test_precision   test_f1\n",
       "0  0.003996    0.004199       0.588235     0.625000        0.555556  0.588235\n",
       "1  0.005669    0.010424       0.588235     0.500000        0.571429  0.533333\n",
       "2  0.008454    0.009290       0.294118     0.500000        0.333333  0.400000\n",
       "3  0.007562    0.008828       0.562500     0.500000        0.571429  0.533333\n",
       "4  0.007361    0.008935       0.562500     0.500000        0.571429  0.533333\n",
       "5  0.005999    0.005158       0.437500     0.375000        0.428571  0.400000\n",
       "6  0.003811    0.004284       0.437500     0.625000        0.454545  0.526316\n",
       "7  0.003587    0.003660       0.312500     0.428571        0.300000  0.352941\n",
       "8  0.003277    0.003862       0.625000     0.428571        0.600000  0.500000\n",
       "9  0.003508    0.003697       0.562500     0.571429        0.500000  0.533333"
      ]
     },
     "execution_count": 5,
     "metadata": {},
     "output_type": "execute_result"
    }
   ],
   "source": [
    "from sklearn.linear_model import LogisticRegression\n",
    "from sklearn.model_selection import cross_validate\n",
    "\n",
    "model = LogisticRegression(class_weight='balanced')\n",
    "\n",
    "cv_results = cross_validate(model, X_train, y_train, cv=10, scoring=[\"accuracy\",\"recall\",\"precision\",\"f1\"])\n",
    "pd.DataFrame(cv_results)"
   ]
  },
  {
   "cell_type": "code",
   "execution_count": 6,
   "id": "904e88a1",
   "metadata": {},
   "outputs": [
    {
     "data": {
      "text/plain": [
       "0.4970588235294118"
      ]
     },
     "execution_count": 6,
     "metadata": {},
     "output_type": "execute_result"
    }
   ],
   "source": [
    "cv_results['test_accuracy'].mean()"
   ]
  },
  {
   "cell_type": "code",
   "execution_count": 7,
   "id": "421a524b",
   "metadata": {},
   "outputs": [
    {
     "name": "stderr",
     "output_type": "stream",
     "text": [
      "/home/henry/.pyenv/versions/3.8.12/envs/health/lib/python3.8/site-packages/sklearn/utils/deprecation.py:87: FutureWarning: Function plot_confusion_matrix is deprecated; Function `plot_confusion_matrix` is deprecated in 1.0 and will be removed in 1.2. Use one of the class methods: ConfusionMatrixDisplay.from_predictions or ConfusionMatrixDisplay.from_estimator.\n",
      "  warnings.warn(msg, category=FutureWarning)\n"
     ]
    },
    {
     "data": {
      "text/plain": [
       "<sklearn.metrics._plot.confusion_matrix.ConfusionMatrixDisplay at 0x7f7773508be0>"
      ]
     },
     "execution_count": 7,
     "metadata": {},
     "output_type": "execute_result"
    },
    {
     "data": {
      "image/png": "[encoded data removed]",
      "text/plain": [
       "<Figure size 432x288 with 2 Axes>"
      ]
     },
     "metadata": {
      "needs_background": "light"
     },
     "output_type": "display_data"
    }
   ],
   "source": [
    "from sklearn.metrics import plot_confusion_matrix\n",
    "\n",
    "model=model.fit(X,y)\n",
    "plot_confusion_matrix(model,X,y)"
   ]
  },
  {
   "cell_type": "markdown",
   "id": "8eb8081c",
   "metadata": {},
   "source": [
    "## Sorted by Coefficients"
   ]
  },
  {
   "cell_type": "code",
   "execution_count": 8,
   "id": "059b0d99",
   "metadata": {},
   "outputs": [
    {
     "data": {
      "text/plain": [
       "{'Macrophages M2': -1.0281205932253696,\n",
       " 'Mast cells resting': -0.27996281030719167,\n",
       " 'Macrophages M1': -0.25265729897547745,\n",
       " 'T cells CD4 memory activated': -0.24604071981271972,\n",
       " 'T cells CD8': -0.11293915693691195,\n",
       " 'T cells CD4 memory resting': -0.0986085243857368,\n",
       " 'NK cells activated': -0.09794740247420039,\n",
       " 'Monocytes': -0.08440210927735183,\n",
       " 'T cells regulatory (Tregs)': -0.048966732359054035,\n",
       " 'Eosinophils': -0.000963835020026385,\n",
       " 'T cells CD4 naive': -0.0005777683753863841,\n",
       " 'T cells gamma delta': 0.0025638234104555803,\n",
       " 'NK cells resting': 0.014608800164683135,\n",
       " 'B cells naive': 0.02657539116906823,\n",
       " 'Dendritic cells activated': 0.056652351355285596,\n",
       " 'Mast cells activated': 0.08845727998754241,\n",
       " 'B cells memory': 0.10038235693175533,\n",
       " 'Dendritic cells resting': 0.14204039503716995,\n",
       " 'T cells follicular helper': 0.2768019895396375,\n",
       " 'Macrophages M0': 0.4959045041303684,\n",
       " 'Neutrophils': 0.5066387373395576,\n",
       " 'Plasma cells': 0.5410445447030392}"
      ]
     },
     "execution_count": 8,
     "metadata": {},
     "output_type": "execute_result"
    }
   ],
   "source": [
    "coef=model.coef_[0]\n",
    "dicc=dict()\n",
    "for i in range(len(list(X))):\n",
    "    dicc[list(X)[i]]=coef[i]\n",
    "dicc\n",
    "\n",
    "dic=dict(sorted(dicc.items(), key=lambda item: item[1]))\n",
    "dic"
   ]
  },
  {
   "cell_type": "markdown",
   "id": "aab70481",
   "metadata": {},
   "source": [
    "Positively correlated:\n",
    "- 'T cells follicular helper': 0.2768019895396375\n",
    "- 'Macrophages M0': 0.4959045041303684\n",
    "- 'Neutrophils': 0.5066387373395576\n",
    "- 'Plasma cells': 0.5410445447030392\n",
    " \n",
    "Negatively correlated: \n",
    "- 'Macrophages M2': -1.0281205932253696\n",
    "- 'Mast cells resting': -0.27996281030719167\n",
    "- 'Macrophages M1': -0.25265729897547745\n",
    "- 'T cells CD4 memory activated': -0.24604071981271972"
   ]
  },
  {
   "cell_type": "markdown",
   "id": "3d3b8c74",
   "metadata": {},
   "source": [
    "## Linear Regression new p-values"
   ]
  },
  {
   "cell_type": "code",
   "execution_count": 9,
   "id": "e8553ee1",
   "metadata": {},
   "outputs": [],
   "source": [
    "cetux_new_p = cetux[cetux['P-value'] <= 0.05]"
   ]
  },
  {
   "cell_type": "code",
   "execution_count": 10,
   "id": "df00abac",
   "metadata": {},
   "outputs": [
    {
     "data": {
      "text/plain": [
       "(163, 27)"
      ]
     },
     "execution_count": 10,
     "metadata": {},
     "output_type": "execute_result"
    }
   ],
   "source": [
    "cetux_new_p.shape"
   ]
  },
  {
   "cell_type": "code",
   "execution_count": 11,
   "id": "73ac960c",
   "metadata": {},
   "outputs": [],
   "source": [
    "X=cetux_new_p.drop(columns=[\"pat_nr\",\"P-value\",\"sex\",\"age\",\"skin_rash\"])\n",
    "y=cetux_new_p[\"skin_rash\"]"
   ]
  },
  {
   "cell_type": "code",
   "execution_count": 12,
   "id": "28e57a89",
   "metadata": {},
   "outputs": [],
   "source": [
    "X_train_new_p, X_test_new_p, y_train_new_p, y_test_new_p = train_test_split(X, y,\n",
    "                                                    test_size = 0.25, \n",
    "                                                    random_state = 6)"
   ]
  },
  {
   "cell_type": "code",
   "execution_count": 13,
   "id": "0029915f",
   "metadata": {},
   "outputs": [
    {
     "data": {
      "text/html": [
       "<div>\n",
       "<style scoped>\n",
       "    .dataframe tbody tr th:only-of-type {\n",
       "        vertical-align: middle;\n",
       "    }\n",
       "\n",
       "    .dataframe tbody tr th {\n",
       "        vertical-align: top;\n",
       "    }\n",
       "\n",
       "    .dataframe thead th {\n",
       "        text-align: right;\n",
       "    }\n",
       "</style>\n",
       "<table border=\"1\" class=\"dataframe\">\n",
       "  <thead>\n",
       "    <tr style=\"text-align: right;\">\n",
       "      <th></th>\n",
       "      <th>fit_time</th>\n",
       "      <th>score_time</th>\n",
       "      <th>test_accuracy</th>\n",
       "      <th>test_recall</th>\n",
       "      <th>test_precision</th>\n",
       "      <th>test_f1</th>\n",
       "    </tr>\n",
       "  </thead>\n",
       "  <tbody>\n",
       "    <tr>\n",
       "      <th>0</th>\n",
       "      <td>0.007210</td>\n",
       "      <td>0.005535</td>\n",
       "      <td>0.538462</td>\n",
       "      <td>0.333333</td>\n",
       "      <td>0.500000</td>\n",
       "      <td>0.400000</td>\n",
       "    </tr>\n",
       "    <tr>\n",
       "      <th>1</th>\n",
       "      <td>0.004234</td>\n",
       "      <td>0.005939</td>\n",
       "      <td>0.769231</td>\n",
       "      <td>0.666667</td>\n",
       "      <td>0.800000</td>\n",
       "      <td>0.727273</td>\n",
       "    </tr>\n",
       "    <tr>\n",
       "      <th>2</th>\n",
       "      <td>0.005666</td>\n",
       "      <td>0.004683</td>\n",
       "      <td>0.416667</td>\n",
       "      <td>0.400000</td>\n",
       "      <td>0.333333</td>\n",
       "      <td>0.363636</td>\n",
       "    </tr>\n",
       "    <tr>\n",
       "      <th>3</th>\n",
       "      <td>0.003891</td>\n",
       "      <td>0.004470</td>\n",
       "      <td>0.750000</td>\n",
       "      <td>0.400000</td>\n",
       "      <td>1.000000</td>\n",
       "      <td>0.571429</td>\n",
       "    </tr>\n",
       "    <tr>\n",
       "      <th>4</th>\n",
       "      <td>0.004036</td>\n",
       "      <td>0.005014</td>\n",
       "      <td>0.500000</td>\n",
       "      <td>0.600000</td>\n",
       "      <td>0.428571</td>\n",
       "      <td>0.500000</td>\n",
       "    </tr>\n",
       "    <tr>\n",
       "      <th>5</th>\n",
       "      <td>0.003823</td>\n",
       "      <td>0.004636</td>\n",
       "      <td>0.666667</td>\n",
       "      <td>0.666667</td>\n",
       "      <td>0.666667</td>\n",
       "      <td>0.666667</td>\n",
       "    </tr>\n",
       "    <tr>\n",
       "      <th>6</th>\n",
       "      <td>0.003870</td>\n",
       "      <td>0.004287</td>\n",
       "      <td>0.583333</td>\n",
       "      <td>0.333333</td>\n",
       "      <td>0.666667</td>\n",
       "      <td>0.444444</td>\n",
       "    </tr>\n",
       "    <tr>\n",
       "      <th>7</th>\n",
       "      <td>0.003830</td>\n",
       "      <td>0.004666</td>\n",
       "      <td>0.500000</td>\n",
       "      <td>0.333333</td>\n",
       "      <td>0.500000</td>\n",
       "      <td>0.400000</td>\n",
       "    </tr>\n",
       "    <tr>\n",
       "      <th>8</th>\n",
       "      <td>0.003704</td>\n",
       "      <td>0.004328</td>\n",
       "      <td>0.583333</td>\n",
       "      <td>0.666667</td>\n",
       "      <td>0.571429</td>\n",
       "      <td>0.615385</td>\n",
       "    </tr>\n",
       "    <tr>\n",
       "      <th>9</th>\n",
       "      <td>0.003775</td>\n",
       "      <td>0.004226</td>\n",
       "      <td>0.666667</td>\n",
       "      <td>0.666667</td>\n",
       "      <td>0.666667</td>\n",
       "      <td>0.666667</td>\n",
       "    </tr>\n",
       "  </tbody>\n",
       "</table>\n",
       "</div>"
      ],
      "text/plain": [
       "   fit_time  score_time  test_accuracy  test_recall  test_precision   test_f1\n",
       "0  0.007210    0.005535       0.538462     0.333333        0.500000  0.400000\n",
       "1  0.004234    0.005939       0.769231     0.666667        0.800000  0.727273\n",
       "2  0.005666    0.004683       0.416667     0.400000        0.333333  0.363636\n",
       "3  0.003891    0.004470       0.750000     0.400000        1.000000  0.571429\n",
       "4  0.004036    0.005014       0.500000     0.600000        0.428571  0.500000\n",
       "5  0.003823    0.004636       0.666667     0.666667        0.666667  0.666667\n",
       "6  0.003870    0.004287       0.583333     0.333333        0.666667  0.444444\n",
       "7  0.003830    0.004666       0.500000     0.333333        0.500000  0.400000\n",
       "8  0.003704    0.004328       0.583333     0.666667        0.571429  0.615385\n",
       "9  0.003775    0.004226       0.666667     0.666667        0.666667  0.666667"
      ]
     },
     "execution_count": 13,
     "metadata": {},
     "output_type": "execute_result"
    }
   ],
   "source": [
    "model_new = LogisticRegression(class_weight='balanced')\n",
    "\n",
    "cv_results = cross_validate(model_new, X_train_new_p, y_train_new_p, cv=10, scoring=[\"accuracy\",\"recall\",\"precision\",\"f1\"])\n",
    "pd.DataFrame(cv_results)"
   ]
  },
  {
   "cell_type": "code",
   "execution_count": 14,
   "id": "9ec50a07",
   "metadata": {},
   "outputs": [
    {
     "data": {
      "text/plain": [
       "0.5974358974358974"
      ]
     },
     "execution_count": 14,
     "metadata": {},
     "output_type": "execute_result"
    }
   ],
   "source": [
    "cv_results['test_accuracy'].mean()"
   ]
  },
  {
   "cell_type": "code",
   "execution_count": 15,
   "id": "27e1dc29",
   "metadata": {},
   "outputs": [
    {
     "name": "stderr",
     "output_type": "stream",
     "text": [
      "/home/henry/.pyenv/versions/3.8.12/envs/health/lib/python3.8/site-packages/sklearn/utils/deprecation.py:87: FutureWarning: Function plot_confusion_matrix is deprecated; Function `plot_confusion_matrix` is deprecated in 1.0 and will be removed in 1.2. Use one of the class methods: ConfusionMatrixDisplay.from_predictions or ConfusionMatrixDisplay.from_estimator.\n",
      "  warnings.warn(msg, category=FutureWarning)\n"
     ]
    },
    {
     "data": {
      "text/plain": [
       "<sklearn.metrics._plot.confusion_matrix.ConfusionMatrixDisplay at 0x7f776f5245e0>"
      ]
     },
     "execution_count": 15,
     "metadata": {},
     "output_type": "execute_result"
    },
    {
     "data": {
      "image/png": "[encoded data removed]",
      "text/plain": [
       "<Figure size 432x288 with 2 Axes>"
      ]
     },
     "metadata": {
      "needs_background": "light"
     },
     "output_type": "display_data"
    }
   ],
   "source": [
    "model=model_new.fit(X,y)\n",
    "plot_confusion_matrix(model,X,y)"
   ]
  },
  {
   "cell_type": "code",
   "execution_count": 16,
   "id": "dddc5332",
   "metadata": {},
   "outputs": [
    {
     "data": {
      "text/plain": [
       "{'Macrophages M2': -0.7802190689926078,\n",
       " 'T cells CD4 memory activated': -0.3248436219911495,\n",
       " 'Mast cells resting': -0.2901943111687133,\n",
       " 'Macrophages M1': -0.28260031212175435,\n",
       " 'T cells CD4 memory resting': -0.12312289595880294,\n",
       " 'NK cells activated': -0.07654199521268916,\n",
       " 'T cells CD8': -0.05794294218869934,\n",
       " 'NK cells resting': -0.050029133059303996,\n",
       " 'T cells regulatory (Tregs)': -0.05000791460960443,\n",
       " 'Monocytes': -0.046737775610988214,\n",
       " 'T cells CD4 naive': -0.0004892307746690806,\n",
       " 'Eosinophils': 0.003728926176864529,\n",
       " 'Dendritic cells resting': 0.04592997079828918,\n",
       " 'T cells gamma delta': 0.05995540090166914,\n",
       " 'Dendritic cells activated': 0.06951327767067968,\n",
       " 'Mast cells activated': 0.09258245304175734,\n",
       " 'B cells memory': 0.10378583112808439,\n",
       " 'Macrophages M0': 0.12114801579523894,\n",
       " 'B cells naive': 0.1855539321245238,\n",
       " 'T cells follicular helper': 0.3549119214882749,\n",
       " 'Plasma cells': 0.509581127044486,\n",
       " 'Neutrophils': 0.5362771461577228}"
      ]
     },
     "execution_count": 16,
     "metadata": {},
     "output_type": "execute_result"
    }
   ],
   "source": [
    "coef=model_new.coef_[0]\n",
    "dicc=dict()\n",
    "for i in range(len(list(X))):\n",
    "    dicc[list(X)[i]]=coef[i]\n",
    "dicc\n",
    "\n",
    "dic=dict(sorted(dicc.items(), key=lambda item: item[1]))\n",
    "dic"
   ]
  },
  {
   "cell_type": "markdown",
   "id": "deeb98d3",
   "metadata": {},
   "source": [
    "# Grouping"
   ]
  },
  {
   "cell_type": "code",
   "execution_count": 17,
   "id": "28e3afea",
   "metadata": {},
   "outputs": [],
   "source": [
    "cetux['group_1'] = cetux['Neutrophils'] + cetux['Plasma cells']"
   ]
  },
  {
   "cell_type": "code",
   "execution_count": 18,
   "id": "7560e234",
   "metadata": {},
   "outputs": [],
   "source": [
    "cetux['group_2'] = cetux['T cells follicular helper'] + cetux['B cells naive']"
   ]
  },
  {
   "cell_type": "code",
   "execution_count": 19,
   "id": "bdd34816",
   "metadata": {},
   "outputs": [],
   "source": [
    "cetux['group_3'] = cetux['Macrophages M0'] + cetux['B cells memory']"
   ]
  },
  {
   "cell_type": "code",
   "execution_count": 20,
   "id": "e647f2d3",
   "metadata": {},
   "outputs": [],
   "source": [
    "cetux['group_4'] = cetux['Dendritic cells activated'] + cetux['Mast cells activated']"
   ]
  },
  {
   "cell_type": "code",
   "execution_count": 21,
   "id": "eba5536f",
   "metadata": {},
   "outputs": [],
   "source": [
    "cetux['group_5'] = cetux['T cells gamma delta'] + cetux['Dendritic cells resting']"
   ]
  },
  {
   "cell_type": "code",
   "execution_count": 22,
   "id": "91a0bf64",
   "metadata": {},
   "outputs": [],
   "source": [
    "cetux['group_6'] = cetux['Eosinophils'] + cetux['T cells CD4 naive']"
   ]
  },
  {
   "cell_type": "code",
   "execution_count": 23,
   "id": "a4f4d8c9",
   "metadata": {},
   "outputs": [],
   "source": [
    "cetux['group_7'] = cetux['Monocytes'] + cetux['T cells regulatory (Tregs)']"
   ]
  },
  {
   "cell_type": "code",
   "execution_count": 24,
   "id": "3b896eff",
   "metadata": {},
   "outputs": [],
   "source": [
    "cetux['group_8'] = cetux['NK cells resting'] + cetux['T cells CD8']"
   ]
  },
  {
   "cell_type": "code",
   "execution_count": 25,
   "id": "7e156104",
   "metadata": {},
   "outputs": [],
   "source": [
    "cetux['group_9'] = cetux['NK cells activated'] + cetux['T cells CD4 memory resting']"
   ]
  },
  {
   "cell_type": "code",
   "execution_count": 26,
   "id": "740dfe1e",
   "metadata": {},
   "outputs": [],
   "source": [
    "cetux['group_10'] = cetux['Macrophages M1'] + cetux['Mast cells resting']"
   ]
  },
  {
   "cell_type": "code",
   "execution_count": 27,
   "id": "d38aba86",
   "metadata": {},
   "outputs": [],
   "source": [
    "cetux['group_11'] = cetux['Macrophages M2'] + cetux['T cells CD4 memory activated']"
   ]
  },
  {
   "cell_type": "code",
   "execution_count": 28,
   "id": "5ef6af15",
   "metadata": {},
   "outputs": [
    {
     "data": {
      "text/plain": [
       "Index(['pat_nr', 'B cells naive', 'B cells memory', 'Plasma cells',\n",
       "       'T cells CD8', 'T cells CD4 naive', 'T cells CD4 memory resting',\n",
       "       'T cells CD4 memory activated', 'T cells follicular helper',\n",
       "       'T cells regulatory (Tregs)', 'T cells gamma delta', 'NK cells resting',\n",
       "       'NK cells activated', 'Monocytes', 'Macrophages M0', 'Macrophages M1',\n",
       "       'Macrophages M2', 'Dendritic cells resting',\n",
       "       'Dendritic cells activated', 'Mast cells resting',\n",
       "       'Mast cells activated', 'Eosinophils', 'Neutrophils', 'P-value', 'sex',\n",
       "       'age', 'skin_rash', 'group_1', 'group_2', 'group_3', 'group_4',\n",
       "       'group_5', 'group_6', 'group_7', 'group_8', 'group_9', 'group_10',\n",
       "       'group_11'],\n",
       "      dtype='object')"
      ]
     },
     "execution_count": 28,
     "metadata": {},
     "output_type": "execute_result"
    }
   ],
   "source": [
    "cetux.columns"
   ]
  },
  {
   "cell_type": "code",
   "execution_count": 29,
   "id": "37c55ef8",
   "metadata": {},
   "outputs": [],
   "source": [
    "cetux_group_2 = cetux.drop(['pat_nr', 'B cells naive', 'B cells memory', 'Plasma cells',\n",
    "       'T cells CD8', 'T cells CD4 naive', 'T cells CD4 memory resting',\n",
    "       'T cells CD4 memory activated', 'T cells follicular helper',\n",
    "       'T cells regulatory (Tregs)', 'T cells gamma delta', 'NK cells resting',\n",
    "       'NK cells activated', 'Monocytes', 'Macrophages M0', 'Macrophages M1',\n",
    "       'Macrophages M2', 'Dendritic cells resting',\n",
    "       'Dendritic cells activated', 'Mast cells resting',\n",
    "       'Mast cells activated', 'Eosinophils', 'Neutrophils', 'P-value', 'sex',\n",
    "       'age'], axis = 1)"
   ]
  },
  {
   "cell_type": "code",
   "execution_count": 30,
   "id": "ef36ced4",
   "metadata": {},
   "outputs": [
    {
     "data": {
      "text/html": [
       "<div>\n",
       "<style scoped>\n",
       "    .dataframe tbody tr th:only-of-type {\n",
       "        vertical-align: middle;\n",
       "    }\n",
       "\n",
       "    .dataframe tbody tr th {\n",
       "        vertical-align: top;\n",
       "    }\n",
       "\n",
       "    .dataframe thead th {\n",
       "        text-align: right;\n",
       "    }\n",
       "</style>\n",
       "<table border=\"1\" class=\"dataframe\">\n",
       "  <thead>\n",
       "    <tr style=\"text-align: right;\">\n",
       "      <th></th>\n",
       "      <th>skin_rash</th>\n",
       "      <th>group_1</th>\n",
       "      <th>group_2</th>\n",
       "      <th>group_3</th>\n",
       "      <th>group_4</th>\n",
       "      <th>group_5</th>\n",
       "      <th>group_6</th>\n",
       "      <th>group_7</th>\n",
       "      <th>group_8</th>\n",
       "      <th>group_9</th>\n",
       "      <th>group_10</th>\n",
       "      <th>group_11</th>\n",
       "    </tr>\n",
       "  </thead>\n",
       "  <tbody>\n",
       "    <tr>\n",
       "      <th>0</th>\n",
       "      <td>1.0</td>\n",
       "      <td>0.172254</td>\n",
       "      <td>0.069777</td>\n",
       "      <td>0.012340</td>\n",
       "      <td>0.188876</td>\n",
       "      <td>0.165827</td>\n",
       "      <td>0.000000</td>\n",
       "      <td>0.067972</td>\n",
       "      <td>0.072327</td>\n",
       "      <td>0.168887</td>\n",
       "      <td>0.061996</td>\n",
       "      <td>0.019745</td>\n",
       "    </tr>\n",
       "    <tr>\n",
       "      <th>1</th>\n",
       "      <td>1.0</td>\n",
       "      <td>0.175237</td>\n",
       "      <td>0.035303</td>\n",
       "      <td>0.000000</td>\n",
       "      <td>0.143469</td>\n",
       "      <td>0.000000</td>\n",
       "      <td>0.000000</td>\n",
       "      <td>0.116392</td>\n",
       "      <td>0.139562</td>\n",
       "      <td>0.249715</td>\n",
       "      <td>0.000000</td>\n",
       "      <td>0.140322</td>\n",
       "    </tr>\n",
       "    <tr>\n",
       "      <th>2</th>\n",
       "      <td>1.0</td>\n",
       "      <td>0.169554</td>\n",
       "      <td>0.065798</td>\n",
       "      <td>0.008250</td>\n",
       "      <td>0.086495</td>\n",
       "      <td>0.024802</td>\n",
       "      <td>0.032828</td>\n",
       "      <td>0.069544</td>\n",
       "      <td>0.134629</td>\n",
       "      <td>0.281396</td>\n",
       "      <td>0.121340</td>\n",
       "      <td>0.005364</td>\n",
       "    </tr>\n",
       "    <tr>\n",
       "      <th>3</th>\n",
       "      <td>1.0</td>\n",
       "      <td>0.190594</td>\n",
       "      <td>0.010223</td>\n",
       "      <td>0.000000</td>\n",
       "      <td>0.081489</td>\n",
       "      <td>0.000000</td>\n",
       "      <td>0.000000</td>\n",
       "      <td>0.151447</td>\n",
       "      <td>0.250091</td>\n",
       "      <td>0.283032</td>\n",
       "      <td>0.018321</td>\n",
       "      <td>0.014802</td>\n",
       "    </tr>\n",
       "    <tr>\n",
       "      <th>4</th>\n",
       "      <td>1.0</td>\n",
       "      <td>0.152203</td>\n",
       "      <td>0.035983</td>\n",
       "      <td>0.025063</td>\n",
       "      <td>0.055659</td>\n",
       "      <td>0.079572</td>\n",
       "      <td>0.000000</td>\n",
       "      <td>0.057663</td>\n",
       "      <td>0.089617</td>\n",
       "      <td>0.336947</td>\n",
       "      <td>0.000000</td>\n",
       "      <td>0.167292</td>\n",
       "    </tr>\n",
       "  </tbody>\n",
       "</table>\n",
       "</div>"
      ],
      "text/plain": [
       "   skin_rash   group_1   group_2   group_3   group_4   group_5   group_6  \\\n",
       "0        1.0  0.172254  0.069777  0.012340  0.188876  0.165827  0.000000   \n",
       "1        1.0  0.175237  0.035303  0.000000  0.143469  0.000000  0.000000   \n",
       "2        1.0  0.169554  0.065798  0.008250  0.086495  0.024802  0.032828   \n",
       "3        1.0  0.190594  0.010223  0.000000  0.081489  0.000000  0.000000   \n",
       "4        1.0  0.152203  0.035983  0.025063  0.055659  0.079572  0.000000   \n",
       "\n",
       "    group_7   group_8   group_9  group_10  group_11  \n",
       "0  0.067972  0.072327  0.168887  0.061996  0.019745  \n",
       "1  0.116392  0.139562  0.249715  0.000000  0.140322  \n",
       "2  0.069544  0.134629  0.281396  0.121340  0.005364  \n",
       "3  0.151447  0.250091  0.283032  0.018321  0.014802  \n",
       "4  0.057663  0.089617  0.336947  0.000000  0.167292  "
      ]
     },
     "execution_count": 30,
     "metadata": {},
     "output_type": "execute_result"
    }
   ],
   "source": [
    "cetux_group_2.head()"
   ]
  },
  {
   "cell_type": "code",
   "execution_count": 31,
   "id": "5a98ff43",
   "metadata": {},
   "outputs": [],
   "source": [
    "X=cetux_group_2.drop(columns=[\"skin_rash\"])\n",
    "y=cetux_group_2[\"skin_rash\"]\n",
    "\n",
    "X_train_group_2, X_test_group_2, y_train_group_2, y_test_group_2 = train_test_split(X, y,\n",
    "                                                    test_size = 0.25, \n",
    "                                                    random_state = 6)"
   ]
  },
  {
   "cell_type": "code",
   "execution_count": 32,
   "id": "d69e9b6c",
   "metadata": {},
   "outputs": [
    {
     "data": {
      "text/html": [
       "<div>\n",
       "<style scoped>\n",
       "    .dataframe tbody tr th:only-of-type {\n",
       "        vertical-align: middle;\n",
       "    }\n",
       "\n",
       "    .dataframe tbody tr th {\n",
       "        vertical-align: top;\n",
       "    }\n",
       "\n",
       "    .dataframe thead th {\n",
       "        text-align: right;\n",
       "    }\n",
       "</style>\n",
       "<table border=\"1\" class=\"dataframe\">\n",
       "  <thead>\n",
       "    <tr style=\"text-align: right;\">\n",
       "      <th></th>\n",
       "      <th>fit_time</th>\n",
       "      <th>score_time</th>\n",
       "      <th>test_accuracy</th>\n",
       "      <th>test_recall</th>\n",
       "      <th>test_precision</th>\n",
       "      <th>test_f1</th>\n",
       "    </tr>\n",
       "  </thead>\n",
       "  <tbody>\n",
       "    <tr>\n",
       "      <th>0</th>\n",
       "      <td>0.005052</td>\n",
       "      <td>0.010318</td>\n",
       "      <td>0.529412</td>\n",
       "      <td>0.500000</td>\n",
       "      <td>0.500000</td>\n",
       "      <td>0.500000</td>\n",
       "    </tr>\n",
       "    <tr>\n",
       "      <th>1</th>\n",
       "      <td>0.004552</td>\n",
       "      <td>0.004485</td>\n",
       "      <td>0.588235</td>\n",
       "      <td>0.500000</td>\n",
       "      <td>0.571429</td>\n",
       "      <td>0.533333</td>\n",
       "    </tr>\n",
       "    <tr>\n",
       "      <th>2</th>\n",
       "      <td>0.005047</td>\n",
       "      <td>0.004339</td>\n",
       "      <td>0.294118</td>\n",
       "      <td>0.500000</td>\n",
       "      <td>0.333333</td>\n",
       "      <td>0.400000</td>\n",
       "    </tr>\n",
       "    <tr>\n",
       "      <th>3</th>\n",
       "      <td>0.004164</td>\n",
       "      <td>0.004457</td>\n",
       "      <td>0.500000</td>\n",
       "      <td>0.500000</td>\n",
       "      <td>0.500000</td>\n",
       "      <td>0.500000</td>\n",
       "    </tr>\n",
       "    <tr>\n",
       "      <th>4</th>\n",
       "      <td>0.004463</td>\n",
       "      <td>0.004559</td>\n",
       "      <td>0.625000</td>\n",
       "      <td>0.500000</td>\n",
       "      <td>0.666667</td>\n",
       "      <td>0.571429</td>\n",
       "    </tr>\n",
       "    <tr>\n",
       "      <th>5</th>\n",
       "      <td>0.004239</td>\n",
       "      <td>0.005681</td>\n",
       "      <td>0.437500</td>\n",
       "      <td>0.500000</td>\n",
       "      <td>0.444444</td>\n",
       "      <td>0.470588</td>\n",
       "    </tr>\n",
       "    <tr>\n",
       "      <th>6</th>\n",
       "      <td>0.004378</td>\n",
       "      <td>0.004278</td>\n",
       "      <td>0.562500</td>\n",
       "      <td>0.750000</td>\n",
       "      <td>0.545455</td>\n",
       "      <td>0.631579</td>\n",
       "    </tr>\n",
       "    <tr>\n",
       "      <th>7</th>\n",
       "      <td>0.004600</td>\n",
       "      <td>0.004679</td>\n",
       "      <td>0.437500</td>\n",
       "      <td>0.714286</td>\n",
       "      <td>0.416667</td>\n",
       "      <td>0.526316</td>\n",
       "    </tr>\n",
       "    <tr>\n",
       "      <th>8</th>\n",
       "      <td>0.003757</td>\n",
       "      <td>0.004378</td>\n",
       "      <td>0.500000</td>\n",
       "      <td>0.285714</td>\n",
       "      <td>0.400000</td>\n",
       "      <td>0.333333</td>\n",
       "    </tr>\n",
       "    <tr>\n",
       "      <th>9</th>\n",
       "      <td>0.004107</td>\n",
       "      <td>0.004620</td>\n",
       "      <td>0.687500</td>\n",
       "      <td>0.714286</td>\n",
       "      <td>0.625000</td>\n",
       "      <td>0.666667</td>\n",
       "    </tr>\n",
       "  </tbody>\n",
       "</table>\n",
       "</div>"
      ],
      "text/plain": [
       "   fit_time  score_time  test_accuracy  test_recall  test_precision   test_f1\n",
       "0  0.005052    0.010318       0.529412     0.500000        0.500000  0.500000\n",
       "1  0.004552    0.004485       0.588235     0.500000        0.571429  0.533333\n",
       "2  0.005047    0.004339       0.294118     0.500000        0.333333  0.400000\n",
       "3  0.004164    0.004457       0.500000     0.500000        0.500000  0.500000\n",
       "4  0.004463    0.004559       0.625000     0.500000        0.666667  0.571429\n",
       "5  0.004239    0.005681       0.437500     0.500000        0.444444  0.470588\n",
       "6  0.004378    0.004278       0.562500     0.750000        0.545455  0.631579\n",
       "7  0.004600    0.004679       0.437500     0.714286        0.416667  0.526316\n",
       "8  0.003757    0.004378       0.500000     0.285714        0.400000  0.333333\n",
       "9  0.004107    0.004620       0.687500     0.714286        0.625000  0.666667"
      ]
     },
     "execution_count": 32,
     "metadata": {},
     "output_type": "execute_result"
    }
   ],
   "source": [
    "model_3 = LogisticRegression(class_weight='balanced')\n",
    "\n",
    "cv_results = cross_validate(model_3, X_train_group_2, y_train_group_2, cv=10, scoring=[\"accuracy\",\"recall\",\"precision\",\"f1\"])\n",
    "pd.DataFrame(cv_results)"
   ]
  },
  {
   "cell_type": "code",
   "execution_count": 33,
   "id": "961b8735",
   "metadata": {},
   "outputs": [
    {
     "data": {
      "text/plain": [
       "0.5161764705882353"
      ]
     },
     "execution_count": 33,
     "metadata": {},
     "output_type": "execute_result"
    }
   ],
   "source": [
    "cv_results['test_accuracy'].mean()"
   ]
  },
  {
   "cell_type": "code",
   "execution_count": 34,
   "id": "9a218bcb",
   "metadata": {},
   "outputs": [
    {
     "name": "stderr",
     "output_type": "stream",
     "text": [
      "/home/henry/.pyenv/versions/3.8.12/envs/health/lib/python3.8/site-packages/sklearn/utils/deprecation.py:87: FutureWarning: Function plot_confusion_matrix is deprecated; Function `plot_confusion_matrix` is deprecated in 1.0 and will be removed in 1.2. Use one of the class methods: ConfusionMatrixDisplay.from_predictions or ConfusionMatrixDisplay.from_estimator.\n",
      "  warnings.warn(msg, category=FutureWarning)\n"
     ]
    },
    {
     "data": {
      "text/plain": [
       "<sklearn.metrics._plot.confusion_matrix.ConfusionMatrixDisplay at 0x7f776f45ba30>"
      ]
     },
     "execution_count": 34,
     "metadata": {},
     "output_type": "execute_result"
    },
    {
     "data": {
      "image/png": "[encoded data removed]",
      "text/plain": [
       "<Figure size 432x288 with 2 Axes>"
      ]
     },
     "metadata": {
      "needs_background": "light"
     },
     "output_type": "display_data"
    }
   ],
   "source": [
    "model=model_3.fit(X,y)\n",
    "plot_confusion_matrix(model,X,y)"
   ]
  },
  {
   "cell_type": "code",
   "execution_count": 35,
   "id": "6e5d523a",
   "metadata": {},
   "outputs": [
    {
     "data": {
      "text/plain": [
       "{'group_11': -1.15969471040149,\n",
       " 'group_10': -0.47374245691516614,\n",
       " 'group_9': -0.1648543271227464,\n",
       " 'group_7': -0.1422208639455422,\n",
       " 'group_8': -0.08852800188981716,\n",
       " 'group_6': -0.0016951507007642078,\n",
       " 'group_4': 0.10641184609291816,\n",
       " 'group_5': 0.15335225439872405,\n",
       " 'group_2': 0.29667559849589875,\n",
       " 'group_3': 0.574399286025755,\n",
       " 'group_1': 0.8998944887849933}"
      ]
     },
     "execution_count": 35,
     "metadata": {},
     "output_type": "execute_result"
    }
   ],
   "source": [
    "coef=model_3.coef_[0]\n",
    "dicc=dict()\n",
    "for i in range(len(list(X))):\n",
    "    dicc[list(X)[i]]=coef[i]\n",
    "dicc\n",
    "\n",
    "dic=dict(sorted(dicc.items(), key=lambda item: item[1]))\n",
    "dic"
   ]
  },
  {
   "cell_type": "markdown",
   "id": "226382da",
   "metadata": {},
   "source": [
    "# Fooling around"
   ]
  },
  {
   "cell_type": "code",
   "execution_count": 36,
   "id": "ddec3cda",
   "metadata": {},
   "outputs": [],
   "source": [
    "cetux_mean= cetux.drop(['pat_nr','age', 'sex', 'P-value', 'group_1', 'group_2', 'group_3', 'group_4',\n",
    "       'group_5', 'group_6', 'group_7', 'group_8', 'group_9', 'group_10',\n",
    "       'group_11'], axis=1)"
   ]
  },
  {
   "cell_type": "code",
   "execution_count": 37,
   "id": "25133522",
   "metadata": {},
   "outputs": [],
   "source": [
    "cetux_mean_rash = cetux_mean[cetux_mean.skin_rash == 1.0]"
   ]
  },
  {
   "cell_type": "code",
   "execution_count": 38,
   "id": "a0c5e2df",
   "metadata": {},
   "outputs": [
    {
     "data": {
      "text/html": [
       "<div>\n",
       "<style scoped>\n",
       "    .dataframe tbody tr th:only-of-type {\n",
       "        vertical-align: middle;\n",
       "    }\n",
       "\n",
       "    .dataframe tbody tr th {\n",
       "        vertical-align: top;\n",
       "    }\n",
       "\n",
       "    .dataframe thead th {\n",
       "        text-align: right;\n",
       "    }\n",
       "</style>\n",
       "<table border=\"1\" class=\"dataframe\">\n",
       "  <thead>\n",
       "    <tr style=\"text-align: right;\">\n",
       "      <th></th>\n",
       "      <th>B cells naive</th>\n",
       "      <th>B cells memory</th>\n",
       "      <th>Plasma cells</th>\n",
       "      <th>T cells CD8</th>\n",
       "      <th>T cells CD4 naive</th>\n",
       "      <th>T cells CD4 memory resting</th>\n",
       "      <th>T cells CD4 memory activated</th>\n",
       "      <th>T cells follicular helper</th>\n",
       "      <th>T cells regulatory (Tregs)</th>\n",
       "      <th>T cells gamma delta</th>\n",
       "      <th>...</th>\n",
       "      <th>Macrophages M0</th>\n",
       "      <th>Macrophages M1</th>\n",
       "      <th>Macrophages M2</th>\n",
       "      <th>Dendritic cells resting</th>\n",
       "      <th>Dendritic cells activated</th>\n",
       "      <th>Mast cells resting</th>\n",
       "      <th>Mast cells activated</th>\n",
       "      <th>Eosinophils</th>\n",
       "      <th>Neutrophils</th>\n",
       "      <th>skin_rash</th>\n",
       "    </tr>\n",
       "  </thead>\n",
       "  <tbody>\n",
       "    <tr>\n",
       "      <th>0</th>\n",
       "      <td>0.067346</td>\n",
       "      <td>0.000000</td>\n",
       "      <td>0.097330</td>\n",
       "      <td>0.072327</td>\n",
       "      <td>0.0</td>\n",
       "      <td>0.168887</td>\n",
       "      <td>0.000000</td>\n",
       "      <td>0.002431</td>\n",
       "      <td>0.067972</td>\n",
       "      <td>0.094723</td>\n",
       "      <td>...</td>\n",
       "      <td>0.012340</td>\n",
       "      <td>0.061996</td>\n",
       "      <td>0.019745</td>\n",
       "      <td>0.071104</td>\n",
       "      <td>0.000000</td>\n",
       "      <td>0.000000</td>\n",
       "      <td>0.188876</td>\n",
       "      <td>0.000000</td>\n",
       "      <td>0.074924</td>\n",
       "      <td>1.0</td>\n",
       "    </tr>\n",
       "    <tr>\n",
       "      <th>1</th>\n",
       "      <td>0.000000</td>\n",
       "      <td>0.000000</td>\n",
       "      <td>0.105039</td>\n",
       "      <td>0.066233</td>\n",
       "      <td>0.0</td>\n",
       "      <td>0.249715</td>\n",
       "      <td>0.074691</td>\n",
       "      <td>0.035303</td>\n",
       "      <td>0.085112</td>\n",
       "      <td>0.000000</td>\n",
       "      <td>...</td>\n",
       "      <td>0.000000</td>\n",
       "      <td>0.000000</td>\n",
       "      <td>0.065631</td>\n",
       "      <td>0.000000</td>\n",
       "      <td>0.009239</td>\n",
       "      <td>0.000000</td>\n",
       "      <td>0.134230</td>\n",
       "      <td>0.000000</td>\n",
       "      <td>0.070198</td>\n",
       "      <td>1.0</td>\n",
       "    </tr>\n",
       "    <tr>\n",
       "      <th>2</th>\n",
       "      <td>0.065798</td>\n",
       "      <td>0.000000</td>\n",
       "      <td>0.118399</td>\n",
       "      <td>0.111458</td>\n",
       "      <td>0.0</td>\n",
       "      <td>0.281396</td>\n",
       "      <td>0.000000</td>\n",
       "      <td>0.000000</td>\n",
       "      <td>0.069544</td>\n",
       "      <td>0.000000</td>\n",
       "      <td>...</td>\n",
       "      <td>0.008250</td>\n",
       "      <td>0.121340</td>\n",
       "      <td>0.005364</td>\n",
       "      <td>0.024802</td>\n",
       "      <td>0.000000</td>\n",
       "      <td>0.000000</td>\n",
       "      <td>0.086495</td>\n",
       "      <td>0.032828</td>\n",
       "      <td>0.051155</td>\n",
       "      <td>1.0</td>\n",
       "    </tr>\n",
       "    <tr>\n",
       "      <th>3</th>\n",
       "      <td>0.010223</td>\n",
       "      <td>0.000000</td>\n",
       "      <td>0.186072</td>\n",
       "      <td>0.193724</td>\n",
       "      <td>0.0</td>\n",
       "      <td>0.283032</td>\n",
       "      <td>0.000000</td>\n",
       "      <td>0.000000</td>\n",
       "      <td>0.144012</td>\n",
       "      <td>0.000000</td>\n",
       "      <td>...</td>\n",
       "      <td>0.000000</td>\n",
       "      <td>0.018321</td>\n",
       "      <td>0.014802</td>\n",
       "      <td>0.000000</td>\n",
       "      <td>0.000000</td>\n",
       "      <td>0.000000</td>\n",
       "      <td>0.081489</td>\n",
       "      <td>0.000000</td>\n",
       "      <td>0.004522</td>\n",
       "      <td>1.0</td>\n",
       "    </tr>\n",
       "    <tr>\n",
       "      <th>4</th>\n",
       "      <td>0.000000</td>\n",
       "      <td>0.013582</td>\n",
       "      <td>0.056297</td>\n",
       "      <td>0.080645</td>\n",
       "      <td>0.0</td>\n",
       "      <td>0.336947</td>\n",
       "      <td>0.000000</td>\n",
       "      <td>0.035983</td>\n",
       "      <td>0.057663</td>\n",
       "      <td>0.000000</td>\n",
       "      <td>...</td>\n",
       "      <td>0.011481</td>\n",
       "      <td>0.000000</td>\n",
       "      <td>0.167292</td>\n",
       "      <td>0.079572</td>\n",
       "      <td>0.010232</td>\n",
       "      <td>0.000000</td>\n",
       "      <td>0.045427</td>\n",
       "      <td>0.000000</td>\n",
       "      <td>0.095906</td>\n",
       "      <td>1.0</td>\n",
       "    </tr>\n",
       "    <tr>\n",
       "      <th>6</th>\n",
       "      <td>0.044448</td>\n",
       "      <td>0.000000</td>\n",
       "      <td>0.100616</td>\n",
       "      <td>0.031390</td>\n",
       "      <td>0.0</td>\n",
       "      <td>0.221925</td>\n",
       "      <td>0.000000</td>\n",
       "      <td>0.022205</td>\n",
       "      <td>0.119496</td>\n",
       "      <td>0.000000</td>\n",
       "      <td>...</td>\n",
       "      <td>0.000000</td>\n",
       "      <td>0.010504</td>\n",
       "      <td>0.065103</td>\n",
       "      <td>0.006880</td>\n",
       "      <td>0.005117</td>\n",
       "      <td>0.000000</td>\n",
       "      <td>0.153702</td>\n",
       "      <td>0.000000</td>\n",
       "      <td>0.126021</td>\n",
       "      <td>1.0</td>\n",
       "    </tr>\n",
       "    <tr>\n",
       "      <th>7</th>\n",
       "      <td>0.000000</td>\n",
       "      <td>0.002193</td>\n",
       "      <td>0.179680</td>\n",
       "      <td>0.107094</td>\n",
       "      <td>0.0</td>\n",
       "      <td>0.207464</td>\n",
       "      <td>0.000000</td>\n",
       "      <td>0.043545</td>\n",
       "      <td>0.127027</td>\n",
       "      <td>0.000000</td>\n",
       "      <td>...</td>\n",
       "      <td>0.066872</td>\n",
       "      <td>0.029349</td>\n",
       "      <td>0.015888</td>\n",
       "      <td>0.011273</td>\n",
       "      <td>0.000000</td>\n",
       "      <td>0.000000</td>\n",
       "      <td>0.145572</td>\n",
       "      <td>0.000000</td>\n",
       "      <td>0.064043</td>\n",
       "      <td>1.0</td>\n",
       "    </tr>\n",
       "    <tr>\n",
       "      <th>11</th>\n",
       "      <td>0.000000</td>\n",
       "      <td>0.070331</td>\n",
       "      <td>0.109562</td>\n",
       "      <td>0.105362</td>\n",
       "      <td>0.0</td>\n",
       "      <td>0.230482</td>\n",
       "      <td>0.000000</td>\n",
       "      <td>0.000000</td>\n",
       "      <td>0.096231</td>\n",
       "      <td>0.000000</td>\n",
       "      <td>...</td>\n",
       "      <td>0.033768</td>\n",
       "      <td>0.016310</td>\n",
       "      <td>0.050888</td>\n",
       "      <td>0.040150</td>\n",
       "      <td>0.001579</td>\n",
       "      <td>0.149964</td>\n",
       "      <td>0.000000</td>\n",
       "      <td>0.000000</td>\n",
       "      <td>0.020918</td>\n",
       "      <td>1.0</td>\n",
       "    </tr>\n",
       "    <tr>\n",
       "      <th>12</th>\n",
       "      <td>0.076637</td>\n",
       "      <td>0.000000</td>\n",
       "      <td>0.097353</td>\n",
       "      <td>0.047994</td>\n",
       "      <td>0.0</td>\n",
       "      <td>0.177568</td>\n",
       "      <td>0.000000</td>\n",
       "      <td>0.016733</td>\n",
       "      <td>0.018611</td>\n",
       "      <td>0.000000</td>\n",
       "      <td>...</td>\n",
       "      <td>0.044782</td>\n",
       "      <td>0.000000</td>\n",
       "      <td>0.129692</td>\n",
       "      <td>0.000000</td>\n",
       "      <td>0.051349</td>\n",
       "      <td>0.000000</td>\n",
       "      <td>0.057489</td>\n",
       "      <td>0.000000</td>\n",
       "      <td>0.218340</td>\n",
       "      <td>1.0</td>\n",
       "    </tr>\n",
       "    <tr>\n",
       "      <th>13</th>\n",
       "      <td>0.039438</td>\n",
       "      <td>0.000000</td>\n",
       "      <td>0.000000</td>\n",
       "      <td>0.092406</td>\n",
       "      <td>0.0</td>\n",
       "      <td>0.242658</td>\n",
       "      <td>0.007085</td>\n",
       "      <td>0.041535</td>\n",
       "      <td>0.040865</td>\n",
       "      <td>0.000000</td>\n",
       "      <td>...</td>\n",
       "      <td>0.000000</td>\n",
       "      <td>0.006931</td>\n",
       "      <td>0.065494</td>\n",
       "      <td>0.193770</td>\n",
       "      <td>0.052069</td>\n",
       "      <td>0.055036</td>\n",
       "      <td>0.034499</td>\n",
       "      <td>0.000000</td>\n",
       "      <td>0.061941</td>\n",
       "      <td>1.0</td>\n",
       "    </tr>\n",
       "    <tr>\n",
       "      <th>14</th>\n",
       "      <td>0.050150</td>\n",
       "      <td>0.000000</td>\n",
       "      <td>0.110350</td>\n",
       "      <td>0.079092</td>\n",
       "      <td>0.0</td>\n",
       "      <td>0.330900</td>\n",
       "      <td>0.000000</td>\n",
       "      <td>0.065108</td>\n",
       "      <td>0.029502</td>\n",
       "      <td>0.000000</td>\n",
       "      <td>...</td>\n",
       "      <td>0.000000</td>\n",
       "      <td>0.027462</td>\n",
       "      <td>0.083403</td>\n",
       "      <td>0.054655</td>\n",
       "      <td>0.006043</td>\n",
       "      <td>0.089694</td>\n",
       "      <td>0.028650</td>\n",
       "      <td>0.000000</td>\n",
       "      <td>0.035191</td>\n",
       "      <td>1.0</td>\n",
       "    </tr>\n",
       "    <tr>\n",
       "      <th>16</th>\n",
       "      <td>0.011133</td>\n",
       "      <td>0.000000</td>\n",
       "      <td>0.179373</td>\n",
       "      <td>0.084860</td>\n",
       "      <td>0.0</td>\n",
       "      <td>0.211287</td>\n",
       "      <td>0.005607</td>\n",
       "      <td>0.033688</td>\n",
       "      <td>0.062558</td>\n",
       "      <td>0.000000</td>\n",
       "      <td>...</td>\n",
       "      <td>0.080367</td>\n",
       "      <td>0.046899</td>\n",
       "      <td>0.118049</td>\n",
       "      <td>0.000000</td>\n",
       "      <td>0.000000</td>\n",
       "      <td>0.049281</td>\n",
       "      <td>0.000000</td>\n",
       "      <td>0.000000</td>\n",
       "      <td>0.066649</td>\n",
       "      <td>1.0</td>\n",
       "    </tr>\n",
       "    <tr>\n",
       "      <th>18</th>\n",
       "      <td>0.000000</td>\n",
       "      <td>0.000000</td>\n",
       "      <td>0.120578</td>\n",
       "      <td>0.107595</td>\n",
       "      <td>0.0</td>\n",
       "      <td>0.210449</td>\n",
       "      <td>0.000000</td>\n",
       "      <td>0.007851</td>\n",
       "      <td>0.093300</td>\n",
       "      <td>0.000000</td>\n",
       "      <td>...</td>\n",
       "      <td>0.066421</td>\n",
       "      <td>0.037794</td>\n",
       "      <td>0.079695</td>\n",
       "      <td>0.000000</td>\n",
       "      <td>0.000000</td>\n",
       "      <td>0.000000</td>\n",
       "      <td>0.092100</td>\n",
       "      <td>0.000000</td>\n",
       "      <td>0.107041</td>\n",
       "      <td>1.0</td>\n",
       "    </tr>\n",
       "    <tr>\n",
       "      <th>19</th>\n",
       "      <td>0.010968</td>\n",
       "      <td>0.000000</td>\n",
       "      <td>0.013640</td>\n",
       "      <td>0.234013</td>\n",
       "      <td>0.0</td>\n",
       "      <td>0.255893</td>\n",
       "      <td>0.000000</td>\n",
       "      <td>0.081389</td>\n",
       "      <td>0.018071</td>\n",
       "      <td>0.000000</td>\n",
       "      <td>...</td>\n",
       "      <td>0.000000</td>\n",
       "      <td>0.131920</td>\n",
       "      <td>0.114881</td>\n",
       "      <td>0.000000</td>\n",
       "      <td>0.027199</td>\n",
       "      <td>0.010587</td>\n",
       "      <td>0.000000</td>\n",
       "      <td>0.000000</td>\n",
       "      <td>0.039827</td>\n",
       "      <td>1.0</td>\n",
       "    </tr>\n",
       "    <tr>\n",
       "      <th>20</th>\n",
       "      <td>0.133453</td>\n",
       "      <td>0.000000</td>\n",
       "      <td>0.059813</td>\n",
       "      <td>0.051336</td>\n",
       "      <td>0.0</td>\n",
       "      <td>0.314640</td>\n",
       "      <td>0.000000</td>\n",
       "      <td>0.022782</td>\n",
       "      <td>0.040684</td>\n",
       "      <td>0.000000</td>\n",
       "      <td>...</td>\n",
       "      <td>0.000000</td>\n",
       "      <td>0.134626</td>\n",
       "      <td>0.122257</td>\n",
       "      <td>0.040415</td>\n",
       "      <td>0.000000</td>\n",
       "      <td>0.005124</td>\n",
       "      <td>0.000000</td>\n",
       "      <td>0.000000</td>\n",
       "      <td>0.041877</td>\n",
       "      <td>1.0</td>\n",
       "    </tr>\n",
       "    <tr>\n",
       "      <th>21</th>\n",
       "      <td>0.060841</td>\n",
       "      <td>0.000000</td>\n",
       "      <td>0.034990</td>\n",
       "      <td>0.127401</td>\n",
       "      <td>0.0</td>\n",
       "      <td>0.198044</td>\n",
       "      <td>0.000000</td>\n",
       "      <td>0.016465</td>\n",
       "      <td>0.062523</td>\n",
       "      <td>0.000000</td>\n",
       "      <td>...</td>\n",
       "      <td>0.000000</td>\n",
       "      <td>0.043662</td>\n",
       "      <td>0.079423</td>\n",
       "      <td>0.070523</td>\n",
       "      <td>0.000000</td>\n",
       "      <td>0.045281</td>\n",
       "      <td>0.077984</td>\n",
       "      <td>0.000000</td>\n",
       "      <td>0.097292</td>\n",
       "      <td>1.0</td>\n",
       "    </tr>\n",
       "    <tr>\n",
       "      <th>22</th>\n",
       "      <td>0.097299</td>\n",
       "      <td>0.000000</td>\n",
       "      <td>0.110952</td>\n",
       "      <td>0.167586</td>\n",
       "      <td>0.0</td>\n",
       "      <td>0.076777</td>\n",
       "      <td>0.000000</td>\n",
       "      <td>0.175271</td>\n",
       "      <td>0.028606</td>\n",
       "      <td>0.000000</td>\n",
       "      <td>...</td>\n",
       "      <td>0.000000</td>\n",
       "      <td>0.008685</td>\n",
       "      <td>0.052174</td>\n",
       "      <td>0.044474</td>\n",
       "      <td>0.000000</td>\n",
       "      <td>0.000000</td>\n",
       "      <td>0.108208</td>\n",
       "      <td>0.000000</td>\n",
       "      <td>0.037332</td>\n",
       "      <td>1.0</td>\n",
       "    </tr>\n",
       "    <tr>\n",
       "      <th>25</th>\n",
       "      <td>0.000000</td>\n",
       "      <td>0.063942</td>\n",
       "      <td>0.149477</td>\n",
       "      <td>0.129873</td>\n",
       "      <td>0.0</td>\n",
       "      <td>0.320414</td>\n",
       "      <td>0.010377</td>\n",
       "      <td>0.000000</td>\n",
       "      <td>0.060495</td>\n",
       "      <td>0.000000</td>\n",
       "      <td>...</td>\n",
       "      <td>0.015554</td>\n",
       "      <td>0.020287</td>\n",
       "      <td>0.017734</td>\n",
       "      <td>0.000000</td>\n",
       "      <td>0.016916</td>\n",
       "      <td>0.000000</td>\n",
       "      <td>0.074604</td>\n",
       "      <td>0.000000</td>\n",
       "      <td>0.084991</td>\n",
       "      <td>1.0</td>\n",
       "    </tr>\n",
       "    <tr>\n",
       "      <th>27</th>\n",
       "      <td>0.067716</td>\n",
       "      <td>0.000000</td>\n",
       "      <td>0.155868</td>\n",
       "      <td>0.065704</td>\n",
       "      <td>0.0</td>\n",
       "      <td>0.192272</td>\n",
       "      <td>0.000000</td>\n",
       "      <td>0.034998</td>\n",
       "      <td>0.062381</td>\n",
       "      <td>0.000000</td>\n",
       "      <td>...</td>\n",
       "      <td>0.021200</td>\n",
       "      <td>0.020482</td>\n",
       "      <td>0.066239</td>\n",
       "      <td>0.037170</td>\n",
       "      <td>0.000000</td>\n",
       "      <td>0.058423</td>\n",
       "      <td>0.098170</td>\n",
       "      <td>0.000000</td>\n",
       "      <td>0.035164</td>\n",
       "      <td>1.0</td>\n",
       "    </tr>\n",
       "    <tr>\n",
       "      <th>28</th>\n",
       "      <td>0.043052</td>\n",
       "      <td>0.000000</td>\n",
       "      <td>0.078751</td>\n",
       "      <td>0.041315</td>\n",
       "      <td>0.0</td>\n",
       "      <td>0.240606</td>\n",
       "      <td>0.000000</td>\n",
       "      <td>0.000000</td>\n",
       "      <td>0.142674</td>\n",
       "      <td>0.000000</td>\n",
       "      <td>...</td>\n",
       "      <td>0.004315</td>\n",
       "      <td>0.016894</td>\n",
       "      <td>0.199781</td>\n",
       "      <td>0.000000</td>\n",
       "      <td>0.000000</td>\n",
       "      <td>0.000000</td>\n",
       "      <td>0.109357</td>\n",
       "      <td>0.000000</td>\n",
       "      <td>0.048992</td>\n",
       "      <td>1.0</td>\n",
       "    </tr>\n",
       "  </tbody>\n",
       "</table>\n",
       "<p>20 rows × 23 columns</p>\n",
       "</div>"
      ],
      "text/plain": [
       "    B cells naive  B cells memory  Plasma cells  T cells CD8  \\\n",
       "0        0.067346        0.000000      0.097330     0.072327   \n",
       "1        0.000000        0.000000      0.105039     0.066233   \n",
       "2        0.065798        0.000000      0.118399     0.111458   \n",
       "3        0.010223        0.000000      0.186072     0.193724   \n",
       "4        0.000000        0.013582      0.056297     0.080645   \n",
       "6        0.044448        0.000000      0.100616     0.031390   \n",
       "7        0.000000        0.002193      0.179680     0.107094   \n",
       "11       0.000000        0.070331      0.109562     0.105362   \n",
       "12       0.076637        0.000000      0.097353     0.047994   \n",
       "13       0.039438        0.000000      0.000000     0.092406   \n",
       "14       0.050150        0.000000      0.110350     0.079092   \n",
       "16       0.011133        0.000000      0.179373     0.084860   \n",
       "18       0.000000        0.000000      0.120578     0.107595   \n",
       "19       0.010968        0.000000      0.013640     0.234013   \n",
       "20       0.133453        0.000000      0.059813     0.051336   \n",
       "21       0.060841        0.000000      0.034990     0.127401   \n",
       "22       0.097299        0.000000      0.110952     0.167586   \n",
       "25       0.000000        0.063942      0.149477     0.129873   \n",
       "27       0.067716        0.000000      0.155868     0.065704   \n",
       "28       0.043052        0.000000      0.078751     0.041315   \n",
       "\n",
       "    T cells CD4 naive  T cells CD4 memory resting  \\\n",
       "0                 0.0                    0.168887   \n",
       "1                 0.0                    0.249715   \n",
       "2                 0.0                    0.281396   \n",
       "3                 0.0                    0.283032   \n",
       "4                 0.0                    0.336947   \n",
       "6                 0.0                    0.221925   \n",
       "7                 0.0                    0.207464   \n",
       "11                0.0                    0.230482   \n",
       "12                0.0                    0.177568   \n",
       "13                0.0                    0.242658   \n",
       "14                0.0                    0.330900   \n",
       "16                0.0                    0.211287   \n",
       "18                0.0                    0.210449   \n",
       "19                0.0                    0.255893   \n",
       "20                0.0                    0.314640   \n",
       "21                0.0                    0.198044   \n",
       "22                0.0                    0.076777   \n",
       "25                0.0                    0.320414   \n",
       "27                0.0                    0.192272   \n",
       "28                0.0                    0.240606   \n",
       "\n",
       "    T cells CD4 memory activated  T cells follicular helper  \\\n",
       "0                       0.000000                   0.002431   \n",
       "1                       0.074691                   0.035303   \n",
       "2                       0.000000                   0.000000   \n",
       "3                       0.000000                   0.000000   \n",
       "4                       0.000000                   0.035983   \n",
       "6                       0.000000                   0.022205   \n",
       "7                       0.000000                   0.043545   \n",
       "11                      0.000000                   0.000000   \n",
       "12                      0.000000                   0.016733   \n",
       "13                      0.007085                   0.041535   \n",
       "14                      0.000000                   0.065108   \n",
       "16                      0.005607                   0.033688   \n",
       "18                      0.000000                   0.007851   \n",
       "19                      0.000000                   0.081389   \n",
       "20                      0.000000                   0.022782   \n",
       "21                      0.000000                   0.016465   \n",
       "22                      0.000000                   0.175271   \n",
       "25                      0.010377                   0.000000   \n",
       "27                      0.000000                   0.034998   \n",
       "28                      0.000000                   0.000000   \n",
       "\n",
       "    T cells regulatory (Tregs)  T cells gamma delta  ...  Macrophages M0  \\\n",
       "0                     0.067972             0.094723  ...        0.012340   \n",
       "1                     0.085112             0.000000  ...        0.000000   \n",
       "2                     0.069544             0.000000  ...        0.008250   \n",
       "3                     0.144012             0.000000  ...        0.000000   \n",
       "4                     0.057663             0.000000  ...        0.011481   \n",
       "6                     0.119496             0.000000  ...        0.000000   \n",
       "7                     0.127027             0.000000  ...        0.066872   \n",
       "11                    0.096231             0.000000  ...        0.033768   \n",
       "12                    0.018611             0.000000  ...        0.044782   \n",
       "13                    0.040865             0.000000  ...        0.000000   \n",
       "14                    0.029502             0.000000  ...        0.000000   \n",
       "16                    0.062558             0.000000  ...        0.080367   \n",
       "18                    0.093300             0.000000  ...        0.066421   \n",
       "19                    0.018071             0.000000  ...        0.000000   \n",
       "20                    0.040684             0.000000  ...        0.000000   \n",
       "21                    0.062523             0.000000  ...        0.000000   \n",
       "22                    0.028606             0.000000  ...        0.000000   \n",
       "25                    0.060495             0.000000  ...        0.015554   \n",
       "27                    0.062381             0.000000  ...        0.021200   \n",
       "28                    0.142674             0.000000  ...        0.004315   \n",
       "\n",
       "    Macrophages M1  Macrophages M2  Dendritic cells resting  \\\n",
       "0         0.061996        0.019745                 0.071104   \n",
       "1         0.000000        0.065631                 0.000000   \n",
       "2         0.121340        0.005364                 0.024802   \n",
       "3         0.018321        0.014802                 0.000000   \n",
       "4         0.000000        0.167292                 0.079572   \n",
       "6         0.010504        0.065103                 0.006880   \n",
       "7         0.029349        0.015888                 0.011273   \n",
       "11        0.016310        0.050888                 0.040150   \n",
       "12        0.000000        0.129692                 0.000000   \n",
       "13        0.006931        0.065494                 0.193770   \n",
       "14        0.027462        0.083403                 0.054655   \n",
       "16        0.046899        0.118049                 0.000000   \n",
       "18        0.037794        0.079695                 0.000000   \n",
       "19        0.131920        0.114881                 0.000000   \n",
       "20        0.134626        0.122257                 0.040415   \n",
       "21        0.043662        0.079423                 0.070523   \n",
       "22        0.008685        0.052174                 0.044474   \n",
       "25        0.020287        0.017734                 0.000000   \n",
       "27        0.020482        0.066239                 0.037170   \n",
       "28        0.016894        0.199781                 0.000000   \n",
       "\n",
       "    Dendritic cells activated  Mast cells resting  Mast cells activated  \\\n",
       "0                    0.000000            0.000000              0.188876   \n",
       "1                    0.009239            0.000000              0.134230   \n",
       "2                    0.000000            0.000000              0.086495   \n",
       "3                    0.000000            0.000000              0.081489   \n",
       "4                    0.010232            0.000000              0.045427   \n",
       "6                    0.005117            0.000000              0.153702   \n",
       "7                    0.000000            0.000000              0.145572   \n",
       "11                   0.001579            0.149964              0.000000   \n",
       "12                   0.051349            0.000000              0.057489   \n",
       "13                   0.052069            0.055036              0.034499   \n",
       "14                   0.006043            0.089694              0.028650   \n",
       "16                   0.000000            0.049281              0.000000   \n",
       "18                   0.000000            0.000000              0.092100   \n",
       "19                   0.027199            0.010587              0.000000   \n",
       "20                   0.000000            0.005124              0.000000   \n",
       "21                   0.000000            0.045281              0.077984   \n",
       "22                   0.000000            0.000000              0.108208   \n",
       "25                   0.016916            0.000000              0.074604   \n",
       "27                   0.000000            0.058423              0.098170   \n",
       "28                   0.000000            0.000000              0.109357   \n",
       "\n",
       "    Eosinophils  Neutrophils  skin_rash  \n",
       "0      0.000000     0.074924        1.0  \n",
       "1      0.000000     0.070198        1.0  \n",
       "2      0.032828     0.051155        1.0  \n",
       "3      0.000000     0.004522        1.0  \n",
       "4      0.000000     0.095906        1.0  \n",
       "6      0.000000     0.126021        1.0  \n",
       "7      0.000000     0.064043        1.0  \n",
       "11     0.000000     0.020918        1.0  \n",
       "12     0.000000     0.218340        1.0  \n",
       "13     0.000000     0.061941        1.0  \n",
       "14     0.000000     0.035191        1.0  \n",
       "16     0.000000     0.066649        1.0  \n",
       "18     0.000000     0.107041        1.0  \n",
       "19     0.000000     0.039827        1.0  \n",
       "20     0.000000     0.041877        1.0  \n",
       "21     0.000000     0.097292        1.0  \n",
       "22     0.000000     0.037332        1.0  \n",
       "25     0.000000     0.084991        1.0  \n",
       "27     0.000000     0.035164        1.0  \n",
       "28     0.000000     0.048992        1.0  \n",
       "\n",
       "[20 rows x 23 columns]"
      ]
     },
     "execution_count": 38,
     "metadata": {},
     "output_type": "execute_result"
    }
   ],
   "source": [
    "cetux_mean_rash.head(20)"
   ]
  },
  {
   "cell_type": "code",
   "execution_count": 39,
   "id": "9d77577a",
   "metadata": {},
   "outputs": [],
   "source": [
    "mean_list_rash=[]\n",
    "for i in range(1, 23):\n",
    "    mean = cetux_mean_rash.iloc[:,i].mean()\n",
    "    mean_list_rash.append(mean)"
   ]
  },
  {
   "cell_type": "code",
   "execution_count": 40,
   "id": "72ba2c25",
   "metadata": {},
   "outputs": [
    {
     "data": {
      "text/plain": [
       "[0.006651688690477799,\n",
       " 0.11772601259313098,\n",
       " 0.09784732841307654,\n",
       " 9.018773637010825e-05,\n",
       " 0.23292678700219527,\n",
       " 0.01361627893333169,\n",
       " 0.02927443479715968,\n",
       " 0.05282953887958629,\n",
       " 0.0011361768860742413,\n",
       " 0.03831653810087297,\n",
       " 0.006321471733668835,\n",
       " 0.012284231518735369,\n",
       " 0.03066750667753848,\n",
       " 0.03016151275326321,\n",
       " 0.09490777461573001,\n",
       " 0.020152164424732482,\n",
       " 0.006711084259930975,\n",
       " 0.031169689341260704,\n",
       " 0.06944925807167109,\n",
       " 0.000301178236991889,\n",
       " 0.07318067968738932,\n",
       " 1.0]"
      ]
     },
     "execution_count": 40,
     "metadata": {},
     "output_type": "execute_result"
    }
   ],
   "source": [
    "mean_list_rash"
   ]
  },
  {
   "cell_type": "code",
   "execution_count": 41,
   "id": "838319ff",
   "metadata": {},
   "outputs": [],
   "source": [
    "cetux_mean_non_rash = cetux_mean[cetux_mean.skin_rash == 0.0]"
   ]
  },
  {
   "cell_type": "code",
   "execution_count": 42,
   "id": "c3346714",
   "metadata": {},
   "outputs": [],
   "source": [
    "mean_list_non_rash=[]\n",
    "for i in range(1, 23):\n",
    "    mean = cetux_mean_non_rash.iloc[:,i].mean()\n",
    "    mean_list_non_rash.append(mean)"
   ]
  },
  {
   "cell_type": "code",
   "execution_count": 43,
   "id": "877dddad",
   "metadata": {},
   "outputs": [
    {
     "data": {
      "text/plain": [
       "[0.004737770937295901,\n",
       " 0.10540900228768921,\n",
       " 0.10033975504964712,\n",
       " 9.147115117020184e-05,\n",
       " 0.2360836339290048,\n",
       " 0.018414385306387827,\n",
       " 0.024103998937488498,\n",
       " 0.05359705048123627,\n",
       " 0.0010581477238450366,\n",
       " 0.03699610315723016,\n",
       " 0.008491783862701923,\n",
       " 0.013845070579628912,\n",
       " 0.020111002345583235,\n",
       " 0.03556575966207537,\n",
       " 0.11789763194781405,\n",
       " 0.01788883118887484,\n",
       " 0.005567799075184304,\n",
       " 0.03804187763257598,\n",
       " 0.06576252304216001,\n",
       " 0.00031452182672388077,\n",
       " 0.06170665780866467,\n",
       " 0.0]"
      ]
     },
     "execution_count": 43,
     "metadata": {},
     "output_type": "execute_result"
    }
   ],
   "source": [
    "mean_list_non_rash"
   ]
  },
  {
   "cell_type": "code",
   "execution_count": 44,
   "id": "30b5b4ca",
   "metadata": {},
   "outputs": [],
   "source": [
    "mean_list_non_rash = pd.DataFrame(mean_list_non_rash)"
   ]
  },
  {
   "cell_type": "code",
   "execution_count": 45,
   "id": "e6d750e7",
   "metadata": {},
   "outputs": [],
   "source": [
    "mean_list_rash = pd.DataFrame(mean_list_rash)"
   ]
  },
  {
   "cell_type": "code",
   "execution_count": 46,
   "id": "27930921",
   "metadata": {},
   "outputs": [
    {
     "data": {
      "text/html": [
       "<div>\n",
       "<style scoped>\n",
       "    .dataframe tbody tr th:only-of-type {\n",
       "        vertical-align: middle;\n",
       "    }\n",
       "\n",
       "    .dataframe tbody tr th {\n",
       "        vertical-align: top;\n",
       "    }\n",
       "\n",
       "    .dataframe thead th {\n",
       "        text-align: right;\n",
       "    }\n",
       "</style>\n",
       "<table border=\"1\" class=\"dataframe\">\n",
       "  <thead>\n",
       "    <tr style=\"text-align: right;\">\n",
       "      <th></th>\n",
       "      <th>0</th>\n",
       "    </tr>\n",
       "  </thead>\n",
       "  <tbody>\n",
       "    <tr>\n",
       "      <th>0</th>\n",
       "      <td>-0.001914</td>\n",
       "    </tr>\n",
       "    <tr>\n",
       "      <th>1</th>\n",
       "      <td>-0.012317</td>\n",
       "    </tr>\n",
       "    <tr>\n",
       "      <th>2</th>\n",
       "      <td>0.002492</td>\n",
       "    </tr>\n",
       "    <tr>\n",
       "      <th>3</th>\n",
       "      <td>0.000001</td>\n",
       "    </tr>\n",
       "    <tr>\n",
       "      <th>4</th>\n",
       "      <td>0.003157</td>\n",
       "    </tr>\n",
       "    <tr>\n",
       "      <th>5</th>\n",
       "      <td>0.004798</td>\n",
       "    </tr>\n",
       "    <tr>\n",
       "      <th>6</th>\n",
       "      <td>-0.005170</td>\n",
       "    </tr>\n",
       "    <tr>\n",
       "      <th>7</th>\n",
       "      <td>0.000768</td>\n",
       "    </tr>\n",
       "    <tr>\n",
       "      <th>8</th>\n",
       "      <td>-0.000078</td>\n",
       "    </tr>\n",
       "    <tr>\n",
       "      <th>9</th>\n",
       "      <td>-0.001320</td>\n",
       "    </tr>\n",
       "    <tr>\n",
       "      <th>10</th>\n",
       "      <td>0.002170</td>\n",
       "    </tr>\n",
       "    <tr>\n",
       "      <th>11</th>\n",
       "      <td>0.001561</td>\n",
       "    </tr>\n",
       "    <tr>\n",
       "      <th>12</th>\n",
       "      <td>-0.010557</td>\n",
       "    </tr>\n",
       "    <tr>\n",
       "      <th>13</th>\n",
       "      <td>0.005404</td>\n",
       "    </tr>\n",
       "    <tr>\n",
       "      <th>14</th>\n",
       "      <td>0.022990</td>\n",
       "    </tr>\n",
       "    <tr>\n",
       "      <th>15</th>\n",
       "      <td>-0.002263</td>\n",
       "    </tr>\n",
       "    <tr>\n",
       "      <th>16</th>\n",
       "      <td>-0.001143</td>\n",
       "    </tr>\n",
       "    <tr>\n",
       "      <th>17</th>\n",
       "      <td>0.006872</td>\n",
       "    </tr>\n",
       "    <tr>\n",
       "      <th>18</th>\n",
       "      <td>-0.003687</td>\n",
       "    </tr>\n",
       "    <tr>\n",
       "      <th>19</th>\n",
       "      <td>0.000013</td>\n",
       "    </tr>\n",
       "    <tr>\n",
       "      <th>20</th>\n",
       "      <td>-0.011474</td>\n",
       "    </tr>\n",
       "    <tr>\n",
       "      <th>21</th>\n",
       "      <td>-1.000000</td>\n",
       "    </tr>\n",
       "  </tbody>\n",
       "</table>\n",
       "</div>"
      ],
      "text/plain": [
       "           0\n",
       "0  -0.001914\n",
       "1  -0.012317\n",
       "2   0.002492\n",
       "3   0.000001\n",
       "4   0.003157\n",
       "5   0.004798\n",
       "6  -0.005170\n",
       "7   0.000768\n",
       "8  -0.000078\n",
       "9  -0.001320\n",
       "10  0.002170\n",
       "11  0.001561\n",
       "12 -0.010557\n",
       "13  0.005404\n",
       "14  0.022990\n",
       "15 -0.002263\n",
       "16 -0.001143\n",
       "17  0.006872\n",
       "18 -0.003687\n",
       "19  0.000013\n",
       "20 -0.011474\n",
       "21 -1.000000"
      ]
     },
     "execution_count": 46,
     "metadata": {},
     "output_type": "execute_result"
    }
   ],
   "source": [
    "mean_list_non_rash - mean_list_rash"
   ]
  },
  {
   "cell_type": "markdown",
   "id": "1c4685df",
   "metadata": {},
   "source": [
    "## Grouping and Clustering"
   ]
  },
  {
   "cell_type": "markdown",
   "id": "fe78c26f",
   "metadata": {},
   "source": [
    "### Grouping Top 6"
   ]
  },
  {
   "cell_type": "markdown",
   "id": "bb838bcc",
   "metadata": {},
   "source": [
    "#### Grouping by 2"
   ]
  },
  {
   "cell_type": "code",
   "execution_count": 47,
   "id": "0bd946cc",
   "metadata": {},
   "outputs": [],
   "source": [
    "cetux_ext_coef_6 = cetux.drop(['pat_nr', 'B cells naive', 'B cells memory',\n",
    "       'T cells CD8', 'T cells CD4 naive', 'T cells CD4 memory resting',\n",
    "       'T cells CD4 memory activated', 'T cells follicular helper',\n",
    "       'T cells regulatory (Tregs)', 'T cells gamma delta', 'NK cells resting',\n",
    "       'NK cells activated', 'Monocytes',\n",
    "       'Dendritic cells resting',\n",
    "       'Dendritic cells activated',\n",
    "       'Mast cells activated', 'Eosinophils', 'P-value', 'sex',\n",
    "       'age', 'skin_rash', 'group_1', 'group_2', 'group_3', 'group_4',\n",
    "       'group_5', 'group_6', 'group_7', 'group_8', 'group_9', 'group_10',\n",
    "       'group_11'], axis = 1)"
   ]
  },
  {
   "cell_type": "code",
   "execution_count": 48,
   "id": "d1ab31f0",
   "metadata": {},
   "outputs": [
    {
     "data": {
      "text/html": [
       "<div>\n",
       "<style scoped>\n",
       "    .dataframe tbody tr th:only-of-type {\n",
       "        vertical-align: middle;\n",
       "    }\n",
       "\n",
       "    .dataframe tbody tr th {\n",
       "        vertical-align: top;\n",
       "    }\n",
       "\n",
       "    .dataframe thead th {\n",
       "        text-align: right;\n",
       "    }\n",
       "</style>\n",
       "<table border=\"1\" class=\"dataframe\">\n",
       "  <thead>\n",
       "    <tr style=\"text-align: right;\">\n",
       "      <th></th>\n",
       "      <th>Plasma cells</th>\n",
       "      <th>Macrophages M0</th>\n",
       "      <th>Macrophages M1</th>\n",
       "      <th>Macrophages M2</th>\n",
       "      <th>Mast cells resting</th>\n",
       "      <th>Neutrophils</th>\n",
       "    </tr>\n",
       "  </thead>\n",
       "  <tbody>\n",
       "    <tr>\n",
       "      <th>0</th>\n",
       "      <td>0.097330</td>\n",
       "      <td>0.012340</td>\n",
       "      <td>0.061996</td>\n",
       "      <td>0.019745</td>\n",
       "      <td>0.0</td>\n",
       "      <td>0.074924</td>\n",
       "    </tr>\n",
       "    <tr>\n",
       "      <th>1</th>\n",
       "      <td>0.105039</td>\n",
       "      <td>0.000000</td>\n",
       "      <td>0.000000</td>\n",
       "      <td>0.065631</td>\n",
       "      <td>0.0</td>\n",
       "      <td>0.070198</td>\n",
       "    </tr>\n",
       "    <tr>\n",
       "      <th>2</th>\n",
       "      <td>0.118399</td>\n",
       "      <td>0.008250</td>\n",
       "      <td>0.121340</td>\n",
       "      <td>0.005364</td>\n",
       "      <td>0.0</td>\n",
       "      <td>0.051155</td>\n",
       "    </tr>\n",
       "    <tr>\n",
       "      <th>3</th>\n",
       "      <td>0.186072</td>\n",
       "      <td>0.000000</td>\n",
       "      <td>0.018321</td>\n",
       "      <td>0.014802</td>\n",
       "      <td>0.0</td>\n",
       "      <td>0.004522</td>\n",
       "    </tr>\n",
       "    <tr>\n",
       "      <th>4</th>\n",
       "      <td>0.056297</td>\n",
       "      <td>0.011481</td>\n",
       "      <td>0.000000</td>\n",
       "      <td>0.167292</td>\n",
       "      <td>0.0</td>\n",
       "      <td>0.095906</td>\n",
       "    </tr>\n",
       "  </tbody>\n",
       "</table>\n",
       "</div>"
      ],
      "text/plain": [
       "   Plasma cells  Macrophages M0  Macrophages M1  Macrophages M2  \\\n",
       "0      0.097330        0.012340        0.061996        0.019745   \n",
       "1      0.105039        0.000000        0.000000        0.065631   \n",
       "2      0.118399        0.008250        0.121340        0.005364   \n",
       "3      0.186072        0.000000        0.018321        0.014802   \n",
       "4      0.056297        0.011481        0.000000        0.167292   \n",
       "\n",
       "   Mast cells resting  Neutrophils  \n",
       "0                 0.0     0.074924  \n",
       "1                 0.0     0.070198  \n",
       "2                 0.0     0.051155  \n",
       "3                 0.0     0.004522  \n",
       "4                 0.0     0.095906  "
      ]
     },
     "execution_count": 48,
     "metadata": {},
     "output_type": "execute_result"
    }
   ],
   "source": [
    "cetux_ext_coef_6.head()"
   ]
  },
  {
   "cell_type": "code",
   "execution_count": 49,
   "id": "fc31c57f",
   "metadata": {},
   "outputs": [],
   "source": [
    "from itertools import combinations\n",
    "\n",
    "comb = combinations([0, 1, 2, 3, 4, 5], 2)"
   ]
  },
  {
   "cell_type": "code",
   "execution_count": 50,
   "id": "98d205de",
   "metadata": {},
   "outputs": [],
   "source": [
    "import numpy as np\n",
    "\n",
    "new_6 = pd.DataFrame()\n",
    "for i, j in list(comb):\n",
    "    new_6[f'combi{i}{j}'] = cetux_ext_coef_6.iloc[:,i] + cetux_ext_coef_6.iloc[:, j]"
   ]
  },
  {
   "cell_type": "code",
   "execution_count": 51,
   "id": "054abae3",
   "metadata": {},
   "outputs": [
    {
     "data": {
      "text/html": [
       "<div>\n",
       "<style scoped>\n",
       "    .dataframe tbody tr th:only-of-type {\n",
       "        vertical-align: middle;\n",
       "    }\n",
       "\n",
       "    .dataframe tbody tr th {\n",
       "        vertical-align: top;\n",
       "    }\n",
       "\n",
       "    .dataframe thead th {\n",
       "        text-align: right;\n",
       "    }\n",
       "</style>\n",
       "<table border=\"1\" class=\"dataframe\">\n",
       "  <thead>\n",
       "    <tr style=\"text-align: right;\">\n",
       "      <th></th>\n",
       "      <th>combi01</th>\n",
       "      <th>combi02</th>\n",
       "      <th>combi03</th>\n",
       "      <th>combi04</th>\n",
       "      <th>combi05</th>\n",
       "      <th>combi12</th>\n",
       "      <th>combi13</th>\n",
       "      <th>combi14</th>\n",
       "      <th>combi15</th>\n",
       "      <th>combi23</th>\n",
       "      <th>combi24</th>\n",
       "      <th>combi25</th>\n",
       "      <th>combi34</th>\n",
       "      <th>combi35</th>\n",
       "      <th>combi45</th>\n",
       "    </tr>\n",
       "  </thead>\n",
       "  <tbody>\n",
       "    <tr>\n",
       "      <th>0</th>\n",
       "      <td>0.109669</td>\n",
       "      <td>0.159326</td>\n",
       "      <td>0.117074</td>\n",
       "      <td>0.097330</td>\n",
       "      <td>0.172254</td>\n",
       "      <td>0.074336</td>\n",
       "      <td>0.032085</td>\n",
       "      <td>0.012340</td>\n",
       "      <td>0.087264</td>\n",
       "      <td>0.081741</td>\n",
       "      <td>0.061996</td>\n",
       "      <td>0.136920</td>\n",
       "      <td>0.019745</td>\n",
       "      <td>0.094669</td>\n",
       "      <td>0.074924</td>\n",
       "    </tr>\n",
       "    <tr>\n",
       "      <th>1</th>\n",
       "      <td>0.105039</td>\n",
       "      <td>0.105039</td>\n",
       "      <td>0.170670</td>\n",
       "      <td>0.105039</td>\n",
       "      <td>0.175237</td>\n",
       "      <td>0.000000</td>\n",
       "      <td>0.065631</td>\n",
       "      <td>0.000000</td>\n",
       "      <td>0.070198</td>\n",
       "      <td>0.065631</td>\n",
       "      <td>0.000000</td>\n",
       "      <td>0.070198</td>\n",
       "      <td>0.065631</td>\n",
       "      <td>0.135829</td>\n",
       "      <td>0.070198</td>\n",
       "    </tr>\n",
       "    <tr>\n",
       "      <th>2</th>\n",
       "      <td>0.126650</td>\n",
       "      <td>0.239739</td>\n",
       "      <td>0.123764</td>\n",
       "      <td>0.118399</td>\n",
       "      <td>0.169554</td>\n",
       "      <td>0.129590</td>\n",
       "      <td>0.013614</td>\n",
       "      <td>0.008250</td>\n",
       "      <td>0.059405</td>\n",
       "      <td>0.126704</td>\n",
       "      <td>0.121340</td>\n",
       "      <td>0.172494</td>\n",
       "      <td>0.005364</td>\n",
       "      <td>0.056519</td>\n",
       "      <td>0.051155</td>\n",
       "    </tr>\n",
       "    <tr>\n",
       "      <th>3</th>\n",
       "      <td>0.186072</td>\n",
       "      <td>0.204393</td>\n",
       "      <td>0.200874</td>\n",
       "      <td>0.186072</td>\n",
       "      <td>0.190594</td>\n",
       "      <td>0.018321</td>\n",
       "      <td>0.014802</td>\n",
       "      <td>0.000000</td>\n",
       "      <td>0.004522</td>\n",
       "      <td>0.033123</td>\n",
       "      <td>0.018321</td>\n",
       "      <td>0.022843</td>\n",
       "      <td>0.014802</td>\n",
       "      <td>0.019325</td>\n",
       "      <td>0.004522</td>\n",
       "    </tr>\n",
       "    <tr>\n",
       "      <th>4</th>\n",
       "      <td>0.067779</td>\n",
       "      <td>0.056297</td>\n",
       "      <td>0.223589</td>\n",
       "      <td>0.056297</td>\n",
       "      <td>0.152203</td>\n",
       "      <td>0.011481</td>\n",
       "      <td>0.178773</td>\n",
       "      <td>0.011481</td>\n",
       "      <td>0.107387</td>\n",
       "      <td>0.167292</td>\n",
       "      <td>0.000000</td>\n",
       "      <td>0.095906</td>\n",
       "      <td>0.167292</td>\n",
       "      <td>0.263198</td>\n",
       "      <td>0.095906</td>\n",
       "    </tr>\n",
       "  </tbody>\n",
       "</table>\n",
       "</div>"
      ],
      "text/plain": [
       "    combi01   combi02   combi03   combi04   combi05   combi12   combi13  \\\n",
       "0  0.109669  0.159326  0.117074  0.097330  0.172254  0.074336  0.032085   \n",
       "1  0.105039  0.105039  0.170670  0.105039  0.175237  0.000000  0.065631   \n",
       "2  0.126650  0.239739  0.123764  0.118399  0.169554  0.129590  0.013614   \n",
       "3  0.186072  0.204393  0.200874  0.186072  0.190594  0.018321  0.014802   \n",
       "4  0.067779  0.056297  0.223589  0.056297  0.152203  0.011481  0.178773   \n",
       "\n",
       "    combi14   combi15   combi23   combi24   combi25   combi34   combi35  \\\n",
       "0  0.012340  0.087264  0.081741  0.061996  0.136920  0.019745  0.094669   \n",
       "1  0.000000  0.070198  0.065631  0.000000  0.070198  0.065631  0.135829   \n",
       "2  0.008250  0.059405  0.126704  0.121340  0.172494  0.005364  0.056519   \n",
       "3  0.000000  0.004522  0.033123  0.018321  0.022843  0.014802  0.019325   \n",
       "4  0.011481  0.107387  0.167292  0.000000  0.095906  0.167292  0.263198   \n",
       "\n",
       "    combi45  \n",
       "0  0.074924  \n",
       "1  0.070198  \n",
       "2  0.051155  \n",
       "3  0.004522  \n",
       "4  0.095906  "
      ]
     },
     "execution_count": 51,
     "metadata": {},
     "output_type": "execute_result"
    }
   ],
   "source": [
    "new_6.head()"
   ]
  },
  {
   "cell_type": "code",
   "execution_count": 52,
   "id": "ab3d41d0",
   "metadata": {},
   "outputs": [
    {
     "data": {
      "text/plain": [
       "KMeans(n_clusters=2)"
      ]
     },
     "execution_count": 52,
     "metadata": {},
     "output_type": "execute_result"
    }
   ],
   "source": [
    "from sklearn.cluster import KMeans\n",
    "\n",
    "km_cetux_combi = KMeans(n_clusters=2)\n",
    "km_cetux_combi.fit(new_6)"
   ]
  },
  {
   "cell_type": "code",
   "execution_count": 53,
   "id": "3babb613",
   "metadata": {},
   "outputs": [
    {
     "data": {
      "text/plain": [
       "array([[0.11985245, 0.13173361, 0.18346372, 0.10744244, 0.1480863 ,\n",
       "        0.05699777, 0.10872787, 0.03270659, 0.07335045, 0.12060903,\n",
       "        0.04458775, 0.08523161, 0.09631785, 0.13696172, 0.06094044],\n",
       "       [0.15790081, 0.15997914, 0.26022306, 0.19359883, 0.21687837,\n",
       "        0.05978978, 0.1600337 , 0.09340947, 0.11668901, 0.16211202,\n",
       "        0.09548779, 0.11876734, 0.19573171, 0.21901126, 0.15238702]])"
      ]
     },
     "execution_count": 53,
     "metadata": {},
     "output_type": "execute_result"
    }
   ],
   "source": [
    "km_cetux_combi.cluster_centers_"
   ]
  },
  {
   "cell_type": "code",
   "execution_count": 54,
   "id": "93f38c2d",
   "metadata": {},
   "outputs": [
    {
     "data": {
      "text/html": [
       "<div>\n",
       "<style scoped>\n",
       "    .dataframe tbody tr th:only-of-type {\n",
       "        vertical-align: middle;\n",
       "    }\n",
       "\n",
       "    .dataframe tbody tr th {\n",
       "        vertical-align: top;\n",
       "    }\n",
       "\n",
       "    .dataframe thead th {\n",
       "        text-align: right;\n",
       "    }\n",
       "</style>\n",
       "<table border=\"1\" class=\"dataframe\">\n",
       "  <thead>\n",
       "    <tr style=\"text-align: right;\">\n",
       "      <th></th>\n",
       "      <th>combi01</th>\n",
       "      <th>combi02</th>\n",
       "      <th>combi03</th>\n",
       "      <th>combi04</th>\n",
       "      <th>combi05</th>\n",
       "      <th>combi12</th>\n",
       "      <th>combi13</th>\n",
       "      <th>combi14</th>\n",
       "      <th>combi15</th>\n",
       "      <th>combi23</th>\n",
       "      <th>combi24</th>\n",
       "      <th>combi25</th>\n",
       "      <th>combi34</th>\n",
       "      <th>combi35</th>\n",
       "      <th>combi45</th>\n",
       "      <th>cluster_pred</th>\n",
       "      <th>skin_rash</th>\n",
       "    </tr>\n",
       "  </thead>\n",
       "  <tbody>\n",
       "    <tr>\n",
       "      <th>0</th>\n",
       "      <td>0.109669</td>\n",
       "      <td>0.159326</td>\n",
       "      <td>0.117074</td>\n",
       "      <td>0.097330</td>\n",
       "      <td>0.172254</td>\n",
       "      <td>0.074336</td>\n",
       "      <td>0.032085</td>\n",
       "      <td>0.012340</td>\n",
       "      <td>0.087264</td>\n",
       "      <td>0.081741</td>\n",
       "      <td>0.061996</td>\n",
       "      <td>0.136920</td>\n",
       "      <td>0.019745</td>\n",
       "      <td>0.094669</td>\n",
       "      <td>0.074924</td>\n",
       "      <td>0.0</td>\n",
       "      <td>1.0</td>\n",
       "    </tr>\n",
       "    <tr>\n",
       "      <th>1</th>\n",
       "      <td>0.105039</td>\n",
       "      <td>0.105039</td>\n",
       "      <td>0.170670</td>\n",
       "      <td>0.105039</td>\n",
       "      <td>0.175237</td>\n",
       "      <td>0.000000</td>\n",
       "      <td>0.065631</td>\n",
       "      <td>0.000000</td>\n",
       "      <td>0.070198</td>\n",
       "      <td>0.065631</td>\n",
       "      <td>0.000000</td>\n",
       "      <td>0.070198</td>\n",
       "      <td>0.065631</td>\n",
       "      <td>0.135829</td>\n",
       "      <td>0.070198</td>\n",
       "      <td>0.0</td>\n",
       "      <td>1.0</td>\n",
       "    </tr>\n",
       "    <tr>\n",
       "      <th>2</th>\n",
       "      <td>0.126650</td>\n",
       "      <td>0.239739</td>\n",
       "      <td>0.123764</td>\n",
       "      <td>0.118399</td>\n",
       "      <td>0.169554</td>\n",
       "      <td>0.129590</td>\n",
       "      <td>0.013614</td>\n",
       "      <td>0.008250</td>\n",
       "      <td>0.059405</td>\n",
       "      <td>0.126704</td>\n",
       "      <td>0.121340</td>\n",
       "      <td>0.172494</td>\n",
       "      <td>0.005364</td>\n",
       "      <td>0.056519</td>\n",
       "      <td>0.051155</td>\n",
       "      <td>0.0</td>\n",
       "      <td>1.0</td>\n",
       "    </tr>\n",
       "    <tr>\n",
       "      <th>3</th>\n",
       "      <td>0.186072</td>\n",
       "      <td>0.204393</td>\n",
       "      <td>0.200874</td>\n",
       "      <td>0.186072</td>\n",
       "      <td>0.190594</td>\n",
       "      <td>0.018321</td>\n",
       "      <td>0.014802</td>\n",
       "      <td>0.000000</td>\n",
       "      <td>0.004522</td>\n",
       "      <td>0.033123</td>\n",
       "      <td>0.018321</td>\n",
       "      <td>0.022843</td>\n",
       "      <td>0.014802</td>\n",
       "      <td>0.019325</td>\n",
       "      <td>0.004522</td>\n",
       "      <td>0.0</td>\n",
       "      <td>1.0</td>\n",
       "    </tr>\n",
       "    <tr>\n",
       "      <th>4</th>\n",
       "      <td>0.067779</td>\n",
       "      <td>0.056297</td>\n",
       "      <td>0.223589</td>\n",
       "      <td>0.056297</td>\n",
       "      <td>0.152203</td>\n",
       "      <td>0.011481</td>\n",
       "      <td>0.178773</td>\n",
       "      <td>0.011481</td>\n",
       "      <td>0.107387</td>\n",
       "      <td>0.167292</td>\n",
       "      <td>0.000000</td>\n",
       "      <td>0.095906</td>\n",
       "      <td>0.167292</td>\n",
       "      <td>0.263198</td>\n",
       "      <td>0.095906</td>\n",
       "      <td>0.0</td>\n",
       "      <td>1.0</td>\n",
       "    </tr>\n",
       "    <tr>\n",
       "      <th>...</th>\n",
       "      <td>...</td>\n",
       "      <td>...</td>\n",
       "      <td>...</td>\n",
       "      <td>...</td>\n",
       "      <td>...</td>\n",
       "      <td>...</td>\n",
       "      <td>...</td>\n",
       "      <td>...</td>\n",
       "      <td>...</td>\n",
       "      <td>...</td>\n",
       "      <td>...</td>\n",
       "      <td>...</td>\n",
       "      <td>...</td>\n",
       "      <td>...</td>\n",
       "      <td>...</td>\n",
       "      <td>...</td>\n",
       "      <td>...</td>\n",
       "    </tr>\n",
       "    <tr>\n",
       "      <th>95</th>\n",
       "      <td>0.201381</td>\n",
       "      <td>0.219803</td>\n",
       "      <td>0.280557</td>\n",
       "      <td>0.199889</td>\n",
       "      <td>0.220150</td>\n",
       "      <td>0.021405</td>\n",
       "      <td>0.082159</td>\n",
       "      <td>0.001491</td>\n",
       "      <td>0.021752</td>\n",
       "      <td>0.100581</td>\n",
       "      <td>0.019913</td>\n",
       "      <td>0.040174</td>\n",
       "      <td>0.080667</td>\n",
       "      <td>0.100928</td>\n",
       "      <td>0.020261</td>\n",
       "      <td>0.0</td>\n",
       "      <td>1.0</td>\n",
       "    </tr>\n",
       "    <tr>\n",
       "      <th>96</th>\n",
       "      <td>0.088837</td>\n",
       "      <td>0.153655</td>\n",
       "      <td>0.214616</td>\n",
       "      <td>0.122340</td>\n",
       "      <td>0.143996</td>\n",
       "      <td>0.065174</td>\n",
       "      <td>0.126135</td>\n",
       "      <td>0.033859</td>\n",
       "      <td>0.055516</td>\n",
       "      <td>0.190953</td>\n",
       "      <td>0.098677</td>\n",
       "      <td>0.120333</td>\n",
       "      <td>0.159638</td>\n",
       "      <td>0.181294</td>\n",
       "      <td>0.089018</td>\n",
       "      <td>0.0</td>\n",
       "      <td>0.0</td>\n",
       "    </tr>\n",
       "    <tr>\n",
       "      <th>97</th>\n",
       "      <td>0.093333</td>\n",
       "      <td>0.186915</td>\n",
       "      <td>0.172245</td>\n",
       "      <td>0.148280</td>\n",
       "      <td>0.250329</td>\n",
       "      <td>0.093581</td>\n",
       "      <td>0.078912</td>\n",
       "      <td>0.054947</td>\n",
       "      <td>0.156996</td>\n",
       "      <td>0.172493</td>\n",
       "      <td>0.148528</td>\n",
       "      <td>0.250577</td>\n",
       "      <td>0.133859</td>\n",
       "      <td>0.235908</td>\n",
       "      <td>0.211943</td>\n",
       "      <td>1.0</td>\n",
       "      <td>0.0</td>\n",
       "    </tr>\n",
       "    <tr>\n",
       "      <th>98</th>\n",
       "      <td>0.269295</td>\n",
       "      <td>0.141494</td>\n",
       "      <td>0.282089</td>\n",
       "      <td>0.141494</td>\n",
       "      <td>0.141494</td>\n",
       "      <td>0.127801</td>\n",
       "      <td>0.268396</td>\n",
       "      <td>0.127801</td>\n",
       "      <td>0.127801</td>\n",
       "      <td>0.140595</td>\n",
       "      <td>0.000000</td>\n",
       "      <td>0.000000</td>\n",
       "      <td>0.140595</td>\n",
       "      <td>0.140595</td>\n",
       "      <td>0.000000</td>\n",
       "      <td>0.0</td>\n",
       "      <td>1.0</td>\n",
       "    </tr>\n",
       "    <tr>\n",
       "      <th>99</th>\n",
       "      <td>0.129108</td>\n",
       "      <td>0.129108</td>\n",
       "      <td>0.381863</td>\n",
       "      <td>0.181716</td>\n",
       "      <td>0.181340</td>\n",
       "      <td>0.000000</td>\n",
       "      <td>0.252755</td>\n",
       "      <td>0.052608</td>\n",
       "      <td>0.052232</td>\n",
       "      <td>0.252755</td>\n",
       "      <td>0.052608</td>\n",
       "      <td>0.052232</td>\n",
       "      <td>0.305363</td>\n",
       "      <td>0.304988</td>\n",
       "      <td>0.104840</td>\n",
       "      <td>1.0</td>\n",
       "      <td>0.0</td>\n",
       "    </tr>\n",
       "  </tbody>\n",
       "</table>\n",
       "<p>100 rows × 17 columns</p>\n",
       "</div>"
      ],
      "text/plain": [
       "     combi01   combi02   combi03   combi04   combi05   combi12   combi13  \\\n",
       "0   0.109669  0.159326  0.117074  0.097330  0.172254  0.074336  0.032085   \n",
       "1   0.105039  0.105039  0.170670  0.105039  0.175237  0.000000  0.065631   \n",
       "2   0.126650  0.239739  0.123764  0.118399  0.169554  0.129590  0.013614   \n",
       "3   0.186072  0.204393  0.200874  0.186072  0.190594  0.018321  0.014802   \n",
       "4   0.067779  0.056297  0.223589  0.056297  0.152203  0.011481  0.178773   \n",
       "..       ...       ...       ...       ...       ...       ...       ...   \n",
       "95  0.201381  0.219803  0.280557  0.199889  0.220150  0.021405  0.082159   \n",
       "96  0.088837  0.153655  0.214616  0.122340  0.143996  0.065174  0.126135   \n",
       "97  0.093333  0.186915  0.172245  0.148280  0.250329  0.093581  0.078912   \n",
       "98  0.269295  0.141494  0.282089  0.141494  0.141494  0.127801  0.268396   \n",
       "99  0.129108  0.129108  0.381863  0.181716  0.181340  0.000000  0.252755   \n",
       "\n",
       "     combi14   combi15   combi23   combi24   combi25   combi34   combi35  \\\n",
       "0   0.012340  0.087264  0.081741  0.061996  0.136920  0.019745  0.094669   \n",
       "1   0.000000  0.070198  0.065631  0.000000  0.070198  0.065631  0.135829   \n",
       "2   0.008250  0.059405  0.126704  0.121340  0.172494  0.005364  0.056519   \n",
       "3   0.000000  0.004522  0.033123  0.018321  0.022843  0.014802  0.019325   \n",
       "4   0.011481  0.107387  0.167292  0.000000  0.095906  0.167292  0.263198   \n",
       "..       ...       ...       ...       ...       ...       ...       ...   \n",
       "95  0.001491  0.021752  0.100581  0.019913  0.040174  0.080667  0.100928   \n",
       "96  0.033859  0.055516  0.190953  0.098677  0.120333  0.159638  0.181294   \n",
       "97  0.054947  0.156996  0.172493  0.148528  0.250577  0.133859  0.235908   \n",
       "98  0.127801  0.127801  0.140595  0.000000  0.000000  0.140595  0.140595   \n",
       "99  0.052608  0.052232  0.252755  0.052608  0.052232  0.305363  0.304988   \n",
       "\n",
       "     combi45  cluster_pred  skin_rash  \n",
       "0   0.074924           0.0        1.0  \n",
       "1   0.070198           0.0        1.0  \n",
       "2   0.051155           0.0        1.0  \n",
       "3   0.004522           0.0        1.0  \n",
       "4   0.095906           0.0        1.0  \n",
       "..       ...           ...        ...  \n",
       "95  0.020261           0.0        1.0  \n",
       "96  0.089018           0.0        0.0  \n",
       "97  0.211943           1.0        0.0  \n",
       "98  0.000000           0.0        1.0  \n",
       "99  0.104840           1.0        0.0  \n",
       "\n",
       "[100 rows x 17 columns]"
      ]
     },
     "execution_count": 54,
     "metadata": {},
     "output_type": "execute_result"
    }
   ],
   "source": [
    "new_6['cluster_pred'] = km_cetux_combi.predict(new_6)\n",
    "new_6['skin_rash'] = cetux['skin_rash']\n",
    "new_6['cluster_pred'] = new_6['cluster_pred'].astype('float64')\n",
    "new_6.head(100)"
   ]
  },
  {
   "cell_type": "code",
   "execution_count": 55,
   "id": "b1daa280",
   "metadata": {},
   "outputs": [
    {
     "data": {
      "text/plain": [
       "<sklearn.metrics._plot.confusion_matrix.ConfusionMatrixDisplay at 0x7f776bea0a30>"
      ]
     },
     "execution_count": 55,
     "metadata": {},
     "output_type": "execute_result"
    },
    {
     "data": {
      "image/png": "[encoded data removed]",
      "text/plain": [
       "<Figure size 432x288 with 2 Axes>"
      ]
     },
     "metadata": {
      "needs_background": "light"
     },
     "output_type": "display_data"
    }
   ],
   "source": [
    "from sklearn.metrics import confusion_matrix\n",
    "from sklearn.metrics import ConfusionMatrixDisplay\n",
    "\n",
    "cm = confusion_matrix(new_6['skin_rash'], new_6['cluster_pred'])\n",
    "\n",
    "ConfusionMatrixDisplay(cm).plot()"
   ]
  },
  {
   "cell_type": "markdown",
   "id": "f1b4f1d2",
   "metadata": {},
   "source": [
    "### Grouping Top 8"
   ]
  },
  {
   "cell_type": "markdown",
   "id": "f89c06eb",
   "metadata": {},
   "source": [
    "#### Grouping by 2"
   ]
  },
  {
   "cell_type": "code",
   "execution_count": 56,
   "id": "c021b51d",
   "metadata": {},
   "outputs": [],
   "source": [
    "cetux_ext_coef_8 = cetux.drop(['pat_nr', 'B cells memory', 'B cells naive',\n",
    "       'T cells CD8', 'T cells CD4 naive', 'T cells CD4 memory resting',\n",
    "       'T cells regulatory (Tregs)', 'T cells gamma delta', 'NK cells resting',\n",
    "       'NK cells activated', 'Monocytes',\n",
    "       'Dendritic cells resting',\n",
    "       'Dendritic cells activated',\n",
    "       'Mast cells activated', 'Eosinophils', 'P-value', 'sex',\n",
    "       'age', 'skin_rash', 'group_1', 'group_2', 'group_3', 'group_4',\n",
    "       'group_5', 'group_6', 'group_7', 'group_8', 'group_9', 'group_10',\n",
    "       'group_11'], axis = 1)"
   ]
  },
  {
   "cell_type": "code",
   "execution_count": 58,
   "id": "2077a652",
   "metadata": {},
   "outputs": [],
   "source": [
    "comb_2 = combinations([0, 1, 2, 3, 4, 5, 6, 7], 2)\n",
    "\n",
    "new_8 = pd.DataFrame()\n",
    "for i, j in list(comb_2):\n",
    "    new_8[f'combi{i}{j}'] = cetux_ext_coef_8.iloc[:,i] + cetux_ext_coef_8.iloc[:, j]"
   ]
  },
  {
   "cell_type": "code",
   "execution_count": 59,
   "id": "c4b44261",
   "metadata": {},
   "outputs": [
    {
     "data": {
      "text/plain": [
       "KMeans(n_clusters=2)"
      ]
     },
     "execution_count": 59,
     "metadata": {},
     "output_type": "execute_result"
    }
   ],
   "source": [
    "km_cetux_combi_2 = KMeans(n_clusters=2)\n",
    "km_cetux_combi_2.fit(new_8)"
   ]
  },
  {
   "cell_type": "code",
   "execution_count": 60,
   "id": "80427b94",
   "metadata": {},
   "outputs": [],
   "source": [
    "new_8['cluster_pred'] = km_cetux_combi_2.predict(new_8)\n",
    "new_8['skin_rash'] = cetux['skin_rash']\n",
    "new_8['cluster_pred'] = new_8['cluster_pred'].astype('float64')"
   ]
  },
  {
   "cell_type": "code",
   "execution_count": 61,
   "id": "4d5bf383",
   "metadata": {},
   "outputs": [
    {
     "data": {
      "text/plain": [
       "<sklearn.metrics._plot.confusion_matrix.ConfusionMatrixDisplay at 0x7f77685e1b80>"
      ]
     },
     "execution_count": 61,
     "metadata": {},
     "output_type": "execute_result"
    },
    {
     "data": {
      "image/png": "[encoded data removed]",
      "text/plain": [
       "<Figure size 432x288 with 2 Axes>"
      ]
     },
     "metadata": {
      "needs_background": "light"
     },
     "output_type": "display_data"
    }
   ],
   "source": [
    "from sklearn.metrics import confusion_matrix\n",
    "from sklearn.metrics import ConfusionMatrixDisplay\n",
    "\n",
    "cm_2 = confusion_matrix(new_8['skin_rash'], new_8['cluster_pred'])\n",
    "\n",
    "ConfusionMatrixDisplay(cm_2).plot()"
   ]
  },
  {
   "cell_type": "code",
   "execution_count": 62,
   "id": "fc28aa53",
   "metadata": {},
   "outputs": [
    {
     "data": {
      "text/plain": [
       "0.44036697247706424"
      ]
     },
     "execution_count": 62,
     "metadata": {},
     "output_type": "execute_result"
    }
   ],
   "source": [
    "true_ratio_2 = (cm_2[0, 0] + cm_2[1,1])/218\n",
    "true_ratio_2"
   ]
  },
  {
   "cell_type": "markdown",
   "id": "b3d5aa67",
   "metadata": {},
   "source": [
    "#### Grouping by 3"
   ]
  },
  {
   "cell_type": "code",
   "execution_count": 63,
   "id": "6733271a",
   "metadata": {},
   "outputs": [],
   "source": [
    "comb_3 = combinations(range(8), 3)\n",
    "\n",
    "new_8_3 = pd.DataFrame()\n",
    "for i, j, k in list(comb_3):\n",
    "    new_8_3[f'combi{i}{j}{k}'] = cetux_ext_coef_8.iloc[:,i] + cetux_ext_coef_8.iloc[:, j] + cetux_ext_coef_8.iloc[:,k]"
   ]
  },
  {
   "cell_type": "code",
   "execution_count": 64,
   "id": "14bb067c",
   "metadata": {},
   "outputs": [
    {
     "data": {
      "text/plain": [
       "KMeans(n_clusters=2)"
      ]
     },
     "execution_count": 64,
     "metadata": {},
     "output_type": "execute_result"
    }
   ],
   "source": [
    "km_cetux_combi_3 = KMeans(n_clusters=2)\n",
    "km_cetux_combi_3.fit(new_8_3)"
   ]
  },
  {
   "cell_type": "code",
   "execution_count": 84,
   "id": "2f659870",
   "metadata": {},
   "outputs": [
    {
     "name": "stderr",
     "output_type": "stream",
     "text": [
      "/home/henry/.pyenv/versions/3.8.12/envs/health/lib/python3.8/site-packages/sklearn/base.py:488: FutureWarning: The feature names should match those that were passed during fit. Starting version 1.2, an error will be raised.\n",
      "Feature names unseen at fit time:\n",
      "- cluster_pred\n",
      "- skin_rash\n",
      "Feature names must be in the same order as they were in fit.\n",
      "\n",
      "  warnings.warn(message, FutureWarning)\n"
     ]
    },
    {
     "ename": "ValueError",
     "evalue": "X has 58 features, but KMeans is expecting 56 features as input.",
     "output_type": "error",
     "traceback": [
      "\u001b[0;31m---------------------------------------------------------------------------\u001b[0m",
      "\u001b[0;31mValueError\u001b[0m                                Traceback (most recent call last)",
      "\u001b[0;32m/tmp/ipykernel_2126/1602238652.py\u001b[0m in \u001b[0;36m<module>\u001b[0;34m\u001b[0m\n\u001b[0;32m----> 1\u001b[0;31m \u001b[0mnew_8_3\u001b[0m\u001b[0;34m[\u001b[0m\u001b[0;34m'cluster_pred'\u001b[0m\u001b[0;34m]\u001b[0m \u001b[0;34m=\u001b[0m \u001b[0mkm_cetux_combi_3\u001b[0m\u001b[0;34m.\u001b[0m\u001b[0mpredict\u001b[0m\u001b[0;34m(\u001b[0m\u001b[0mnew_8_3\u001b[0m\u001b[0;34m)\u001b[0m\u001b[0;34m\u001b[0m\u001b[0;34m\u001b[0m\u001b[0m\n\u001b[0m\u001b[1;32m      2\u001b[0m \u001b[0mnew_8_3\u001b[0m\u001b[0;34m[\u001b[0m\u001b[0;34m'skin_rash'\u001b[0m\u001b[0;34m]\u001b[0m \u001b[0;34m=\u001b[0m \u001b[0mcetux\u001b[0m\u001b[0;34m[\u001b[0m\u001b[0;34m'skin_rash'\u001b[0m\u001b[0;34m]\u001b[0m\u001b[0;34m\u001b[0m\u001b[0;34m\u001b[0m\u001b[0m\n\u001b[1;32m      3\u001b[0m \u001b[0mnew_8_3\u001b[0m\u001b[0;34m[\u001b[0m\u001b[0;34m'cluster_pred'\u001b[0m\u001b[0;34m]\u001b[0m \u001b[0;34m=\u001b[0m \u001b[0mnew_8_3\u001b[0m\u001b[0;34m[\u001b[0m\u001b[0;34m'cluster_pred'\u001b[0m\u001b[0;34m]\u001b[0m\u001b[0;34m.\u001b[0m\u001b[0mastype\u001b[0m\u001b[0;34m(\u001b[0m\u001b[0;34m'float64'\u001b[0m\u001b[0;34m)\u001b[0m\u001b[0;34m\u001b[0m\u001b[0;34m\u001b[0m\u001b[0m\n",
      "\u001b[0;32m~/.pyenv/versions/3.8.12/envs/health/lib/python3.8/site-packages/sklearn/cluster/_kmeans.py\u001b[0m in \u001b[0;36mpredict\u001b[0;34m(self, X, sample_weight)\u001b[0m\n\u001b[1;32m   1331\u001b[0m         \u001b[0mcheck_is_fitted\u001b[0m\u001b[0;34m(\u001b[0m\u001b[0mself\u001b[0m\u001b[0;34m)\u001b[0m\u001b[0;34m\u001b[0m\u001b[0;34m\u001b[0m\u001b[0m\n\u001b[1;32m   1332\u001b[0m \u001b[0;34m\u001b[0m\u001b[0m\n\u001b[0;32m-> 1333\u001b[0;31m         \u001b[0mX\u001b[0m \u001b[0;34m=\u001b[0m \u001b[0mself\u001b[0m\u001b[0;34m.\u001b[0m\u001b[0m_check_test_data\u001b[0m\u001b[0;34m(\u001b[0m\u001b[0mX\u001b[0m\u001b[0;34m)\u001b[0m\u001b[0;34m\u001b[0m\u001b[0;34m\u001b[0m\u001b[0m\n\u001b[0m\u001b[1;32m   1334\u001b[0m         \u001b[0mx_squared_norms\u001b[0m \u001b[0;34m=\u001b[0m \u001b[0mrow_norms\u001b[0m\u001b[0;34m(\u001b[0m\u001b[0mX\u001b[0m\u001b[0;34m,\u001b[0m \u001b[0msquared\u001b[0m\u001b[0;34m=\u001b[0m\u001b[0;32mTrue\u001b[0m\u001b[0;34m)\u001b[0m\u001b[0;34m\u001b[0m\u001b[0;34m\u001b[0m\u001b[0m\n\u001b[1;32m   1335\u001b[0m         \u001b[0msample_weight\u001b[0m \u001b[0;34m=\u001b[0m \u001b[0m_check_sample_weight\u001b[0m\u001b[0;34m(\u001b[0m\u001b[0msample_weight\u001b[0m\u001b[0;34m,\u001b[0m \u001b[0mX\u001b[0m\u001b[0;34m,\u001b[0m \u001b[0mdtype\u001b[0m\u001b[0;34m=\u001b[0m\u001b[0mX\u001b[0m\u001b[0;34m.\u001b[0m\u001b[0mdtype\u001b[0m\u001b[0;34m)\u001b[0m\u001b[0;34m\u001b[0m\u001b[0;34m\u001b[0m\u001b[0m\n",
      "\u001b[0;32m~/.pyenv/versions/3.8.12/envs/health/lib/python3.8/site-packages/sklearn/cluster/_kmeans.py\u001b[0m in \u001b[0;36m_check_test_data\u001b[0;34m(self, X)\u001b[0m\n\u001b[1;32m   1008\u001b[0m \u001b[0;34m\u001b[0m\u001b[0m\n\u001b[1;32m   1009\u001b[0m     \u001b[0;32mdef\u001b[0m \u001b[0m_check_test_data\u001b[0m\u001b[0;34m(\u001b[0m\u001b[0mself\u001b[0m\u001b[0;34m,\u001b[0m \u001b[0mX\u001b[0m\u001b[0;34m)\u001b[0m\u001b[0;34m:\u001b[0m\u001b[0;34m\u001b[0m\u001b[0;34m\u001b[0m\u001b[0m\n\u001b[0;32m-> 1010\u001b[0;31m         X = self._validate_data(\n\u001b[0m\u001b[1;32m   1011\u001b[0m             \u001b[0mX\u001b[0m\u001b[0;34m,\u001b[0m\u001b[0;34m\u001b[0m\u001b[0;34m\u001b[0m\u001b[0m\n\u001b[1;32m   1012\u001b[0m             \u001b[0maccept_sparse\u001b[0m\u001b[0;34m=\u001b[0m\u001b[0;34m\"csr\"\u001b[0m\u001b[0;34m,\u001b[0m\u001b[0;34m\u001b[0m\u001b[0;34m\u001b[0m\u001b[0m\n",
      "\u001b[0;32m~/.pyenv/versions/3.8.12/envs/health/lib/python3.8/site-packages/sklearn/base.py\u001b[0m in \u001b[0;36m_validate_data\u001b[0;34m(self, X, y, reset, validate_separately, **check_params)\u001b[0m\n\u001b[1;32m    578\u001b[0m \u001b[0;34m\u001b[0m\u001b[0m\n\u001b[1;32m    579\u001b[0m         \u001b[0;32mif\u001b[0m \u001b[0;32mnot\u001b[0m \u001b[0mno_val_X\u001b[0m \u001b[0;32mand\u001b[0m \u001b[0mcheck_params\u001b[0m\u001b[0;34m.\u001b[0m\u001b[0mget\u001b[0m\u001b[0;34m(\u001b[0m\u001b[0;34m\"ensure_2d\"\u001b[0m\u001b[0;34m,\u001b[0m \u001b[0;32mTrue\u001b[0m\u001b[0;34m)\u001b[0m\u001b[0;34m:\u001b[0m\u001b[0;34m\u001b[0m\u001b[0;34m\u001b[0m\u001b[0m\n\u001b[0;32m--> 580\u001b[0;31m             \u001b[0mself\u001b[0m\u001b[0;34m.\u001b[0m\u001b[0m_check_n_features\u001b[0m\u001b[0;34m(\u001b[0m\u001b[0mX\u001b[0m\u001b[0;34m,\u001b[0m \u001b[0mreset\u001b[0m\u001b[0;34m=\u001b[0m\u001b[0mreset\u001b[0m\u001b[0;34m)\u001b[0m\u001b[0;34m\u001b[0m\u001b[0;34m\u001b[0m\u001b[0m\n\u001b[0m\u001b[1;32m    581\u001b[0m \u001b[0;34m\u001b[0m\u001b[0m\n\u001b[1;32m    582\u001b[0m         \u001b[0;32mreturn\u001b[0m \u001b[0mout\u001b[0m\u001b[0;34m\u001b[0m\u001b[0;34m\u001b[0m\u001b[0m\n",
      "\u001b[0;32m~/.pyenv/versions/3.8.12/envs/health/lib/python3.8/site-packages/sklearn/base.py\u001b[0m in \u001b[0;36m_check_n_features\u001b[0;34m(self, X, reset)\u001b[0m\n\u001b[1;32m    393\u001b[0m \u001b[0;34m\u001b[0m\u001b[0m\n\u001b[1;32m    394\u001b[0m         \u001b[0;32mif\u001b[0m \u001b[0mn_features\u001b[0m \u001b[0;34m!=\u001b[0m \u001b[0mself\u001b[0m\u001b[0;34m.\u001b[0m\u001b[0mn_features_in_\u001b[0m\u001b[0;34m:\u001b[0m\u001b[0;34m\u001b[0m\u001b[0;34m\u001b[0m\u001b[0m\n\u001b[0;32m--> 395\u001b[0;31m             raise ValueError(\n\u001b[0m\u001b[1;32m    396\u001b[0m                 \u001b[0;34mf\"X has {n_features} features, but {self.__class__.__name__} \"\u001b[0m\u001b[0;34m\u001b[0m\u001b[0;34m\u001b[0m\u001b[0m\n\u001b[1;32m    397\u001b[0m                 \u001b[0;34mf\"is expecting {self.n_features_in_} features as input.\"\u001b[0m\u001b[0;34m\u001b[0m\u001b[0;34m\u001b[0m\u001b[0m\n",
      "\u001b[0;31mValueError\u001b[0m: X has 58 features, but KMeans is expecting 56 features as input."
     ]
    }
   ],
   "source": [
    "new_8_3['cluster_pred'] = km_cetux_combi_3.predict(new_8_3)\n",
    "new_8_3['skin_rash'] = cetux['skin_rash']\n",
    "new_8_3['cluster_pred'] = new_8_3['cluster_pred'].astype('float64')"
   ]
  },
  {
   "cell_type": "code",
   "execution_count": 66,
   "id": "36a27550",
   "metadata": {},
   "outputs": [
    {
     "data": {
      "text/plain": [
       "<sklearn.metrics._plot.confusion_matrix.ConfusionMatrixDisplay at 0x7f776650c4c0>"
      ]
     },
     "execution_count": 66,
     "metadata": {},
     "output_type": "execute_result"
    },
    {
     "data": {
      "image/png": "[encoded data removed]",
      "text/plain": [
       "<Figure size 432x288 with 2 Axes>"
      ]
     },
     "metadata": {
      "needs_background": "light"
     },
     "output_type": "display_data"
    }
   ],
   "source": [
    "cm_3 = confusion_matrix(new_8_3['skin_rash'], new_8_3['cluster_pred'])\n",
    "\n",
    "ConfusionMatrixDisplay(cm_3).plot()"
   ]
  },
  {
   "cell_type": "code",
   "execution_count": 67,
   "id": "3fe815f1",
   "metadata": {},
   "outputs": [
    {
     "data": {
      "text/plain": [
       "0.46788990825688076"
      ]
     },
     "execution_count": 67,
     "metadata": {},
     "output_type": "execute_result"
    }
   ],
   "source": [
    "true_ratio_3 = (cm_3[0, 0] + cm_3[1,1])/218\n",
    "true_ratio_3"
   ]
  },
  {
   "cell_type": "markdown",
   "id": "df846db4",
   "metadata": {},
   "source": [
    "#### Grouping by 4 "
   ]
  },
  {
   "cell_type": "code",
   "execution_count": 68,
   "id": "a09a4531",
   "metadata": {},
   "outputs": [],
   "source": [
    "comb_4 = combinations(range(8), 4)\n",
    "\n",
    "new_8_4 = pd.DataFrame()\n",
    "for i, j, k, m in list(comb_4):\n",
    "    new_8_4[f'combi{i}{j}{k}{m}'] = cetux_ext_coef_8.iloc[:,i] + cetux_ext_coef_8.iloc[:, j] + cetux_ext_coef_8.iloc[:,k] + cetux_ext_coef_8.iloc[:,m]"
   ]
  },
  {
   "cell_type": "code",
   "execution_count": 69,
   "id": "16a0b35a",
   "metadata": {},
   "outputs": [
    {
     "data": {
      "text/plain": [
       "KMeans(n_clusters=2)"
      ]
     },
     "execution_count": 69,
     "metadata": {},
     "output_type": "execute_result"
    }
   ],
   "source": [
    "km_cetux_combi_4 = KMeans(n_clusters=2)\n",
    "km_cetux_combi_4.fit(new_8_4)"
   ]
  },
  {
   "cell_type": "code",
   "execution_count": 70,
   "id": "c2cd19a2",
   "metadata": {},
   "outputs": [],
   "source": [
    "new_8_4['cluster_pred'] = km_cetux_combi_4.predict(new_8_4)\n",
    "new_8_4['skin_rash'] = cetux['skin_rash']\n",
    "new_8_4['cluster_pred'] = new_8_4['cluster_pred'].astype('float64')"
   ]
  },
  {
   "cell_type": "code",
   "execution_count": 71,
   "id": "2d7a077f",
   "metadata": {},
   "outputs": [
    {
     "data": {
      "text/plain": [
       "<sklearn.metrics._plot.confusion_matrix.ConfusionMatrixDisplay at 0x7f776643c790>"
      ]
     },
     "execution_count": 71,
     "metadata": {},
     "output_type": "execute_result"
    },
    {
     "data": {
      "image/png": "[encoded data removed]",
      "text/plain": [
       "<Figure size 432x288 with 2 Axes>"
      ]
     },
     "metadata": {
      "needs_background": "light"
     },
     "output_type": "display_data"
    }
   ],
   "source": [
    "cm_4 = confusion_matrix(new_8_4['skin_rash'], new_8_4['cluster_pred'])\n",
    "\n",
    "ConfusionMatrixDisplay(cm_4).plot()"
   ]
  },
  {
   "cell_type": "code",
   "execution_count": 72,
   "id": "9a21afa9",
   "metadata": {},
   "outputs": [
    {
     "data": {
      "text/plain": [
       "0.4541284403669725"
      ]
     },
     "execution_count": 72,
     "metadata": {},
     "output_type": "execute_result"
    }
   ],
   "source": [
    "true_ratio_4 = (cm_4[0, 0] + cm_4[1,1])/218\n",
    "true_ratio_4"
   ]
  },
  {
   "cell_type": "markdown",
   "id": "830ccd06",
   "metadata": {},
   "source": [
    "#### Group by 5"
   ]
  },
  {
   "cell_type": "code",
   "execution_count": 73,
   "id": "4eabf76e",
   "metadata": {},
   "outputs": [],
   "source": [
    "comb_5 = combinations(range(8), 5)\n",
    "\n",
    "new_8_5 = pd.DataFrame()\n",
    "for i, j, k, m, n in list(comb_5):\n",
    "    new_8_5[f'combi{i}{j}{k}{m}{n}'] = cetux_ext_coef_8.iloc[:,i] + cetux_ext_coef_8.iloc[:, j] + cetux_ext_coef_8.iloc[:,k] + cetux_ext_coef_8.iloc[:,m] + cetux_ext_coef_8.iloc[:,n]"
   ]
  },
  {
   "cell_type": "code",
   "execution_count": 74,
   "id": "89eba4cd",
   "metadata": {},
   "outputs": [
    {
     "data": {
      "text/plain": [
       "KMeans(n_clusters=2)"
      ]
     },
     "execution_count": 74,
     "metadata": {},
     "output_type": "execute_result"
    }
   ],
   "source": [
    "km_cetux_combi_5 = KMeans(n_clusters=2)\n",
    "km_cetux_combi_5.fit(new_8_5)"
   ]
  },
  {
   "cell_type": "code",
   "execution_count": 75,
   "id": "07845f7a",
   "metadata": {},
   "outputs": [],
   "source": [
    "new_8_5['cluster_pred'] = km_cetux_combi_5.predict(new_8_5)\n",
    "new_8_5['skin_rash'] = cetux['skin_rash']\n",
    "new_8_5['cluster_pred'] = new_8_5['cluster_pred'].astype('float64')"
   ]
  },
  {
   "cell_type": "code",
   "execution_count": 76,
   "id": "bb77e8d3",
   "metadata": {},
   "outputs": [
    {
     "data": {
      "text/plain": [
       "<sklearn.metrics._plot.confusion_matrix.ConfusionMatrixDisplay at 0x7f77663fa880>"
      ]
     },
     "execution_count": 76,
     "metadata": {},
     "output_type": "execute_result"
    },
    {
     "data": {
      "image/png": "[encoded data removed]",
      "text/plain": [
       "<Figure size 432x288 with 2 Axes>"
      ]
     },
     "metadata": {
      "needs_background": "light"
     },
     "output_type": "display_data"
    }
   ],
   "source": [
    "cm_5 = confusion_matrix(new_8_5['skin_rash'], new_8_5['cluster_pred'])\n",
    "\n",
    "ConfusionMatrixDisplay(cm_5).plot()"
   ]
  },
  {
   "cell_type": "code",
   "execution_count": 77,
   "id": "6204a99e",
   "metadata": {},
   "outputs": [
    {
     "data": {
      "text/plain": [
       "0.4541284403669725"
      ]
     },
     "execution_count": 77,
     "metadata": {},
     "output_type": "execute_result"
    }
   ],
   "source": [
    "true_ratio_5 = (cm_5[0, 0] + cm_5[1,1])/218\n",
    "true_ratio_5"
   ]
  },
  {
   "cell_type": "markdown",
   "id": "ac2ed5e9",
   "metadata": {},
   "source": [
    "#### Group by 6"
   ]
  },
  {
   "cell_type": "code",
   "execution_count": 78,
   "id": "e909f750",
   "metadata": {},
   "outputs": [],
   "source": [
    "comb_6 = combinations(range(8), 6)\n",
    "\n",
    "new_8_6 = pd.DataFrame()\n",
    "for i, j, k, m, n, o in list(comb_6):\n",
    "    new_8_6[f'combi{i}{j}{k}{m}{n}{o}'] = cetux_ext_coef_8.iloc[:,i] + cetux_ext_coef_8.iloc[:, j] + cetux_ext_coef_8.iloc[:,k] + cetux_ext_coef_8.iloc[:,m] + cetux_ext_coef_8.iloc[:,n] + cetux_ext_coef_8.iloc[:,o]"
   ]
  },
  {
   "cell_type": "code",
   "execution_count": 79,
   "id": "e8b533de",
   "metadata": {},
   "outputs": [
    {
     "data": {
      "text/html": [
       "<div>\n",
       "<style scoped>\n",
       "    .dataframe tbody tr th:only-of-type {\n",
       "        vertical-align: middle;\n",
       "    }\n",
       "\n",
       "    .dataframe tbody tr th {\n",
       "        vertical-align: top;\n",
       "    }\n",
       "\n",
       "    .dataframe thead th {\n",
       "        text-align: right;\n",
       "    }\n",
       "</style>\n",
       "<table border=\"1\" class=\"dataframe\">\n",
       "  <thead>\n",
       "    <tr style=\"text-align: right;\">\n",
       "      <th></th>\n",
       "      <th>combi012345</th>\n",
       "      <th>combi012346</th>\n",
       "      <th>combi012347</th>\n",
       "      <th>combi012356</th>\n",
       "      <th>combi012357</th>\n",
       "      <th>combi012367</th>\n",
       "      <th>combi012456</th>\n",
       "      <th>combi012457</th>\n",
       "      <th>combi012467</th>\n",
       "      <th>combi012567</th>\n",
       "      <th>...</th>\n",
       "      <th>combi023567</th>\n",
       "      <th>combi024567</th>\n",
       "      <th>combi034567</th>\n",
       "      <th>combi123456</th>\n",
       "      <th>combi123457</th>\n",
       "      <th>combi123467</th>\n",
       "      <th>combi123567</th>\n",
       "      <th>combi124567</th>\n",
       "      <th>combi134567</th>\n",
       "      <th>combi234567</th>\n",
       "    </tr>\n",
       "  </thead>\n",
       "  <tbody>\n",
       "    <tr>\n",
       "      <th>0</th>\n",
       "      <td>0.193841</td>\n",
       "      <td>0.174096</td>\n",
       "      <td>0.249021</td>\n",
       "      <td>0.131845</td>\n",
       "      <td>0.206770</td>\n",
       "      <td>0.187025</td>\n",
       "      <td>0.181501</td>\n",
       "      <td>0.256426</td>\n",
       "      <td>0.236681</td>\n",
       "      <td>0.194430</td>\n",
       "      <td>...</td>\n",
       "      <td>0.206770</td>\n",
       "      <td>0.256426</td>\n",
       "      <td>0.266335</td>\n",
       "      <td>0.096512</td>\n",
       "      <td>0.171436</td>\n",
       "      <td>0.151691</td>\n",
       "      <td>0.109440</td>\n",
       "      <td>0.159096</td>\n",
       "      <td>0.169005</td>\n",
       "      <td>0.171436</td>\n",
       "    </tr>\n",
       "    <tr>\n",
       "      <th>1</th>\n",
       "      <td>0.280664</td>\n",
       "      <td>0.215033</td>\n",
       "      <td>0.285231</td>\n",
       "      <td>0.280664</td>\n",
       "      <td>0.350862</td>\n",
       "      <td>0.285231</td>\n",
       "      <td>0.280664</td>\n",
       "      <td>0.350862</td>\n",
       "      <td>0.285231</td>\n",
       "      <td>0.350862</td>\n",
       "      <td>...</td>\n",
       "      <td>0.276171</td>\n",
       "      <td>0.276171</td>\n",
       "      <td>0.240868</td>\n",
       "      <td>0.175625</td>\n",
       "      <td>0.245823</td>\n",
       "      <td>0.180192</td>\n",
       "      <td>0.245823</td>\n",
       "      <td>0.245823</td>\n",
       "      <td>0.210520</td>\n",
       "      <td>0.171132</td>\n",
       "    </tr>\n",
       "    <tr>\n",
       "      <th>2</th>\n",
       "      <td>0.253353</td>\n",
       "      <td>0.247989</td>\n",
       "      <td>0.299144</td>\n",
       "      <td>0.132014</td>\n",
       "      <td>0.183168</td>\n",
       "      <td>0.177804</td>\n",
       "      <td>0.245103</td>\n",
       "      <td>0.296258</td>\n",
       "      <td>0.290893</td>\n",
       "      <td>0.174918</td>\n",
       "      <td>...</td>\n",
       "      <td>0.183168</td>\n",
       "      <td>0.296258</td>\n",
       "      <td>0.304508</td>\n",
       "      <td>0.134954</td>\n",
       "      <td>0.186108</td>\n",
       "      <td>0.180744</td>\n",
       "      <td>0.064769</td>\n",
       "      <td>0.177858</td>\n",
       "      <td>0.186108</td>\n",
       "      <td>0.186108</td>\n",
       "    </tr>\n",
       "    <tr>\n",
       "      <th>3</th>\n",
       "      <td>0.219195</td>\n",
       "      <td>0.204393</td>\n",
       "      <td>0.208915</td>\n",
       "      <td>0.200874</td>\n",
       "      <td>0.205397</td>\n",
       "      <td>0.190594</td>\n",
       "      <td>0.219195</td>\n",
       "      <td>0.223718</td>\n",
       "      <td>0.208915</td>\n",
       "      <td>0.205397</td>\n",
       "      <td>...</td>\n",
       "      <td>0.205397</td>\n",
       "      <td>0.223718</td>\n",
       "      <td>0.223718</td>\n",
       "      <td>0.033123</td>\n",
       "      <td>0.037646</td>\n",
       "      <td>0.022843</td>\n",
       "      <td>0.019325</td>\n",
       "      <td>0.037646</td>\n",
       "      <td>0.037646</td>\n",
       "      <td>0.037646</td>\n",
       "    </tr>\n",
       "    <tr>\n",
       "      <th>4</th>\n",
       "      <td>0.271053</td>\n",
       "      <td>0.103761</td>\n",
       "      <td>0.199667</td>\n",
       "      <td>0.271053</td>\n",
       "      <td>0.366959</td>\n",
       "      <td>0.199667</td>\n",
       "      <td>0.259572</td>\n",
       "      <td>0.355478</td>\n",
       "      <td>0.188186</td>\n",
       "      <td>0.355478</td>\n",
       "      <td>...</td>\n",
       "      <td>0.366959</td>\n",
       "      <td>0.355478</td>\n",
       "      <td>0.330976</td>\n",
       "      <td>0.214756</td>\n",
       "      <td>0.310662</td>\n",
       "      <td>0.143370</td>\n",
       "      <td>0.310662</td>\n",
       "      <td>0.299180</td>\n",
       "      <td>0.274679</td>\n",
       "      <td>0.310662</td>\n",
       "    </tr>\n",
       "  </tbody>\n",
       "</table>\n",
       "<p>5 rows × 28 columns</p>\n",
       "</div>"
      ],
      "text/plain": [
       "   combi012345  combi012346  combi012347  combi012356  combi012357  \\\n",
       "0     0.193841     0.174096     0.249021     0.131845     0.206770   \n",
       "1     0.280664     0.215033     0.285231     0.280664     0.350862   \n",
       "2     0.253353     0.247989     0.299144     0.132014     0.183168   \n",
       "3     0.219195     0.204393     0.208915     0.200874     0.205397   \n",
       "4     0.271053     0.103761     0.199667     0.271053     0.366959   \n",
       "\n",
       "   combi012367  combi012456  combi012457  combi012467  combi012567  ...  \\\n",
       "0     0.187025     0.181501     0.256426     0.236681     0.194430  ...   \n",
       "1     0.285231     0.280664     0.350862     0.285231     0.350862  ...   \n",
       "2     0.177804     0.245103     0.296258     0.290893     0.174918  ...   \n",
       "3     0.190594     0.219195     0.223718     0.208915     0.205397  ...   \n",
       "4     0.199667     0.259572     0.355478     0.188186     0.355478  ...   \n",
       "\n",
       "   combi023567  combi024567  combi034567  combi123456  combi123457  \\\n",
       "0     0.206770     0.256426     0.266335     0.096512     0.171436   \n",
       "1     0.276171     0.276171     0.240868     0.175625     0.245823   \n",
       "2     0.183168     0.296258     0.304508     0.134954     0.186108   \n",
       "3     0.205397     0.223718     0.223718     0.033123     0.037646   \n",
       "4     0.366959     0.355478     0.330976     0.214756     0.310662   \n",
       "\n",
       "   combi123467  combi123567  combi124567  combi134567  combi234567  \n",
       "0     0.151691     0.109440     0.159096     0.169005     0.171436  \n",
       "1     0.180192     0.245823     0.245823     0.210520     0.171132  \n",
       "2     0.180744     0.064769     0.177858     0.186108     0.186108  \n",
       "3     0.022843     0.019325     0.037646     0.037646     0.037646  \n",
       "4     0.143370     0.310662     0.299180     0.274679     0.310662  \n",
       "\n",
       "[5 rows x 28 columns]"
      ]
     },
     "execution_count": 79,
     "metadata": {},
     "output_type": "execute_result"
    }
   ],
   "source": [
    "new_8_6.head()"
   ]
  },
  {
   "cell_type": "code",
   "execution_count": 80,
   "id": "504748d5",
   "metadata": {},
   "outputs": [
    {
     "data": {
      "text/plain": [
       "KMeans(n_clusters=2)"
      ]
     },
     "execution_count": 80,
     "metadata": {},
     "output_type": "execute_result"
    }
   ],
   "source": [
    "km_cetux_combi_6= KMeans(n_clusters=2)\n",
    "km_cetux_combi_6.fit(new_8_6)"
   ]
  },
  {
   "cell_type": "code",
   "execution_count": 81,
   "id": "fe4d20d2",
   "metadata": {},
   "outputs": [],
   "source": [
    "new_8_6['cluster_pred'] = km_cetux_combi_6.predict(new_8_6)\n",
    "new_8_6['skin_rash'] = cetux['skin_rash']\n",
    "new_8_6['cluster_pred'] = new_8_6['cluster_pred'].astype('float64')"
   ]
  },
  {
   "cell_type": "code",
   "execution_count": 82,
   "id": "879f6778",
   "metadata": {},
   "outputs": [
    {
     "data": {
      "text/plain": [
       "<sklearn.metrics._plot.confusion_matrix.ConfusionMatrixDisplay at 0x7f776f3e9910>"
      ]
     },
     "execution_count": 82,
     "metadata": {},
     "output_type": "execute_result"
    },
    {
     "data": {
      "image/png": "[encoded data removed]",
      "text/plain": [
       "<Figure size 432x288 with 2 Axes>"
      ]
     },
     "metadata": {
      "needs_background": "light"
     },
     "output_type": "display_data"
    }
   ],
   "source": [
    "cm_6 = confusion_matrix(new_8_6['skin_rash'], new_8_6['cluster_pred'])\n",
    "\n",
    "ConfusionMatrixDisplay(cm_6).plot()"
   ]
  },
  {
   "cell_type": "code",
   "execution_count": 83,
   "id": "6bf88e6b",
   "metadata": {},
   "outputs": [
    {
     "data": {
      "text/plain": [
       "0.4541284403669725"
      ]
     },
     "execution_count": 83,
     "metadata": {},
     "output_type": "execute_result"
    }
   ],
   "source": [
    "true_ratio_6 = (cm_6[0, 0] + cm_6[1,1])/218\n",
    "true_ratio_6"
   ]
  }
 ],
 "metadata": {
  "kernelspec": {
   "display_name": "Python 3 (ipykernel)",
   "language": "python",
   "name": "python3"
  },
  "language_info": {
   "codemirror_mode": {
    "name": "ipython",
    "version": 3
   },
   "file_extension": ".py",
   "mimetype": "text/x-python",
   "name": "python",
   "nbconvert_exporter": "python",
   "pygments_lexer": "ipython3",
   "version": "3.8.12"
  },
  "toc": {
   "base_numbering": 1,
   "nav_menu": {},
   "number_sections": true,
   "sideBar": true,
   "skip_h1_title": false,
   "title_cell": "Table of Contents",
   "title_sidebar": "Contents",
   "toc_cell": false,
   "toc_position": {},
   "toc_section_display": true,
   "toc_window_display": false
  }
 },
 "nbformat": 4,
 "nbformat_minor": 5
}
