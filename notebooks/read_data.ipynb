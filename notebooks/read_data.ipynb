{
 "cells": [
  {
   "cell_type": "code",
   "execution_count": 3,
   "id": "2895349b",
   "metadata": {},
   "outputs": [],
   "source": [
    "import pandas as pd\n",
    "df = pd.read_csv(\"FIRE3_final_df.txt\",sep=' ')"
   ]
  },
  {
   "cell_type": "code",
   "execution_count": 4,
   "id": "bb0aada8",
   "metadata": {
    "scrolled": true
   },
   "outputs": [
    {
     "data": {
      "text/plain": [
       "Index(['entrezid', 'gsymbol', '1', '4', '5', '9', '10', '11', '12', '15',\n",
       "       ...\n",
       "       '838', '840', '842', '843', '889', '892', '896', '897', '899', '900'],\n",
       "      dtype='object', length=453)"
      ]
     },
     "execution_count": 4,
     "metadata": {},
     "output_type": "execute_result"
    }
   ],
   "source": [
    "df.columns"
   ]
  },
  {
   "cell_type": "code",
   "execution_count": 5,
   "id": "ce8b5fc9",
   "metadata": {},
   "outputs": [
    {
     "data": {
      "text/plain": [
       "(23561, 453)"
      ]
     },
     "execution_count": 5,
     "metadata": {},
     "output_type": "execute_result"
    }
   ],
   "source": [
    "df.shape"
   ]
  },
  {
   "cell_type": "code",
   "execution_count": 6,
   "id": "5ab73850",
   "metadata": {},
   "outputs": [],
   "source": [
    "import pyreadstat\n",
    "\n",
    "data, meta = pyreadstat.read_sav(\"FIRE3_Heike_set_new.sav\")"
   ]
  },
  {
   "cell_type": "code",
   "execution_count": 7,
   "id": "a3d9007b",
   "metadata": {
    "scrolled": false
   },
   "outputs": [
    {
     "data": {
      "text/plain": [
       "Index(['study', 'pat_nr', 'CET1_REST0', 'arm', 'sex', 'age', 'ecog',\n",
       "       'skin_rash', 'MOL_SG', 'RNA_Probe', 'predictedCMS', 'nearestCMS',\n",
       "       'detaiL_primloc', 'primeloc_side', 'liver', 'lung', 'LKMETS',\n",
       "       'PERITONEAL', 'other', 'liver_only', 'no_organs', 'secresec', 'pfs',\n",
       "       'pfs_time_mo', 'os', 'os_time_mo', 'bor1', 'orr1', 'dpr1', 'ets_cat',\n",
       "       'SYNCH_META', 'PRIMARY_RES', 'RADIOVORHER', 'LK', 'AP', 'CTX_ADJ',\n",
       "       'filter_$'],\n",
       "      dtype='object')"
      ]
     },
     "execution_count": 7,
     "metadata": {},
     "output_type": "execute_result"
    }
   ],
   "source": [
    "data.columns"
   ]
  },
  {
   "cell_type": "code",
   "execution_count": 13,
   "id": "c20fb759",
   "metadata": {},
   "outputs": [
    {
     "data": {
      "text/plain": [
       "(735, 37)"
      ]
     },
     "execution_count": 13,
     "metadata": {},
     "output_type": "execute_result"
    }
   ],
   "source": [
    "data.shape"
   ]
  },
  {
   "cell_type": "code",
   "execution_count": 9,
   "id": "d3b2f807",
   "metadata": {},
   "outputs": [
    {
     "data": {
      "text/plain": [
       "0    1.0\n",
       "1    0.0\n",
       "2    0.0\n",
       "3    1.0\n",
       "4    1.0\n",
       "5    0.0\n",
       "6    0.0\n",
       "7    0.0\n",
       "8    1.0\n",
       "9    1.0\n",
       "Name: RNA_Probe, dtype: float64"
      ]
     },
     "execution_count": 9,
     "metadata": {},
     "output_type": "execute_result"
    }
   ],
   "source": [
    "data['RNA_Probe'][0:10]"
   ]
  },
  {
   "cell_type": "code",
   "execution_count": 11,
   "id": "de7c233d",
   "metadata": {},
   "outputs": [
    {
     "ename": "IndentationError",
     "evalue": "unindent does not match any outer indentation level (<tokenize>, line 25)",
     "output_type": "error",
     "traceback": [
      "\u001b[0;36m  File \u001b[0;32m\"<tokenize>\"\u001b[0;36m, line \u001b[0;32m25\u001b[0m\n\u001b[0;31m    subplot_kw = dict(polar = True))\u001b[0m\n\u001b[0m    ^\u001b[0m\n\u001b[0;31mIndentationError\u001b[0m\u001b[0;31m:\u001b[0m unindent does not match any outer indentation level\n"
     ]
    }
   ],
   "source": [
    "from matplotlib import pyplot as plt \n",
    "import numpy as np \n",
    "  \n",
    "  \n",
    "size = 2\n",
    "cars = ['Cetuximab', 'Bevacizumab'] \n",
    "  \n",
    "data = np.array([[109, 109],[220, 4]]) \n",
    "  \n",
    "norm = data / np.sum(data)*2 * np.pi \n",
    "  \n",
    "left = np.cumsum(np.append(0,  \n",
    "                           norm.flatten()[:-1])).reshape(data.shape) \n",
    "  \n",
    "cmap = plt.get_cmap(\"tab20c\") \n",
    "outer_colors = cmap(np.arange(6)*4) \n",
    "inner_colors = cmap(np.array([1, 2, 5, 6, 9, \n",
    "                              10, 12, 13, 15, \n",
    "                              17, 18, 20 ])) \n",
    "#[1, 2, 5, 6, 9, \n",
    "                              10, 12, 13, 15, \n",
    "                              17, 18, 20 ]\n",
    "  \n",
    "fig, ax = plt.subplots(figsize =(10, 7), \n",
    "                       subplot_kw = dict(polar = True)) \n",
    "  \n",
    "ax.bar(x = left[:, 0], \n",
    "       width = norm.sum(axis = 1), \n",
    "       bottom = 1-size, \n",
    "       height = size, \n",
    "       color = outer_colors,  \n",
    "       edgecolor ='w', \n",
    "       linewidth = 1, \n",
    "       align =\"edge\") \n",
    "  \n",
    "ax.bar(x = left.flatten(), \n",
    "       width = norm.flatten(), \n",
    "       bottom = 1-2 * size, \n",
    "       height = size, \n",
    "       color = inner_colors, \n",
    "       edgecolor ='w', \n",
    "       linewidth = 1, \n",
    "       align =\"edge\") \n",
    "  \n",
    "ax.set(title =\"Nested pie chart\") \n",
    "ax.set_axis_off() \n",
    "  \n",
    "plt.show() "
   ]
  }
 ],
 "metadata": {
  "kernelspec": {
   "display_name": "Python 3 (ipykernel)",
   "language": "python",
   "name": "python3"
  },
  "language_info": {
   "codemirror_mode": {
    "name": "ipython",
    "version": 3
   },
   "file_extension": ".py",
   "mimetype": "text/x-python",
   "name": "python",
   "nbconvert_exporter": "python",
   "pygments_lexer": "ipython3",
   "version": "3.8.12"
  },
  "toc": {
   "base_numbering": 1,
   "nav_menu": {},
   "number_sections": true,
   "sideBar": true,
   "skip_h1_title": false,
   "title_cell": "Table of Contents",
   "title_sidebar": "Contents",
   "toc_cell": false,
   "toc_position": {},
   "toc_section_display": true,
   "toc_window_display": false
  }
 },
 "nbformat": 4,
 "nbformat_minor": 5
}
